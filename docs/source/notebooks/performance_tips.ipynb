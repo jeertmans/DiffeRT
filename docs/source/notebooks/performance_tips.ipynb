{
 "cells": [
  {
   "cell_type": "markdown",
   "id": "e715242e-c780-42cc-81a4-e65330408836",
   "metadata": {
    "editable": true,
    "slideshow": {
     "slide_type": ""
    },
    "tags": []
   },
   "source": [
    "# Performances tips\n",
    "\n",
    "By design, most functions in this library work on arrays, or even batch of arrays,\n",
    "see [the `*batch` axes section](../batch_axes.md#the-batch-axes).\n",
    "\n",
    "However, the [runtime type checking](type_checking.ipynb#runtime-type-checking)\n",
    "of those functions, coupled with the use of Python logic, introduces some overhead\n",
    "that can degrade performances, especially with nested function calls.\n",
    "\n",
    "To this end, we encourage using JAX's\n",
    "[just-in-time compilation](https://jax.readthedocs.io/en/latest/jax-101/02-jitting.html)\n",
    "(JIT). Please read the linked content if you are not familiar with this concept.\n",
    "\n",
    "Almost all functions we provide can be wrapped with {func}`jax.jit`, in order\n",
    "to compile them to efficient code. The type checkers we use are aware of that\n",
    "and will only check functions are compilation time.\n",
    "\n",
    "Once compiled, no more type checking will be performed, reducing the overhead to the\n",
    "bare minimal."
   ]
  },
  {
   "cell_type": "markdown",
   "id": "8b4362eb-68df-46c5-87e4-f9aa01ae1cdb",
   "metadata": {
    "editable": true,
    "slideshow": {
     "slide_type": ""
    },
    "tags": []
   },
   "source": [
    "## JIT-ing an existing function\n",
    "\n",
    "Here, we will look at the\n",
    "{func}`rays_intersect_triangles<differt.rt.utils.rays_intersect_triangles>`\n",
    "function and how much it can benefit from JIT compilation."
   ]
  },
  {
   "cell_type": "code",
   "execution_count": null,
   "id": "15d28c9a-e243-4a1e-917e-13000c5f29fc",
   "metadata": {
    "editable": true,
    "slideshow": {
     "slide_type": ""
    },
    "tags": []
   },
   "outputs": [],
   "source": [
    "import jax\n",
    "\n",
    "from differt.rt.utils import rays_intersect_triangles"
   ]
  },
  {
   "cell_type": "code",
   "execution_count": null,
   "id": "5980b1b3-57b7-428e-9b16-de372f85ce4d",
   "metadata": {
    "editable": true,
    "slideshow": {
     "slide_type": ""
    },
    "tags": []
   },
   "outputs": [],
   "source": [
    "key = jax.random.PRNGKey(1234)\n",
    "key1, key2, key3 = jax.random.split(key, 3)\n",
    "\n",
    "batch = (10, 100)\n",
    "\n",
    "ray_origins = jax.random.uniform(key1, (*batch, 3))\n",
    "ray_directions = jax.random.uniform(key2, (*batch, 3))\n",
    "triangle_vertices = jax.random.uniform(key2, (*batch, 3, 3))"
   ]
  },
  {
   "cell_type": "markdown",
   "id": "bd65265d-44a7-452a-bf22-b2f4f81178fd",
   "metadata": {
    "editable": true,
    "slideshow": {
     "slide_type": ""
    },
    "tags": []
   },
   "source": [
    "Let's look at the execution time without compilation.\n",
    "The `[0].block_until_ready()` is needed because:\n",
    "\n",
    "1. the function returns a tuple and we need to select one\n",
    "   (e.g., the first with `[0]`) of the output arrays to;\n",
    "2. call `.block_until_ready()` on it, so JAX knows it must actually perform the computation.\n",
    "\n",
    "If the call to `.block_until_ready()` is omitted, the execution time *may not* be relevant."
   ]
  },
  {
   "cell_type": "code",
   "execution_count": null,
   "id": "32dc93fc-3737-43be-b9c5-c36324e030a4",
   "metadata": {},
   "outputs": [],
   "source": [
    "%timeit rays_intersect_triangles(ray_origins, ray_directions, triangle_vertices)[0].block_until_ready()"
   ]
  },
  {
   "cell_type": "markdown",
   "id": "300ba946-bfc4-4c13-abb9-6182f77af3c6",
   "metadata": {},
   "source": [
    "Then, let's compare it with its JIT compiled version.\n",
    "\n",
    "Note that we call the function before timing it, so we do not take\n",
    "the compilation overhead into account."
   ]
  },
  {
   "cell_type": "code",
   "execution_count": null,
   "id": "82071c69-c5d8-463d-8318-bd1920173c78",
   "metadata": {},
   "outputs": [],
   "source": [
    "rays_intersect_triangles_jit = jax.jit(rays_intersect_triangles)\n",
    "\n",
    "# Warmup to compile code\n",
    "rays_intersect_triangles_jit(ray_origins, ray_directions, triangle_vertices)[\n",
    "    0\n",
    "].block_until_ready()\n",
    "\n",
    "%timeit rays_intersect_triangles_jit(ray_origins, ray_directions, triangle_vertices)[0].block_until_ready()"
   ]
  },
  {
   "cell_type": "markdown",
   "id": "14d6cb6a-5de8-4f9f-8126-eb6a276625e1",
   "metadata": {},
   "source": [
    "See! Here, we reduced the execution time by **more that one order of magnitude**, which is quite\n",
    "nice given the fact that we only had to wrap it with {func}`jax.jit`, nothing more.\n",
    "\n",
    "In general, the amount of performances gained will hightly depend on the function that is compiled.\n",
    "We advice to first try **without** any JIT compilation, and gradually add some `@jax.jit`\n",
    "decorators to the functions you feel could benefit from it."
   ]
  },
  {
   "cell_type": "markdown",
   "id": "dbd42d1e-ee5d-4a0e-811a-18ef5f0f7747",
   "metadata": {
    "editable": true,
    "slideshow": {
     "slide_type": ""
    },
    "tags": []
   },
   "source": [
    "## Why not JIT all functions?\n",
    "\n",
    "JIT compilation comes at a cost of compiling the function\n",
    "during its first execution, which can become slow during debugging stages.\n",
    "Also, if some arguments are static,\n",
    "if it will need to re-compile the function everytime the static arguments\n",
    "change.\n",
    "\n",
    "Moreover, JIT compilation removes print statements, does not allow for\n",
    "inpure functions (e.g., using globals), and might not always produce a faster code.\n",
    "\n",
    "For all those reasons, this is the responsability of the end-user to\n",
    "determine when to use JIT compilation in their code."
   ]
  }
 ],
 "metadata": {
  "kernelspec": {
   "display_name": "Python 3 (ipykernel)",
   "language": "python",
   "name": "python3"
  },
  "language_info": {
   "codemirror_mode": {
    "name": "ipython",
    "version": 3
   },
   "file_extension": ".py",
   "mimetype": "text/x-python",
   "name": "python",
   "nbconvert_exporter": "python",
   "pygments_lexer": "ipython3",
   "version": "3.10.12"
  }
 },
 "nbformat": 4,
 "nbformat_minor": 5
}
