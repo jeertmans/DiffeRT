{
 "cells": [
  {
   "cell_type": "code",
   "execution_count": null,
   "id": "e90f3c19",
   "metadata": {
    "tags": [
     "differt-install-preamble",
     "remove-cell",
     "skip-execution"
    ]
   },
   "outputs": [],
   "source": [
    "# Run this cell to install DiffeRT and its dependencies, e.g., on Google Colab\n",
    "\n",
    "try:\n",
    "    import differt  # noqa: F401\n",
    "except ImportError:\n",
    "    import sys  # noqa: F401\n",
    "\n",
    "    !{sys.executable} -m pip install differt[all]"
   ]
  },
  {
   "cell_type": "markdown",
   "id": "e715242e-c780-42cc-81a4-e65330408836",
   "metadata": {
    "editable": true,
    "slideshow": {
     "slide_type": ""
    },
    "tags": []
   },
   "source": [
    "# Performances tips\n",
    "\n",
    "By design, most functions in this library work on arrays, or even batch of arrays,\n",
    "see [the `*batch` axes section](../batch_axes.md#the-batch-axes).\n",
    "\n",
    "However, the [runtime type checking](type_checking.ipynb#runtime-type-checking)\n",
    "of those functions, coupled with the use of Python logic, introduces some overhead\n",
    "that can degrade performances, especially with nested function calls.\n",
    "\n",
    "To this end, we encourage using JAX's\n",
    "[just-in-time compilation](https://jax.readthedocs.io/en/latest/jax-101/02-jitting.html)\n",
    "(JIT). Please read the linked content if you are not familiar with this concept.\n",
    "\n",
    "Almost all functions we provide are wrapped with {func}`jax.jit`, in order\n",
    "to compile them to efficient code. The type checkers we use are aware of that\n",
    "and will only check functions are compilation time.\n",
    "\n",
    "Once compiled, no more type checking will be performed, reducing the overhead to the\n",
    "bare minimal."
   ]
  },
  {
   "cell_type": "markdown",
   "id": "8b4362eb-68df-46c5-87e4-f9aa01ae1cdb",
   "metadata": {
    "editable": true,
    "slideshow": {
     "slide_type": ""
    },
    "tags": []
   },
   "source": [
    "## JIT-ing an existing function\n",
    "\n",
    "Here, we will look at the\n",
    "{func}`rays_intersect_triangles<differt.rt.utils.rays_intersect_triangles>`\n",
    "function and how much it can benefit from JIT compilation."
   ]
  },
  {
   "cell_type": "code",
   "execution_count": null,
   "id": "15d28c9a-e243-4a1e-917e-13000c5f29fc",
   "metadata": {
    "editable": true,
    "slideshow": {
     "slide_type": ""
    },
    "tags": []
   },
   "outputs": [],
   "source": [
    "from inspect import unwrap\n",
    "\n",
    "import jax\n",
    "\n",
    "from differt.rt.utils import rays_intersect_triangles\n",
    "\n",
    "# Because we already applied @jit, we need to remove it first\n",
    "rays_intersect_triangles = unwrap(rays_intersect_triangles)"
   ]
  },
  {
   "cell_type": "code",
   "execution_count": null,
   "id": "5980b1b3-57b7-428e-9b16-de372f85ce4d",
   "metadata": {
    "editable": true,
    "slideshow": {
     "slide_type": ""
    },
    "tags": []
   },
   "outputs": [],
   "source": [
    "key = jax.random.key(1234)\n",
    "key1, key2, key3 = jax.random.split(key, 3)\n",
    "\n",
    "batch = (10, 100)\n",
    "\n",
    "ray_origins = jax.random.uniform(key1, (*batch, 3))\n",
    "ray_directions = jax.random.uniform(key2, (*batch, 3))\n",
    "triangle_vertices = jax.random.uniform(key2, (*batch, 3, 3))"
   ]
  },
  {
   "cell_type": "markdown",
   "id": "bd65265d-44a7-452a-bf22-b2f4f81178fd",
   "metadata": {
    "editable": true,
    "slideshow": {
     "slide_type": ""
    },
    "tags": []
   },
   "source": [
    "Let's look at the execution time without compilation.\n",
    "The `[0].block_until_ready()` is needed because:\n",
    "\n",
    "1. the function returns a tuple and we need to select one\n",
    "   (e.g., the first with `[0]`) of the output arrays to;\n",
    "2. call `.block_until_ready()` on it, so JAX knows it must actually perform the computation.\n",
    "\n",
    "If the call to `.block_until_ready()` is omitted, the execution time *may not* be relevant."
   ]
  },
  {
   "cell_type": "code",
   "execution_count": null,
   "id": "32dc93fc-3737-43be-b9c5-c36324e030a4",
   "metadata": {},
   "outputs": [],
   "source": [
    "%timeit rays_intersect_triangles(ray_origins, ray_directions, triangle_vertices)[0].block_until_ready()"
   ]
  },
  {
   "cell_type": "markdown",
   "id": "300ba946-bfc4-4c13-abb9-6182f77af3c6",
   "metadata": {},
   "source": [
    "Then, let's compare it with its JIT compiled version.\n",
    "\n",
    "Note that we call the function before timing it, so we do not take\n",
    "the compilation overhead into account."
   ]
  },
  {
   "cell_type": "code",
   "execution_count": null,
   "id": "82071c69-c5d8-463d-8318-bd1920173c78",
   "metadata": {},
   "outputs": [],
   "source": [
    "rays_intersect_triangles_jit = jax.jit(rays_intersect_triangles)\n",
    "\n",
    "# Warmup to compile code\n",
    "rays_intersect_triangles_jit(ray_origins, ray_directions, triangle_vertices)[0]\n",
    "\n",
    "%timeit rays_intersect_triangles_jit(ray_origins, ray_directions, triangle_vertices)[0].block_until_ready()"
   ]
  },
  {
   "cell_type": "markdown",
   "id": "14d6cb6a-5de8-4f9f-8126-eb6a276625e1",
   "metadata": {},
   "source": [
    "See! Here, we reduced the execution time by **more that one order of magnitude**, which is quite\n",
    "nice given the fact that we only had to wrap it with {func}`jax.jit`, nothing more.\n",
    "\n",
    "In general, the amount of performances gained will hightly depend on the function that is compiled.\n",
    "We advice to first try **without** any JIT compilation, and gradually add some `@jax.jit`\n",
    "decorators to the functions you feel could benefit from it."
   ]
  },
  {
   "cell_type": "markdown",
   "id": "e384026e-fd19-44b8-be0d-6ef6b0caceaa",
   "metadata": {},
   "source": [
    "## JIT-ing a new function\n",
    "\n",
    "Like for already existing functions, JIT compilation can be applied with a simple addition\n",
    "of `@jax.jit` before the function definition, like so:"
   ]
  },
  {
   "cell_type": "code",
   "execution_count": null,
   "id": "277b4b2f-652f-4521-bc53-4dc819363ffd",
   "metadata": {},
   "outputs": [],
   "source": [
    "from jaxtyping import Array, Float, jaxtyped\n",
    "\n",
    "\n",
    "@jax.jit\n",
    "def matmul_t_sum(\n",
    "    x: Float[Array, \"m k\"], y: Float[Array, \"k n\"]\n",
    ") -> Float[Array, \" \"]:\n",
    "    return (x @ y).sum()"
   ]
  },
  {
   "cell_type": "markdown",
   "id": "2459d0dc-15d0-469d-b218-b54479cd0f5a",
   "metadata": {},
   "source": [
    "For advanced usage, see {func}`jax.jit`'s documentation.\n",
    "\n",
    ":::{warning}\n",
    "If you have multiple function decorators, pay attention that the order\n",
    "in which they are placed plays an important role. Logically, you want to place\n",
    "your `@jax.jit` decorator at the very top, so it applies to the whole function.\n",
    "\n",
    "One common case is combining `@jax.jit` with `@jaxtyped` from {mod}`jaxtyping` for\n",
    "runtime type checking. If you apply the `@jax.jit` decorator before the type checker,\n",
    "you will pay the cost of type checker on every call of your function, see the example below.\n",
    ":::"
   ]
  },
  {
   "cell_type": "markdown",
   "id": "9bcc98a5-649b-42f7-8e9d-2d4697a442fe",
   "metadata": {},
   "source": [
    "### (Bad) Type checker placed after JIT decorator"
   ]
  },
  {
   "cell_type": "code",
   "execution_count": null,
   "id": "ce01a040-4613-491c-9c63-9b1bf904cd51",
   "metadata": {},
   "outputs": [],
   "source": [
    "from beartype import beartype as typechecker\n",
    "\n",
    "key = jax.random.key(1234)\n",
    "key1, key2, key3 = jax.random.split(key, 3)\n",
    "\n",
    "batch = (100, 10, 2)\n",
    "x = jax.random.uniform(key1, batch)\n",
    "y = jax.random.uniform(key2, batch)\n",
    "z = jax.random.uniform(key3, batch)\n",
    "\n",
    "# Don't do this!\n",
    "\n",
    "\n",
    "@jaxtyped(typechecker=typechecker)\n",
    "@jax.jit\n",
    "def jit_then_typecheck(\n",
    "    a: Float[Array, \" *batch\"],\n",
    "    b: Float[Array, \" *batch\"],\n",
    "    c: Float[Array, \" *batch\"],\n",
    ") -> Float[Array, \" \"]:\n",
    "    return (a * b + c).sum()\n",
    "\n",
    "\n",
    "# Warmup to compile code\n",
    "jit_then_typecheck(x, y, z)\n",
    "\n",
    "%timeit jit_then_typecheck(x, y, z).block_until_ready()"
   ]
  },
  {
   "cell_type": "markdown",
   "id": "7835925e-4655-4ead-863f-87f9fe42ca05",
   "metadata": {},
   "source": [
    "### (Good) Type checker placed before JIT decorator"
   ]
  },
  {
   "cell_type": "code",
   "execution_count": null,
   "id": "55fecb27-54b6-41a3-ad7f-5af9e26509fd",
   "metadata": {},
   "outputs": [],
   "source": [
    "# Do this!\n",
    "\n",
    "\n",
    "@jax.jit\n",
    "@jaxtyped(typechecker=typechecker)\n",
    "def typecheck_then_jit(\n",
    "    a: Float[Array, \" *batch\"],\n",
    "    b: Float[Array, \" *batch\"],\n",
    "    c: Float[Array, \" *batch\"],\n",
    ") -> Float[Array, \" \"]:\n",
    "    return (a * b + c).sum()\n",
    "\n",
    "\n",
    "# Warmup to compile code\n",
    "typecheck_then_jit(x, y, z)\n",
    "\n",
    "%timeit typecheck_then_jit(x, y, z).block_until_ready()"
   ]
  },
  {
   "cell_type": "markdown",
   "id": "04c27a9e-79c2-4ee1-bac0-805c329ee728",
   "metadata": {},
   "source": [
    "As you can see, a small permutation of the two decorators changed the performances!\n",
    "Usually, the cost of type checking is fixed and small, but it can add-up quite rapidly with many function calls."
   ]
  },
  {
   "cell_type": "markdown",
   "id": "dbd42d1e-ee5d-4a0e-811a-18ef5f0f7747",
   "metadata": {
    "editable": true,
    "slideshow": {
     "slide_type": ""
    },
    "tags": []
   },
   "source": [
    "## Why not JIT all functions?\n",
    "\n",
    "JIT compilation comes at a cost of compiling the function\n",
    "during its first execution, which can become slow during debugging stages.\n",
    "Also, if some arguments are static,\n",
    "if it will need to re-compile the function every time the static arguments\n",
    "change.\n",
    "\n",
    "Moreover, JIT compilation removes print statements, does not allow for\n",
    "inpure functions (e.g., using globals), and might not always produce a faster code.\n",
    "\n",
    "For all those reasons, this is the responsibility of the end-user to\n",
    "determine when to use JIT compilation in their code."
   ]
  }
 ],
 "metadata": {
  "kernelspec": {
   "display_name": "Python 3 (ipykernel)",
   "language": "python",
   "name": "python3"
  },
  "language_info": {
   "codemirror_mode": {
    "name": "ipython",
    "version": 3
   },
   "file_extension": ".py",
   "mimetype": "text/x-python",
   "name": "python",
   "nbconvert_exporter": "python",
   "pygments_lexer": "ipython3",
   "version": "3.10.12"
  }
 },
 "nbformat": 4,
 "nbformat_minor": 5
}
