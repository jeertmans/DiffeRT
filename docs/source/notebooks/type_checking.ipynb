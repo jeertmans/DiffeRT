{
 "cells": [
  {
   "cell_type": "code",
   "execution_count": null,
   "id": "0",
   "metadata": {
    "tags": [
     "differt-install-preamble",
     "remove-cell",
     "skip-execution",
     "nbsetup-skip"
    ]
   },
   "outputs": [],
   "source": [
    "# Run this cell to install DiffeRT and its dependencies, e.g., on Google Colab\n",
    "\n",
    "try:\n",
    "    import differt  # noqa: F401\n",
    "except ImportError:\n",
    "    import sys  # noqa: F401\n",
    "\n",
    "    !{sys.executable} -m pip install differt[all] beartype"
   ]
  },
  {
   "cell_type": "markdown",
   "id": "1",
   "metadata": {},
   "source": [
    "# Runtime type checking\n",
    "\n",
    "To avoid common pitfalls with function arguments,\n",
    "such as using the wrong data type or array shape,\n",
    "functions in this library are annotated with type hints,\n",
    "and can be type checked at runtime.\n",
    "\n",
    "For that, we rely on the [`jaxtyping`](https://pypi.org/project/jaxtyping/)\n",
    "and [`beartype`](https://pypi.org/project/beartype/) modules.\n",
    "\n",
    "By default, no type-checking is performed, to avoid an additional overhead when\n",
    "calling a function.\n",
    "To enable runtime type checking, you can use {func}`jaxtyping.install_import_hook`.\n",
    "\n",
    "## Input arguments checking\n",
    "\n",
    "Let's take the example of the {func}`perpendicular_vectors<differt.geometry.perpendicular_vectors>` function:"
   ]
  },
  {
   "cell_type": "code",
   "execution_count": null,
   "id": "2",
   "metadata": {},
   "outputs": [],
   "source": [
    "import inspect\n",
    "\n",
    "import jax\n",
    "import jax.numpy as jnp\n",
    "from jaxtyping import install_import_hook\n",
    "\n",
    "with install_import_hook(\"differt\", \"beartype.beartype\"):\n",
    "    from differt.geometry import perpendicular_vectors\n",
    "\n",
    "inspect.signature(perpendicular_vectors)"
   ]
  },
  {
   "cell_type": "markdown",
   "id": "3",
   "metadata": {},
   "source": [
    "As we can see, its signature expects an array of 3D vectors as input, and an array of 3D vectors as output,\n",
    "which matching shapes."
   ]
  },
  {
   "cell_type": "code",
   "execution_count": null,
   "id": "4",
   "metadata": {},
   "outputs": [],
   "source": [
    "key = jax.random.key(1234)\n",
    "\n",
    "arr = jax.random.normal(key, (10, 3))\n",
    "arr"
   ]
  },
  {
   "cell_type": "markdown",
   "id": "5",
   "metadata": {},
   "source": [
    "Hence, if we provide an array of 3D vectors as input, everything works just fine:"
   ]
  },
  {
   "cell_type": "code",
   "execution_count": null,
   "id": "6",
   "metadata": {},
   "outputs": [],
   "source": [
    "perpendicular_vectors(arr)"
   ]
  },
  {
   "cell_type": "markdown",
   "id": "7",
   "metadata": {},
   "source": [
    "However, if anything else than a 3D vectors is provided, an error will be raised:"
   ]
  },
  {
   "cell_type": "code",
   "execution_count": null,
   "id": "8",
   "metadata": {
    "editable": true,
    "slideshow": {
     "slide_type": ""
    },
    "tags": [
     "raises-exception"
    ]
   },
   "outputs": [],
   "source": [
    "arr = jax.random.normal(key, (2, 10, 4))  # 4D vectors\n",
    "perpendicular_vectors(arr)"
   ]
  },
  {
   "cell_type": "markdown",
   "id": "9",
   "metadata": {},
   "source": [
    "The error message is a bit verbose,\n",
    "but we can see at the end that we expected `Shaped[Array, '*batch 3']`,\n",
    "and we received `f32[2,10,4]` (i.e., `Float32[Array, \"2 10 4\"]`).\n",
    "{class}`Float32<jaxtyping.Float32>` is a subclass of {class}`Shaped<jaxtyping.Shaped>`, \n",
    "but `*batch 3` cannot be matched to `2 10 4`, as `4 != 3`. Thus, an error was raised for that reason."
   ]
  },
  {
   "cell_type": "markdown",
   "id": "10",
   "metadata": {},
   "source": [
    "## Output checking\n",
    "\n",
    "The output values are also checked by the type checker.\n",
    "If you use one of the functions from our library, you are guaranteed to\n",
    "have correct output types if you provided valid inputs.\n",
    "\n",
    "In other words, type checking the outputs should **never fail**.\n",
    "If you encounter a case where your input is valid, but the returned output is not,\n",
    "please report it via the [GitHub issues](https://github.com/jeertmans/DiffeRT/issues).\n",
    "\n",
    "If you define custom function yourself, this is always good to use type\n",
    "annotations and runtime checking:"
   ]
  },
  {
   "cell_type": "code",
   "execution_count": null,
   "id": "11",
   "metadata": {},
   "outputs": [],
   "source": [
    "from beartype import beartype as typechecker\n",
    "from jaxtyping import Array, Num, jaxtyped\n",
    "\n",
    "\n",
    "@jaxtyped(typechecker=typechecker)\n",
    "def my_custom_transpose(x: Num[Array, \"m n\"]) -> Num[Array, \"n m\"]:\n",
    "    return x.transpose().transpose()  # Oops, transposed one too many times\n",
    "\n",
    "\n",
    "x = jnp.arange(70).reshape(10, 7)\n",
    "x"
   ]
  },
  {
   "cell_type": "code",
   "execution_count": null,
   "id": "12",
   "metadata": {
    "editable": true,
    "slideshow": {
     "slide_type": ""
    },
    "tags": [
     "raises-exception"
    ]
   },
   "outputs": [],
   "source": [
    "my_custom_transpose(x)"
   ]
  },
  {
   "cell_type": "markdown",
   "id": "13",
   "metadata": {},
   "source": [
    "Here, the error message tells us that it inferred `m=10` and `n=7` from the input arguments,\n",
    "but that is does not match the expected output shape, i.e., `(n, m) = (7, 10) != (10, 7)`.\n",
    "\n",
    "Thanks to the type checker, we rapidly caught the error, and we can fix the function:"
   ]
  },
  {
   "cell_type": "code",
   "execution_count": null,
   "id": "14",
   "metadata": {
    "editable": true,
    "slideshow": {
     "slide_type": ""
    },
    "tags": []
   },
   "outputs": [],
   "source": [
    "@jaxtyped(typechecker=typechecker)\n",
    "def my_custom_transpose_fixed(x: Num[Array, \"m n\"]) -> Num[Array, \"n m\"]:\n",
    "    return x.transpose()  # Now this is all good\n",
    "\n",
    "\n",
    "my_custom_transpose_fixed(x)"
   ]
  }
 ],
 "metadata": {
  "kernelspec": {
   "display_name": "Python 3 (ipykernel)",
   "language": "python",
   "name": "python3"
  },
  "language_info": {
   "codemirror_mode": {
    "name": "ipython",
    "version": 3
   },
   "file_extension": ".py",
   "mimetype": "text/x-python",
   "name": "python",
   "nbconvert_exporter": "python",
   "pygments_lexer": "ipython3",
   "version": "3.10.12"
  },
  "mystnb": {
   "render_error_lexer": "none"
  }
 },
 "nbformat": 4,
 "nbformat_minor": 5
}
