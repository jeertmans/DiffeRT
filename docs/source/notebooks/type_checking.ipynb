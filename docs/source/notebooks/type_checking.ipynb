{
 "cells": [
  {
   "cell_type": "code",
   "execution_count": null,
   "id": "e90f3c19",
   "metadata": {
    "tags": [
     "differt-install-preamble",
     "remove-cell",
     "skip-execution"
    ]
   },
   "outputs": [],
   "source": [
    "# Run this cell to install DiffeRT and its dependencies, e.g., on Google Colab\n",
    "\n",
    "try:\n",
    "    import differt  # noqa: F401\n",
    "except ImportError:\n",
    "    import sys  # noqa: F401\n",
    "\n",
    "    !{sys.executable} -m pip install differt[all]"
   ]
  },
  {
   "cell_type": "markdown",
   "id": "4b679b49-bbab-4b51-8c6e-fe171709c2ee",
   "metadata": {},
   "source": [
    "# Runtime type checking\n",
    "\n",
    "To avoid common pitfalls with function arguments,\n",
    "such as using the wrong data type or array shape,\n",
    "most functions in this library are wrapped with a \n",
    "runtime type checker that utilizes the type annotations\n",
    "to determine what inputs and outputs we should expect.\n",
    "\n",
    "For that, we rely on the [`jaxtyping`](https://pypi.org/project/jaxtyping/)\n",
    "and [`beartype`](https://pypi.org/project/beartype/) modules.\n",
    "\n",
    "## Input arguments checking\n",
    "\n",
    "Let's take the example of the {func}`sorted_array2<differt.utils.sorted_array2>` function:"
   ]
  },
  {
   "cell_type": "code",
   "execution_count": null,
   "id": "8f766ae8-6a57-4298-9a9c-29039514046a",
   "metadata": {},
   "outputs": [],
   "source": [
    "import inspect\n",
    "\n",
    "import jax\n",
    "import jax.numpy as jnp\n",
    "\n",
    "from differt.utils import sorted_array2\n",
    "\n",
    "inspect.signature(sorted_array2)"
   ]
  },
  {
   "cell_type": "markdown",
   "id": "4bf2ab58-4ade-470c-9a37-386bf27bb955",
   "metadata": {},
   "source": [
    "As we can see, its signature expects a 2D array as input, and a 2D array as output,\n",
    "which matching shapes."
   ]
  },
  {
   "cell_type": "code",
   "execution_count": null,
   "id": "51d7034a-c98b-4f52-8823-019cebeaa425",
   "metadata": {},
   "outputs": [],
   "source": [
    "key = jax.random.PRNGKey(1234)\n",
    "\n",
    "arr = jax.random.randint(key, (10, 4), 0, 2)\n",
    "arr"
   ]
  },
  {
   "cell_type": "markdown",
   "id": "7aaff951-e672-432c-b876-3d9e5582fc20",
   "metadata": {},
   "source": [
    "Hence, if we provide a 2D array as input, everything works just fine:"
   ]
  },
  {
   "cell_type": "code",
   "execution_count": null,
   "id": "03faf34c-2c9d-46dd-aacc-56d380600be8",
   "metadata": {},
   "outputs": [],
   "source": [
    "sorted_array2(arr)"
   ]
  },
  {
   "cell_type": "markdown",
   "id": "b34e431d-aaef-43fd-a267-461f8c371694",
   "metadata": {},
   "source": [
    "However, if anything else than a 2D array is provided, an error will be raised:"
   ]
  },
  {
   "cell_type": "code",
   "execution_count": null,
   "id": "570ccb3b-70df-40d3-b84b-94a3dc08f2dd",
   "metadata": {
    "editable": true,
    "slideshow": {
     "slide_type": ""
    },
    "tags": [
     "raises-exception"
    ]
   },
   "outputs": [],
   "source": [
    "arr = jax.random.randint(key, (2, 10, 4), 0, 2)  # 3D array\n",
    "sorted_array2(arr)"
   ]
  },
  {
   "cell_type": "markdown",
   "id": "64ddf67a-0099-4781-8aae-8341a932770c",
   "metadata": {},
   "source": [
    "The error message is a bit verbose,\n",
    "but we can see at the end that we expected `Shaped[Array, 'm n']`\n",
    "and we received `i32[2,10,4]` (i.e., `Int32[Array, \"2 10 4\"]`).\n",
    "`Int32` is a subclass of `Shaped`, but `m n` cannot be matched to `2 10 4`, as there is\n",
    "one extra dimension. Thus, an error was raised for that reason."
   ]
  },
  {
   "cell_type": "markdown",
   "id": "04534a76-d744-4454-8d37-0e25c0a4bb20",
   "metadata": {},
   "source": [
    "## Output checking\n",
    "\n",
    "The output values are also checked by the type checker.\n",
    "If you use one of the functions from our library, you are guaranteed to\n",
    "have correct output types if you provided valid inputs.\n",
    "\n",
    "In other words, type checking the outputs should **never fail**.\n",
    "If you encounter a case where your input is valid, but the returned output is not,\n",
    "please report it via the [GitHub issues](https://github.com/jeertmans/DiffeRT/issues).\n",
    "\n",
    "If you define custom function yourself, this is always good to use type\n",
    "annotations and runtime checking:"
   ]
  },
  {
   "cell_type": "code",
   "execution_count": null,
   "id": "a7a590dc-de12-41c6-92ce-bd01494d66b4",
   "metadata": {},
   "outputs": [],
   "source": [
    "from beartype import beartype as typechecker\n",
    "from jaxtyping import Array, Num, jaxtyped\n",
    "\n",
    "\n",
    "@jaxtyped(typechecker=typechecker)\n",
    "def my_custom_transpose(x: Num[Array, \"m n\"]) -> Num[Array, \"n m\"]:\n",
    "    return x.transpose().transpose()  # Oops, transposed one too many times\n",
    "\n",
    "\n",
    "x = jnp.arange(70).reshape(10, 7)\n",
    "x"
   ]
  },
  {
   "cell_type": "code",
   "execution_count": null,
   "id": "fe38c920-be0a-4fc9-9453-79dcd7be13c0",
   "metadata": {
    "editable": true,
    "slideshow": {
     "slide_type": ""
    },
    "tags": [
     "raises-exception"
    ]
   },
   "outputs": [],
   "source": [
    "my_custom_transpose(x)"
   ]
  },
  {
   "cell_type": "markdown",
   "id": "672abeb3-1146-4b77-987d-7e6dc132616a",
   "metadata": {},
   "source": [
    "Here, the error message tells us that it inferred `m=10` and `n=7` from the input arguments,\n",
    "but that is does not match the expected output shape, i.e., `(n, m) = (7, 10) != (10, 7)`.\n",
    "\n",
    "Thanks to the type checker, we rapidly caught the error, and we can fix the function:"
   ]
  },
  {
   "cell_type": "code",
   "execution_count": null,
   "id": "3ee5e96c-fb64-483a-8507-4be2cb8d229e",
   "metadata": {
    "editable": true,
    "slideshow": {
     "slide_type": ""
    },
    "tags": []
   },
   "outputs": [],
   "source": [
    "@jaxtyped(typechecker=typechecker)\n",
    "def my_custom_transpose_fixed(x: Num[Array, \"m n\"]) -> Num[Array, \"n m\"]:\n",
    "    return x.transpose()  # Now this is all good\n",
    "\n",
    "\n",
    "my_custom_transpose_fixed(x)"
   ]
  }
 ],
 "metadata": {
  "kernelspec": {
   "display_name": "Python 3 (ipykernel)",
   "language": "python",
   "name": "python3"
  },
  "language_info": {
   "codemirror_mode": {
    "name": "ipython",
    "version": 3
   },
   "file_extension": ".py",
   "mimetype": "text/x-python",
   "name": "python",
   "nbconvert_exporter": "python",
   "pygments_lexer": "ipython3",
   "version": "3.10.12"
  },
  "mystnb": {
   "render_error_lexer": "none"
  }
 },
 "nbformat": 4,
 "nbformat_minor": 5
}
