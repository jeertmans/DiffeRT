{
 "cells": [
  {
   "cell_type": "markdown",
   "id": "311d7587",
   "metadata": {},
   "source": [
    "# Ray Tracing at City Scale"
   ]
  },
  {
   "cell_type": "code",
   "execution_count": 2,
   "id": "a4ff244d",
   "metadata": {},
   "outputs": [],
   "source": [
    "import jax.numpy as jnp\n",
    "import numpy as np\n",
    "from tqdm.notebook import tqdm, trange\n",
    "from vispy.scene.visuals import Image\n",
    "from vispy.visuals.transforms import STTransform\n",
    "\n",
    "import differt.plotting as dplt\n",
    "from differt.geometry import TriangleMesh\n",
    "from differt.geometry.triangle_mesh import (\n",
    "    triangles_contain_vertices_assuming_inside_same_plane,\n",
    ")\n",
    "from differt.rt.image_method import (\n",
    "    consecutive_vertices_are_on_same_side_of_mirrors,\n",
    "    image_method,\n",
    ")\n",
    "from differt.rt.utils import (\n",
    "    generate_all_path_candidates_chunks_iter,\n",
    "    rays_intersect_any_triangle,\n",
    "    rays_intersect_triangles,\n",
    ")"
   ]
  },
  {
   "cell_type": "code",
   "execution_count": 2,
   "id": "06d96206",
   "metadata": {
    "tags": []
   },
   "outputs": [
    {
     "name": "stderr",
     "output_type": "stream",
     "text": [
      "An NVIDIA GPU may be present on this machine, but a CUDA-enabled jaxlib is not installed. Falling back to cpu.\n"
     ]
    },
    {
     "data": {
      "application/vnd.jupyter.widget-view+json": {
       "model_id": "a3aa0d25e1654765ba0ab588249448fd",
       "version_major": 2,
       "version_minor": 0
      },
      "text/plain": [
       "RFBOutputContext()"
      ]
     },
     "metadata": {},
     "output_type": "display_data"
    },
    {
     "data": {
      "application/vnd.jupyter.widget-view+json": {
       "model_id": "",
       "version_major": 2,
       "version_minor": 0
      },
      "text/plain": [
       "  0%|          | 0/2 [00:00<?, ?it/s]"
      ]
     },
     "metadata": {},
     "output_type": "display_data"
    },
    {
     "data": {
      "application/vnd.jupyter.widget-view+json": {
       "model_id": "",
       "version_major": 2,
       "version_minor": 0
      },
      "text/plain": [
       "  0%|          | 0/1 [00:00<?, ?it/s]"
      ]
     },
     "metadata": {},
     "output_type": "display_data"
    },
    {
     "data": {
      "application/vnd.jupyter.widget-view+json": {
       "model_id": "",
       "version_major": 2,
       "version_minor": 0
      },
      "text/plain": [
       "  0%|          | 0/1 [00:00<?, ?it/s]"
      ]
     },
     "metadata": {},
     "output_type": "display_data"
    },
    {
     "data": {
      "application/vnd.jupyter.widget-view+json": {
       "model_id": "d1ab5f784864409b80104692986a6774",
       "version_major": 2,
       "version_minor": 0
      },
      "text/html": [
       "<div class='snapshot-d1ab5f784864409b80104692986a6774' style='position:relative;'><img src='data:image/png;base64,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' style='width:800.0px;height:600.0px;' /><div style='position: absolute; top:0; left:0; padding:1px 3px; background: #777; color:#fff; font-size: 90%; font-family:sans-serif; '>snapshot</div></div>"
      ],
      "text/plain": [
       "CanvasBackend(css_height='600px', css_width='800px')"
      ]
     },
     "execution_count": 2,
     "metadata": {},
     "output_type": "execute_result"
    },
    {
     "name": "stderr",
     "output_type": "stream",
     "text": [
      "WARNING: Error drawing visual <Mesh at 0x7f815473eec0>\n",
      "WARNING: Traceback (most recent call last):\n",
      "  File \"/usr/lib/python3.10/runpy.py\", line 196, in _run_module_as_main\n",
      "    return _run_code(code, main_globals, None,\n",
      "  File \"/usr/lib/python3.10/runpy.py\", line 86, in _run_code\n",
      "    exec(code, run_globals)\n",
      "  File \"/export/home/eertmans/repositories/DiffeRT/DiffeRT/.venv/lib/python3.10/site-packages/ipykernel_launcher.py\", line 18, in <module>\n",
      "    app.launch_new_instance()\n",
      "  File \"/export/home/eertmans/repositories/DiffeRT/DiffeRT/.venv/lib/python3.10/site-packages/traitlets/config/application.py\", line 1075, in launch_instance\n",
      "    app.start()\n",
      "  File \"/export/home/eertmans/repositories/DiffeRT/DiffeRT/.venv/lib/python3.10/site-packages/ipykernel/kernelapp.py\", line 739, in start\n",
      "    self.io_loop.start()\n",
      "  File \"/export/home/eertmans/repositories/DiffeRT/DiffeRT/.venv/lib/python3.10/site-packages/tornado/platform/asyncio.py\", line 205, in start\n",
      "    self.asyncio_loop.run_forever()\n",
      "  File \"/usr/lib/python3.10/asyncio/base_events.py\", line 603, in run_forever\n",
      "    self._run_once()\n",
      "  File \"/usr/lib/python3.10/asyncio/base_events.py\", line 1909, in _run_once\n",
      "    handle._run()\n",
      "  File \"/usr/lib/python3.10/asyncio/events.py\", line 80, in _run\n",
      "    self._context.run(self._callback, *self._args)\n",
      "  File \"/export/home/eertmans/repositories/DiffeRT/DiffeRT/.venv/lib/python3.10/site-packages/jupyter_rfb/widget.py\", line 256, in _rfb_maybe_draw\n",
      "    array = self.get_frame()\n",
      "  File \"/export/home/eertmans/repositories/DiffeRT/DiffeRT/.venv/lib/python3.10/site-packages/vispy/app/backends/_jupyter_rfb.py\", line 186, in get_frame\n",
      "    self._vispy_canvas.events.draw(region=None)\n",
      "  File \"/export/home/eertmans/repositories/DiffeRT/DiffeRT/.venv/lib/python3.10/site-packages/vispy/util/event.py\", line 453, in __call__\n",
      "    self._invoke_callback(cb, event)\n",
      "  File \"/export/home/eertmans/repositories/DiffeRT/DiffeRT/.venv/lib/python3.10/site-packages/vispy/util/event.py\", line 471, in _invoke_callback\n",
      "    _handle_exception(self.ignore_callback_errors,\n",
      "  << caught exception here: >>\n",
      "  File \"/export/home/eertmans/repositories/DiffeRT/DiffeRT/.venv/lib/python3.10/site-packages/vispy/util/event.py\", line 469, in _invoke_callback\n",
      "    cb(event)\n",
      "  File \"/export/home/eertmans/repositories/DiffeRT/DiffeRT/.venv/lib/python3.10/site-packages/vispy/scene/canvas.py\", line 219, in on_draw\n",
      "    self._draw_scene()\n",
      "  File \"/export/home/eertmans/repositories/DiffeRT/DiffeRT/.venv/lib/python3.10/site-packages/vispy/scene/canvas.py\", line 278, in _draw_scene\n",
      "    self.draw_visual(self.scene)\n",
      "  File \"/export/home/eertmans/repositories/DiffeRT/DiffeRT/.venv/lib/python3.10/site-packages/vispy/scene/canvas.py\", line 316, in draw_visual\n",
      "    node.draw()\n",
      "  File \"/export/home/eertmans/repositories/DiffeRT/DiffeRT/.venv/lib/python3.10/site-packages/vispy/scene/visuals.py\", line 106, in draw\n",
      "    self._visual_superclass.draw(self)\n",
      "  File \"/export/home/eertmans/repositories/DiffeRT/DiffeRT/.venv/lib/python3.10/site-packages/vispy/visuals/visual.py\", line 514, in draw\n",
      "    self._program.draw(self._vshare.draw_mode,\n",
      "  File \"/export/home/eertmans/repositories/DiffeRT/DiffeRT/.venv/lib/python3.10/site-packages/vispy/visuals/shaders/program.py\", line 102, in draw\n",
      "    Program.draw(self, *args, **kwargs)\n",
      "  File \"/export/home/eertmans/repositories/DiffeRT/DiffeRT/.venv/lib/python3.10/site-packages/vispy/gloo/program.py\", line 543, in draw\n",
      "    canvas.context.flush_commands()\n",
      "  File \"/export/home/eertmans/repositories/DiffeRT/DiffeRT/.venv/lib/python3.10/site-packages/vispy/gloo/context.py\", line 172, in flush_commands\n",
      "    self.glir.flush(self.shared.parser)\n",
      "  File \"/export/home/eertmans/repositories/DiffeRT/DiffeRT/.venv/lib/python3.10/site-packages/vispy/gloo/glir.py\", line 584, in flush\n",
      "    self._shared.flush(parser)\n",
      "  File \"/export/home/eertmans/repositories/DiffeRT/DiffeRT/.venv/lib/python3.10/site-packages/vispy/gloo/glir.py\", line 506, in flush\n",
      "    parser.parse(self._filter(self.clear(), parser))\n",
      "  File \"/export/home/eertmans/repositories/DiffeRT/DiffeRT/.venv/lib/python3.10/site-packages/vispy/gloo/glir.py\", line 824, in parse\n",
      "    self._parse(command)\n",
      "  File \"/export/home/eertmans/repositories/DiffeRT/DiffeRT/.venv/lib/python3.10/site-packages/vispy/gloo/glir.py\", line 786, in _parse\n",
      "    ob.draw(*args)\n",
      "  File \"/export/home/eertmans/repositories/DiffeRT/DiffeRT/.venv/lib/python3.10/site-packages/vispy/gloo/glir.py\", line 1325, in draw\n",
      "    gl.check_error('Check before draw')\n",
      "  File \"/export/home/eertmans/repositories/DiffeRT/DiffeRT/.venv/lib/python3.10/site-packages/vispy/gloo/gl/__init__.py\", line 204, in check_error\n",
      "    raise err\n",
      "RuntimeError: OpenGL got errors (Check before draw): GL_INVALID_FRAMEBUFFER_OPERATION\n",
      "ERROR: Invoking <bound method SceneCanvas.on_draw of <SceneCanvas (jupyter_rfb) at 0x7f822926f040>> for DrawEvent\n"
     ]
    }
   ],
   "source": [
    "mesh_file = \"bruxelles.obj\"\n",
    "mesh = TriangleMesh.load_obj(mesh_file)\n",
    "\n",
    "canvas = mesh.plot()\n",
    "\n",
    "tx = jnp.array([-40.0, 75, 30.0])\n",
    "rx = jnp.array([+20.0, 108.034, 1.50])\n",
    "\n",
    "dplt.draw_markers(np.array([tx, rx]), [\"tx\", \"rx\"], canvas=canvas)\n",
    "\n",
    "color = [\"black\", \"green\", \"orange\", \"yellow\"]\n",
    "\n",
    "all_triangle_vertices = jnp.take(mesh.vertices, mesh.triangles, axis=0)\n",
    "\n",
    "image_np = np.random.rand(1000, 1000).astype(np.float32)\n",
    "\n",
    "x = all_triangle_vertices[..., 0]\n",
    "y = all_triangle_vertices[..., 1]\n",
    "\n",
    "\n",
    "image = Image(image_np, interpolation=\"nearest\", method=\"subdivide\", cmap=\"jet\")\n",
    "image.transform = STTransform(\n",
    "    scale=(abs(np.max(x) - np.min(x)) / 1000, abs(np.max(y) - np.min(y)) / 1000),\n",
    "    translate=(np.min(x), np.min(y), 1.5),\n",
    ")\n",
    "\n",
    "num_triangles = mesh.triangles.shape[0]\n",
    "\n",
    "for order in trange(\n",
    "    0, 2, leave=False\n",
    "):  # You probably don't want to try order > 1 (too slow if testing all paths)\n",
    "    # Prepare input arrays\n",
    "    for path_candidates in tqdm(\n",
    "        generate_all_path_candidates_chunks_iter(\n",
    "            num_triangles, order, chunk_size=2_000_000\n",
    "        ),\n",
    "        leave=False,\n",
    "    ):\n",
    "        # print(f\"{path_candidates.shape = }\")\n",
    "        num_path_candidates = path_candidates.shape[0]\n",
    "        from_vertices = jnp.tile(tx, (num_path_candidates, 1))\n",
    "        to_vertices = jnp.tile(rx, (num_path_candidates, 1))\n",
    "        triangles = jnp.take(mesh.triangles, path_candidates, axis=0)\n",
    "        triangle_vertices = jnp.take(mesh.vertices, triangles, axis=0)\n",
    "        mirror_vertices = triangle_vertices[..., 0, :]\n",
    "        mirror_normals = jnp.take(mesh.normals, path_candidates, axis=0)\n",
    "        paths = image_method(\n",
    "            from_vertices, to_vertices, mirror_vertices, mirror_normals\n",
    "        )\n",
    "        # print(f\"{paths.shape = }, {triangle_vertices.shape = }\")\n",
    "        mask = triangles_contain_vertices_assuming_inside_same_plane(\n",
    "            triangle_vertices,\n",
    "            paths,\n",
    "        )\n",
    "        mask = jnp.all(mask, axis=-1)\n",
    "        full_paths = jnp.concatenate(\n",
    "            (\n",
    "                jnp.expand_dims(from_vertices[mask, ...], axis=-2),\n",
    "                paths[mask, ...],\n",
    "                jnp.expand_dims(to_vertices[mask, ...], axis=-2),\n",
    "            ),\n",
    "            axis=-2,\n",
    "        )\n",
    "        mask = consecutive_vertices_are_on_same_side_of_mirrors(\n",
    "            full_paths, mirror_vertices[mask, ...], mirror_normals[mask, ...]\n",
    "        )\n",
    "        mask = jnp.all(mask, axis=-1)\n",
    "        ray_origins = full_paths[..., :-1, :]\n",
    "        ray_directions = jnp.diff(full_paths, axis=-2)\n",
    "        ray_origins = jnp.repeat(\n",
    "            jnp.expand_dims(ray_origins, axis=-2), num_triangles, axis=-2\n",
    "        )\n",
    "        ray_directions = jnp.repeat(\n",
    "            jnp.expand_dims(ray_directions, axis=-2), num_triangles, axis=-2\n",
    "        )\n",
    "        t, hit = rays_intersect_triangles(\n",
    "            ray_origins,\n",
    "            ray_directions,\n",
    "            jnp.broadcast_to(all_triangle_vertices, (*ray_origins.shape, 3)),\n",
    "        )\n",
    "        intersect = (t < 0.999) & hit\n",
    "        intersect = jnp.any(intersect, axis=(-1, -2))\n",
    "        mask = mask & ~intersect\n",
    "        full_paths = full_paths[mask, ...]\n",
    "\n",
    "        dplt.draw_paths(full_paths, canvas=canvas)\n",
    "\n",
    "view = dplt.view_from_canvas(canvas)\n",
    "#view.add(image)\n",
    "view.camera.set_state(\n",
    "    {\n",
    "        \"scale_factor\": 138.81554751457762,\n",
    "        \"center\": (20.0, 108.034, 46.0),\n",
    "        \"fov\": 45.0,\n",
    "        \"elevation\": 13.0,\n",
    "        \"azimuth\": 39.0,\n",
    "        \"roll\": 0.0,\n",
    "    }\n",
    ")\n",
    "\n",
    "canvas"
   ]
  },
  {
   "cell_type": "code",
   "execution_count": 3,
   "id": "6030011a-1df5-4601-955f-cfb2e5c32d01",
   "metadata": {},
   "outputs": [
    {
     "data": {
      "application/vnd.jupyter.widget-view+json": {
       "model_id": "80483eb783e14f5fb6e42ebe8e3cc4c9",
       "version_major": 2,
       "version_minor": 0
      },
      "text/plain": [
       "RFBOutputContext()"
      ]
     },
     "metadata": {},
     "output_type": "display_data"
    },
    {
     "data": {
      "application/vnd.jupyter.widget-view+json": {
       "model_id": "4fc0da981f6f4e10aa35b8c0367a1804",
       "version_major": 2,
       "version_minor": 0
      },
      "text/plain": [
       "  0%|          | 0/2 [00:00<?, ?it/s]"
      ]
     },
     "metadata": {},
     "output_type": "display_data"
    },
    {
     "data": {
      "application/vnd.jupyter.widget-view+json": {
       "model_id": "",
       "version_major": 2,
       "version_minor": 0
      },
      "text/plain": [
       "  0%|          | 0/1 [00:00<?, ?it/s]"
      ]
     },
     "metadata": {},
     "output_type": "display_data"
    },
    {
     "data": {
      "application/vnd.jupyter.widget-view+json": {
       "model_id": "49317e89b90349228428a11bc22e0fb8",
       "version_major": 2,
       "version_minor": 0
      },
      "text/plain": [
       "  0%|          | 0/143 [00:00<?, ?it/s]"
      ]
     },
     "metadata": {},
     "output_type": "display_data"
    },
    {
     "ename": "KeyboardInterrupt",
     "evalue": "",
     "output_type": "error",
     "traceback": [
      "\u001b[0;31m---------------------------------------------------------------------------\u001b[0m",
      "\u001b[0;31mKeyboardInterrupt\u001b[0m                         Traceback (most recent call last)",
      "Cell \u001b[0;32mIn[3], line 68\u001b[0m\n\u001b[1;32m     66\u001b[0m ray_origins \u001b[38;5;241m=\u001b[39m full_paths[\u001b[38;5;241m.\u001b[39m\u001b[38;5;241m.\u001b[39m\u001b[38;5;241m.\u001b[39m, :\u001b[38;5;241m-\u001b[39m\u001b[38;5;241m1\u001b[39m, :]\n\u001b[1;32m     67\u001b[0m ray_directions \u001b[38;5;241m=\u001b[39m jnp\u001b[38;5;241m.\u001b[39mdiff(full_paths, axis\u001b[38;5;241m=\u001b[39m\u001b[38;5;241m-\u001b[39m\u001b[38;5;241m2\u001b[39m)\n\u001b[0;32m---> 68\u001b[0m intersect_any \u001b[38;5;241m=\u001b[39m \u001b[43mrays_intersect_any_triangle\u001b[49m\u001b[43m(\u001b[49m\n\u001b[1;32m     69\u001b[0m \u001b[43m    \u001b[49m\u001b[43mray_origins\u001b[49m\u001b[43m,\u001b[49m\n\u001b[1;32m     70\u001b[0m \u001b[43m    \u001b[49m\u001b[43mray_directions\u001b[49m\u001b[43m,\u001b[49m\n\u001b[1;32m     71\u001b[0m \u001b[43m    \u001b[49m\u001b[43mall_triangle_vertices\u001b[49m\u001b[43m,\u001b[49m\n\u001b[1;32m     72\u001b[0m \u001b[43m\u001b[49m\u001b[43m)\u001b[49m\n\u001b[1;32m     73\u001b[0m mask_2 \u001b[38;5;241m=\u001b[39m mask_2 \u001b[38;5;241m&\u001b[39m \u001b[38;5;241m~\u001b[39mjnp\u001b[38;5;241m.\u001b[39many(intersect_any, axis\u001b[38;5;241m=\u001b[39m\u001b[38;5;241m-\u001b[39m\u001b[38;5;241m1\u001b[39m)\n\u001b[1;32m     74\u001b[0m mask \u001b[38;5;241m=\u001b[39m mask_1 \u001b[38;5;241m&\u001b[39m mask_2\n",
      "\u001b[0;31mKeyboardInterrupt\u001b[0m: "
     ]
    }
   ],
   "source": [
    "mesh_file = \"manhattan.obj\"\n",
    "mesh_file = \"bruxelles.obj\"\n",
    "mesh = TriangleMesh.load_obj(mesh_file)\n",
    "\n",
    "canvas = mesh.plot()\n",
    "\n",
    "tx = jnp.array([-40.0, 75, 30.0])\n",
    "rx = jnp.array([+20.0, 108.034, 1.50])\n",
    "\n",
    "dplt.draw_markers(np.array([tx, rx]), [\"tx\", \"rx\"], canvas=canvas)\n",
    "\n",
    "all_triangle_vertices = jnp.take(mesh.vertices, mesh.triangles, axis=0)\n",
    "\n",
    "x_tri = all_triangle_vertices[..., 0]\n",
    "y_tri = all_triangle_vertices[..., 1]\n",
    "\n",
    "N = 10\n",
    "\n",
    "x = jnp.linspace(x_tri.min(), x_tri.max(), N)\n",
    "y = jnp.linspace(y_tri.min(), y_tri.max(), N)\n",
    "X, Y = jnp.meshgrid(x, y)\n",
    "Z = 1.5 * jnp.ones_like(X)\n",
    "RX = jnp.stack((X, Y, Z), axis=-1)\n",
    "\n",
    "power = jnp.zeros_like(X)\n",
    "\n",
    "num_triangles = mesh.triangles.shape[0]\n",
    "\n",
    "for order in trange(\n",
    "    0, 2, leave=False\n",
    "):  # You probably don't want to try order > 1 (too slow if testing all paths)\n",
    "    # Prepare input arrays\n",
    "    for path_candidates in tqdm(generate_all_path_candidates_chunks_iter(\n",
    "        num_triangles, order, chunk_size=100), leave=False\n",
    "    ):\n",
    "        num_path_candidates = path_candidates.shape[0]\n",
    "        from_vertices = jnp.tile(tx, (N, N, num_path_candidates, 1))\n",
    "        to_vertices = jnp.tile(\n",
    "            jnp.expand_dims(RX, axis=-2), (1, 1, num_path_candidates, 1)\n",
    "        )\n",
    "        path_candidates = jnp.tile(path_candidates, (N, N, 1, 1))\n",
    "        triangles = jnp.take(mesh.triangles, path_candidates, axis=0)\n",
    "        triangle_vertices = jnp.take(mesh.vertices, triangles, axis=0)\n",
    "        mirror_vertices = triangle_vertices[..., 0, :]\n",
    "        mirror_normals = jnp.take(mesh.normals, path_candidates, axis=0)\n",
    "        paths = image_method(\n",
    "            from_vertices, to_vertices, mirror_vertices, mirror_normals\n",
    "        )\n",
    "        mask = triangles_contain_vertices_assuming_inside_same_plane(\n",
    "            triangle_vertices,\n",
    "            paths,\n",
    "        )\n",
    "        mask_1 = jnp.all(mask, axis=-1)\n",
    "        full_paths = jnp.concatenate(\n",
    "            (\n",
    "                jnp.expand_dims(from_vertices, axis=-2),\n",
    "                paths,\n",
    "                jnp.expand_dims(to_vertices, axis=-2),\n",
    "            ),\n",
    "            axis=-2,\n",
    "        )\n",
    "        mask_2 = consecutive_vertices_are_on_same_side_of_mirrors(\n",
    "            full_paths, mirror_vertices, mirror_normals\n",
    "        )\n",
    "        mask_2 = jnp.all(mask_2, axis=-1)\n",
    "        ray_origins = full_paths[..., :-1, :]\n",
    "        ray_directions = jnp.diff(full_paths, axis=-2)\n",
    "        intersect_any = rays_intersect_any_triangle(\n",
    "            ray_origins,\n",
    "            ray_directions,\n",
    "            all_triangle_vertices,\n",
    "        )\n",
    "        mask_2 = mask_2 & ~jnp.any(intersect_any, axis=-1)\n",
    "        mask = mask_1 & mask_2\n",
    "\n",
    "        lengths = jnp.linalg.norm(full_paths, axis=-1).sum(axis=-1)\n",
    "        power_per_path = 1.0 / (lengths * lengths)\n",
    "        power_per_path *= mask.astype(power_per_path.dtype)\n",
    "\n",
    "        # print(f\"{power_per_path.shape = }\")\n",
    "        # print(f\"{mask_1.shape = }\")\n",
    "        # print(f\"{mask_2.shape = }\")\n",
    "\n",
    "        # print(lengths.shape)\n",
    "\n",
    "        power += power_per_path.sum(axis=-1)\n",
    "\n",
    "\n",
    "\n",
    "\n",
    "image = Image(power, interpolation=\"nearest\", method=\"subdivide\", cmap=\"jet\")\n",
    "image.transform = STTransform(\n",
    "    scale=(abs(np.max(x) - np.min(x)) / N, abs(np.max(y) - np.min(y)) / N),\n",
    "    translate=(np.min(x), np.min(y), 1.5),\n",
    ")\n",
    "\n",
    "view = dplt.view_from_canvas(canvas)\n",
    "view.add(image)\n",
    "\n",
    "canvas"
   ]
  },
  {
   "cell_type": "code",
   "execution_count": 9,
   "id": "881046d6-a118-409a-aa74-b5a1f7c5dd73",
   "metadata": {},
   "outputs": [
    {
     "data": {
      "application/vnd.jupyter.widget-view+json": {
       "model_id": "431de2831dec4399a74d170a9f65e027",
       "version_major": 2,
       "version_minor": 0
      },
      "text/plain": [
       "RFBOutputContext()"
      ]
     },
     "metadata": {},
     "output_type": "display_data"
    },
    {
     "data": {
      "application/vnd.jupyter.widget-view+json": {
       "model_id": "",
       "version_major": 2,
       "version_minor": 0
      },
      "text/plain": [
       "  0%|          | 0/3 [00:00<?, ?it/s]"
      ]
     },
     "metadata": {},
     "output_type": "display_data"
    },
    {
     "data": {
      "application/vnd.jupyter.widget-view+json": {
       "model_id": "",
       "version_major": 2,
       "version_minor": 0
      },
      "text/plain": [
       "  0%|          | 0/1 [00:00<?, ?it/s]"
      ]
     },
     "metadata": {},
     "output_type": "display_data"
    },
    {
     "data": {
      "application/vnd.jupyter.widget-view+json": {
       "model_id": "",
       "version_major": 2,
       "version_minor": 0
      },
      "text/plain": [
       "  0%|          | 0/1 [00:00<?, ?it/s]"
      ]
     },
     "metadata": {},
     "output_type": "display_data"
    },
    {
     "data": {
      "application/vnd.jupyter.widget-view+json": {
       "model_id": "",
       "version_major": 2,
       "version_minor": 0
      },
      "text/plain": [
       "  0%|          | 0/1 [00:00<?, ?it/s]"
      ]
     },
     "metadata": {},
     "output_type": "display_data"
    },
    {
     "data": {
      "application/vnd.jupyter.widget-view+json": {
       "model_id": "",
       "version_major": 2,
       "version_minor": 0
      },
      "text/plain": [
       "  0%|          | 0/3 [00:00<?, ?it/s]"
      ]
     },
     "metadata": {},
     "output_type": "display_data"
    },
    {
     "data": {
      "application/vnd.jupyter.widget-view+json": {
       "model_id": "",
       "version_major": 2,
       "version_minor": 0
      },
      "text/plain": [
       "  0%|          | 0/1 [00:00<?, ?it/s]"
      ]
     },
     "metadata": {},
     "output_type": "display_data"
    },
    {
     "data": {
      "application/vnd.jupyter.widget-view+json": {
       "model_id": "",
       "version_major": 2,
       "version_minor": 0
      },
      "text/plain": [
       "  0%|          | 0/1 [00:00<?, ?it/s]"
      ]
     },
     "metadata": {},
     "output_type": "display_data"
    },
    {
     "data": {
      "application/vnd.jupyter.widget-view+json": {
       "model_id": "",
       "version_major": 2,
       "version_minor": 0
      },
      "text/plain": [
       "  0%|          | 0/1 [00:00<?, ?it/s]"
      ]
     },
     "metadata": {},
     "output_type": "display_data"
    },
    {
     "data": {
      "application/vnd.jupyter.widget-view+json": {
       "model_id": "a482090465a94e4b9e635f547e26864f",
       "version_major": 2,
       "version_minor": 0
      },
      "text/html": [
       "<div class='snapshot-a482090465a94e4b9e635f547e26864f' style='position:relative;'><img src='data:image/png;base64,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' style='width:800.0px;height:600.0px;' /><div style='position: absolute; top:0; left:0; padding:1px 3px; background: #777; color:#fff; font-size: 90%; font-family:sans-serif; '>snapshot</div></div>"
      ],
      "text/plain": [
       "CanvasBackend(css_height='600px', css_width='800px')"
      ]
     },
     "execution_count": 9,
     "metadata": {},
     "output_type": "execute_result"
    }
   ],
   "source": [
    "mesh_file = \"manhattan_small.obj\"\n",
    "mesh_file = \"bruxelles.obj\"\n",
    "mesh_file = \"two_buildings_with_ground.obj\"  # Very simple scene with two buildings\n",
    "mesh = TriangleMesh.load_obj(mesh_file)\n",
    "mesh = TriangleMesh.load_obj(mesh_file)\n",
    "\n",
    "canvas = mesh.plot()\n",
    "tx = jnp.array([-40.0, 75, 30.0])\n",
    "rx = jnp.array([+20.0, 108.034, 1.50])\n",
    "\n",
    "tx = jnp.array([0.0, 4.9352, 22.0])\n",
    "rx = jnp.array([0.0, 10.034, 1.50])\n",
    "\n",
    "dplt.draw_markers(np.array([tx, rx]), [\"tx\", \"rx\"], canvas=canvas)\n",
    "\n",
    "all_triangle_vertices = jnp.take(mesh.vertices, mesh.triangles, axis=0)\n",
    "\n",
    "x_tri = all_triangle_vertices[..., 0]\n",
    "y_tri = all_triangle_vertices[..., 1]\n",
    "\n",
    "N = 100\n",
    "\n",
    "x = jnp.linspace(x_tri.min(), x_tri.max(), N)\n",
    "y = jnp.linspace(y_tri.min(), y_tri.max(), N)\n",
    "X, Y = jnp.meshgrid(x, y)\n",
    "Z = 1.5 * jnp.ones_like(X)\n",
    "RX = jnp.stack((X, Y, Z), axis=-1)\n",
    "\n",
    "power = jnp.zeros_like(X)\n",
    "\n",
    "num_triangles = mesh.triangles.shape[0]\n",
    "\n",
    "for order in trange(\n",
    "    0, 3, leave=False\n",
    "):  # You probably don't want to try order > 1 (too slow if testing all paths)\n",
    "    # Prepare input arrays\n",
    "    for path_candidates in tqdm(\n",
    "        generate_all_path_candidates_chunks_iter(num_triangles, order, chunk_size=1000),\n",
    "        leave=False,\n",
    "    ):\n",
    "        num_path_candidates = path_candidates.shape[0]\n",
    "        from_vertices = jnp.tile(tx, (N, N, num_path_candidates, 1))\n",
    "        to_vertices = jnp.tile(\n",
    "            jnp.expand_dims(RX, axis=-2), (1, 1, num_path_candidates, 1)\n",
    "        )\n",
    "        path_candidates = jnp.tile(path_candidates, (N, N, 1, 1))\n",
    "        triangles = jnp.take(mesh.triangles, path_candidates, axis=0)\n",
    "        triangle_vertices = jnp.take(mesh.vertices, triangles, axis=0)\n",
    "        mirror_vertices = triangle_vertices[..., 0, :]\n",
    "        mirror_normals = jnp.take(mesh.normals, path_candidates, axis=0)\n",
    "        paths = image_method(\n",
    "            from_vertices, to_vertices, mirror_vertices, mirror_normals\n",
    "        )\n",
    "        mask = triangles_contain_vertices_assuming_inside_same_plane(\n",
    "            triangle_vertices,\n",
    "            paths,\n",
    "        )\n",
    "        mask_1 = jnp.all(mask, axis=-1)\n",
    "        full_paths = jnp.concatenate(\n",
    "            (\n",
    "                jnp.expand_dims(from_vertices, axis=-2),\n",
    "                paths,\n",
    "                jnp.expand_dims(to_vertices, axis=-2),\n",
    "            ),\n",
    "            axis=-2,\n",
    "        )\n",
    "        mask_2 = consecutive_vertices_are_on_same_side_of_mirrors(\n",
    "            full_paths, mirror_vertices, mirror_normals\n",
    "        )\n",
    "        mask_2 = jnp.all(mask_2, axis=-1)\n",
    "        ray_origins = full_paths[..., :-1, :]\n",
    "        ray_directions = jnp.diff(full_paths, axis=-2)\n",
    "        intersect_any = rays_intersect_any_triangle(\n",
    "            ray_origins,\n",
    "            ray_directions,\n",
    "            all_triangle_vertices,\n",
    "        )\n",
    "        mask_2 = mask_2 & ~jnp.any(intersect_any, axis=-1)\n",
    "        mask = mask_1 & mask_2\n",
    "\n",
    "        lengths = jnp.linalg.norm(full_paths, axis=-1).sum(axis=-1)\n",
    "        power_per_path = 1.0 / (lengths * lengths)\n",
    "        power_per_path *= mask.astype(power_per_path.dtype)\n",
    "\n",
    "        # print(f\"{power_per_path.shape = }\")\n",
    "        # print(f\"{mask_1.shape = }\")\n",
    "        # print(f\"{mask_2.shape = }\")\n",
    "\n",
    "        # print(lengths.shape)\n",
    "\n",
    "        power += power_per_path.sum(axis=-1)\n",
    "\n",
    "for order in trange(\n",
    "    0, 3, leave=False\n",
    "):  # You probably don't want to try order > 1 (too slow if testing all paths)\n",
    "    # Prepare input arrays\n",
    "    for path_candidates in tqdm(\n",
    "        generate_all_path_candidates_chunks_iter(\n",
    "            num_triangles, order, chunk_size=2_000_000\n",
    "        ),\n",
    "        leave=False,\n",
    "    ):\n",
    "        # print(f\"{path_candidates.shape = }\")\n",
    "        num_path_candidates = path_candidates.shape[0]\n",
    "        from_vertices = jnp.tile(tx, (num_path_candidates, 1))\n",
    "        to_vertices = jnp.tile(rx, (num_path_candidates, 1))\n",
    "        triangles = jnp.take(mesh.triangles, path_candidates, axis=0)\n",
    "        triangle_vertices = jnp.take(mesh.vertices, triangles, axis=0)\n",
    "        mirror_vertices = triangle_vertices[..., 0, :]\n",
    "        mirror_normals = jnp.take(mesh.normals, path_candidates, axis=0)\n",
    "        paths = image_method(\n",
    "            from_vertices, to_vertices, mirror_vertices, mirror_normals\n",
    "        )\n",
    "        # print(f\"{paths.shape = }, {triangle_vertices.shape = }\")\n",
    "        mask = triangles_contain_vertices_assuming_inside_same_plane(\n",
    "            triangle_vertices,\n",
    "            paths,\n",
    "        )\n",
    "        mask = jnp.all(mask, axis=-1)\n",
    "        full_paths = jnp.concatenate(\n",
    "            (\n",
    "                jnp.expand_dims(from_vertices[mask, ...], axis=-2),\n",
    "                paths[mask, ...],\n",
    "                jnp.expand_dims(to_vertices[mask, ...], axis=-2),\n",
    "            ),\n",
    "            axis=-2,\n",
    "        )\n",
    "        mask = consecutive_vertices_are_on_same_side_of_mirrors(\n",
    "            full_paths, mirror_vertices[mask, ...], mirror_normals[mask, ...]\n",
    "        )\n",
    "        mask = jnp.all(mask, axis=-1)\n",
    "        ray_origins = full_paths[..., :-1, :]\n",
    "        ray_directions = jnp.diff(full_paths, axis=-2)\n",
    "        ray_origins = jnp.repeat(\n",
    "            jnp.expand_dims(ray_origins, axis=-2), num_triangles, axis=-2\n",
    "        )\n",
    "        ray_directions = jnp.repeat(\n",
    "            jnp.expand_dims(ray_directions, axis=-2), num_triangles, axis=-2\n",
    "        )\n",
    "        t, hit = rays_intersect_triangles(\n",
    "            ray_origins,\n",
    "            ray_directions,\n",
    "            jnp.broadcast_to(all_triangle_vertices, (*ray_origins.shape, 3)),\n",
    "        )\n",
    "        intersect = (t < 0.999) & hit\n",
    "        intersect = jnp.any(intersect, axis=(-1, -2))\n",
    "        mask = mask & ~intersect\n",
    "        full_paths = full_paths[mask, ...]\n",
    "\n",
    "        dplt.draw_paths(full_paths, canvas=canvas)\n",
    "\n",
    "image = Image(power, interpolation=\"nearest\", method=\"subdivide\", cmap=\"jet\")\n",
    "image.transform = STTransform(\n",
    "    scale=(abs(np.max(x) - np.min(x)) / N, abs(np.max(y) - np.min(y)) / N),\n",
    "    translate=(np.min(x), np.min(y), .5),\n",
    ")\n",
    "\n",
    "view = dplt.view_from_canvas(canvas)\n",
    "view.add(image)\n",
    "\n",
    "canvas"
   ]
  },
  {
   "cell_type": "code",
   "execution_count": null,
   "id": "5269aa0f-c71d-4076-afe7-71031babe369",
   "metadata": {},
   "outputs": [],
   "source": []
  }
 ],
 "metadata": {
  "kernelspec": {
   "display_name": "Python 3 (ipykernel)",
   "language": "python",
   "name": "python3"
  },
  "language_info": {
   "codemirror_mode": {
    "name": "ipython",
    "version": 3
   },
   "file_extension": ".py",
   "mimetype": "text/x-python",
   "name": "python",
   "nbconvert_exporter": "python",
   "pygments_lexer": "ipython3",
   "version": "3.10.12"
  }
 },
 "nbformat": 4,
 "nbformat_minor": 5
}
