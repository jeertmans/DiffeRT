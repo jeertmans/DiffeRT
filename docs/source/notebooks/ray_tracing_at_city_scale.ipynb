{
 "cells": [
  {
   "cell_type": "markdown",
   "id": "311d7587",
   "metadata": {},
   "source": [
    "# Ray Tracing at City Scale"
   ]
  },
  {
   "cell_type": "code",
   "execution_count": 1,
   "id": "a4ff244d",
   "metadata": {},
   "outputs": [],
   "source": [
    "from pathlib import Path\n",
    "\n",
    "import jax.numpy as jnp\n",
    "import numpy as np\n",
    "\n",
    "import differt.plotting as dplt\n",
    "from differt.geometry import TriangleMesh\n",
    "from differt.geometry.triangle_mesh import (\n",
    "    triangles_contain_vertices_assuming_inside_same_plane,\n",
    ")\n",
    "from differt.rt.image_method import (\n",
    "    consecutive_vertices_are_on_same_side_of_mirrors,\n",
    "    image_method,\n",
    ")\n",
    "from differt.rt.utils import generate_all_path_candidates, rays_intersect_triangles"
   ]
  },
  {
   "cell_type": "code",
   "execution_count": 2,
   "id": "06d96206",
   "metadata": {
    "tags": []
   },
   "outputs": [
    {
     "name": "stderr",
     "output_type": "stream",
     "text": [
      "An NVIDIA GPU may be present on this machine, but a CUDA-enabled jaxlib is not installed. Falling back to cpu.\n"
     ]
    },
    {
     "data": {
      "application/vnd.jupyter.widget-view+json": {
       "model_id": "52b12785c98e4261907d5baaf2d039a2",
       "version_major": 2,
       "version_minor": 0
      },
      "text/plain": [
       "RFBOutputContext()"
      ]
     },
     "metadata": {},
     "output_type": "display_data"
    },
    {
     "data": {
      "application/vnd.jupyter.widget-view+json": {
       "model_id": "82102be640644f659709b136ad1cc227",
       "version_major": 2,
       "version_minor": 0
      },
      "text/html": [
       "<div class='snapshot-82102be640644f659709b136ad1cc227' style='position:relative;'><img src='data:image/png;base64,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' style='width:800.0px;height:600.0px;' /><div style='position: absolute; top:0; left:0; padding:1px 3px; background: #777; color:#fff; font-size: 90%; font-family:sans-serif; '>snapshot</div></div>"
      ],
      "text/plain": [
       "CanvasBackend(css_height='600px', css_width='800px')"
      ]
     },
     "execution_count": 2,
     "metadata": {},
     "output_type": "execute_result"
    }
   ],
   "source": [
    "mesh_file = Path(\"bruxelles.obj\")\n",
    "mesh = TriangleMesh.load_obj(mesh_file)\n",
    "\n",
    "canvas = mesh.plot()\n",
    "\n",
    "tx = jnp.array([0.0, 4.9352, 22.0])\n",
    "rx = jnp.array([0.0, 10.034, 1.50])\n",
    "\n",
    "dplt.draw_markers(np.array([tx, rx]), [\"tx\", \"rx\"], canvas=canvas)\n",
    "\n",
    "color = [\"black\", \"green\", \"orange\", \"yellow\"]\n",
    "\n",
    "all_triangle_vertices = jnp.take(mesh.vertices, mesh.triangles, axis=0)\n",
    "\n",
    "num_triangles = mesh.triangles.shape[0]\n",
    "\n",
    "for order in range(0, 1):\n",
    "    # Prepare input arrays\n",
    "    path_candidates = generate_all_path_candidates(num_triangles, order)\n",
    "    num_candidates = path_candidates.shape[1]\n",
    "    from_vertices = jnp.tile(tx, (num_candidates, 1))\n",
    "    to_vertices = jnp.tile(rx, (num_candidates, 1))\n",
    "    triangles = jnp.take(mesh.triangles, path_candidates, axis=0)\n",
    "    triangle_vertices = jnp.take(mesh.vertices, triangles, axis=0)\n",
    "    mirror_vertices = triangle_vertices[\n",
    "        ..., 0, :\n",
    "    ]  # Only one vertex per triangle is needed\n",
    "    mirror_normals = jnp.take(mesh.normals, path_candidates, axis=0)\n",
    "\n",
    "    # Trace paths\n",
    "    paths = image_method(from_vertices, to_vertices, mirror_vertices, mirror_normals)\n",
    "\n",
    "    # Remove paths with vertices outside triangles\n",
    "    mask = triangles_contain_vertices_assuming_inside_same_plane(\n",
    "        triangle_vertices,\n",
    "        paths,\n",
    "    )\n",
    "    mask = jnp.all(mask, axis=0)\n",
    "\n",
    "    full_paths = jnp.concatenate(\n",
    "        (\n",
    "            jnp.expand_dims(from_vertices[mask, :], axis=0),\n",
    "            paths[:, mask, :],\n",
    "            jnp.expand_dims(to_vertices[mask, :], axis=0),\n",
    "        )\n",
    "    )\n",
    "\n",
    "    # Remove paths with vertices not on the same side of mirrors\n",
    "    mask = consecutive_vertices_are_on_same_side_of_mirrors(\n",
    "        full_paths, mirror_vertices[:, mask, ...], mirror_normals[:, mask, ...]\n",
    "    )\n",
    "\n",
    "    mask = jnp.all(mask, axis=0)\n",
    "\n",
    "    # [order+1 num_paths 3]\n",
    "    ray_origins = full_paths[:-1, ...]\n",
    "    ray_directions = jnp.diff(full_paths, axis=0)\n",
    "\n",
    "    ray_origins = jnp.repeat(\n",
    "        jnp.expand_dims(ray_origins, axis=-2), num_triangles, axis=-2\n",
    "    )\n",
    "    ray_directions = jnp.repeat(\n",
    "        jnp.expand_dims(ray_directions, axis=-2), num_triangles, axis=-2\n",
    "    )\n",
    "\n",
    "    t, hit = rays_intersect_triangles(\n",
    "        ray_origins,\n",
    "        ray_directions,\n",
    "        jnp.broadcast_to(all_triangle_vertices, (*ray_origins.shape, 3)),\n",
    "    )\n",
    "    intersect = (t < 0.999) & hit\n",
    "    intersect = jnp.any(intersect, axis=(0, 2))\n",
    "    mask = mask & ~intersect\n",
    "\n",
    "    full_paths = full_paths[:, mask, ...]\n",
    "\n",
    "    if order == 0:\n",
    "        full_paths = jnp.concatenate(\n",
    "            (\n",
    "                tx[None, None, :],\n",
    "                rx[None, None, :],\n",
    "            )\n",
    "        )\n",
    "\n",
    "    full_paths = jnp.swapaxes(full_paths, 0, 1)\n",
    "\n",
    "    dplt.draw_paths(full_paths, canvas=canvas)\n",
    "\n",
    "canvas"
   ]
  },
  {
   "cell_type": "code",
   "execution_count": 4,
   "id": "e41a2e85-45ad-4f97-97c5-266d31f1e158",
   "metadata": {},
   "outputs": [
    {
     "data": {
      "text/plain": [
       "(14206, 3)"
      ]
     },
     "execution_count": 4,
     "metadata": {},
     "output_type": "execute_result"
    }
   ],
   "source": [
    "mesh.triangles.shape"
   ]
  },
  {
   "cell_type": "code",
   "execution_count": null,
   "id": "dbe8ce21-d917-42fc-a455-7ba6d8225de6",
   "metadata": {},
   "outputs": [],
   "source": []
  }
 ],
 "metadata": {
  "kernelspec": {
   "display_name": "DiffeRT",
   "language": "python",
   "name": "differt"
  },
  "language_info": {
   "codemirror_mode": {
    "name": "ipython",
    "version": 3
   },
   "file_extension": ".py",
   "mimetype": "text/x-python",
   "name": "python",
   "nbconvert_exporter": "python",
   "pygments_lexer": "ipython3",
   "version": "3.10.12"
  }
 },
 "nbformat": 4,
 "nbformat_minor": 5
}
