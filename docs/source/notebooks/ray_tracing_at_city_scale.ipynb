{
 "cells": [
  {
   "cell_type": "code",
   "execution_count": null,
   "id": "0",
   "metadata": {
    "tags": [
     "differt-install-preamble",
     "remove-cell",
     "skip-execution"
    ]
   },
   "outputs": [],
   "source": [
    "# Run this cell to install DiffeRT and its dependencies, e.g., on Google Colab\n",
    "\n",
    "try:\n",
    "    import differt  # noqa: F401\n",
    "except ImportError:\n",
    "    import sys  # noqa: F401\n",
    "\n",
    "    !{sys.executable} -m pip install differt[all]"
   ]
  },
  {
   "cell_type": "markdown",
   "id": "1",
   "metadata": {},
   "source": [
    "# Ray Tracing at City Scale"
   ]
  },
  {
   "cell_type": "code",
   "execution_count": null,
   "id": "2",
   "metadata": {},
   "outputs": [],
   "source": [
    "import jax.numpy as jnp\n",
    "from tqdm.notebook import trange\n",
    "\n",
    "import differt.plotting as dplt\n",
    "from differt.geometry import TriangleMesh\n",
    "from differt.scene import TriangleScene"
   ]
  },
  {
   "cell_type": "code",
   "execution_count": null,
   "id": "3",
   "metadata": {
    "tags": [
     "remove-stderr"
    ]
   },
   "outputs": [],
   "source": [
    "mesh_file = \"bruxelles.obj\"\n",
    "mesh = TriangleMesh.load_obj(mesh_file)\n",
    "\n",
    "tx = jnp.array([-40.0, 75, 30.0])\n",
    "rx = jnp.array([+20.0, 108.034, 1.50])\n",
    "\n",
    "scene = TriangleScene(transmitters=tx, receivers=rx, mesh=mesh)\n",
    "\n",
    "with dplt.reuse() as canvas:\n",
    "    scene.plot()\n",
    "    for order in trange(\n",
    "        0,\n",
    "        2,\n",
    "        leave=False,\n",
    "    ):  # You probably don't want to try order > 1 (too slow if testing all paths)\n",
    "        # Prepare input arrays\n",
    "        for paths in scene.compute_paths(order, chunk_size=2_000_000):\n",
    "            paths.plot()\n",
    "\n",
    "view = dplt.view_from_canvas(canvas)\n",
    "view.camera.set_state(\n",
    "    {\n",
    "        \"scale_factor\": 138.81554751457762,\n",
    "        \"center\": (20.0, 108.034, 46.0),\n",
    "        \"fov\": 45.0,\n",
    "        \"elevation\": 13.0,\n",
    "        \"azimuth\": 39.0,\n",
    "        \"roll\": 0.0,\n",
    "    },\n",
    ")\n",
    "\n",
    "canvas"
   ]
  },
  {
   "cell_type": "code",
   "execution_count": null,
   "id": "4",
   "metadata": {},
   "outputs": [],
   "source": [
    "# This tutorial is TODO"
   ]
  }
 ],
 "metadata": {
  "kernelspec": {
   "display_name": "Python 3 (ipykernel)",
   "language": "python",
   "name": "python3"
  },
  "language_info": {
   "codemirror_mode": {
    "name": "ipython",
    "version": 3
   },
   "file_extension": ".py",
   "mimetype": "text/x-python",
   "name": "python",
   "nbconvert_exporter": "python",
   "pygments_lexer": "ipython3",
   "version": "3.11.10"
  }
 },
 "nbformat": 4,
 "nbformat_minor": 5
}
