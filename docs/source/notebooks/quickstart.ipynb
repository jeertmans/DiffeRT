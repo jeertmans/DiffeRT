{
 "cells": [
  {
   "cell_type": "markdown",
   "id": "dd7d10a7-b006-4112-bf51-16e519ffd0c1",
   "metadata": {},
   "source": [
    "# Quickstart\n",
    "\n",
    "TODO: write a nice quickstart guide with RT and EM fields, as well as optimization?"
   ]
  },
  {
   "cell_type": "code",
   "execution_count": 1,
   "id": "6239cc49-a63e-4a48-962e-ed39b0d8aab0",
   "metadata": {},
   "outputs": [],
   "source": [
    "from differt.scene.sionna import get_sionna_scene, download_sionna_scenes\n",
    "from differt.scene.triangle_scene import TriangleScene\n",
    "from differt.plotting import reuse\n",
    "\n",
    "import logging\n",
    "\n",
    "FORMAT = '%(levelname)s %(name)s %(asctime)-15s %(filename)s:%(lineno)d %(message)s'\n",
    "logging.basicConfig(format=FORMAT)\n",
    "logging.getLogger().setLevel(logging.DEBUG)\n",
    "\n",
    "download_sionna_scenes()"
   ]
  },
  {
   "cell_type": "code",
   "execution_count": 2,
   "id": "b4c122fc-85a9-4535-8c79-9f601ba87470",
   "metadata": {},
   "outputs": [
    {
     "name": "stderr",
     "output_type": "stream",
     "text": [
      "INFO differt.geometry.triangle_mesh 2024-04-11 17:30:22,720 triangle_mesh.rs:56 Face: unexpected key/value combination: key: u/Float(0.0)\n",
      "INFO differt.geometry.triangle_mesh 2024-04-11 17:30:22,721 triangle_mesh.rs:56 Face: unexpected key/value combination: key: v/Float(1.0)\n",
      "INFO differt.geometry.triangle_mesh 2024-04-11 17:30:22,721 triangle_mesh.rs:56 Face: unexpected key/value combination: key: u/Float(1.0)\n",
      "INFO differt.geometry.triangle_mesh 2024-04-11 17:30:22,721 triangle_mesh.rs:56 Face: unexpected key/value combination: key: v/Float(1.0)\n",
      "INFO differt.geometry.triangle_mesh 2024-04-11 17:30:22,722 triangle_mesh.rs:56 Face: unexpected key/value combination: key: u/Float(1.0)\n",
      "INFO differt.geometry.triangle_mesh 2024-04-11 17:30:22,722 triangle_mesh.rs:56 Face: unexpected key/value combination: key: v/Float(0.0)\n",
      "INFO differt.geometry.triangle_mesh 2024-04-11 17:30:22,722 triangle_mesh.rs:56 Face: unexpected key/value combination: key: u/Float(0.0)\n",
      "INFO differt.geometry.triangle_mesh 2024-04-11 17:30:22,723 triangle_mesh.rs:56 Face: unexpected key/value combination: key: v/Float(0.0)\n",
      "WARNING differt.geometry.triangle_mesh 2024-04-11 17:30:22,723 triangle_mesh.rs:76 Face: unexpected key/value combination: key: vertex_indices/ListInt([0, 1, 2])\n",
      "WARNING differt.geometry.triangle_mesh 2024-04-11 17:30:22,723 triangle_mesh.rs:76 Face: unexpected key/value combination: key: vertex_indices/ListInt([0, 2, 3])\n",
      "INFO differt.geometry.triangle_mesh 2024-04-11 17:30:22,723 triangle_mesh.rs:158 Face: skipping because it is not a triangle.\n",
      "INFO differt.geometry.triangle_mesh 2024-04-11 17:30:22,724 triangle_mesh.rs:158 Face: skipping because it is not a triangle.\n",
      "INFO differt.geometry.triangle_mesh 2024-04-11 17:30:22,724 triangle_mesh.rs:56 Face: unexpected key/value combination: key: u/Float(0.0)\n",
      "INFO differt.geometry.triangle_mesh 2024-04-11 17:30:22,724 triangle_mesh.rs:56 Face: unexpected key/value combination: key: v/Float(1.0)\n",
      "INFO differt.geometry.triangle_mesh 2024-04-11 17:30:22,724 triangle_mesh.rs:56 Face: unexpected key/value combination: key: u/Float(1.0)\n",
      "INFO differt.geometry.triangle_mesh 2024-04-11 17:30:22,724 triangle_mesh.rs:56 Face: unexpected key/value combination: key: v/Float(1.0)\n",
      "INFO differt.geometry.triangle_mesh 2024-04-11 17:30:22,725 triangle_mesh.rs:56 Face: unexpected key/value combination: key: u/Float(1.0)\n",
      "INFO differt.geometry.triangle_mesh 2024-04-11 17:30:22,725 triangle_mesh.rs:56 Face: unexpected key/value combination: key: v/Float(0.0)\n",
      "INFO differt.geometry.triangle_mesh 2024-04-11 17:30:22,725 triangle_mesh.rs:56 Face: unexpected key/value combination: key: u/Float(0.0)\n",
      "INFO differt.geometry.triangle_mesh 2024-04-11 17:30:22,725 triangle_mesh.rs:56 Face: unexpected key/value combination: key: v/Float(0.0)\n",
      "WARNING differt.geometry.triangle_mesh 2024-04-11 17:30:22,725 triangle_mesh.rs:76 Face: unexpected key/value combination: key: vertex_indices/ListInt([0, 1, 2])\n",
      "WARNING differt.geometry.triangle_mesh 2024-04-11 17:30:22,726 triangle_mesh.rs:76 Face: unexpected key/value combination: key: vertex_indices/ListInt([0, 2, 3])\n",
      "INFO differt.geometry.triangle_mesh 2024-04-11 17:30:22,726 triangle_mesh.rs:158 Face: skipping because it is not a triangle.\n",
      "INFO differt.geometry.triangle_mesh 2024-04-11 17:30:22,726 triangle_mesh.rs:158 Face: skipping because it is not a triangle.\n",
      "INFO differt.geometry.triangle_mesh 2024-04-11 17:30:22,726 triangle_mesh.rs:56 Face: unexpected key/value combination: key: u/Float(0.0)\n",
      "INFO differt.geometry.triangle_mesh 2024-04-11 17:30:22,726 triangle_mesh.rs:56 Face: unexpected key/value combination: key: v/Float(1.0)\n",
      "INFO differt.geometry.triangle_mesh 2024-04-11 17:30:22,727 triangle_mesh.rs:56 Face: unexpected key/value combination: key: u/Float(1.0)\n",
      "INFO differt.geometry.triangle_mesh 2024-04-11 17:30:22,727 triangle_mesh.rs:56 Face: unexpected key/value combination: key: v/Float(1.0)\n",
      "INFO differt.geometry.triangle_mesh 2024-04-11 17:30:22,727 triangle_mesh.rs:56 Face: unexpected key/value combination: key: u/Float(1.0)\n",
      "INFO differt.geometry.triangle_mesh 2024-04-11 17:30:22,727 triangle_mesh.rs:56 Face: unexpected key/value combination: key: v/Float(0.0)\n",
      "INFO differt.geometry.triangle_mesh 2024-04-11 17:30:22,728 triangle_mesh.rs:56 Face: unexpected key/value combination: key: u/Float(0.0)\n",
      "INFO differt.geometry.triangle_mesh 2024-04-11 17:30:22,728 triangle_mesh.rs:56 Face: unexpected key/value combination: key: v/Float(0.0)\n",
      "WARNING differt.geometry.triangle_mesh 2024-04-11 17:30:22,728 triangle_mesh.rs:76 Face: unexpected key/value combination: key: vertex_indices/ListInt([0, 1, 2])\n",
      "WARNING differt.geometry.triangle_mesh 2024-04-11 17:30:22,728 triangle_mesh.rs:76 Face: unexpected key/value combination: key: vertex_indices/ListInt([0, 2, 3])\n",
      "INFO differt.geometry.triangle_mesh 2024-04-11 17:30:22,728 triangle_mesh.rs:158 Face: skipping because it is not a triangle.\n",
      "INFO differt.geometry.triangle_mesh 2024-04-11 17:30:22,729 triangle_mesh.rs:158 Face: skipping because it is not a triangle.\n",
      "INFO differt.geometry.triangle_mesh 2024-04-11 17:30:22,729 triangle_mesh.rs:56 Face: unexpected key/value combination: key: u/Float(0.0)\n",
      "INFO differt.geometry.triangle_mesh 2024-04-11 17:30:22,729 triangle_mesh.rs:56 Face: unexpected key/value combination: key: v/Float(1.0)\n",
      "INFO differt.geometry.triangle_mesh 2024-04-11 17:30:22,729 triangle_mesh.rs:56 Face: unexpected key/value combination: key: u/Float(1.0)\n",
      "INFO differt.geometry.triangle_mesh 2024-04-11 17:30:22,730 triangle_mesh.rs:56 Face: unexpected key/value combination: key: v/Float(1.0)\n",
      "INFO differt.geometry.triangle_mesh 2024-04-11 17:30:22,730 triangle_mesh.rs:56 Face: unexpected key/value combination: key: u/Float(1.0)\n",
      "INFO differt.geometry.triangle_mesh 2024-04-11 17:30:22,730 triangle_mesh.rs:56 Face: unexpected key/value combination: key: v/Float(0.0)\n",
      "INFO differt.geometry.triangle_mesh 2024-04-11 17:30:22,730 triangle_mesh.rs:56 Face: unexpected key/value combination: key: u/Float(0.0)\n",
      "INFO differt.geometry.triangle_mesh 2024-04-11 17:30:22,731 triangle_mesh.rs:56 Face: unexpected key/value combination: key: v/Float(0.0)\n",
      "WARNING differt.geometry.triangle_mesh 2024-04-11 17:30:22,731 triangle_mesh.rs:76 Face: unexpected key/value combination: key: vertex_indices/ListInt([0, 1, 2])\n",
      "WARNING differt.geometry.triangle_mesh 2024-04-11 17:30:22,731 triangle_mesh.rs:76 Face: unexpected key/value combination: key: vertex_indices/ListInt([0, 2, 3])\n",
      "INFO differt.geometry.triangle_mesh 2024-04-11 17:30:22,731 triangle_mesh.rs:158 Face: skipping because it is not a triangle.\n",
      "INFO differt.geometry.triangle_mesh 2024-04-11 17:30:22,732 triangle_mesh.rs:158 Face: skipping because it is not a triangle.\n",
      "INFO differt.geometry.triangle_mesh 2024-04-11 17:30:22,732 triangle_mesh.rs:56 Face: unexpected key/value combination: key: u/Float(0.0)\n",
      "INFO differt.geometry.triangle_mesh 2024-04-11 17:30:22,732 triangle_mesh.rs:56 Face: unexpected key/value combination: key: v/Float(1.0)\n",
      "INFO differt.geometry.triangle_mesh 2024-04-11 17:30:22,732 triangle_mesh.rs:56 Face: unexpected key/value combination: key: u/Float(1.0)\n",
      "INFO differt.geometry.triangle_mesh 2024-04-11 17:30:22,733 triangle_mesh.rs:56 Face: unexpected key/value combination: key: v/Float(1.0)\n",
      "INFO differt.geometry.triangle_mesh 2024-04-11 17:30:22,733 triangle_mesh.rs:56 Face: unexpected key/value combination: key: u/Float(1.0)\n",
      "INFO differt.geometry.triangle_mesh 2024-04-11 17:30:22,733 triangle_mesh.rs:56 Face: unexpected key/value combination: key: v/Float(0.0)\n",
      "INFO differt.geometry.triangle_mesh 2024-04-11 17:30:22,733 triangle_mesh.rs:56 Face: unexpected key/value combination: key: u/Float(0.0)\n",
      "INFO differt.geometry.triangle_mesh 2024-04-11 17:30:22,734 triangle_mesh.rs:56 Face: unexpected key/value combination: key: v/Float(0.0)\n",
      "WARNING differt.geometry.triangle_mesh 2024-04-11 17:30:22,734 triangle_mesh.rs:76 Face: unexpected key/value combination: key: vertex_indices/ListInt([0, 1, 2])\n",
      "WARNING differt.geometry.triangle_mesh 2024-04-11 17:30:22,734 triangle_mesh.rs:76 Face: unexpected key/value combination: key: vertex_indices/ListInt([0, 2, 3])\n",
      "INFO differt.geometry.triangle_mesh 2024-04-11 17:30:22,734 triangle_mesh.rs:158 Face: skipping because it is not a triangle.\n",
      "INFO differt.geometry.triangle_mesh 2024-04-11 17:30:22,734 triangle_mesh.rs:158 Face: skipping because it is not a triangle.\n",
      "INFO differt.geometry.triangle_mesh 2024-04-11 17:30:22,735 triangle_mesh.rs:56 Face: unexpected key/value combination: key: u/Float(0.0)\n",
      "INFO differt.geometry.triangle_mesh 2024-04-11 17:30:22,735 triangle_mesh.rs:56 Face: unexpected key/value combination: key: v/Float(1.0)\n",
      "INFO differt.geometry.triangle_mesh 2024-04-11 17:30:22,735 triangle_mesh.rs:56 Face: unexpected key/value combination: key: u/Float(1.0)\n",
      "INFO differt.geometry.triangle_mesh 2024-04-11 17:30:22,736 triangle_mesh.rs:56 Face: unexpected key/value combination: key: v/Float(1.0)\n",
      "INFO differt.geometry.triangle_mesh 2024-04-11 17:30:22,736 triangle_mesh.rs:56 Face: unexpected key/value combination: key: u/Float(1.0)\n",
      "INFO differt.geometry.triangle_mesh 2024-04-11 17:30:22,736 triangle_mesh.rs:56 Face: unexpected key/value combination: key: v/Float(0.0)\n",
      "INFO differt.geometry.triangle_mesh 2024-04-11 17:30:22,737 triangle_mesh.rs:56 Face: unexpected key/value combination: key: u/Float(0.0)\n",
      "INFO differt.geometry.triangle_mesh 2024-04-11 17:30:22,737 triangle_mesh.rs:56 Face: unexpected key/value combination: key: v/Float(0.0)\n",
      "WARNING differt.geometry.triangle_mesh 2024-04-11 17:30:22,737 triangle_mesh.rs:76 Face: unexpected key/value combination: key: vertex_indices/ListInt([0, 1, 2])\n",
      "WARNING differt.geometry.triangle_mesh 2024-04-11 17:30:22,737 triangle_mesh.rs:76 Face: unexpected key/value combination: key: vertex_indices/ListInt([0, 2, 3])\n",
      "INFO differt.geometry.triangle_mesh 2024-04-11 17:30:22,737 triangle_mesh.rs:158 Face: skipping because it is not a triangle.\n",
      "INFO differt.geometry.triangle_mesh 2024-04-11 17:30:22,738 triangle_mesh.rs:158 Face: skipping because it is not a triangle.\n",
      "DEBUG jax._src.xla_bridge 2024-04-11 17:30:22,739 xla_bridge.py:567 No jax_plugins namespace packages available\n",
      "DEBUG jax._src.xla_bridge 2024-04-11 17:30:22,750 xla_bridge.py:934 Initializing backend 'cpu'\n",
      "DEBUG jax._src.xla_bridge 2024-04-11 17:30:22,752 xla_bridge.py:946 Backend 'cpu' initialized\n",
      "DEBUG jax._src.xla_bridge 2024-04-11 17:30:22,752 xla_bridge.py:934 Initializing backend 'cuda'\n",
      "INFO jax._src.xla_bridge 2024-04-11 17:30:22,753 xla_bridge.py:863 Unable to initialize backend 'cuda': \n",
      "DEBUG jax._src.xla_bridge 2024-04-11 17:30:22,753 xla_bridge.py:934 Initializing backend 'rocm'\n",
      "INFO jax._src.xla_bridge 2024-04-11 17:30:22,753 xla_bridge.py:863 Unable to initialize backend 'rocm': module 'jaxlib.xla_extension' has no attribute 'GpuAllocatorConfig'\n",
      "DEBUG jax._src.xla_bridge 2024-04-11 17:30:22,754 xla_bridge.py:934 Initializing backend 'tpu'\n",
      "INFO jax._src.xla_bridge 2024-04-11 17:30:22,755 xla_bridge.py:863 Unable to initialize backend 'tpu': INTERNAL: Failed to open libtpu.so: libtpu.so: cannot open shared object file: No such file or directory\n",
      "WARNING jax._src.xla_bridge 2024-04-11 17:30:22,755 xla_bridge.py:901 An NVIDIA GPU may be present on this machine, but a CUDA-enabled jaxlib is not installed. Falling back to cpu.\n",
      "DEBUG jax._src.dispatch 2024-04-11 17:30:22,763 dispatch.py:175 Finished tracing + transforming convert_element_type for pjit in 0.000408172607421875 sec\n",
      "DEBUG jax._src.interpreters.pxla 2024-04-11 17:30:22,800 pxla.py:1894 Compiling convert_element_type for with global shapes and types [ShapedArray(float32[])]. Argument mapping: [UnspecifiedValue].\n",
      "DEBUG jax._src.dispatch 2024-04-11 17:30:22,802 dispatch.py:175 Finished jaxpr to MLIR module conversion jit(convert_element_type) in 0.0014584064483642578 sec\n",
      "DEBUG jax._src.compiler 2024-04-11 17:30:22,802 compiler.py:145 get_compile_options: num_replicas=1 num_partitions=1 device_assignment=[[CpuDevice(id=0)]]\n",
      "DEBUG jax._src.compiler 2024-04-11 17:30:22,803 compiler.py:204 get_compile_options XLA-AutoFDO profile: using XLA-AutoFDO profile version -1\n",
      "DEBUG jax._src.cache_key 2024-04-11 17:30:22,803 cache_key.py:118 get_cache_key hash of serialized computation: 450fb72ab919121cb72e0abb16de39b7ceb0eab466ec9094bbc314c07c06845c\n",
      "DEBUG jax._src.cache_key 2024-04-11 17:30:22,804 cache_key.py:124 get_cache_key hash after serializing computation: 450fb72ab919121cb72e0abb16de39b7ceb0eab466ec9094bbc314c07c06845c\n",
      "DEBUG jax._src.cache_key 2024-04-11 17:30:22,804 cache_key.py:118 get_cache_key hash of serialized jax_lib version: abc4c06419e904aa0eb1e19685f897159e75fce9878fa101485edb5ddfcade19\n",
      "DEBUG jax._src.cache_key 2024-04-11 17:30:22,804 cache_key.py:124 get_cache_key hash after serializing jax_lib version: c34a0f76828d19ad4c6b8f448b420c64b6eba123a04be3a488a9ce3a5eb3c4d2\n",
      "DEBUG jax._src.cache_key 2024-04-11 17:30:22,804 cache_key.py:118 get_cache_key hash of serialized XLA flags: e3b0c44298fc1c149afbf4c8996fb92427ae41e4649b934ca495991b7852b855\n",
      "DEBUG jax._src.cache_key 2024-04-11 17:30:22,804 cache_key.py:124 get_cache_key hash after serializing XLA flags: c34a0f76828d19ad4c6b8f448b420c64b6eba123a04be3a488a9ce3a5eb3c4d2\n",
      "DEBUG jax._src.cache_key 2024-04-11 17:30:22,805 cache_key.py:118 get_cache_key hash of serialized compile_options: 12d708e656a5367219e25fd966862bdcea4074f2ebf0ec4d2b1269fbf3770c97\n",
      "DEBUG jax._src.cache_key 2024-04-11 17:30:22,806 cache_key.py:124 get_cache_key hash after serializing compile_options: 8efcab2ad9371e9752c3d89648b83da3ad8dd22bf89d85740f35473bd9051b76\n",
      "DEBUG jax._src.cache_key 2024-04-11 17:30:22,806 cache_key.py:118 get_cache_key hash of serialized accelerator_config: a4b35e84971a1132b4db4d89f6fe954a95f1bf20d11f13fc36d4dbcb9cdc3bff\n",
      "DEBUG jax._src.cache_key 2024-04-11 17:30:22,806 cache_key.py:124 get_cache_key hash after serializing accelerator_config: 4e67982a37604fa0c4b30ec57ed5a5006ed6a8981dc66b8449642497b024bba6\n",
      "DEBUG jax._src.cache_key 2024-04-11 17:30:22,806 cache_key.py:118 get_cache_key hash of serialized compression: 0ea55c28f8014d8886b6248fe3da5d588f55c0823847a6b4579f1131b051b5e2\n",
      "DEBUG jax._src.cache_key 2024-04-11 17:30:22,806 cache_key.py:124 get_cache_key hash after serializing compression: 4ec5d8d0c3259755af1d702811f8a1aa68752c96d3cee81f2c1e17a8a03ad8ef\n",
      "DEBUG jax._src.cache_key 2024-04-11 17:30:22,807 cache_key.py:118 get_cache_key hash of serialized custom_hook: e3b0c44298fc1c149afbf4c8996fb92427ae41e4649b934ca495991b7852b855\n",
      "DEBUG jax._src.cache_key 2024-04-11 17:30:22,807 cache_key.py:124 get_cache_key hash after serializing custom_hook: 4ec5d8d0c3259755af1d702811f8a1aa68752c96d3cee81f2c1e17a8a03ad8ef\n",
      "DEBUG jax._src.compilation_cache 2024-04-11 17:30:22,807 compilation_cache.py:168 get_executable_and_time: cache is disabled/not initialized\n",
      "DEBUG jax._src.compiler 2024-04-11 17:30:22,815 compiler.py:550 Not writing persistent cache entry for 'jit_convert_element_type' because it took < 1.00 seconds to compile (0.01s)\n",
      "DEBUG jax._src.dispatch 2024-04-11 17:30:22,816 dispatch.py:175 Finished XLA compilation of jit(convert_element_type) in 0.012581110000610352 sec\n",
      "DEBUG jax._src.dispatch 2024-04-11 17:30:22,817 dispatch.py:175 Finished tracing + transforming broadcast_in_dim for pjit in 0.0002980232238769531 sec\n",
      "DEBUG jax._src.interpreters.pxla 2024-04-11 17:30:22,817 pxla.py:1894 Compiling broadcast_in_dim for with global shapes and types [ShapedArray(float32[])]. Argument mapping: [UnspecifiedValue].\n",
      "DEBUG jax._src.dispatch 2024-04-11 17:30:22,820 dispatch.py:175 Finished jaxpr to MLIR module conversion jit(broadcast_in_dim) in 0.0018661022186279297 sec\n",
      "DEBUG jax._src.compiler 2024-04-11 17:30:22,820 compiler.py:145 get_compile_options: num_replicas=1 num_partitions=1 device_assignment=[[CpuDevice(id=0)]]\n",
      "DEBUG jax._src.compiler 2024-04-11 17:30:22,821 compiler.py:204 get_compile_options XLA-AutoFDO profile: using XLA-AutoFDO profile version -1\n",
      "DEBUG jax._src.cache_key 2024-04-11 17:30:22,821 cache_key.py:118 get_cache_key hash of serialized computation: 8f155a812e249510ff423ecfd874091f1efd1d964c178ed3f99b9d896c3cee9c\n",
      "DEBUG jax._src.cache_key 2024-04-11 17:30:22,822 cache_key.py:124 get_cache_key hash after serializing computation: 8f155a812e249510ff423ecfd874091f1efd1d964c178ed3f99b9d896c3cee9c\n",
      "DEBUG jax._src.cache_key 2024-04-11 17:30:22,823 cache_key.py:118 get_cache_key hash of serialized jax_lib version: abc4c06419e904aa0eb1e19685f897159e75fce9878fa101485edb5ddfcade19\n",
      "DEBUG jax._src.cache_key 2024-04-11 17:30:22,823 cache_key.py:124 get_cache_key hash after serializing jax_lib version: 4000dfd86003dd17bacab875b5d0952a9f2eef35ba4110fc3006bf529b4059a6\n",
      "DEBUG jax._src.cache_key 2024-04-11 17:30:22,823 cache_key.py:118 get_cache_key hash of serialized XLA flags: e3b0c44298fc1c149afbf4c8996fb92427ae41e4649b934ca495991b7852b855\n",
      "DEBUG jax._src.cache_key 2024-04-11 17:30:22,823 cache_key.py:124 get_cache_key hash after serializing XLA flags: 4000dfd86003dd17bacab875b5d0952a9f2eef35ba4110fc3006bf529b4059a6\n",
      "DEBUG jax._src.cache_key 2024-04-11 17:30:22,824 cache_key.py:118 get_cache_key hash of serialized compile_options: 12d708e656a5367219e25fd966862bdcea4074f2ebf0ec4d2b1269fbf3770c97\n",
      "DEBUG jax._src.cache_key 2024-04-11 17:30:22,824 cache_key.py:124 get_cache_key hash after serializing compile_options: 7fdebedede3a03fd830051080eec59f0f7d927c7ab307a0d54f650efe7f55e6a\n",
      "DEBUG jax._src.cache_key 2024-04-11 17:30:22,824 cache_key.py:118 get_cache_key hash of serialized accelerator_config: a4b35e84971a1132b4db4d89f6fe954a95f1bf20d11f13fc36d4dbcb9cdc3bff\n",
      "DEBUG jax._src.cache_key 2024-04-11 17:30:22,824 cache_key.py:124 get_cache_key hash after serializing accelerator_config: e51741d0d8ba96fc332e7df363f907822ad79d87556b478cf665399969ab604b\n",
      "DEBUG jax._src.cache_key 2024-04-11 17:30:22,824 cache_key.py:118 get_cache_key hash of serialized compression: 0ea55c28f8014d8886b6248fe3da5d588f55c0823847a6b4579f1131b051b5e2\n",
      "DEBUG jax._src.cache_key 2024-04-11 17:30:22,825 cache_key.py:124 get_cache_key hash after serializing compression: 1df3dabfdb9472488654d90fa8de07366ff83352743cd7fb2d5402ea85e4b83c\n",
      "DEBUG jax._src.cache_key 2024-04-11 17:30:22,825 cache_key.py:118 get_cache_key hash of serialized custom_hook: e3b0c44298fc1c149afbf4c8996fb92427ae41e4649b934ca495991b7852b855\n",
      "DEBUG jax._src.cache_key 2024-04-11 17:30:22,825 cache_key.py:124 get_cache_key hash after serializing custom_hook: 1df3dabfdb9472488654d90fa8de07366ff83352743cd7fb2d5402ea85e4b83c\n",
      "DEBUG jax._src.compilation_cache 2024-04-11 17:30:22,825 compilation_cache.py:168 get_executable_and_time: cache is disabled/not initialized\n",
      "DEBUG jax._src.compiler 2024-04-11 17:30:22,831 compiler.py:550 Not writing persistent cache entry for 'jit_broadcast_in_dim' because it took < 1.00 seconds to compile (0.01s)\n",
      "DEBUG jax._src.dispatch 2024-04-11 17:30:22,831 dispatch.py:175 Finished XLA compilation of jit(broadcast_in_dim) in 0.010489940643310547 sec\n"
     ]
    }
   ],
   "source": [
    "file = get_sionna_scene(\"box\")\n",
    "scene = TriangleScene.load_xml(file)"
   ]
  },
  {
   "cell_type": "code",
   "execution_count": 3,
   "id": "e0235b22-22b2-4e64-b431-aafe6b5650ff",
   "metadata": {},
   "outputs": [
    {
     "data": {
      "application/vnd.jupyter.widget-view+json": {
       "model_id": "7bad78d4bb894789851f44db583c1d83",
       "version_major": 2,
       "version_minor": 0
      },
      "text/plain": [
       "RFBOutputContext()"
      ]
     },
     "metadata": {},
     "output_type": "display_data"
    },
    {
     "name": "stdout",
     "output_type": "stream",
     "text": [
      "TriangleMesh(vertices=f32[4,3], triangles=u32[0,3])\n",
      "TriangleMesh(vertices=f32[4,3], triangles=u32[0,3])\n",
      "TriangleMesh(vertices=f32[4,3], triangles=u32[0,3])\n",
      "TriangleMesh(vertices=f32[4,3], triangles=u32[0,3])\n",
      "TriangleMesh(vertices=f32[4,3], triangles=u32[0,3])\n",
      "TriangleMesh(vertices=f32[4,3], triangles=u32[0,3])\n"
     ]
    },
    {
     "data": {
      "application/vnd.jupyter.widget-view+json": {
       "model_id": "25c27d2f2bc5494093b20710e735582b",
       "version_major": 2,
       "version_minor": 0
      },
      "text/html": [
       "<div class='snapshot-25c27d2f2bc5494093b20710e735582b' style='position:relative;'><img src='data:image/png;base64,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' style='width:800.0px;height:600.0px;' /><div style='position: absolute; top:0; left:0; padding:1px 3px; background: #777; color:#fff; font-size: 90%; font-family:sans-serif; '>snapshot</div></div>"
      ],
      "text/plain": [
       "CanvasBackend(css_height='600px', css_width='800px')"
      ]
     },
     "execution_count": 3,
     "metadata": {},
     "output_type": "execute_result"
    }
   ],
   "source": [
    "with reuse(backend=\"vispy\") as result:\n",
    "    for mesh in scene.meshes:\n",
    "        print(mesh)\n",
    "        mesh.plot()\n",
    "\n",
    "result"
   ]
  },
  {
   "cell_type": "code",
   "execution_count": null,
   "id": "e47561f7-fcd5-49e5-a3c7-5e50453a73bf",
   "metadata": {},
   "outputs": [],
   "source": []
  }
 ],
 "metadata": {
  "kernelspec": {
   "display_name": "Python 3 (ipykernel)",
   "language": "python",
   "name": "python3"
  },
  "language_info": {
   "codemirror_mode": {
    "name": "ipython",
    "version": 3
   },
   "file_extension": ".py",
   "mimetype": "text/x-python",
   "name": "python",
   "nbconvert_exporter": "python",
   "pygments_lexer": "ipython3",
   "version": "3.10.12"
  }
 },
 "nbformat": 4,
 "nbformat_minor": 5
}
