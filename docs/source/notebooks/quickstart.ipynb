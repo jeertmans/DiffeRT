{
 "cells": [
  {
   "cell_type": "markdown",
   "id": "dd7d10a7-b006-4112-bf51-16e519ffd0c1",
   "metadata": {},
   "source": [
    "# Quickstart"
   ]
  },
  {
   "cell_type": "code",
   "execution_count": null,
   "id": "7f48a5a2-5531-4c42-a2e3-9106589a5347",
   "metadata": {},
   "outputs": [],
   "source": [
    "from itertools import combinations\n",
    "from pathlib import Path\n",
    "\n",
    "import jax.numpy as jnp\n",
    "import plotly.graph_objects as go\n",
    "\n",
    "from differt.geometry import TriangleMesh\n",
    "from differt.geometry.triangle_mesh import (\n",
    "    triangles_contain_vertices_assuming_inside_same_plane,\n",
    ")\n",
    "from differt.rt.image_method import image_method"
   ]
  },
  {
   "cell_type": "code",
   "execution_count": null,
   "id": "4c9630bf-9a67-4b04-ac68-4f4317a1dd28",
   "metadata": {},
   "outputs": [],
   "source": [
    "mesh_file = Path(\"two_buildings.obj\")\n",
    "mesh = TriangleMesh.load_obj(mesh_file)"
   ]
  },
  {
   "cell_type": "code",
   "execution_count": null,
   "id": "7d4a337c-2b3d-4499-9d9c-534d1cddf45e",
   "metadata": {},
   "outputs": [],
   "source": [
    "fig = mesh.plot(opacity=0.5)\n",
    "fig"
   ]
  },
  {
   "cell_type": "code",
   "execution_count": null,
   "id": "ba2091a3",
   "metadata": {},
   "outputs": [],
   "source": [
    "tx = jnp.array([0.0, 4.9352, 22.0])\n",
    "rx = jnp.array([0.0, 10.034, 1.5])\n",
    "\n",
    "fig.add_traces(\n",
    "    go.Scatter3d(\n",
    "        x=[tx[0], rx[0]],\n",
    "        y=[tx[1], rx[1]],\n",
    "        z=[tx[2], rx[2]],\n",
    "        marker=dict(\n",
    "            size=7,\n",
    "            color=\"red\",\n",
    "        ),\n",
    "        mode=\"markers+text\",\n",
    "        text=[\"tx\", \"rx\"],\n",
    "    )\n",
    ")"
   ]
  },
  {
   "cell_type": "code",
   "execution_count": null,
   "id": "136845e1",
   "metadata": {},
   "outputs": [],
   "source": [
    "all_vertices = jnp.take(mesh.vertices, mesh.triangles, axis=0)\n",
    "n_vertices = all_vertices.shape[0]\n",
    "\n",
    "indices = list(range(n_vertices))  # [0, 1, ..., n_vertices - 1]\n",
    "\n",
    "for order in range(1, 3):  # This does not work above order = 2\n",
    "    # [order num_paths]\n",
    "    path_candidates = jnp.array(list(combinations(indices, order)), dtype=int).T\n",
    "    from_vertices = jnp.tile(tx, (path_candidates.shape[1], 1))\n",
    "    to_vertices = jnp.tile(rx, (path_candidates.shape[1], 1))\n",
    "    mirror_vertices = jnp.take(all_vertices[..., 0], path_candidates, axis=0)\n",
    "    mirror_normals = jnp.take(mesh.normals, path_candidates, axis=0)\n",
    "\n",
    "    paths = image_method(from_vertices, to_vertices, mirror_vertices, mirror_normals)\n",
    "\n",
    "    # [order num_paths]\n",
    "    mask = triangles_contain_vertices_assuming_inside_same_plane(\n",
    "        jnp.take(all_vertices, path_candidates, axis=0),\n",
    "        paths,\n",
    "    )\n",
    "    mask = jnp.all(mask, axis=0)\n",
    "    mask = jnp.ones_like(mask, dtype=bool)\n",
    "\n",
    "    full_paths = jnp.concatenate(\n",
    "        (\n",
    "            jnp.expand_dims(from_vertices[mask, :], axis=0),\n",
    "            paths[:, mask, :],\n",
    "            jnp.expand_dims(to_vertices[mask, :], axis=0),\n",
    "        )\n",
    "    )\n",
    "\n",
    "    fig.add_traces(\n",
    "        [\n",
    "            go.Scatter3d(\n",
    "                x=full_paths[:, i, 0],\n",
    "                y=full_paths[:, i, 1],\n",
    "                z=full_paths[:, i, 2],\n",
    "                marker=dict(\n",
    "                    size=0,\n",
    "                    color=\"darkgreen\",\n",
    "                ),\n",
    "                line=dict(color=\"green\", width=3),\n",
    "            )\n",
    "            for i in range(full_paths.shape[1])\n",
    "        ]\n",
    "    )\n",
    "\n",
    "fig.update_layout(\n",
    "    scene=dict(\n",
    "        xaxis=dict(\n",
    "            range=[-10, 10],\n",
    "        ),\n",
    "        yaxis=dict(\n",
    "            range=[-10, 30],\n",
    "        ),\n",
    "        zaxis=dict(\n",
    "            range=[0, 25],\n",
    "        ),\n",
    "    ),\n",
    ")\n",
    "\n",
    "fig"
   ]
  },
  {
   "cell_type": "code",
   "execution_count": null,
   "id": "782470a8",
   "metadata": {},
   "outputs": [],
   "source": []
  }
 ],
 "metadata": {
  "kernelspec": {
   "display_name": "DiffeRT",
   "language": "python",
   "name": "differt"
  },
  "language_info": {
   "codemirror_mode": {
    "name": "ipython",
    "version": 3
   },
   "file_extension": ".py",
   "mimetype": "text/x-python",
   "name": "python",
   "nbconvert_exporter": "python",
   "pygments_lexer": "ipython3",
   "version": "3.10.12"
  }
 },
 "nbformat": 4,
 "nbformat_minor": 5
}
