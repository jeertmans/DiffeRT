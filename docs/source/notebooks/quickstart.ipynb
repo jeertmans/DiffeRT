{
 "cells": [
  {
   "cell_type": "code",
   "execution_count": null,
   "id": "e90f3c19",
   "metadata": {
    "tags": [
     "differt-install-preamble",
     "remove-cell",
     "skip-execution"
    ]
   },
   "outputs": [],
   "source": [
    "# Run this cell to install DiffeRT and its dependencies, e.g., on Google Colab\n",
    "\n",
    "try:\n",
    "    import differt  # noqa: F401\n",
    "except ImportError:\n",
    "    import sys  # noqa: F401\n",
    "\n",
    "    !{sys.executable} -m pip install differt[all]"
   ]
  },
  {
   "cell_type": "markdown",
   "id": "dd7d10a7-b006-4112-bf51-16e519ffd0c1",
   "metadata": {},
   "source": [
    "# Quickstart\n",
    "\n",
    "TODO: write a nice quickstart guide with RT and EM fields, as well as optimization?"
   ]
  },
  {
   "cell_type": "code",
   "execution_count": null,
   "id": "6239cc49-a63e-4a48-962e-ed39b0d8aab0",
   "metadata": {},
   "outputs": [],
   "source": [
    "import equinox as eqx\n",
    "import jax.numpy as jnp\n",
    "\n",
    "from differt.scene.sionna import download_sionna_scenes, get_sionna_scene\n",
    "from differt.scene.triangle_scene import TriangleScene\n",
    "\n",
    "# TODO: show how to reproduce https://nvlabs.github.io/sionna/examples/Sionna_Ray_Tracing_Introduction.html?"
   ]
  },
  {
   "cell_type": "code",
   "execution_count": null,
   "id": "2e443c38-fa47-4aca-8d1d-9ef9c6054559",
   "metadata": {},
   "outputs": [],
   "source": [
    "download_sionna_scenes()  # Let's download Sionna scenes (from the main branch)"
   ]
  },
  {
   "cell_type": "code",
   "execution_count": null,
   "id": "b4c122fc-85a9-4535-8c79-9f601ba87470",
   "metadata": {},
   "outputs": [],
   "source": [
    "file = get_sionna_scene(\"etoile\")\n",
    "scene = TriangleScene.load_xml(file)\n",
    "scene = eqx.tree_at(lambda s: s.transmitters, scene, jnp.array([[8.5, 21, 27]]))\n",
    "scene = eqx.tree_at(lambda s: s.receivers, scene, jnp.array([[45, 90, 1.5]]))\n",
    "scene.plot()"
   ]
  }
 ],
 "metadata": {
  "kernelspec": {
   "display_name": "Python 3 (ipykernel)",
   "language": "python",
   "name": "python3"
  },
  "language_info": {
   "codemirror_mode": {
    "name": "ipython",
    "version": 3
   },
   "file_extension": ".py",
   "mimetype": "text/x-python",
   "name": "python",
   "nbconvert_exporter": "python",
   "pygments_lexer": "ipython3",
   "version": "3.10.12"
  }
 },
 "nbformat": 4,
 "nbformat_minor": 5
}
