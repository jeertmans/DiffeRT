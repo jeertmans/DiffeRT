{
 "cells": [
  {
   "cell_type": "markdown",
   "id": "dd7d10a7-b006-4112-bf51-16e519ffd0c1",
   "metadata": {},
   "source": [
    "# Quickstart\n",
    "\n",
    "TODO: write a nice quickstart guide with RT and EM fiels, as well as optimization?"
   ]
  },
  {
   "cell_type": "code",
   "execution_count": null,
   "id": "6ee5bba5-0f83-4f4f-bd36-8a8c758f2ef5",
   "metadata": {},
   "outputs": [],
   "source": []
  }
 ],
 "metadata": {
  "kernelspec": {
   "display_name": "Python 3 (ipykernel)",
   "language": "python",
   "name": "python3"
  },
  "language_info": {
   "codemirror_mode": {
    "name": "ipython",
    "version": 3
   },
   "file_extension": ".py",
   "mimetype": "text/x-python",
   "name": "python",
   "nbconvert_exporter": "python",
   "pygments_lexer": "ipython3",
   "version": "3.10.12"
  }
 },
 "nbformat": 4,
 "nbformat_minor": 5
}
