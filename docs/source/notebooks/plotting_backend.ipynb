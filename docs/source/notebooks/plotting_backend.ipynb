{
 "cells": [
  {
   "cell_type": "markdown",
   "id": "450018ce-a5f7-4586-977a-71bfb73bae56",
   "metadata": {},
   "source": [
    "# Choosing your plotting backend\n",
    "\n",
    "DiffeRT supports various backends for plotting scenes and related-objects:\n",
    "\n",
    "- [VisPy](https://vispy.org/), a high-performance interactive visualization library that leverages the\n",
    "  power of modern GPUs through OpenGL. Installing VisPy on its own is not sufficient and you will need at least one\n",
    "  of the VisPy backends to be installed: https://vispy.org/installation.html.\n",
    "  If available, VisPy will be used by default as it provides the best user experience, especially on large scenes.\n",
    "- [Matplotlib](https://matplotlib.org/), a very user-friendly and popular tool for creating plots in Python.\n",
    "- [Plotly](https://plotly.com/python/), a Python library for building beautiful interactive plots for the web.\n",
    "\n",
    "Additionally, all those backends can be used within Jupyter notebooks.\n",
    "For VisPy, you will need [`jupyter_rfb`](https://github.com/vispy/jupyter_rfb) and a recent JupyterLab installation,\n",
    "that you can obtain with `pip install differt[jupyter]`."
   ]
  },
  {
   "cell_type": "code",
   "execution_count": null,
   "id": "5efae8bf-a35d-485a-9fa7-643efaf29d94",
   "metadata": {
    "tags": []
   },
   "outputs": [],
   "source": [
    "from pathlib import Path\n",
    "\n",
    "from differt.geometry import TriangleMesh\n",
    "\n",
    "mesh_file = Path(\"bruxelles.obj\")\n",
    "mesh = TriangleMesh.load_obj(mesh_file)"
   ]
  },
  {
   "cell_type": "markdown",
   "id": "f139173e-09de-4470-af71-a2edf41fad13",
   "metadata": {},
   "source": [
    "## VisPy\n",
    "\n",
    "VisPy is the default plotting backend, and supports all plotting utilities.\n",
    "\n",
    "Because this is the default backend, you do not have to specify it,\n",
    "[unless you changed the default backend](change-default-backend).\n",
    "\n",
    "(vispy-pros)=\n",
    "### Pros\n",
    "\n",
    "* Performances;\n",
    "* Has a relatively good documentation;\n",
    "* Integrates well with Qt applications;\n",
    "* Implements all plotting utilities.\n",
    "\n",
    "(vispy-cons)=\n",
    "### Cons\n",
    "\n",
    "* Does not support interactive offline rendering (i.e., a static snapshot is shown);\n",
    "* Requires an additional and possibly large dependency (e.g., PyQt6)."
   ]
  },
  {
   "cell_type": "code",
   "execution_count": null,
   "id": "0c49fbe0-7721-49cb-9a4e-8ee0bd5e3b5b",
   "metadata": {
    "tags": []
   },
   "outputs": [],
   "source": [
    "canvas = mesh.plot(backend=\"vispy\")\n",
    "canvas"
   ]
  },
  {
   "cell_type": "markdown",
   "id": "06c56873-92da-4904-bbdb-bb6622a77f22",
   "metadata": {},
   "source": [
    "## Matplotlib\n",
    "\n",
    "Matplotlib is probably the most-used Python plotting library.\n",
    "\n",
    "(matplotlib-pros)=\n",
    "### Pros\n",
    "\n",
    "* Has excellent online documentation;\n",
    "* Can be integrated with Qt applications;\n",
    "* Support a lot of configuration options and output formats;\n",
    "* Simple and user-friendly API.\n",
    "\n",
    "(matplolib-cons)=\n",
    "### Cons\n",
    "\n",
    "* Does not support interactive offline rendering (i.e., a static snapshot is shown);\n",
    "* Poor 3D graphics support;\n",
    "* Interactive and 3D plots are slow."
   ]
  },
  {
   "cell_type": "code",
   "execution_count": null,
   "id": "066ada1e-e48a-4223-beb3-c579c5410daa",
   "metadata": {
    "tags": []
   },
   "outputs": [],
   "source": [
    "%matplotlib widget\n",
    "\n",
    "mesh.plot(backend=\"matplotlib\", alpha=0.5, shade=True, linewidth=0.2, antialiased=True)"
   ]
  },
  {
   "cell_type": "markdown",
   "id": "8143b2d6-ab90-4cc6-8765-ae9e9a041599",
   "metadata": {},
   "source": [
    "## Plotly"
   ]
  },
  {
   "cell_type": "markdown",
   "id": "c9f6fc61-d760-4a0d-bdba-1520c7a197d5",
   "metadata": {},
   "source": [
    "(plotly-pros)=\n",
    "### Pros\n",
    "\n",
    "* Has excellent interactive mode;\n",
    "* Provides beautiful plots with almost zero-configuration needed;\n",
    "* Supports interactive offline rendering (i.e., plots can be fully contained in HTML pages).\n",
    "\n",
    "(plotly-cons)=\n",
    "### Cons\n",
    "\n",
    "* Has a no-so-good online documentation (i.e., using functions that do not have usage examples is quite hard);\n",
    "* Does not support interactive offline rendering (i.e., a static snapshot is shown);\n",
    "* Slow 3D graphics and relatively *glitchy*."
   ]
  },
  {
   "cell_type": "code",
   "execution_count": null,
   "id": "c0863a8e-918a-42d5-9841-b7cf248f3953",
   "metadata": {
    "tags": []
   },
   "outputs": [],
   "source": [
    "mesh.plot(backend=\"plotly\", opacity=0.5)"
   ]
  },
  {
   "cell_type": "markdown",
   "id": "7139b658-1e6b-475a-ae46-5cda5c029a7f",
   "metadata": {},
   "source": [
    "(change-default-backend)=\n",
    "## Changing the default backend\n",
    "\n",
    "When not specified, the `backend` parameter defaults to `None`, which in turn indicates\n",
    "that you will use the default backend. So `mesh.plot()`\n",
    "is equivalent to `mesh.plot(backend=\"vispy\")`.\n",
    "\n",
    "If you want to use another backend by default, you can do so by importing `differt.plotting` and\n",
    "calling `use` with the desired backend name."
   ]
  },
  {
   "cell_type": "code",
   "execution_count": null,
   "id": "5ba01127-92a9-4c16-8079-591d2a227fca",
   "metadata": {
    "tags": []
   },
   "outputs": [],
   "source": [
    "import differt.plotting as dplt  # noqa: E402\n",
    "\n",
    "dplt.use(\"plotly\")\n",
    "\n",
    "mesh.plot()"
   ]
  },
  {
   "cell_type": "code",
   "execution_count": null,
   "id": "cb269d44-2649-4945-8d3a-f230d195e313",
   "metadata": {},
   "outputs": [],
   "source": []
  }
 ],
 "metadata": {
  "kernelspec": {
   "display_name": "DiffeRT",
   "language": "python",
   "name": "differt"
  },
  "language_info": {
   "codemirror_mode": {
    "name": "ipython",
    "version": 3
   },
   "file_extension": ".py",
   "mimetype": "text/x-python",
   "name": "python",
   "nbconvert_exporter": "python",
   "pygments_lexer": "ipython3",
   "version": "3.10.12"
  }
 },
 "nbformat": 4,
 "nbformat_minor": 5
}
