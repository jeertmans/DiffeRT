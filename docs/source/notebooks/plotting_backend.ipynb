{
 "cells": [
  {
   "cell_type": "code",
   "execution_count": null,
   "id": "0",
   "metadata": {
    "tags": [
     "differt-install-preamble",
     "remove-cell",
     "skip-execution"
    ]
   },
   "outputs": [],
   "source": [
    "# Run this cell to install DiffeRT and its dependencies, e.g., on Google Colab\n",
    "\n",
    "try:\n",
    "    import differt  # noqa: F401\n",
    "except ImportError:\n",
    "    import sys  # noqa: F401\n",
    "\n",
    "    !{sys.executable} -m pip install differt[all]"
   ]
  },
  {
   "cell_type": "markdown",
   "id": "1",
   "metadata": {},
   "source": [
    "# Choosing your plotting backend\n",
    "\n",
    "DiffeRT supports various backends for plotting scenes and related-objects:\n",
    "\n",
    "- [VisPy](https://vispy.org/), a high-performance interactive visualization library that leverages the\n",
    "  power of modern GPUs through OpenGL. Installing VisPy on its own is not sufficient and you will need at least one\n",
    "  of the VisPy backends to be installed: https://vispy.org/installation.html.\n",
    "  If available, VisPy will be used by default as it provides the best user experience, especially on large scenes.\n",
    "- [Matplotlib](https://matplotlib.org/), a very user-friendly and popular tool for creating plots in Python.\n",
    "- [Plotly](https://plotly.com/python/), a Python library for building beautiful interactive plots for the web.\n",
    "\n",
    "Additionally, all those backends can be used within Jupyter notebooks.\n",
    "For VisPy, you will need [`jupyter_rfb`](https://github.com/vispy/jupyter_rfb) and a recent JupyterLab installation,\n",
    "that you can obtain with `pip install differt[jupyter]`."
   ]
  },
  {
   "cell_type": "code",
   "execution_count": null,
   "id": "2",
   "metadata": {
    "tags": []
   },
   "outputs": [],
   "source": [
    "from differt.geometry import TriangleMesh\n",
    "\n",
    "mesh_file = \"bruxelles.obj\"\n",
    "mesh = TriangleMesh.load_obj(mesh_file)"
   ]
  },
  {
   "cell_type": "markdown",
   "id": "3",
   "metadata": {},
   "source": [
    "## VisPy\n",
    "\n",
    "VisPy is the default plotting backend, and supports all plotting utilities.\n",
    "\n",
    "Because this is the default backend, you do not have to specify it,\n",
    "[unless you changed the default backend](change-default-backend).\n",
    "\n",
    "(vispy-pros)=\n",
    "### Pros\n",
    "\n",
    "* Performances;\n",
    "* Has a relatively good documentation;\n",
    "* Integrates well with Qt applications;\n",
    "* Implements all plotting utilities.\n",
    "\n",
    "(vispy-cons)=\n",
    "### Cons\n",
    "\n",
    "* Does not support interactive offline rendering (i.e., a static snapshot is shown);\n",
    "* Requires an additional and possibly large dependency (e.g., PyQt6)."
   ]
  },
  {
   "cell_type": "code",
   "execution_count": null,
   "id": "4",
   "metadata": {
    "tags": []
   },
   "outputs": [],
   "source": [
    "canvas = mesh.plot(backend=\"vispy\")\n",
    "canvas"
   ]
  },
  {
   "cell_type": "markdown",
   "id": "5",
   "metadata": {},
   "source": [
    "## Matplotlib\n",
    "\n",
    "Matplotlib is probably the most-used Python plotting library.\n",
    "\n",
    "(matplotlib-pros)=\n",
    "### Pros\n",
    "\n",
    "* Has excellent online documentation;\n",
    "* Can be integrated with Qt applications;\n",
    "* Support a lot of configuration options and output formats;\n",
    "* Simple and user-friendly API.\n",
    "\n",
    "(matplolib-cons)=\n",
    "### Cons\n",
    "\n",
    "* Does not support interactive offline rendering (i.e., a static snapshot is shown);\n",
    "* Poor 3D graphics support;\n",
    "* Interactive and 3D plots are slow."
   ]
  },
  {
   "cell_type": "code",
   "execution_count": null,
   "id": "6",
   "metadata": {
    "tags": []
   },
   "outputs": [],
   "source": [
    "%matplotlib widget\n",
    "\n",
    "fig = mesh.plot(\n",
    "    backend=\"matplotlib\",\n",
    "    alpha=0.5,\n",
    "    shade=True,\n",
    "    linewidth=0.2,\n",
    "    antialiased=True,\n",
    ")\n",
    "fig.gca().axis(\"equal\");"
   ]
  },
  {
   "cell_type": "markdown",
   "id": "7",
   "metadata": {},
   "source": [
    "## Plotly"
   ]
  },
  {
   "cell_type": "markdown",
   "id": "8",
   "metadata": {},
   "source": [
    "(plotly-pros)=\n",
    "### Pros\n",
    "\n",
    "* Has excellent interactive mode;\n",
    "* Provides beautiful plots with almost zero-configuration needed;\n",
    "* Supports interactive offline rendering (i.e., plots can be fully contained in HTML pages).\n",
    "\n",
    "(plotly-cons)=\n",
    "### Cons\n",
    "\n",
    "* Not-so-good online documentation (i.e., many functions lack usage examples);\n",
    "* Does not support interactive offline rendering (i.e., a static snapshot is shown);\n",
    "* Slow 3D graphics and relatively *glitchy*."
   ]
  },
  {
   "cell_type": "code",
   "execution_count": null,
   "id": "9",
   "metadata": {
    "tags": []
   },
   "outputs": [],
   "source": [
    "fig = mesh.plot(backend=\"plotly\", opacity=0.5)\n",
    "fig.update_scenes(aspectmode=\"data\")"
   ]
  },
  {
   "cell_type": "markdown",
   "id": "10",
   "metadata": {},
   "source": [
    "(change-default-backend)=\n",
    "## Changing the default backend\n",
    "\n",
    "When not specified, the `backend` parameter defaults to {data}`None`, which in turn indicates\n",
    "that you will use the default backend. So `mesh.plot()`\n",
    "is equivalent to `mesh.plot(backend=\"vispy\")`.\n",
    "\n",
    "If you want to use another backend by default, you can do so by importing {mod}`differt.plotting` and\n",
    "calling {func}`set_defaults<differt.plotting.set_defaults>` with the desired backend name."
   ]
  },
  {
   "cell_type": "code",
   "execution_count": null,
   "id": "11",
   "metadata": {
    "tags": []
   },
   "outputs": [],
   "source": [
    "import differt.plotting as dplt\n",
    "\n",
    "dplt.set_defaults(\"plotly\")\n",
    "\n",
    "fig = mesh.plot(opacity=0.5)\n",
    "fig.update_scenes(aspectmode=\"data\")"
   ]
  },
  {
   "cell_type": "markdown",
   "id": "12",
   "metadata": {},
   "source": [
    "(composing)=\n",
    "## Composing with multiple plot utilities\n",
    "\n",
    "Of course, using a single plot function is often not enough to reach the desired output.\n",
    "\n",
    "Each of the backends we support provides a way to easily reuse\n",
    "the previous *plot* to draw additional content on top,\n",
    "see {mod}`differt.plotting`'s documentation for more details.\n",
    "\n",
    "Below, we show how to add a 2D heatmap on the ground[^1] of our scene.\n",
    "\n",
    "[^1]: Actually, we elevated the image a bit with `z0=1.0` to avoid visual\n",
    "  glitches caused by the overlap of the image and the ground plane."
   ]
  },
  {
   "cell_type": "code",
   "execution_count": null,
   "id": "13",
   "metadata": {},
   "outputs": [],
   "source": [
    "import numpy as np\n",
    "\n",
    "vx = mesh.vertices[..., 0]\n",
    "vy = mesh.vertices[..., 1]\n",
    "x = np.linspace(np.min(vx), np.max(vx))\n",
    "y = np.linspace(np.min(vy), np.max(vy))\n",
    "X, Y = np.meshgrid(x, y)\n",
    "Z = np.sin(np.pi * X / 100) * np.cos(np.pi * Y / 100)\n",
    "\n",
    "dplt.draw_image(data=Z, x=x, y=y, z0=1.0, figure=fig)"
   ]
  }
 ],
 "metadata": {
  "kernelspec": {
   "display_name": "Python 3 (ipykernel)",
   "language": "python",
   "name": "python3"
  },
  "language_info": {
   "codemirror_mode": {
    "name": "ipython",
    "version": 3
   },
   "file_extension": ".py",
   "mimetype": "text/x-python",
   "name": "python",
   "nbconvert_exporter": "python",
   "pygments_lexer": "ipython3",
   "version": "3.11.8"
  }
 },
 "nbformat": 4,
 "nbformat_minor": 5
}
