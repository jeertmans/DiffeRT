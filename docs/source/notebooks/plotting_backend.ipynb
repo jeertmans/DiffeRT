{
 "cells": [
  {
   "cell_type": "markdown",
   "id": "450018ce-a5f7-4586-977a-71bfb73bae56",
   "metadata": {},
   "source": [
    "# Choosing your plotting backend\n",
    "\n",
    "DiffeRT supports various backends for plotting scenes and related-objects:\n",
    "\n",
    "- [VisPy](https://vispy.org/), a high-performance interactive visualization library that leverages the\n",
    "  power of modern GPUs through OpenGL. Installing VisPy on its own is not sufficient and you will need at least one\n",
    "  of the VisPy backends to be installed: https://vispy.org/installation.html.\n",
    "  If available, VisPy will be used by default as it provides the best user experience, especially on large scenes.\n",
    "- [Matplotlib](https://matplotlib.org/), a very user-friendly and popular tool for creating plots in Python.\n",
    "- [Plotly](https://plotly.com/python/), a Python library for building beautiful interactive plots for the web.\n",
    "\n",
    "Additionally, all those backends can be used within Jupyter notebooks.\n",
    "For VisPy, you will need [`jupyter_rfb`](https://github.com/vispy/jupyter_rfb) and a recent JupyterLab installation,\n",
    "that you can obtain with `pip install differt[jupyter]`."
   ]
  },
  {
   "cell_type": "code",
   "execution_count": null,
   "id": "5efae8bf-a35d-485a-9fa7-643efaf29d94",
   "metadata": {
    "tags": []
   },
   "outputs": [],
   "source": [
    "from pathlib import Path\n",
    "\n",
    "from differt.geometry import TriangleMesh\n",
    "\n",
    "mesh_file = Path(\"bruxelles.obj\")\n",
    "mesh = TriangleMesh.load_obj(mesh_file)"
   ]
  },
  {
   "cell_type": "markdown",
   "id": "f139173e-09de-4470-af71-a2edf41fad13",
   "metadata": {},
   "source": [
    "## VisPy"
   ]
  },
  {
   "cell_type": "code",
   "execution_count": 56,
   "id": "0c49fbe0-7721-49cb-9a4e-8ee0bd5e3b5b",
   "metadata": {
    "tags": []
   },
   "outputs": [
    {
     "data": {
      "application/vnd.jupyter.widget-view+json": {
       "model_id": "f31da0045f38447fa8f582775b035694",
       "version_major": 2,
       "version_minor": 0
      },
      "text/plain": [
       "RFBOutputContext()"
      ]
     },
     "metadata": {},
     "output_type": "display_data"
    },
    {
     "name": "stderr",
     "output_type": "stream",
     "text": [
      "WARNING: Although PyQt6 is already imported, the PyQt6 backend could not\n",
      "be used (\"No module named 'PyQt6'\"). \n",
      "Note that running multiple GUI toolkits simultaneously can cause side effects.\n"
     ]
    },
    {
     "name": "stdout",
     "output_type": "stream",
     "text": [
      "['_Frozen__isfrozen', '__class__', '__delattr__', '__dict__', '__dir__', '__doc__', '__eq__', '__format__', '__ge__', '__getattribute__', '__gt__', '__hash__', '__init__', '__init_subclass__', '__le__', '__lt__', '__module__', '__ne__', '__new__', '__reduce__', '__reduce_ex__', '__repr__', '__setattr__', '__sizeof__', '__str__', '__subclasshook__', '__weakref__', '_add_child', '_bgcolor', '_border_color', '_border_width', '_bounds_changed', '_canvas', '_children', '_clip_children', '_clipper', '_clippers', '_compute_bounds', '_describe_tree', '_document', '_document_node', '_face_colors', '_height_limits', '_id', '_interactive', '_margin', '_mesh', '_name', '_next_id', '_opacity', '_opacity_filter', '_order', '_padding', '_parent', '_picking', '_picking_filter', '_picking_mesh', '_pos_or_size_changed', '_prepare_draw', '_prepare_transforms', '_remove_child', '_scene_node', '_set_canvas', '_set_clipper', '_size', '_stretch', '_subv_update', '_subvisuals', '_transform', '_transform_changed', '_transforms', '_update_child_widgets', '_update_clipper', '_update_colors', '_update_layout', '_update_line', '_update_opacity', '_update_trsys', '_update_visibility', '_var_h', '_var_w', '_var_x', '_var_y', '_view_class', '_visible', '_visual_ids', '_visual_superclass', '_vshare', '_widgets', '_width_limits', 'add_grid', 'add_subvisual', 'add_view', 'add_widget', 'attach', 'bgcolor', 'border_color', 'bounds', 'canvas', 'children', 'clip_children', 'clipper', 'common_parent', 'describe_tree', 'detach', 'document', 'document_node', 'draw', 'events', 'freeze', 'get_transform', 'height', 'height_max', 'height_min', 'inner_rect', 'interactive', 'is_child', 'margin', 'name', 'node_path', 'node_path_to_child', 'node_path_transforms', 'node_transform', 'on_parent_change', 'opacity', 'order', 'padding', 'parent', 'parent_chain', 'picking', 'pop_gl_state', 'pos', 'push_gl_state', 'push_gl_state_update', 'rect', 'remove_subvisual', 'remove_widget', 'root_node', 'scene_node', 'set_gl_state', 'set_picking', 'set_transform', 'size', 'stretch', 'transform', 'transforms', 'unfreeze', 'update', 'update_gl_state', 'view', 'visible', 'width', 'width_max', 'width_min']\n",
      "<CompoundVisualView on <Widget at 0x7f974950fc40>>\n",
      "<CompoundVisualView on <Widget at 0x7f974950fc40>>\n"
     ]
    },
    {
     "data": {
      "application/vnd.jupyter.widget-view+json": {
       "model_id": "277ef953163f4feb9532c32fbcd27108",
       "version_major": 2,
       "version_minor": 0
      },
      "text/html": [
       "<div class='snapshot-277ef953163f4feb9532c32fbcd27108' style='position:relative;'><img src='data:image/png;base64,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' style='width:800.0px;height:600.0px;' /><div style='position: absolute; top:0; left:0; padding:1px 3px; background: #777; color:#fff; font-size: 90%; font-family:sans-serif; '>snapshot</div></div>"
      ],
      "text/plain": [
       "CanvasBackend(css_height='600px', css_width='800px')"
      ]
     },
     "execution_count": 56,
     "metadata": {},
     "output_type": "execute_result"
    }
   ],
   "source": [
    "import numpy as np\n",
    "from vispy import app, scene\n",
    "from vispy.scene.visuals import Mesh\n",
    "\n",
    "canvas = scene.SceneCanvas(keys=\"interactive\", bgcolor=\"white\")\n",
    "print(dir(canvas.central_widget))\n",
    "print(canvas.central_widget.view())\n",
    "view = canvas.central_widget.add_view()\n",
    "print(canvas.central_widget.view())\n",
    "\n",
    "view.add(Mesh(np.array(mesh.vertices), np.array(mesh.triangles), shading=\"flat\"))\n",
    "\n",
    "view.camera = \"arcball\"\n",
    "view.camera.depth_value = 1e3\n",
    "\n",
    "\n",
    "canvas"
   ]
  },
  {
   "cell_type": "code",
   "execution_count": null,
   "id": "952fcc15-e1d1-411c-a5e9-912fe1096c02",
   "metadata": {},
   "outputs": [],
   "source": []
  }
 ],
 "metadata": {
  "kernelspec": {
   "display_name": "DiffeRT",
   "language": "python",
   "name": "differt"
  },
  "language_info": {
   "codemirror_mode": {
    "name": "ipython",
    "version": 3
   },
   "file_extension": ".py",
   "mimetype": "text/x-python",
   "name": "python",
   "nbconvert_exporter": "python",
   "pygments_lexer": "ipython3",
   "version": "3.10.12"
  }
 },
 "nbformat": 4,
 "nbformat_minor": 5
}
