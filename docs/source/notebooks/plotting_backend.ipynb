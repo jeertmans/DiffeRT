{
 "cells": [
  {
   "cell_type": "markdown",
   "id": "450018ce-a5f7-4586-977a-71bfb73bae56",
   "metadata": {},
   "source": [
    "# Choosing your plotting backend\n",
    "\n",
    "DiffeRT supports various backends for plotting scenes and related-objects:\n",
    "\n",
    "- [VisPy](https://vispy.org/), a high-performance interactive visualization library that leverages the\n",
    "  power of modern GPUs through OpenGL. Installing VisPy on its own is not sufficient and you will need at least one\n",
    "  of the VisPy backends to be installed: https://vispy.org/installation.html.\n",
    "  If available, VisPy will be used by default as it provides the best user experience, especially on large scenes.\n",
    "- [Matplotlib](https://matplotlib.org/), a very user-friendly and popular tool for creating plots in Python.\n",
    "- [Plotly](https://plotly.com/python/), a Python library for building beautiful interactive plots for the web.\n",
    "\n",
    "Additionally, all those backends can be used within Jupyter notebooks.\n",
    "For VisPy, you will need [`jupyter_rfb`](https://github.com/vispy/jupyter_rfb) and a recent JupyterLab installation,\n",
    "that you can obtain with `pip install differt[jupyter]`."
   ]
  },
  {
   "cell_type": "code",
   "execution_count": null,
   "id": "5efae8bf-a35d-485a-9fa7-643efaf29d94",
   "metadata": {
    "tags": []
   },
   "outputs": [],
   "source": [
    "from pathlib import Path\n",
    "\n",
    "from differt.geometry import TriangleMesh\n",
    "\n",
    "mesh_file = Path(\"bruxelles.obj\")\n",
    "mesh = TriangleMesh.load_obj(mesh_file)"
   ]
  },
  {
   "cell_type": "markdown",
   "id": "f139173e-09de-4470-af71-a2edf41fad13",
   "metadata": {},
   "source": [
    "## VisPy"
   ]
  },
  {
   "cell_type": "code",
   "execution_count": null,
   "id": "0c49fbe0-7721-49cb-9a4e-8ee0bd5e3b5b",
   "metadata": {
    "tags": []
   },
   "outputs": [],
   "source": [
    "import numpy as np\n",
    "from vispy import app, scene\n",
    "from vispy.scene.visuals import Mesh\n",
    "\n",
    "canvas = scene.SceneCanvas(keys=\"interactive\", bgcolor=\"white\")\n",
    "view = canvas.central_widget.add_view()\n",
    "view.add(Mesh(np.array(mesh.vertices), np.array(mesh.triangles), shading=\"flat\"))\n",
    "\n",
    "view.camera = \"arcball\"\n",
    "view.camera.depth_value = 1e3\n",
    "\n",
    "canvas"
   ]
  }
 ],
 "metadata": {
  "kernelspec": {
   "display_name": "DiffeRT",
   "language": "python",
   "name": "differt"
  },
  "language_info": {
   "codemirror_mode": {
    "name": "ipython",
    "version": 3
   },
   "file_extension": ".py",
   "mimetype": "text/x-python",
   "name": "python",
   "nbconvert_exporter": "python",
   "pygments_lexer": "ipython3",
   "version": "3.10.12"
  }
 },
 "nbformat": 4,
 "nbformat_minor": 5
}
