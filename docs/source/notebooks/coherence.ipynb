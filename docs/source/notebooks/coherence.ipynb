{
 "cells": [
  {
   "cell_type": "code",
   "execution_count": null,
   "id": "e90f3c19",
   "metadata": {
    "tags": [
     "differt-install-preamble",
     "remove-cell",
     "skip-execution"
    ]
   },
   "outputs": [],
   "source": [
    "# Run this cell to install DiffeRT and its dependencies, e.g., on Google Colab\n",
    "\n",
    "try:\n",
    "    import differt  # noqa: F401\n",
    "except ImportError:\n",
    "    import sys  # noqa: F401\n",
    "\n",
    "    !{sys.executable} -m pip install differt[all]"
   ]
  },
  {
   "cell_type": "markdown",
   "id": "4e5044be-26d1-47a1-aea1-b7bf8928ca45",
   "metadata": {},
   "source": [
    "# Coherence Map"
   ]
  },
  {
   "cell_type": "code",
   "execution_count": 2,
   "id": "f05092ba-295c-425e-bf53-b6e92021ed82",
   "metadata": {},
   "outputs": [],
   "source": [
    "import equinox as eqx\n",
    "import jax.numpy as jnp\n",
    "\n",
    "from differt.geometry.utils import path_lengths\n",
    "from differt.plotting import draw_image\n",
    "from differt.scene.sionna import download_sionna_scenes, get_sionna_scene\n",
    "from differt.scene.triangle_scene import TriangleScene"
   ]
  },
  {
   "cell_type": "code",
   "execution_count": 3,
   "id": "064ecfdb-3097-4b90-944a-326ca52c96e6",
   "metadata": {},
   "outputs": [],
   "source": [
    "download_sionna_scenes()  # Let's download Sionna scenes (from the main branch)"
   ]
  },
  {
   "cell_type": "code",
   "execution_count": 9,
   "id": "ebf1de25-6000-497a-a35f-94b5a06db9dd",
   "metadata": {},
   "outputs": [
    {
     "data": {
      "application/vnd.jupyter.widget-view+json": {
       "model_id": "c2d95587ede443859580da008a20ed53",
       "version_major": 2,
       "version_minor": 0
      },
      "text/plain": [
       "RFBOutputContext()"
      ]
     },
     "metadata": {},
     "output_type": "display_data"
    },
    {
     "name": "stdout",
     "output_type": "stream",
     "text": [
      "full_paths.shape = (1, 10000, 5402, 4, 3)\n",
      "path_candidates.shape = (1, 10000, 5402, 2)\n",
      "objects.shape = (1, 10000, 5402, 4)\n"
     ]
    },
    {
     "data": {
      "application/vnd.jupyter.widget-view+json": {
       "model_id": "2194f4041e98494683516392737ff730",
       "version_major": 2,
       "version_minor": 0
      },
      "text/html": [
       "<div class='snapshot-2194f4041e98494683516392737ff730' style='position:relative;'><img src='data:image/png;base64,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' style='width:800.0px;height:600.0px;' /><div style='position: absolute; top:0; left:0; padding:1px 3px; background: #777; color:#fff; font-size: 90%; font-family:sans-serif; '>snapshot</div></div>"
      ],
      "text/plain": [
       "CanvasBackend(css_height='600px', css_width='800px')"
      ]
     },
     "execution_count": 9,
     "metadata": {},
     "output_type": "execute_result"
    }
   ],
   "source": [
    "file = get_sionna_scene(\"simple_street_canyon\")\n",
    "scene = TriangleScene.load_xml(file)\n",
    "\n",
    "scene = eqx.tree_at(lambda s: s.transmitters, scene, jnp.array([-33, 0, 32.0]))\n",
    "\n",
    "(min_x, min_y, _), (max_x, max_y, _) = scene.mesh.bounding_box\n",
    "x = jnp.linspace(min_x, max_x, 50)\n",
    "y = jnp.linspace(min_y, max_y, 50)\n",
    "x, y = jnp.meshgrid(x, y)\n",
    "z0 = 1.5\n",
    "z = jnp.full_like(x, z0)\n",
    "rx_grid = jnp.stack((x, y, z), axis=-1)\n",
    "canvas = scene.plot()\n",
    "scene = eqx.tree_at(lambda s: s.receivers, scene, rx_grid)\n",
    "paths = scene.compute_paths(order=2)\n",
    "power = (paths.mask / path_lengths(paths.vertices) ** 2).sum(axis=-1)\n",
    "draw_image(power, x=x, y=y, z0=z0, canvas=canvas)"
   ]
  },
  {
   "cell_type": "code",
   "execution_count": 8,
   "id": "f433371d-48c7-474f-92dc-2c97b534414a",
   "metadata": {},
   "outputs": [
    {
     "data": {
      "text/plain": [
       "Array([[[0, 0, 0, ..., 0, 0, 0],\n",
       "        [0, 0, 0, ..., 0, 0, 0],\n",
       "        [0, 0, 0, ..., 0, 0, 0],\n",
       "        ...,\n",
       "        [0, 0, 0, ..., 0, 0, 0],\n",
       "        [0, 0, 0, ..., 0, 0, 0],\n",
       "        [0, 0, 0, ..., 0, 0, 0]],\n",
       "\n",
       "       [[0, 0, 0, ..., 0, 0, 0],\n",
       "        [0, 0, 0, ..., 0, 0, 0],\n",
       "        [0, 0, 0, ..., 0, 0, 0],\n",
       "        ...,\n",
       "        [0, 0, 0, ..., 0, 0, 0],\n",
       "        [0, 0, 0, ..., 0, 0, 0],\n",
       "        [0, 0, 0, ..., 0, 0, 0]],\n",
       "\n",
       "       [[0, 0, 0, ..., 0, 0, 0],\n",
       "        [0, 0, 0, ..., 0, 0, 0],\n",
       "        [0, 0, 0, ..., 0, 0, 0],\n",
       "        ...,\n",
       "        [0, 0, 0, ..., 0, 0, 0],\n",
       "        [0, 0, 0, ..., 0, 0, 0],\n",
       "        [0, 0, 0, ..., 0, 0, 0]],\n",
       "\n",
       "       ...,\n",
       "\n",
       "       [[0, 0, 0, ..., 0, 0, 0],\n",
       "        [0, 0, 0, ..., 0, 0, 0],\n",
       "        [0, 0, 0, ..., 0, 0, 0],\n",
       "        ...,\n",
       "        [0, 0, 0, ..., 0, 0, 0],\n",
       "        [0, 0, 0, ..., 0, 0, 0],\n",
       "        [0, 0, 0, ..., 0, 0, 0]],\n",
       "\n",
       "       [[0, 0, 0, ..., 0, 0, 0],\n",
       "        [0, 0, 0, ..., 0, 0, 0],\n",
       "        [0, 0, 0, ..., 0, 0, 0],\n",
       "        ...,\n",
       "        [0, 0, 0, ..., 0, 0, 0],\n",
       "        [0, 0, 0, ..., 0, 0, 0],\n",
       "        [0, 0, 0, ..., 0, 0, 0]],\n",
       "\n",
       "       [[0, 0, 0, ..., 0, 0, 0],\n",
       "        [0, 0, 0, ..., 0, 0, 0],\n",
       "        [0, 0, 0, ..., 0, 0, 0],\n",
       "        ...,\n",
       "        [0, 0, 0, ..., 0, 0, 0],\n",
       "        [0, 0, 0, ..., 0, 0, 0],\n",
       "        [0, 0, 0, ..., 0, 0, 0]]], dtype=int32)"
      ]
     },
     "execution_count": 8,
     "metadata": {},
     "output_type": "execute_result"
    }
   ],
   "source": [
    "paths.group_by_objects()"
   ]
  },
  {
   "cell_type": "code",
   "execution_count": null,
   "id": "daba11fa-7251-46e1-9f97-cab7b2a1ff5a",
   "metadata": {},
   "outputs": [],
   "source": []
  }
 ],
 "metadata": {
  "kernelspec": {
   "display_name": "Python 3 (ipykernel)",
   "language": "python",
   "name": "python3"
  },
  "language_info": {
   "codemirror_mode": {
    "name": "ipython",
    "version": 3
   },
   "file_extension": ".py",
   "mimetype": "text/x-python",
   "name": "python",
   "nbconvert_exporter": "python",
   "pygments_lexer": "ipython3",
   "version": "3.11.8"
  }
 },
 "nbformat": 4,
 "nbformat_minor": 5
}
