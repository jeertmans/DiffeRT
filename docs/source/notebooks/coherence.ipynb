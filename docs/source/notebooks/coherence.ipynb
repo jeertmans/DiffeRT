{
 "cells": [
  {
   "cell_type": "code",
   "execution_count": null,
   "id": "0",
   "metadata": {
    "tags": [
     "differt-install-preamble",
     "remove-cell",
     "skip-execution"
    ]
   },
   "outputs": [],
   "source": [
    "# Run this cell to install DiffeRT and its dependencies, e.g., on Google Colab\n",
    "\n",
    "try:\n",
    "    import differt  # noqa: F401\n",
    "except ImportError:\n",
    "    import sys  # noqa: F401\n",
    "\n",
    "    !{sys.executable} -m pip install differt[all]"
   ]
  },
  {
   "cell_type": "markdown",
   "id": "1",
   "metadata": {},
   "source": [
    "# Coherent vs. Non-Coherent Radio Wave Propagation\n",
    "\n",
    "In the modeling of electromagnetic wave propagation—particularly in ray-based methods—a critical distinction must be made between **coherent** and **non-coherent** propagation models. This section outlines the theoretical and practical implications of each approach, providing guidance for their appropriate use and referencing relevant scientific literature.\n",
    "\n",
    "## Coherent Propagation\n",
    "\n",
    "**Coherent propagation** refers to modeling techniques that preserve the **phase** of the electromagnetic fields. In such models, the total received signal is calculated as the **vector sum** of the complex amplitudes of all contributing multipath components. This approach captures both **constructive and destructive interference**, enabling the accurate representation of small-scale fading and phase-dependent phenomena such as beamforming.\n",
    "\n",
    "Mathematically, the received power $P$ in a coherent model is often expressed as:\n",
    "\n",
    "$$\n",
    "P = A_e \\left\\|\\boldsymbol{S}\\right\\| = A_e \\left\\| \\frac{1}{\\mu_0} \\left(\\sum\\limits_{i} \\boldsymbol{E}_i\\right) \\times \\left(\\sum\\limits_{i} \\boldsymbol{B}_i\\right) \\right\\|,\n",
    "$$\n",
    "\n",
    "where $A_e$ is the effective antenna aperture, $\\boldsymbol{S}$ is the Poynting vector, $\\mu_0$ is the vacuum permeability, and $\\boldsymbol{E}_i$ and $\\boldsymbol{B}_i$ denote the electric and magnetic fields of the $i$-th propagation path, respectively.\n",
    "\n",
    "Since the phase of both fields varies very rapidly—at the scale of the wavelength—and the geometric accuracy of most modeled scenes (especially in urban environments) is limited, accounting for the actual field phase can become counterproductive. It may introduce interference patterns that would not realistically occur due to measurement noise or geometric uncertainty. Moreover, simulating the exact $\\boldsymbol{E}$ and $\\boldsymbol{B}$ fields can be complex, particularly when including polarization effects, as antennas are often modeled using only a radiation pattern and polarization vector. For these reasons, among others, a non-coherent approach is often preferred.\n",
    "\n",
    "## Non-Coherent Propagation\n",
    "\n",
    "In contrast, **non-coherent** propagation models assume that the phase of individual multipath components is either unknown, random, or irrelevant. Consequently, the received signal is computed as a **power sum** rather than a complex vector sum. This approach significantly reduces computational complexity and avoids the numerical sensitivity associated with fine-scale geometric or frequency variations.\n",
    "\n",
    "The total received power $P$ is typically given by:\n",
    "\n",
    "$$\n",
    "P = \\sum\\limits_{i} P_i = \\sum\\limits_{i} A_e \\left\\|\\boldsymbol{S}_i\\right\\| = \\sum\\limits_{i} A_e \\left\\| \\frac{1}{\\mu_0} \\boldsymbol{E}_i \\times \\boldsymbol{B}_i \\right\\|,\n",
    "$$\n",
    "\n",
    "where $P_i$ represents the power from the $i$-th ray, computed independently of phase.\n",
    "\n",
    "## Comparing the Two Approaches\n",
    "\n",
    "Below, we compare the **coherent** and **non-coherent** methods by generating a coverage map of the received power in a very simple scene.\n",
    "\n",
    "First, we need to import a few packages, but the cell is hidden by default to increase readability."
   ]
  },
  {
   "cell_type": "code",
   "execution_count": null,
   "id": "2",
   "metadata": {},
   "outputs": [],
   "source": [
    "import jax.numpy as jnp\n",
    "from plotly.subplots import make_subplots\n",
    "\n",
    "from differt.em import (\n",
    "    Dipole,\n",
    "    materials,\n",
    "    pointing_vector,\n",
    "    reflection_coefficients,\n",
    "    sp_directions,\n",
    ")\n",
    "from differt.geometry import (\n",
    "    TriangleMesh,\n",
    "    normalize,\n",
    ")\n",
    "from differt.plotting import draw_image, reuse, set_defaults\n",
    "from differt.scene import (\n",
    "    TriangleScene,\n",
    ")\n",
    "from differt.utils import dot"
   ]
  },
  {
   "cell_type": "markdown",
   "id": "3",
   "metadata": {},
   "source": [
    "In this example, we limit ourselves to a very basic scene: a transmitter in a square room made of concrete, with no ceiling, and cubic metal reflector is placed in the middle to create more reflections."
   ]
  },
  {
   "cell_type": "code",
   "execution_count": null,
   "id": "4",
   "metadata": {},
   "outputs": [
    {
     "data": {
      "application/vnd.plotly.v1+json": {
       "config": {
        "plotlyServerURL": "https://plot.ly"
       },
       "data": [
        {
         "mode": "markers+text",
         "text": "tx",
         "type": "scatter3d",
         "x": [
          1
         ],
         "y": [
          0
         ],
         "z": [
          1.5
         ]
        },
        {
         "facecolor": [
          [
           0.8199999928474426,
           0.7099999785423279,
           0.7099999785423279
          ],
          [
           0.8199999928474426,
           0.7099999785423279,
           0.7099999785423279
          ],
          [
           0.8199999928474426,
           0.7099999785423279,
           0.7099999785423279
          ],
          [
           0.8199999928474426,
           0.7099999785423279,
           0.7099999785423279
          ],
          [
           0.8199999928474426,
           0.7099999785423279,
           0.7099999785423279
          ],
          [
           0.8199999928474426,
           0.7099999785423279,
           0.7099999785423279
          ],
          [
           0.8199999928474426,
           0.7099999785423279,
           0.7099999785423279
          ],
          [
           0.8199999928474426,
           0.7099999785423279,
           0.7099999785423279
          ],
          [
           0.8199999928474426,
           0.7099999785423279,
           0.7099999785423279
          ],
          [
           0.8199999928474426,
           0.7099999785423279,
           0.7099999785423279
          ],
          [
           0.5699999928474426,
           0.5699999928474426,
           0.5699999928474426
          ],
          [
           0.5699999928474426,
           0.5699999928474426,
           0.5699999928474426
          ],
          [
           0.5699999928474426,
           0.5699999928474426,
           0.5699999928474426
          ],
          [
           0.5699999928474426,
           0.5699999928474426,
           0.5699999928474426
          ],
          [
           0.5699999928474426,
           0.5699999928474426,
           0.5699999928474426
          ],
          [
           0.5699999928474426,
           0.5699999928474426,
           0.5699999928474426
          ],
          [
           0.5699999928474426,
           0.5699999928474426,
           0.5699999928474426
          ],
          [
           0.5699999928474426,
           0.5699999928474426,
           0.5699999928474426
          ],
          [
           0.5699999928474426,
           0.5699999928474426,
           0.5699999928474426
          ],
          [
           0.5699999928474426,
           0.5699999928474426,
           0.5699999928474426
          ],
          [
           0.5699999928474426,
           0.5699999928474426,
           0.5699999928474426
          ],
          [
           0.5699999928474426,
           0.5699999928474426,
           0.5699999928474426
          ]
         ],
         "i": [
          0,
          0,
          3,
          3,
          5,
          5,
          7,
          7,
          1,
          1,
          8,
          8,
          11,
          11,
          13,
          13,
          15,
          15,
          9,
          9,
          8,
          8
         ],
         "j": [
          1,
          2,
          2,
          4,
          4,
          6,
          6,
          1,
          4,
          6,
          9,
          10,
          10,
          12,
          12,
          14,
          14,
          9,
          12,
          14,
          11,
          13
         ],
         "k": [
          2,
          3,
          4,
          5,
          6,
          7,
          1,
          0,
          2,
          4,
          10,
          11,
          12,
          13,
          14,
          15,
          9,
          8,
          10,
          12,
          13,
          15
         ],
         "type": "mesh3d",
         "x": [
          2,
          2,
          -2,
          -2,
          -2,
          -2,
          2,
          2,
          0.25,
          0.25,
          -0.25,
          -0.25,
          -0.25,
          -0.25,
          0.25,
          0.25
         ],
         "y": [
          2,
          2,
          2,
          2,
          -2,
          -2,
          -2,
          -2,
          0.25,
          0.25,
          0.25,
          0.25,
          -0.25,
          -0.25,
          -0.25,
          -0.25
         ],
         "z": [
          2,
          0,
          0,
          2,
          0,
          2,
          0,
          2,
          1.75,
          1.25,
          1.25,
          1.75,
          1.25,
          1.75,
          1.25,
          1.75
         ]
        }
       ],
       "layout": {
        "template": {
         "data": {
          "bar": [
           {
            "error_x": {
             "color": "#2a3f5f"
            },
            "error_y": {
             "color": "#2a3f5f"
            },
            "marker": {
             "line": {
              "color": "#E5ECF6",
              "width": 0.5
             },
             "pattern": {
              "fillmode": "overlay",
              "size": 10,
              "solidity": 0.2
             }
            },
            "type": "bar"
           }
          ],
          "barpolar": [
           {
            "marker": {
             "line": {
              "color": "#E5ECF6",
              "width": 0.5
             },
             "pattern": {
              "fillmode": "overlay",
              "size": 10,
              "solidity": 0.2
             }
            },
            "type": "barpolar"
           }
          ],
          "carpet": [
           {
            "aaxis": {
             "endlinecolor": "#2a3f5f",
             "gridcolor": "white",
             "linecolor": "white",
             "minorgridcolor": "white",
             "startlinecolor": "#2a3f5f"
            },
            "baxis": {
             "endlinecolor": "#2a3f5f",
             "gridcolor": "white",
             "linecolor": "white",
             "minorgridcolor": "white",
             "startlinecolor": "#2a3f5f"
            },
            "type": "carpet"
           }
          ],
          "choropleth": [
           {
            "colorbar": {
             "outlinewidth": 0,
             "ticks": ""
            },
            "type": "choropleth"
           }
          ],
          "contour": [
           {
            "colorbar": {
             "outlinewidth": 0,
             "ticks": ""
            },
            "colorscale": [
             [
              0,
              "#0d0887"
             ],
             [
              0.1111111111111111,
              "#46039f"
             ],
             [
              0.2222222222222222,
              "#7201a8"
             ],
             [
              0.3333333333333333,
              "#9c179e"
             ],
             [
              0.4444444444444444,
              "#bd3786"
             ],
             [
              0.5555555555555556,
              "#d8576b"
             ],
             [
              0.6666666666666666,
              "#ed7953"
             ],
             [
              0.7777777777777778,
              "#fb9f3a"
             ],
             [
              0.8888888888888888,
              "#fdca26"
             ],
             [
              1,
              "#f0f921"
             ]
            ],
            "type": "contour"
           }
          ],
          "contourcarpet": [
           {
            "colorbar": {
             "outlinewidth": 0,
             "ticks": ""
            },
            "type": "contourcarpet"
           }
          ],
          "heatmap": [
           {
            "colorbar": {
             "outlinewidth": 0,
             "ticks": ""
            },
            "colorscale": [
             [
              0,
              "#0d0887"
             ],
             [
              0.1111111111111111,
              "#46039f"
             ],
             [
              0.2222222222222222,
              "#7201a8"
             ],
             [
              0.3333333333333333,
              "#9c179e"
             ],
             [
              0.4444444444444444,
              "#bd3786"
             ],
             [
              0.5555555555555556,
              "#d8576b"
             ],
             [
              0.6666666666666666,
              "#ed7953"
             ],
             [
              0.7777777777777778,
              "#fb9f3a"
             ],
             [
              0.8888888888888888,
              "#fdca26"
             ],
             [
              1,
              "#f0f921"
             ]
            ],
            "type": "heatmap"
           }
          ],
          "heatmapgl": [
           {
            "colorbar": {
             "outlinewidth": 0,
             "ticks": ""
            },
            "colorscale": [
             [
              0,
              "#0d0887"
             ],
             [
              0.1111111111111111,
              "#46039f"
             ],
             [
              0.2222222222222222,
              "#7201a8"
             ],
             [
              0.3333333333333333,
              "#9c179e"
             ],
             [
              0.4444444444444444,
              "#bd3786"
             ],
             [
              0.5555555555555556,
              "#d8576b"
             ],
             [
              0.6666666666666666,
              "#ed7953"
             ],
             [
              0.7777777777777778,
              "#fb9f3a"
             ],
             [
              0.8888888888888888,
              "#fdca26"
             ],
             [
              1,
              "#f0f921"
             ]
            ],
            "type": "heatmapgl"
           }
          ],
          "histogram": [
           {
            "marker": {
             "pattern": {
              "fillmode": "overlay",
              "size": 10,
              "solidity": 0.2
             }
            },
            "type": "histogram"
           }
          ],
          "histogram2d": [
           {
            "colorbar": {
             "outlinewidth": 0,
             "ticks": ""
            },
            "colorscale": [
             [
              0,
              "#0d0887"
             ],
             [
              0.1111111111111111,
              "#46039f"
             ],
             [
              0.2222222222222222,
              "#7201a8"
             ],
             [
              0.3333333333333333,
              "#9c179e"
             ],
             [
              0.4444444444444444,
              "#bd3786"
             ],
             [
              0.5555555555555556,
              "#d8576b"
             ],
             [
              0.6666666666666666,
              "#ed7953"
             ],
             [
              0.7777777777777778,
              "#fb9f3a"
             ],
             [
              0.8888888888888888,
              "#fdca26"
             ],
             [
              1,
              "#f0f921"
             ]
            ],
            "type": "histogram2d"
           }
          ],
          "histogram2dcontour": [
           {
            "colorbar": {
             "outlinewidth": 0,
             "ticks": ""
            },
            "colorscale": [
             [
              0,
              "#0d0887"
             ],
             [
              0.1111111111111111,
              "#46039f"
             ],
             [
              0.2222222222222222,
              "#7201a8"
             ],
             [
              0.3333333333333333,
              "#9c179e"
             ],
             [
              0.4444444444444444,
              "#bd3786"
             ],
             [
              0.5555555555555556,
              "#d8576b"
             ],
             [
              0.6666666666666666,
              "#ed7953"
             ],
             [
              0.7777777777777778,
              "#fb9f3a"
             ],
             [
              0.8888888888888888,
              "#fdca26"
             ],
             [
              1,
              "#f0f921"
             ]
            ],
            "type": "histogram2dcontour"
           }
          ],
          "mesh3d": [
           {
            "colorbar": {
             "outlinewidth": 0,
             "ticks": ""
            },
            "type": "mesh3d"
           }
          ],
          "parcoords": [
           {
            "line": {
             "colorbar": {
              "outlinewidth": 0,
              "ticks": ""
             }
            },
            "type": "parcoords"
           }
          ],
          "pie": [
           {
            "automargin": true,
            "type": "pie"
           }
          ],
          "scatter": [
           {
            "fillpattern": {
             "fillmode": "overlay",
             "size": 10,
             "solidity": 0.2
            },
            "type": "scatter"
           }
          ],
          "scatter3d": [
           {
            "line": {
             "colorbar": {
              "outlinewidth": 0,
              "ticks": ""
             }
            },
            "marker": {
             "colorbar": {
              "outlinewidth": 0,
              "ticks": ""
             }
            },
            "type": "scatter3d"
           }
          ],
          "scattercarpet": [
           {
            "marker": {
             "colorbar": {
              "outlinewidth": 0,
              "ticks": ""
             }
            },
            "type": "scattercarpet"
           }
          ],
          "scattergeo": [
           {
            "marker": {
             "colorbar": {
              "outlinewidth": 0,
              "ticks": ""
             }
            },
            "type": "scattergeo"
           }
          ],
          "scattergl": [
           {
            "marker": {
             "colorbar": {
              "outlinewidth": 0,
              "ticks": ""
             }
            },
            "type": "scattergl"
           }
          ],
          "scattermapbox": [
           {
            "marker": {
             "colorbar": {
              "outlinewidth": 0,
              "ticks": ""
             }
            },
            "type": "scattermapbox"
           }
          ],
          "scatterpolar": [
           {
            "marker": {
             "colorbar": {
              "outlinewidth": 0,
              "ticks": ""
             }
            },
            "type": "scatterpolar"
           }
          ],
          "scatterpolargl": [
           {
            "marker": {
             "colorbar": {
              "outlinewidth": 0,
              "ticks": ""
             }
            },
            "type": "scatterpolargl"
           }
          ],
          "scatterternary": [
           {
            "marker": {
             "colorbar": {
              "outlinewidth": 0,
              "ticks": ""
             }
            },
            "type": "scatterternary"
           }
          ],
          "surface": [
           {
            "colorbar": {
             "outlinewidth": 0,
             "ticks": ""
            },
            "colorscale": [
             [
              0,
              "#0d0887"
             ],
             [
              0.1111111111111111,
              "#46039f"
             ],
             [
              0.2222222222222222,
              "#7201a8"
             ],
             [
              0.3333333333333333,
              "#9c179e"
             ],
             [
              0.4444444444444444,
              "#bd3786"
             ],
             [
              0.5555555555555556,
              "#d8576b"
             ],
             [
              0.6666666666666666,
              "#ed7953"
             ],
             [
              0.7777777777777778,
              "#fb9f3a"
             ],
             [
              0.8888888888888888,
              "#fdca26"
             ],
             [
              1,
              "#f0f921"
             ]
            ],
            "type": "surface"
           }
          ],
          "table": [
           {
            "cells": {
             "fill": {
              "color": "#EBF0F8"
             },
             "line": {
              "color": "white"
             }
            },
            "header": {
             "fill": {
              "color": "#C8D4E3"
             },
             "line": {
              "color": "white"
             }
            },
            "type": "table"
           }
          ]
         },
         "layout": {
          "annotationdefaults": {
           "arrowcolor": "#2a3f5f",
           "arrowhead": 0,
           "arrowwidth": 1
          },
          "autotypenumbers": "strict",
          "coloraxis": {
           "colorbar": {
            "outlinewidth": 0,
            "ticks": ""
           }
          },
          "colorscale": {
           "diverging": [
            [
             0,
             "#8e0152"
            ],
            [
             0.1,
             "#c51b7d"
            ],
            [
             0.2,
             "#de77ae"
            ],
            [
             0.3,
             "#f1b6da"
            ],
            [
             0.4,
             "#fde0ef"
            ],
            [
             0.5,
             "#f7f7f7"
            ],
            [
             0.6,
             "#e6f5d0"
            ],
            [
             0.7,
             "#b8e186"
            ],
            [
             0.8,
             "#7fbc41"
            ],
            [
             0.9,
             "#4d9221"
            ],
            [
             1,
             "#276419"
            ]
           ],
           "sequential": [
            [
             0,
             "#0d0887"
            ],
            [
             0.1111111111111111,
             "#46039f"
            ],
            [
             0.2222222222222222,
             "#7201a8"
            ],
            [
             0.3333333333333333,
             "#9c179e"
            ],
            [
             0.4444444444444444,
             "#bd3786"
            ],
            [
             0.5555555555555556,
             "#d8576b"
            ],
            [
             0.6666666666666666,
             "#ed7953"
            ],
            [
             0.7777777777777778,
             "#fb9f3a"
            ],
            [
             0.8888888888888888,
             "#fdca26"
            ],
            [
             1,
             "#f0f921"
            ]
           ],
           "sequentialminus": [
            [
             0,
             "#0d0887"
            ],
            [
             0.1111111111111111,
             "#46039f"
            ],
            [
             0.2222222222222222,
             "#7201a8"
            ],
            [
             0.3333333333333333,
             "#9c179e"
            ],
            [
             0.4444444444444444,
             "#bd3786"
            ],
            [
             0.5555555555555556,
             "#d8576b"
            ],
            [
             0.6666666666666666,
             "#ed7953"
            ],
            [
             0.7777777777777778,
             "#fb9f3a"
            ],
            [
             0.8888888888888888,
             "#fdca26"
            ],
            [
             1,
             "#f0f921"
            ]
           ]
          },
          "colorway": [
           "#636efa",
           "#EF553B",
           "#00cc96",
           "#ab63fa",
           "#FFA15A",
           "#19d3f3",
           "#FF6692",
           "#B6E880",
           "#FF97FF",
           "#FECB52"
          ],
          "font": {
           "color": "#2a3f5f"
          },
          "geo": {
           "bgcolor": "white",
           "lakecolor": "white",
           "landcolor": "#E5ECF6",
           "showlakes": true,
           "showland": true,
           "subunitcolor": "white"
          },
          "hoverlabel": {
           "align": "left"
          },
          "hovermode": "closest",
          "mapbox": {
           "style": "light"
          },
          "paper_bgcolor": "white",
          "plot_bgcolor": "#E5ECF6",
          "polar": {
           "angularaxis": {
            "gridcolor": "white",
            "linecolor": "white",
            "ticks": ""
           },
           "bgcolor": "#E5ECF6",
           "radialaxis": {
            "gridcolor": "white",
            "linecolor": "white",
            "ticks": ""
           }
          },
          "scene": {
           "xaxis": {
            "backgroundcolor": "#E5ECF6",
            "gridcolor": "white",
            "gridwidth": 2,
            "linecolor": "white",
            "showbackground": true,
            "ticks": "",
            "zerolinecolor": "white"
           },
           "yaxis": {
            "backgroundcolor": "#E5ECF6",
            "gridcolor": "white",
            "gridwidth": 2,
            "linecolor": "white",
            "showbackground": true,
            "ticks": "",
            "zerolinecolor": "white"
           },
           "zaxis": {
            "backgroundcolor": "#E5ECF6",
            "gridcolor": "white",
            "gridwidth": 2,
            "linecolor": "white",
            "showbackground": true,
            "ticks": "",
            "zerolinecolor": "white"
           }
          },
          "shapedefaults": {
           "line": {
            "color": "#2a3f5f"
           }
          },
          "ternary": {
           "aaxis": {
            "gridcolor": "white",
            "linecolor": "white",
            "ticks": ""
           },
           "baxis": {
            "gridcolor": "white",
            "linecolor": "white",
            "ticks": ""
           },
           "bgcolor": "#E5ECF6",
           "caxis": {
            "gridcolor": "white",
            "linecolor": "white",
            "ticks": ""
           }
          },
          "title": {
           "x": 0.05
          },
          "xaxis": {
           "automargin": true,
           "gridcolor": "white",
           "linecolor": "white",
           "ticks": "",
           "title": {
            "standoff": 15
           },
           "zerolinecolor": "white",
           "zerolinewidth": 2
          },
          "yaxis": {
           "automargin": true,
           "gridcolor": "white",
           "linecolor": "white",
           "ticks": "",
           "title": {
            "standoff": 15
           },
           "zerolinecolor": "white",
           "zerolinewidth": 2
          }
         }
        }
       }
      },
      "image/png": "[encoded data removed]",
      "text/html": [
       "<div>                            <div id=\"43032832-6ed2-406e-9415-31e62fb1a201\" class=\"plotly-graph-div\" style=\"height:525px; width:100%;\"></div>            <script type=\"text/javascript\">                require([\"plotly\"], function(Plotly) {                    window.PLOTLYENV=window.PLOTLYENV || {};                                    if (document.getElementById(\"43032832-6ed2-406e-9415-31e62fb1a201\")) {                    Plotly.newPlot(                        \"43032832-6ed2-406e-9415-31e62fb1a201\",                        [{\"mode\":\"markers+text\",\"text\":\"tx\",\"x\":[1.0],\"y\":[0.0],\"z\":[1.5],\"type\":\"scatter3d\"},{\"facecolor\":[[0.8199999928474426,0.7099999785423279,0.7099999785423279],[0.8199999928474426,0.7099999785423279,0.7099999785423279],[0.8199999928474426,0.7099999785423279,0.7099999785423279],[0.8199999928474426,0.7099999785423279,0.7099999785423279],[0.8199999928474426,0.7099999785423279,0.7099999785423279],[0.8199999928474426,0.7099999785423279,0.7099999785423279],[0.8199999928474426,0.7099999785423279,0.7099999785423279],[0.8199999928474426,0.7099999785423279,0.7099999785423279],[0.8199999928474426,0.7099999785423279,0.7099999785423279],[0.8199999928474426,0.7099999785423279,0.7099999785423279],[0.5699999928474426,0.5699999928474426,0.5699999928474426],[0.5699999928474426,0.5699999928474426,0.5699999928474426],[0.5699999928474426,0.5699999928474426,0.5699999928474426],[0.5699999928474426,0.5699999928474426,0.5699999928474426],[0.5699999928474426,0.5699999928474426,0.5699999928474426],[0.5699999928474426,0.5699999928474426,0.5699999928474426],[0.5699999928474426,0.5699999928474426,0.5699999928474426],[0.5699999928474426,0.5699999928474426,0.5699999928474426],[0.5699999928474426,0.5699999928474426,0.5699999928474426],[0.5699999928474426,0.5699999928474426,0.5699999928474426],[0.5699999928474426,0.5699999928474426,0.5699999928474426],[0.5699999928474426,0.5699999928474426,0.5699999928474426]],\"i\":[0,0,3,3,5,5,7,7,1,1,8,8,11,11,13,13,15,15,9,9,8,8],\"j\":[1,2,2,4,4,6,6,1,4,6,9,10,10,12,12,14,14,9,12,14,11,13],\"k\":[2,3,4,5,6,7,1,0,2,4,10,11,12,13,14,15,9,8,10,12,13,15],\"x\":[2.0,2.0,-2.0,-2.0,-2.0,-2.0,2.0,2.0,0.25,0.25,-0.25,-0.25,-0.25,-0.25,0.25,0.25],\"y\":[2.0,2.0,2.0,2.0,-2.0,-2.0,-2.0,-2.0,0.25,0.25,0.25,0.25,-0.25,-0.25,-0.25,-0.25],\"z\":[2.0,0.0,0.0,2.0,0.0,2.0,0.0,2.0,1.75,1.25,1.25,1.75,1.25,1.75,1.25,1.75],\"type\":\"mesh3d\"}],                        {\"template\":{\"data\":{\"histogram2dcontour\":[{\"type\":\"histogram2dcontour\",\"colorbar\":{\"outlinewidth\":0,\"ticks\":\"\"},\"colorscale\":[[0.0,\"#0d0887\"],[0.1111111111111111,\"#46039f\"],[0.2222222222222222,\"#7201a8\"],[0.3333333333333333,\"#9c179e\"],[0.4444444444444444,\"#bd3786\"],[0.5555555555555556,\"#d8576b\"],[0.6666666666666666,\"#ed7953\"],[0.7777777777777778,\"#fb9f3a\"],[0.8888888888888888,\"#fdca26\"],[1.0,\"#f0f921\"]]}],\"choropleth\":[{\"type\":\"choropleth\",\"colorbar\":{\"outlinewidth\":0,\"ticks\":\"\"}}],\"histogram2d\":[{\"type\":\"histogram2d\",\"colorbar\":{\"outlinewidth\":0,\"ticks\":\"\"},\"colorscale\":[[0.0,\"#0d0887\"],[0.1111111111111111,\"#46039f\"],[0.2222222222222222,\"#7201a8\"],[0.3333333333333333,\"#9c179e\"],[0.4444444444444444,\"#bd3786\"],[0.5555555555555556,\"#d8576b\"],[0.6666666666666666,\"#ed7953\"],[0.7777777777777778,\"#fb9f3a\"],[0.8888888888888888,\"#fdca26\"],[1.0,\"#f0f921\"]]}],\"heatmap\":[{\"type\":\"heatmap\",\"colorbar\":{\"outlinewidth\":0,\"ticks\":\"\"},\"colorscale\":[[0.0,\"#0d0887\"],[0.1111111111111111,\"#46039f\"],[0.2222222222222222,\"#7201a8\"],[0.3333333333333333,\"#9c179e\"],[0.4444444444444444,\"#bd3786\"],[0.5555555555555556,\"#d8576b\"],[0.6666666666666666,\"#ed7953\"],[0.7777777777777778,\"#fb9f3a\"],[0.8888888888888888,\"#fdca26\"],[1.0,\"#f0f921\"]]}],\"heatmapgl\":[{\"type\":\"heatmapgl\",\"colorbar\":{\"outlinewidth\":0,\"ticks\":\"\"},\"colorscale\":[[0.0,\"#0d0887\"],[0.1111111111111111,\"#46039f\"],[0.2222222222222222,\"#7201a8\"],[0.3333333333333333,\"#9c179e\"],[0.4444444444444444,\"#bd3786\"],[0.5555555555555556,\"#d8576b\"],[0.6666666666666666,\"#ed7953\"],[0.7777777777777778,\"#fb9f3a\"],[0.8888888888888888,\"#fdca26\"],[1.0,\"#f0f921\"]]}],\"contourcarpet\":[{\"type\":\"contourcarpet\",\"colorbar\":{\"outlinewidth\":0,\"ticks\":\"\"}}],\"contour\":[{\"type\":\"contour\",\"colorbar\":{\"outlinewidth\":0,\"ticks\":\"\"},\"colorscale\":[[0.0,\"#0d0887\"],[0.1111111111111111,\"#46039f\"],[0.2222222222222222,\"#7201a8\"],[0.3333333333333333,\"#9c179e\"],[0.4444444444444444,\"#bd3786\"],[0.5555555555555556,\"#d8576b\"],[0.6666666666666666,\"#ed7953\"],[0.7777777777777778,\"#fb9f3a\"],[0.8888888888888888,\"#fdca26\"],[1.0,\"#f0f921\"]]}],\"surface\":[{\"type\":\"surface\",\"colorbar\":{\"outlinewidth\":0,\"ticks\":\"\"},\"colorscale\":[[0.0,\"#0d0887\"],[0.1111111111111111,\"#46039f\"],[0.2222222222222222,\"#7201a8\"],[0.3333333333333333,\"#9c179e\"],[0.4444444444444444,\"#bd3786\"],[0.5555555555555556,\"#d8576b\"],[0.6666666666666666,\"#ed7953\"],[0.7777777777777778,\"#fb9f3a\"],[0.8888888888888888,\"#fdca26\"],[1.0,\"#f0f921\"]]}],\"mesh3d\":[{\"type\":\"mesh3d\",\"colorbar\":{\"outlinewidth\":0,\"ticks\":\"\"}}],\"scatter\":[{\"fillpattern\":{\"fillmode\":\"overlay\",\"size\":10,\"solidity\":0.2},\"type\":\"scatter\"}],\"parcoords\":[{\"type\":\"parcoords\",\"line\":{\"colorbar\":{\"outlinewidth\":0,\"ticks\":\"\"}}}],\"scatterpolargl\":[{\"type\":\"scatterpolargl\",\"marker\":{\"colorbar\":{\"outlinewidth\":0,\"ticks\":\"\"}}}],\"bar\":[{\"error_x\":{\"color\":\"#2a3f5f\"},\"error_y\":{\"color\":\"#2a3f5f\"},\"marker\":{\"line\":{\"color\":\"#E5ECF6\",\"width\":0.5},\"pattern\":{\"fillmode\":\"overlay\",\"size\":10,\"solidity\":0.2}},\"type\":\"bar\"}],\"scattergeo\":[{\"type\":\"scattergeo\",\"marker\":{\"colorbar\":{\"outlinewidth\":0,\"ticks\":\"\"}}}],\"scatterpolar\":[{\"type\":\"scatterpolar\",\"marker\":{\"colorbar\":{\"outlinewidth\":0,\"ticks\":\"\"}}}],\"histogram\":[{\"marker\":{\"pattern\":{\"fillmode\":\"overlay\",\"size\":10,\"solidity\":0.2}},\"type\":\"histogram\"}],\"scattergl\":[{\"type\":\"scattergl\",\"marker\":{\"colorbar\":{\"outlinewidth\":0,\"ticks\":\"\"}}}],\"scatter3d\":[{\"type\":\"scatter3d\",\"line\":{\"colorbar\":{\"outlinewidth\":0,\"ticks\":\"\"}},\"marker\":{\"colorbar\":{\"outlinewidth\":0,\"ticks\":\"\"}}}],\"scattermapbox\":[{\"type\":\"scattermapbox\",\"marker\":{\"colorbar\":{\"outlinewidth\":0,\"ticks\":\"\"}}}],\"scatterternary\":[{\"type\":\"scatterternary\",\"marker\":{\"colorbar\":{\"outlinewidth\":0,\"ticks\":\"\"}}}],\"scattercarpet\":[{\"type\":\"scattercarpet\",\"marker\":{\"colorbar\":{\"outlinewidth\":0,\"ticks\":\"\"}}}],\"carpet\":[{\"aaxis\":{\"endlinecolor\":\"#2a3f5f\",\"gridcolor\":\"white\",\"linecolor\":\"white\",\"minorgridcolor\":\"white\",\"startlinecolor\":\"#2a3f5f\"},\"baxis\":{\"endlinecolor\":\"#2a3f5f\",\"gridcolor\":\"white\",\"linecolor\":\"white\",\"minorgridcolor\":\"white\",\"startlinecolor\":\"#2a3f5f\"},\"type\":\"carpet\"}],\"table\":[{\"cells\":{\"fill\":{\"color\":\"#EBF0F8\"},\"line\":{\"color\":\"white\"}},\"header\":{\"fill\":{\"color\":\"#C8D4E3\"},\"line\":{\"color\":\"white\"}},\"type\":\"table\"}],\"barpolar\":[{\"marker\":{\"line\":{\"color\":\"#E5ECF6\",\"width\":0.5},\"pattern\":{\"fillmode\":\"overlay\",\"size\":10,\"solidity\":0.2}},\"type\":\"barpolar\"}],\"pie\":[{\"automargin\":true,\"type\":\"pie\"}]},\"layout\":{\"autotypenumbers\":\"strict\",\"colorway\":[\"#636efa\",\"#EF553B\",\"#00cc96\",\"#ab63fa\",\"#FFA15A\",\"#19d3f3\",\"#FF6692\",\"#B6E880\",\"#FF97FF\",\"#FECB52\"],\"font\":{\"color\":\"#2a3f5f\"},\"hovermode\":\"closest\",\"hoverlabel\":{\"align\":\"left\"},\"paper_bgcolor\":\"white\",\"plot_bgcolor\":\"#E5ECF6\",\"polar\":{\"bgcolor\":\"#E5ECF6\",\"angularaxis\":{\"gridcolor\":\"white\",\"linecolor\":\"white\",\"ticks\":\"\"},\"radialaxis\":{\"gridcolor\":\"white\",\"linecolor\":\"white\",\"ticks\":\"\"}},\"ternary\":{\"bgcolor\":\"#E5ECF6\",\"aaxis\":{\"gridcolor\":\"white\",\"linecolor\":\"white\",\"ticks\":\"\"},\"baxis\":{\"gridcolor\":\"white\",\"linecolor\":\"white\",\"ticks\":\"\"},\"caxis\":{\"gridcolor\":\"white\",\"linecolor\":\"white\",\"ticks\":\"\"}},\"coloraxis\":{\"colorbar\":{\"outlinewidth\":0,\"ticks\":\"\"}},\"colorscale\":{\"sequential\":[[0.0,\"#0d0887\"],[0.1111111111111111,\"#46039f\"],[0.2222222222222222,\"#7201a8\"],[0.3333333333333333,\"#9c179e\"],[0.4444444444444444,\"#bd3786\"],[0.5555555555555556,\"#d8576b\"],[0.6666666666666666,\"#ed7953\"],[0.7777777777777778,\"#fb9f3a\"],[0.8888888888888888,\"#fdca26\"],[1.0,\"#f0f921\"]],\"sequentialminus\":[[0.0,\"#0d0887\"],[0.1111111111111111,\"#46039f\"],[0.2222222222222222,\"#7201a8\"],[0.3333333333333333,\"#9c179e\"],[0.4444444444444444,\"#bd3786\"],[0.5555555555555556,\"#d8576b\"],[0.6666666666666666,\"#ed7953\"],[0.7777777777777778,\"#fb9f3a\"],[0.8888888888888888,\"#fdca26\"],[1.0,\"#f0f921\"]],\"diverging\":[[0,\"#8e0152\"],[0.1,\"#c51b7d\"],[0.2,\"#de77ae\"],[0.3,\"#f1b6da\"],[0.4,\"#fde0ef\"],[0.5,\"#f7f7f7\"],[0.6,\"#e6f5d0\"],[0.7,\"#b8e186\"],[0.8,\"#7fbc41\"],[0.9,\"#4d9221\"],[1,\"#276419\"]]},\"xaxis\":{\"gridcolor\":\"white\",\"linecolor\":\"white\",\"ticks\":\"\",\"title\":{\"standoff\":15},\"zerolinecolor\":\"white\",\"automargin\":true,\"zerolinewidth\":2},\"yaxis\":{\"gridcolor\":\"white\",\"linecolor\":\"white\",\"ticks\":\"\",\"title\":{\"standoff\":15},\"zerolinecolor\":\"white\",\"automargin\":true,\"zerolinewidth\":2},\"scene\":{\"xaxis\":{\"backgroundcolor\":\"#E5ECF6\",\"gridcolor\":\"white\",\"linecolor\":\"white\",\"showbackground\":true,\"ticks\":\"\",\"zerolinecolor\":\"white\",\"gridwidth\":2},\"yaxis\":{\"backgroundcolor\":\"#E5ECF6\",\"gridcolor\":\"white\",\"linecolor\":\"white\",\"showbackground\":true,\"ticks\":\"\",\"zerolinecolor\":\"white\",\"gridwidth\":2},\"zaxis\":{\"backgroundcolor\":\"#E5ECF6\",\"gridcolor\":\"white\",\"linecolor\":\"white\",\"showbackground\":true,\"ticks\":\"\",\"zerolinecolor\":\"white\",\"gridwidth\":2}},\"shapedefaults\":{\"line\":{\"color\":\"#2a3f5f\"}},\"annotationdefaults\":{\"arrowcolor\":\"#2a3f5f\",\"arrowhead\":0,\"arrowwidth\":1},\"geo\":{\"bgcolor\":\"white\",\"landcolor\":\"#E5ECF6\",\"subunitcolor\":\"white\",\"showland\":true,\"showlakes\":true,\"lakecolor\":\"white\"},\"title\":{\"x\":0.05},\"mapbox\":{\"style\":\"light\"}}}},                        {\"responsive\": true}                    ).then(function(){\n",
       "                            \n",
       "var gd = document.getElementById('43032832-6ed2-406e-9415-31e62fb1a201');\n",
       "var x = new MutationObserver(function (mutations, observer) {{\n",
       "        var display = window.getComputedStyle(gd).display;\n",
       "        if (!display || display === 'none') {{\n",
       "            console.log([gd, 'removed!']);\n",
       "            Plotly.purge(gd);\n",
       "            observer.disconnect();\n",
       "        }}\n",
       "}});\n",
       "\n",
       "// Listen for the removal of the full notebook cells\n",
       "var notebookContainer = gd.closest('#notebook-container');\n",
       "if (notebookContainer) {{\n",
       "    x.observe(notebookContainer, {childList: true});\n",
       "}}\n",
       "\n",
       "// Listen for the clearing of the current output cell\n",
       "var outputEl = gd.closest('.output');\n",
       "if (outputEl) {{\n",
       "    x.observe(outputEl, {childList: true});\n",
       "}}\n",
       "\n",
       "                        })                };                });            </script>        </div>"
      ]
     },
     "metadata": {},
     "output_type": "display_data"
    }
   ],
   "source": [
    "set_defaults(\n",
    "    \"plotly\"\n",
    ")  # Our scene is simple, and Plotly is the best backend for online interactive plots :-)\n",
    "\n",
    "mesh = TriangleMesh.box(length=4, width=4, height=2).set_materials(\n",
    "    \"itu_concrete\"\n",
    ").set_face_colors([0.82, 0.71, 0.71]).translate([\n",
    "    0.0,\n",
    "    0.0,\n",
    "    1.0,\n",
    "]) + TriangleMesh.box(\n",
    "    length=0.5, width=0.5, height=0.5, with_top=True\n",
    ").set_materials(\"itu_metal\").set_face_colors([0.57, 0.57, 0.57]).translate([\n",
    "    0.0,\n",
    "    0.0,\n",
    "    1.5,\n",
    "])\n",
    "scene = TriangleScene(transmitters=[1.0, 0.0, 1.5], mesh=mesh)\n",
    "scene.plot()"
   ]
  },
  {
   "cell_type": "markdown",
   "id": "5",
   "metadata": {},
   "source": [
    "Next, we estimate the coverage map by placing a grid of receivers in the scene, and by performing a Ray Tracing simulation for each of them.\n",
    "\n",
    "Because DiffeRT works well with batches, all those path tracing operations can be performed at the same time."
   ]
  },
  {
   "cell_type": "code",
   "execution_count": null,
   "id": "6",
   "metadata": {},
   "outputs": [],
   "source": [
    "# Our scene can be simplified to quadrilaterals,\n",
    "# so informing the code of that matter will make it run faster\n",
    "scene = scene.set_assume_quads()\n",
    "batch = (\n",
    "    10,\n",
    "    10,\n",
    ")  # Warning: a too large batch could easily cause OOM issues\n",
    "z0 = 1.0  # The z coordinate of the receivers\n",
    "scene_grid = scene.with_receivers_grid(*batch, height=1.5)\n",
    "\n",
    "# Only needed for plotting purposes\n",
    "x, y, _ = jnp.unstack(scene_grid.receivers, axis=-1)\n",
    "\n",
    "fig = make_subplots(\n",
    "    rows=1,\n",
    "    cols=2,\n",
    "    specs=[[{\"type\": \"scene\"}], [{\"type\": \"scene\"}]],\n",
    ")\n",
    "\n",
    "with reuse(figure=fig) as fig:\n",
    "    scene.plot(row=1, col=1)\n",
    "    scene.plot(row=1, col=2)\n",
    "\n",
    "    ant = Dipole(2.4e9)  # 2.4 GHz\n",
    "    A_e = ant.aperture\n",
    "    E = jnp.zeros((*batch, 3), dtype=jnp.complex64)\n",
    "    B = jnp.zeros_like(E)\n",
    "    P_nc = jnp.zeros(batch)\n",
    "\n",
    "    eta_r = jnp.array([\n",
    "        materials[mat_name].relative_permittivity(ant.frequency)\n",
    "        for mat_name in scene.mesh.material_names\n",
    "    ])\n",
    "    n_r = jnp.sqrt(eta_r)\n",
    "\n",
    "    for order in range(2):\n",
    "        paths = scene_grid.compute_paths(order=order)\n",
    "        E_i, B_i = ant.fields(paths.vertices[..., 1, :])\n",
    "\n",
    "        if order > 0:\n",
    "            # [*batch num_path_candidates order]\n",
    "            obj_indices = paths.objects[..., 1:-1]\n",
    "            # [*batch num_path_candidates order]\n",
    "            mat_indices = jnp.take(\n",
    "                scene.mesh.face_materials, obj_indices, axis=0\n",
    "            )\n",
    "            # [*batch num_path_candidates order 3]\n",
    "            obj_normals = jnp.take(scene.mesh.normals, obj_indices, axis=0)\n",
    "            # [*batch num_path_candidates order]\n",
    "            obj_n_r = jnp.take(n_r, mat_indices, axis=0)\n",
    "            # [*batch num_path_candidates order+1 3]\n",
    "            path_segments = jnp.diff(paths.vertices, axis=-2)\n",
    "            # [*batch num_path_candidates order+1 3],\n",
    "            # [*batch num_path_candidates order+1 1]\n",
    "            k, s = normalize(path_segments, keepdims=True)\n",
    "            # [*batch num_path_candidates order 3]\n",
    "            k_i = k[..., :-1, :]\n",
    "            k_r = k[..., +1:, :]\n",
    "            # [*batch num_path_candidates order 3]\n",
    "            (e_i_s, e_i_p), (e_r_s, e_r_p) = sp_directions(\n",
    "                k_i, k_r, obj_normals\n",
    "            )\n",
    "            # [*batch num_path_candidates order 1]\n",
    "            cos_theta = dot(obj_normals, -k_i, keepdims=True)\n",
    "            # [*batch num_path_candidates order 1]\n",
    "            r_s, r_p = reflection_coefficients(obj_n_r[..., None], cos_theta)\n",
    "            # [*batch num_path_candidates 1]\n",
    "            r_s = jnp.prod(r_s, axis=-2)\n",
    "            r_p = jnp.prod(r_p, axis=-2)\n",
    "            # [*batch num_path_candidates order 3]\n",
    "            (e_i_s, e_i_p), (e_r_s, e_r_p) = sp_directions(\n",
    "                k_i, k_r, obj_normals\n",
    "            )\n",
    "            # [*batch num_path_candidates 1]\n",
    "            E_i_s = dot(E_i, e_i_s[..., 0, :], keepdims=True)\n",
    "            E_i_p = dot(E_i, e_i_p[..., 0, :], keepdims=True)\n",
    "            B_i_s = dot(B_i, e_i_s[..., 0, :], keepdims=True)\n",
    "            B_i_p = dot(B_i, e_i_p[..., 0, :], keepdims=True)\n",
    "            # [*batch num_path_candidates 1]\n",
    "            E_r_s = r_s * E_i_s\n",
    "            E_r_p = r_p * E_i_p\n",
    "            B_r_s = r_s * B_i_s\n",
    "            B_r_p = r_p * B_i_p\n",
    "            # [*batch num_path_candidates 3]\n",
    "            E_r = E_r_s * e_r_s[..., -1, :] + E_r_p * e_r_p[..., -1, :]\n",
    "            B_r = B_r_s * e_r_s[..., -1, :] + B_r_p * e_r_p[..., -1, :]\n",
    "            # [*batch num_path_candidates 1]\n",
    "            s_tot = s.sum(axis=-2)\n",
    "            spreading_factor = s[..., 0, :] / s_tot  # Far-field approximation\n",
    "            phase_shift = jnp.exp(1j * s_tot * ant.wavenumber)\n",
    "            # [*batch num_path_candidates 3]\n",
    "            E_r *= spreading_factor * phase_shift\n",
    "            B_r *= spreading_factor * phase_shift\n",
    "        else:\n",
    "            # [*batch num_path_candidates 3]\n",
    "            E_r = E_i\n",
    "            B_r = B_i\n",
    "\n",
    "        # 1 - Coherent\n",
    "\n",
    "        # [*batch 3]\n",
    "        E += jnp.sum(E_r, axis=-2, where=paths.mask[..., None])\n",
    "        B += jnp.sum(B_r, axis=-2, where=paths.mask[..., None])\n",
    "\n",
    "        # 2 - Non coherent\n",
    "\n",
    "        P_nc += A_e * jnp.linalg.norm(pointing_vector(E_r, B_r), axis=-1).sum(\n",
    "            axis=-1, where=paths.mask\n",
    "        )\n",
    "\n",
    "    S = pointing_vector(E, B)\n",
    "    P_c = A_e * jnp.linalg.norm(S, axis=-1)\n",
    "    G_c_dB = 10 * jnp.log10(P_c / ant.reference_power)\n",
    "    G_nc_dB = 10 * jnp.log10(P_nc / ant.reference_power)\n",
    "\n",
    "    draw_image(\n",
    "        G_c_dB,\n",
    "        x=x[0, :],\n",
    "        y=y[:, 0],\n",
    "        z0=z0,\n",
    "        colorbar={\"title\": \"Gain (dB)\"},\n",
    "        row=1,\n",
    "        col=1,\n",
    "    )\n",
    "    draw_image(\n",
    "        G_nc_dB,\n",
    "        x=x[0, :],\n",
    "        y=y[:, 0],\n",
    "        z0=z0,\n",
    "        colorbar={\"title\": \"Gain (dB)\"},\n",
    "        row=1,\n",
    "        col=2,\n",
    "    )\n",
    "fig"
   ]
  },
  {
   "cell_type": "code",
   "execution_count": null,
   "id": "7",
   "metadata": {},
   "outputs": [],
   "source": []
  }
 ],
 "metadata": {
  "kernelspec": {
   "display_name": "Python 3 (ipykernel)",
   "language": "python",
   "name": "python3"
  },
  "language_info": {
   "codemirror_mode": {
    "name": "ipython",
    "version": 3
   },
   "file_extension": ".py",
   "mimetype": "text/x-python",
   "name": "python",
   "nbconvert_exporter": "python",
   "pygments_lexer": "ipython3",
   "version": "3.11.10"
  }
 },
 "nbformat": 4,
 "nbformat_minor": 5
}
