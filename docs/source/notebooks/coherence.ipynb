{
 "cells": [
  {
   "cell_type": "code",
   "execution_count": null,
   "id": "e90f3c19",
   "metadata": {
    "tags": [
     "differt-install-preamble",
     "remove-cell",
     "skip-execution"
    ]
   },
   "outputs": [],
   "source": [
    "# Run this cell to install DiffeRT and its dependencies, e.g., on Google Colab\n",
    "\n",
    "try:\n",
    "    import differt  # noqa: F401\n",
    "except ImportError:\n",
    "    import sys  # noqa: F401\n",
    "\n",
    "    !{sys.executable} -m pip install differt[all]"
   ]
  },
  {
   "cell_type": "markdown",
   "id": "4e5044be-26d1-47a1-aea1-b7bf8928ca45",
   "metadata": {},
   "source": [
    "# Coherence Map"
   ]
  },
  {
   "cell_type": "code",
   "execution_count": 2,
   "id": "f05092ba-295c-425e-bf53-b6e92021ed82",
   "metadata": {},
   "outputs": [],
   "source": [
    "import equinox as eqx\n",
    "import jax.numpy as jnp\n",
    "import numpy as np\n",
    "\n",
    "from differt.geometry.paths import merge_groups\n",
    "from differt.geometry.utils import path_lengths\n",
    "from differt.plotting import draw_image, reuse, set_defaults\n",
    "from differt.scene.sionna import download_sionna_scenes, get_sionna_scene\n",
    "from differt.scene.triangle_scene import TriangleScene"
   ]
  },
  {
   "cell_type": "code",
   "execution_count": 3,
   "id": "064ecfdb-3097-4b90-944a-326ca52c96e6",
   "metadata": {},
   "outputs": [],
   "source": [
    "download_sionna_scenes()  # Let's download Sionna scenes (from the main branch)"
   ]
  },
  {
   "cell_type": "code",
   "execution_count": null,
   "id": "ebf1de25-6000-497a-a35f-94b5a06db9dd",
   "metadata": {},
   "outputs": [],
   "source": [
    "set_defaults(\"plotly\")\n",
    "\n",
    "file = get_sionna_scene(\"simple_street_canyon\")\n",
    "scene = TriangleScene.load_xml(file)\n",
    "\n",
    "scene = eqx.tree_at(lambda s: s.transmitters, scene, jnp.array([-33.0, 0.0, 32.0]))\n",
    "batch = (50, 50)\n",
    "scene_grid = scene.with_receivers_grid(*batch)\n",
    "power = jnp.zeros(batch)\n",
    "groups = jnp.zeros(batch, dtype=jnp.int32)\n",
    "\n",
    "x, y, z = jnp.unstack(scene_grid.receivers, axis=-1)\n",
    "\n",
    "with reuse() as fig:\n",
    "    scene.plot()\n",
    "\n",
    "    for order in range(3):\n",
    "        for paths in scene_grid.compute_paths(order=order, chunk_size=1_000):\n",
    "            new_groups = paths.mask_groups()\n",
    "            groups = merge_groups(groups, new_groups)\n",
    "            power += (paths.mask / path_lengths(paths.vertices) ** 2).sum(axis=-1)\n",
    "\n",
    "    draw_image(\n",
    "        np.asarray(power),\n",
    "        x=np.asarray(x[0, :]),\n",
    "        y=np.asarray(y[:, 0]),\n",
    "        z0=float(z.ravel()[0]),\n",
    "    )\n",
    "\n",
    "fig"
   ]
  },
  {
   "cell_type": "code",
   "execution_count": null,
   "id": "9320934f",
   "metadata": {},
   "outputs": [],
   "source": [
    "with reuse(\"plotly\") as fig:\n",
    "    # We renumber unique indices to be between 0 and num_unique_groups (excluded)\n",
    "    renumbered_groups = jnp.unique(groups, return_inverse=True)[1].reshape(groups.shape)\n",
    "    scene.plot()\n",
    "    draw_image(\n",
    "        np.asarray(renumbered_groups),\n",
    "        x=np.asarray(x[0, :]),\n",
    "        y=np.asarray(y[:, 0]),\n",
    "        z0=float(z.ravel()[0]),\n",
    "    )\n",
    "\n",
    "fig"
   ]
  },
  {
   "cell_type": "code",
   "execution_count": null,
   "id": "7a4128fb",
   "metadata": {},
   "outputs": [],
   "source": [
    "length_x = x.max() - x.min()\n",
    "length_y = y.max() - y.min()\n",
    "surface = length_x * length_y\n",
    "surface_per_point = (\n",
    "    surface / groups.size\n",
    ")  # ~ Roughly, because RXs are not placed at centers of tiles\n",
    "\n",
    "points_per_group = jnp.unique(groups, return_counts=True)[1]\n",
    "points_per_group"
   ]
  },
  {
   "cell_type": "code",
   "execution_count": null,
   "id": "42265de7",
   "metadata": {},
   "outputs": [],
   "source": [
    "import matplotlib.pyplot as plt\n",
    "\n",
    "surface_per_group = points_per_group * surface_per_point\n",
    "\n",
    "\n",
    "plt.hist(\n",
    "    surface_per_group[1:]\n",
    ")  # TODO: find better way to remove group with not multipath components"
   ]
  }
 ],
 "metadata": {
  "kernelspec": {
   "display_name": "Python 3 (ipykernel)",
   "language": "python",
   "name": "python3"
  },
  "language_info": {
   "codemirror_mode": {
    "name": "ipython",
    "version": 3
   },
   "file_extension": ".py",
   "mimetype": "text/x-python",
   "name": "python",
   "nbconvert_exporter": "python",
   "pygments_lexer": "ipython3",
   "version": "3.11.8"
  }
 },
 "nbformat": 4,
 "nbformat_minor": 5
}
