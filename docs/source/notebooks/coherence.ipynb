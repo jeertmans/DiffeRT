{
 "cells": [
  {
   "cell_type": "code",
   "execution_count": null,
   "id": "e90f3c19",
   "metadata": {
    "tags": [
     "differt-install-preamble",
     "remove-cell",
     "skip-execution"
    ]
   },
   "outputs": [],
   "source": [
    "# Run this cell to install DiffeRT and its dependencies, e.g., on Google Colab\n",
    "\n",
    "try:\n",
    "    import differt  # noqa: F401\n",
    "except ImportError:\n",
    "    import sys  # noqa: F401\n",
    "\n",
    "    !{sys.executable} -m pip install differt[all]"
   ]
  },
  {
   "cell_type": "markdown",
   "id": "4e5044be-26d1-47a1-aea1-b7bf8928ca45",
   "metadata": {},
   "source": [
    "# Coherence Map"
   ]
  },
  {
   "cell_type": "code",
   "execution_count": null,
   "id": "f05092ba-295c-425e-bf53-b6e92021ed82",
   "metadata": {},
   "outputs": [],
   "source": [
    "import equinox as eqx\n",
    "import jax.numpy as jnp\n",
    "\n",
    "from differt.geometry.utils import path_lengths\n",
    "from differt.plotting import draw_image\n",
    "from differt.scene.sionna import download_sionna_scenes, get_sionna_scene\n",
    "from differt.scene.triangle_scene import TriangleScene"
   ]
  },
  {
   "cell_type": "code",
   "execution_count": null,
   "id": "064ecfdb-3097-4b90-944a-326ca52c96e6",
   "metadata": {},
   "outputs": [],
   "source": [
    "download_sionna_scenes()  # Let's download Sionna scenes (from the main branch)"
   ]
  },
  {
   "cell_type": "code",
   "execution_count": null,
   "id": "ebf1de25-6000-497a-a35f-94b5a06db9dd",
   "metadata": {},
   "outputs": [],
   "source": [
    "file = get_sionna_scene(\"simple_street_canyon\")\n",
    "scene = TriangleScene.load_xml(file)\n",
    "\n",
    "scene = eqx.tree_at(lambda s: s.transmitters, scene, jnp.array([-33, 0, 32.0]))\n",
    "\n",
    "(min_x, min_y, _), (max_x, max_y, _) = scene.mesh.bounding_box\n",
    "x = jnp.linspace(min_x, max_x, 50)\n",
    "y = jnp.linspace(min_y, max_y, 50)\n",
    "x, y = jnp.meshgrid(x, y)\n",
    "z0 = 1.5\n",
    "z = jnp.full_like(x, z0)\n",
    "rx_grid = jnp.stack((x, y, z), axis=-1)\n",
    "canvas = scene.plot()\n",
    "scene = eqx.tree_at(lambda s: s.receivers, scene, rx_grid)\n",
    "paths = scene.compute_paths(order=2)\n",
    "power = (paths.mask / path_lengths(paths.vertices) ** 2).sum(axis=-1)\n",
    "draw_image(power, x=x, y=y, z0=z0, canvas=canvas)"
   ]
  },
  {
   "cell_type": "code",
   "execution_count": null,
   "id": "f433371d-48c7-474f-92dc-2c97b534414a",
   "metadata": {},
   "outputs": [],
   "source": [
    "paths.group_by_objects()"
   ]
  }
 ],
 "metadata": {
  "kernelspec": {
   "display_name": "Python 3 (ipykernel)",
   "language": "python",
   "name": "python3"
  },
  "language_info": {
   "codemirror_mode": {
    "name": "ipython",
    "version": 3
   },
   "file_extension": ".py",
   "mimetype": "text/x-python",
   "name": "python",
   "nbconvert_exporter": "python",
   "pygments_lexer": "ipython3",
   "version": "3.11.8"
  }
 },
 "nbformat": 4,
 "nbformat_minor": 5
}
