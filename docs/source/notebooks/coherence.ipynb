{
 "cells": [
  {
   "cell_type": "code",
   "execution_count": 1,
   "id": "f05092ba-295c-425e-bf53-b6e92021ed82",
   "metadata": {},
   "outputs": [],
   "source": [
    "import jax\n",
    "import jax.numpy as jnp\n",
    "import numpy as np\n",
    "import equinox as eqx\n",
    "\n",
    "import differt.plotting as dplt\n",
    "from differt.geometry import TriangleMesh\n",
    "from differt.geometry.triangle_mesh import (\n",
    "    triangles_contain_vertices_assuming_inside_same_plane,\n",
    ")\n",
    "from differt.rt.image_method import (\n",
    "    consecutive_vertices_are_on_same_side_of_mirrors,\n",
    "    image_method,\n",
    ")\n",
    "from differt.rt.utils import generate_all_path_candidates, rays_intersect_triangles\n",
    "from differt.scene.sionna import download_sionna_scenes, get_sionna_scene\n",
    "from differt.scene.triangle_scene import TriangleScene"
   ]
  },
  {
   "cell_type": "code",
   "execution_count": 4,
   "id": "064ecfdb-3097-4b90-944a-326ca52c96e6",
   "metadata": {},
   "outputs": [],
   "source": [
    "download_sionna_scenes()  # Let's download Sionna scenes (from the main branch)"
   ]
  },
  {
   "cell_type": "code",
   "execution_count": 7,
   "id": "ebf1de25-6000-497a-a35f-94b5a06db9dd",
   "metadata": {},
   "outputs": [
    {
     "data": {
      "application/vnd.jupyter.widget-view+json": {
       "model_id": "4f341589f47e4916a2928244f9f6c4c1",
       "version_major": 2,
       "version_minor": 0
      },
      "text/plain": [
       "RFBOutputContext()"
      ]
     },
     "metadata": {},
     "output_type": "display_data"
    },
    {
     "data": {
      "application/vnd.jupyter.widget-view+json": {
       "model_id": "58265e8f9fe7452ca37c591c69427743",
       "version_major": 2,
       "version_minor": 0
      },
      "text/html": [
       "<div class='snapshot-58265e8f9fe7452ca37c591c69427743' style='position:relative;'><img src='data:image/png;base64,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' style='width:800.0px;height:600.0px;' /><div style='position: absolute; top:0; left:0; padding:1px 3px; background: #777; color:#fff; font-size: 90%; font-family:sans-serif; '>snapshot</div></div>"
      ],
      "text/plain": [
       "CanvasBackend(css_height='600px', css_width='800px')"
      ]
     },
     "execution_count": 7,
     "metadata": {},
     "output_type": "execute_result"
    }
   ],
   "source": [
    "file = get_sionna_scene(\"simple_street_canyon\")\n",
    "scene = TriangleScene.load_xml(file)\n",
    "scene = eqx.tree_at(lambda s: s.transmitters, scene, jnp.array([-33,11,32.0]))\n",
    "scene = eqx.tree_at(lambda s: s.receivers, scene, jnp.array([-20,5,1.5]))\n",
    "(canvas := scene.plot())"
   ]
  },
  {
   "cell_type": "code",
   "execution_count": 8,
   "id": "d04ac444-805a-4c7b-a096-4e897b08a605",
   "metadata": {},
   "outputs": [
    {
     "name": "stdout",
     "output_type": "stream",
     "text": [
      "tx.shape = (1, 3), rx.shape = (1, 3)\n"
     ]
    },
    {
     "ename": "NonConcreteBooleanIndexError",
     "evalue": "Array boolean indices must be concrete; got ShapedArray(bool[5402])\n\nSee https://jax.readthedocs.io/en/latest/errors.html#jax.errors.NonConcreteBooleanIndexError",
     "output_type": "error",
     "traceback": [
      "\u001b[0;31m---------------------------------------------------------------------------\u001b[0m",
      "\u001b[0;31mNonConcreteBooleanIndexError\u001b[0m              Traceback (most recent call last)",
      "Cell \u001b[0;32mIn[8], line 1\u001b[0m\n\u001b[0;32m----> 1\u001b[0m paths \u001b[38;5;241m=\u001b[39m \u001b[43mscene\u001b[49m\u001b[38;5;241;43m.\u001b[39;49m\u001b[43mcompute_paths\u001b[49m\u001b[43m(\u001b[49m\u001b[43morder\u001b[49m\u001b[38;5;241;43m=\u001b[39;49m\u001b[38;5;241;43m2\u001b[39;49m\u001b[43m)\u001b[49m\n\u001b[1;32m      2\u001b[0m canvas \u001b[38;5;241m=\u001b[39m scene\u001b[38;5;241m.\u001b[39mplot()\n\u001b[1;32m      3\u001b[0m paths\u001b[38;5;241m.\u001b[39mplot(canvas\u001b[38;5;241m=\u001b[39mcanvas)\n",
      "File \u001b[0;32m~/repositories/DiffeRT/.venv/lib/python3.11/site-packages/equinox/_module.py:1235\u001b[0m, in \u001b[0;36mPartial.__call__\u001b[0;34m(self, *args, **kwargs)\u001b[0m\n\u001b[1;32m   1222\u001b[0m \u001b[38;5;28;01mdef\u001b[39;00m \u001b[38;5;21m__call__\u001b[39m(\u001b[38;5;28mself\u001b[39m, \u001b[38;5;241m*\u001b[39margs, \u001b[38;5;241m*\u001b[39m\u001b[38;5;241m*\u001b[39mkwargs):\n\u001b[1;32m   1223\u001b[0m \u001b[38;5;250m    \u001b[39m\u001b[38;5;124;03m\"\"\"Call the wrapped `self.func`.\u001b[39;00m\n\u001b[1;32m   1224\u001b[0m \n\u001b[1;32m   1225\u001b[0m \u001b[38;5;124;03m    **Arguments:**\u001b[39;00m\n\u001b[0;32m   (...)\u001b[0m\n\u001b[1;32m   1233\u001b[0m \u001b[38;5;124;03m    The result of the wrapped function.\u001b[39;00m\n\u001b[1;32m   1234\u001b[0m \u001b[38;5;124;03m    \"\"\"\u001b[39;00m\n\u001b[0;32m-> 1235\u001b[0m     \u001b[38;5;28;01mreturn\u001b[39;00m \u001b[38;5;28;43mself\u001b[39;49m\u001b[38;5;241;43m.\u001b[39;49m\u001b[43mfunc\u001b[49m\u001b[43m(\u001b[49m\u001b[38;5;241;43m*\u001b[39;49m\u001b[38;5;28;43mself\u001b[39;49m\u001b[38;5;241;43m.\u001b[39;49m\u001b[43margs\u001b[49m\u001b[43m,\u001b[49m\u001b[43m \u001b[49m\u001b[38;5;241;43m*\u001b[39;49m\u001b[43margs\u001b[49m\u001b[43m,\u001b[49m\u001b[43m \u001b[49m\u001b[38;5;241;43m*\u001b[39;49m\u001b[38;5;241;43m*\u001b[39;49m\u001b[43mkwargs\u001b[49m\u001b[43m,\u001b[49m\u001b[43m \u001b[49m\u001b[38;5;241;43m*\u001b[39;49m\u001b[38;5;241;43m*\u001b[39;49m\u001b[38;5;28;43mself\u001b[39;49m\u001b[38;5;241;43m.\u001b[39;49m\u001b[43mkeywords\u001b[49m\u001b[43m)\u001b[49m\n",
      "    \u001b[0;31m[... skipping hidden 15 frame]\u001b[0m\n",
      "File \u001b[0;32m~/repositories/DiffeRT/differt/src/differt/scene/triangle_scene.py:139\u001b[0m, in \u001b[0;36mTriangleScene.compute_paths\u001b[0;34m(self, order)\u001b[0m\n\u001b[1;32m    134\u001b[0m mask \u001b[38;5;241m=\u001b[39m jnp\u001b[38;5;241m.\u001b[39mall(mask, axis\u001b[38;5;241m=\u001b[39m\u001b[38;5;241m-\u001b[39m\u001b[38;5;241m1\u001b[39m)\n\u001b[1;32m    136\u001b[0m \u001b[38;5;66;03m# [num_paths_inter order+2 3]\u001b[39;00m\n\u001b[1;32m    137\u001b[0m full_paths \u001b[38;5;241m=\u001b[39m jnp\u001b[38;5;241m.\u001b[39mconcatenate(\n\u001b[1;32m    138\u001b[0m     (\n\u001b[0;32m--> 139\u001b[0m         jnp\u001b[38;5;241m.\u001b[39mexpand_dims(\u001b[43mfrom_vertices\u001b[49m\u001b[43m[\u001b[49m\u001b[43mmask\u001b[49m\u001b[43m,\u001b[49m\u001b[43m \u001b[49m\u001b[38;5;241;43m.\u001b[39;49m\u001b[38;5;241;43m.\u001b[39;49m\u001b[38;5;241;43m.\u001b[39;49m\u001b[43m]\u001b[49m, axis\u001b[38;5;241m=\u001b[39m\u001b[38;5;241m-\u001b[39m\u001b[38;5;241m2\u001b[39m),\n\u001b[1;32m    140\u001b[0m         paths[mask, \u001b[38;5;241m.\u001b[39m\u001b[38;5;241m.\u001b[39m\u001b[38;5;241m.\u001b[39m],\n\u001b[1;32m    141\u001b[0m         jnp\u001b[38;5;241m.\u001b[39mexpand_dims(to_vertices[mask, \u001b[38;5;241m.\u001b[39m\u001b[38;5;241m.\u001b[39m\u001b[38;5;241m.\u001b[39m], axis\u001b[38;5;241m=\u001b[39m\u001b[38;5;241m-\u001b[39m\u001b[38;5;241m2\u001b[39m),\n\u001b[1;32m    142\u001b[0m     ),\n\u001b[1;32m    143\u001b[0m     axis\u001b[38;5;241m=\u001b[39m\u001b[38;5;241m-\u001b[39m\u001b[38;5;241m2\u001b[39m,\n\u001b[1;32m    144\u001b[0m )\n\u001b[1;32m    146\u001b[0m \u001b[38;5;66;03m# 3.2 - Remove paths with vertices not on the same side of mirrors\u001b[39;00m\n\u001b[1;32m    147\u001b[0m \u001b[38;5;66;03m# [num_paths_inter order]\u001b[39;00m\n\u001b[1;32m    148\u001b[0m mask \u001b[38;5;241m=\u001b[39m consecutive_vertices_are_on_same_side_of_mirrors(\n\u001b[1;32m    149\u001b[0m     full_paths,\n\u001b[1;32m    150\u001b[0m     mirror_vertices[mask, \u001b[38;5;241m.\u001b[39m\u001b[38;5;241m.\u001b[39m\u001b[38;5;241m.\u001b[39m],\n\u001b[1;32m    151\u001b[0m     mirror_normals[mask, \u001b[38;5;241m.\u001b[39m\u001b[38;5;241m.\u001b[39m\u001b[38;5;241m.\u001b[39m],\n\u001b[1;32m    152\u001b[0m )\n",
      "File \u001b[0;32m~/repositories/DiffeRT/.venv/lib/python3.11/site-packages/jax/_src/numpy/array_methods.py:739\u001b[0m, in \u001b[0;36m_forward_operator_to_aval.<locals>.op\u001b[0;34m(self, *args)\u001b[0m\n\u001b[1;32m    738\u001b[0m \u001b[38;5;28;01mdef\u001b[39;00m \u001b[38;5;21mop\u001b[39m(\u001b[38;5;28mself\u001b[39m, \u001b[38;5;241m*\u001b[39margs):\n\u001b[0;32m--> 739\u001b[0m   \u001b[38;5;28;01mreturn\u001b[39;00m \u001b[38;5;28;43mgetattr\u001b[39;49m\u001b[43m(\u001b[49m\u001b[38;5;28;43mself\u001b[39;49m\u001b[38;5;241;43m.\u001b[39;49m\u001b[43maval\u001b[49m\u001b[43m,\u001b[49m\u001b[43m \u001b[49m\u001b[38;5;124;43mf\u001b[39;49m\u001b[38;5;124;43m\"\u001b[39;49m\u001b[38;5;124;43m_\u001b[39;49m\u001b[38;5;132;43;01m{\u001b[39;49;00m\u001b[43mname\u001b[49m\u001b[38;5;132;43;01m}\u001b[39;49;00m\u001b[38;5;124;43m\"\u001b[39;49m\u001b[43m)\u001b[49m\u001b[43m(\u001b[49m\u001b[38;5;28;43mself\u001b[39;49m\u001b[43m,\u001b[49m\u001b[43m \u001b[49m\u001b[38;5;241;43m*\u001b[39;49m\u001b[43margs\u001b[49m\u001b[43m)\u001b[49m\n",
      "File \u001b[0;32m~/repositories/DiffeRT/.venv/lib/python3.11/site-packages/jax/_src/numpy/array_methods.py:352\u001b[0m, in \u001b[0;36m_getitem\u001b[0;34m(self, item)\u001b[0m\n\u001b[1;32m    351\u001b[0m \u001b[38;5;28;01mdef\u001b[39;00m \u001b[38;5;21m_getitem\u001b[39m(\u001b[38;5;28mself\u001b[39m, item):\n\u001b[0;32m--> 352\u001b[0m   \u001b[38;5;28;01mreturn\u001b[39;00m \u001b[43mlax_numpy\u001b[49m\u001b[38;5;241;43m.\u001b[39;49m\u001b[43m_rewriting_take\u001b[49m\u001b[43m(\u001b[49m\u001b[38;5;28;43mself\u001b[39;49m\u001b[43m,\u001b[49m\u001b[43m \u001b[49m\u001b[43mitem\u001b[49m\u001b[43m)\u001b[49m\n",
      "File \u001b[0;32m~/repositories/DiffeRT/.venv/lib/python3.11/site-packages/jax/_src/numpy/lax_numpy.py:6593\u001b[0m, in \u001b[0;36m_rewriting_take\u001b[0;34m(arr, idx, indices_are_sorted, unique_indices, mode, fill_value)\u001b[0m\n\u001b[1;32m   6587\u001b[0m     \u001b[38;5;28;01mif\u001b[39;00m (\u001b[38;5;28misinstance\u001b[39m(aval, core\u001b[38;5;241m.\u001b[39mDShapedArray) \u001b[38;5;129;01mand\u001b[39;00m aval\u001b[38;5;241m.\u001b[39mshape \u001b[38;5;241m==\u001b[39m () \u001b[38;5;129;01mand\u001b[39;00m\n\u001b[1;32m   6588\u001b[0m         dtypes\u001b[38;5;241m.\u001b[39missubdtype(aval\u001b[38;5;241m.\u001b[39mdtype, np\u001b[38;5;241m.\u001b[39minteger) \u001b[38;5;129;01mand\u001b[39;00m\n\u001b[1;32m   6589\u001b[0m         \u001b[38;5;129;01mnot\u001b[39;00m dtypes\u001b[38;5;241m.\u001b[39missubdtype(aval\u001b[38;5;241m.\u001b[39mdtype, dtypes\u001b[38;5;241m.\u001b[39mbool_) \u001b[38;5;129;01mand\u001b[39;00m\n\u001b[1;32m   6590\u001b[0m         \u001b[38;5;28misinstance\u001b[39m(arr\u001b[38;5;241m.\u001b[39mshape[\u001b[38;5;241m0\u001b[39m], \u001b[38;5;28mint\u001b[39m)):\n\u001b[1;32m   6591\u001b[0m       \u001b[38;5;28;01mreturn\u001b[39;00m lax\u001b[38;5;241m.\u001b[39mdynamic_index_in_dim(arr, idx, keepdims\u001b[38;5;241m=\u001b[39m\u001b[38;5;28;01mFalse\u001b[39;00m)\n\u001b[0;32m-> 6593\u001b[0m treedef, static_idx, dynamic_idx \u001b[38;5;241m=\u001b[39m \u001b[43m_split_index_for_jit\u001b[49m\u001b[43m(\u001b[49m\u001b[43midx\u001b[49m\u001b[43m,\u001b[49m\u001b[43m \u001b[49m\u001b[43marr\u001b[49m\u001b[38;5;241;43m.\u001b[39;49m\u001b[43mshape\u001b[49m\u001b[43m)\u001b[49m\n\u001b[1;32m   6594\u001b[0m \u001b[38;5;28;01mreturn\u001b[39;00m _gather(arr, treedef, static_idx, dynamic_idx, indices_are_sorted,\n\u001b[1;32m   6595\u001b[0m                unique_indices, mode, fill_value)\n",
      "File \u001b[0;32m~/repositories/DiffeRT/.venv/lib/python3.11/site-packages/jax/_src/numpy/lax_numpy.py:6678\u001b[0m, in \u001b[0;36m_split_index_for_jit\u001b[0;34m(idx, shape)\u001b[0m\n\u001b[1;32m   6674\u001b[0m   \u001b[38;5;28;01mraise\u001b[39;00m \u001b[38;5;167;01mTypeError\u001b[39;00m(\u001b[38;5;124mf\u001b[39m\u001b[38;5;124m\"\u001b[39m\u001b[38;5;124mJAX does not support string indexing; got \u001b[39m\u001b[38;5;132;01m{\u001b[39;00midx\u001b[38;5;132;01m=}\u001b[39;00m\u001b[38;5;124m\"\u001b[39m)\n\u001b[1;32m   6676\u001b[0m \u001b[38;5;66;03m# Expand any (concrete) boolean indices. We can then use advanced integer\u001b[39;00m\n\u001b[1;32m   6677\u001b[0m \u001b[38;5;66;03m# indexing logic to handle them.\u001b[39;00m\n\u001b[0;32m-> 6678\u001b[0m idx \u001b[38;5;241m=\u001b[39m \u001b[43m_expand_bool_indices\u001b[49m\u001b[43m(\u001b[49m\u001b[43midx\u001b[49m\u001b[43m,\u001b[49m\u001b[43m \u001b[49m\u001b[43mshape\u001b[49m\u001b[43m)\u001b[49m\n\u001b[1;32m   6680\u001b[0m leaves, treedef \u001b[38;5;241m=\u001b[39m tree_flatten(idx)\n\u001b[1;32m   6681\u001b[0m dynamic \u001b[38;5;241m=\u001b[39m [\u001b[38;5;28;01mNone\u001b[39;00m] \u001b[38;5;241m*\u001b[39m \u001b[38;5;28mlen\u001b[39m(leaves)\n",
      "File \u001b[0;32m~/repositories/DiffeRT/.venv/lib/python3.11/site-packages/jax/_src/numpy/lax_numpy.py:6976\u001b[0m, in \u001b[0;36m_expand_bool_indices\u001b[0;34m(idx, shape)\u001b[0m\n\u001b[1;32m   6972\u001b[0m   abstract_i \u001b[38;5;241m=\u001b[39m core\u001b[38;5;241m.\u001b[39mget_aval(i)\n\u001b[1;32m   6974\u001b[0m \u001b[38;5;28;01mif\u001b[39;00m \u001b[38;5;129;01mnot\u001b[39;00m \u001b[38;5;28mtype\u001b[39m(abstract_i) \u001b[38;5;129;01mis\u001b[39;00m ConcreteArray:\n\u001b[1;32m   6975\u001b[0m   \u001b[38;5;66;03m# TODO(mattjj): improve this error by tracking _why_ the indices are not concrete\u001b[39;00m\n\u001b[0;32m-> 6976\u001b[0m   \u001b[38;5;28;01mraise\u001b[39;00m errors\u001b[38;5;241m.\u001b[39mNonConcreteBooleanIndexError(abstract_i)\n\u001b[1;32m   6977\u001b[0m \u001b[38;5;28;01melif\u001b[39;00m _ndim(i) \u001b[38;5;241m==\u001b[39m \u001b[38;5;241m0\u001b[39m:\n\u001b[1;32m   6978\u001b[0m   out\u001b[38;5;241m.\u001b[39mappend(\u001b[38;5;28mbool\u001b[39m(i))\n",
      "\u001b[0;31mNonConcreteBooleanIndexError\u001b[0m: Array boolean indices must be concrete; got ShapedArray(bool[5402])\n\nSee https://jax.readthedocs.io/en/latest/errors.html#jax.errors.NonConcreteBooleanIndexError"
     ]
    }
   ],
   "source": [
    "paths = scene.compute_paths(order=2)\n",
    "canvas = scene.plot()\n",
    "paths.plot(canvas=canvas)"
   ]
  }
 ],
 "metadata": {
  "kernelspec": {
   "display_name": "Python 3 (ipykernel)",
   "language": "python",
   "name": "python3"
  },
  "language_info": {
   "codemirror_mode": {
    "name": "ipython",
    "version": 3
   },
   "file_extension": ".py",
   "mimetype": "text/x-python",
   "name": "python",
   "nbconvert_exporter": "python",
   "pygments_lexer": "ipython3",
   "version": "3.11.8"
  }
 },
 "nbformat": 4,
 "nbformat_minor": 5
}
