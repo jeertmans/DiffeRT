{
 "cells": [
  {
   "cell_type": "markdown",
   "id": "dd7d10a7-b006-4112-bf51-16e519ffd0c1",
   "metadata": {},
   "source": [
    "# Diffract like a beau gosse"
   ]
  },
  {
   "cell_type": "code",
   "execution_count": null,
   "id": "7f48a5a2-5531-4c42-a2e3-9106589a5347",
   "metadata": {},
   "outputs": [],
   "source": [
    "import jax.numpy as jnp\n",
    "import numpy as np\n",
    "\n",
    "import differt.plotting as dplt\n",
    "from differt.geometry import TriangleMesh"
   ]
  },
  {
   "cell_type": "code",
   "execution_count": null,
   "id": "c7764529-0550-40b5-ac3c-ca9cc0cb31bb",
   "metadata": {},
   "outputs": [],
   "source": [
    "dplt.use(\"plotly\")  # Let's use the Plotly backend"
   ]
  },
  {
   "cell_type": "code",
   "execution_count": null,
   "id": "4c9630bf-9a67-4b04-ac68-4f4317a1dd28",
   "metadata": {},
   "outputs": [],
   "source": [
    "mesh_file = \"two_buildings.obj\"\n",
    "mesh = TriangleMesh.load_obj(mesh_file)"
   ]
  },
  {
   "cell_type": "code",
   "execution_count": null,
   "id": "7d4a337c-2b3d-4499-9d9c-534d1cddf45e",
   "metadata": {},
   "outputs": [],
   "source": [
    "color = [\"black\", \"green\", \"orange\", \"yellow\", \"blue\"]\n",
    "\n",
    "fig = mesh.plot(opacity=0.5)\n",
    "tx = jnp.array([0.0, 4.9352, 22.0])\n",
    "rx = jnp.array([0.0, 10.034, 1.50])\n",
    "\n",
    "dplt.draw_markers(np.array([tx, rx]), labels=[\"tx\", \"rx\"], figure=fig, name=\"nodes\")\n",
    "\n",
    "fig"
   ]
  },
  {
   "cell_type": "code",
   "execution_count": null,
   "id": "6f40f817",
   "metadata": {
    "hidePrompt": true,
    "mystnb": {
     "execution_timeout": 1200
    },
    "tags": []
   },
   "outputs": [],
   "source": [
    "fig.data = fig.data[:2]  # Keep only first 2 traces: geometry and TX/RX\n",
    "\n",
    "all_triangle_vertices = jnp.take(mesh.vertices, mesh.triangles, axis=0)\n",
    "\n",
    "num_triangles = mesh.triangles.shape[0]\n",
    "\n",
    "# TODO"
   ]
  }
 ],
 "metadata": {
  "kernelspec": {
   "display_name": "DiffeRT",
   "language": "python",
   "name": "differt"
  },
  "language_info": {
   "codemirror_mode": {
    "name": "ipython",
    "version": 3
   },
   "file_extension": ".py",
   "mimetype": "text/x-python",
   "name": "python",
   "nbconvert_exporter": "python",
   "pygments_lexer": "ipython3",
   "version": "3.10.12"
  }
 },
 "nbformat": 4,
 "nbformat_minor": 5
}
