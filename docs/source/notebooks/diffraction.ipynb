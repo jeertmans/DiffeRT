{
 "cells": [
  {
   "cell_type": "code",
   "execution_count": null,
   "id": "0",
   "metadata": {
    "tags": [
     "differt-install-preamble",
     "remove-cell",
     "skip-execution"
    ]
   },
   "outputs": [],
   "source": [
    "# Run this cell to install DiffeRT and its dependencies, e.g., on Google Colab\n",
    "\n",
    "try:\n",
    "    import differt  # noqa: F401\n",
    "except ImportError:\n",
    "    import sys  # noqa: F401\n",
    "\n",
    "    !{sys.executable} -m pip install differt[all]"
   ]
  },
  {
   "cell_type": "markdown",
   "id": "1",
   "metadata": {},
   "source": [
    "# Handling Diffraction\n",
    "\n",
    "Like reflection, diffraction changes the direction of rays that interact with the edges of an object. \n",
    "An edge can be a line segment or any *rough* transition between two adjacent surfaces.\n",
    "The angle of deflection depends on the angle between the incoming ray and the local\n",
    "direction of the edge at the point of incidence.\n",
    "\n",
    "```{todo}\n",
    "add diffraction on straight edge image from MPT\n",
    "```\n",
    "\n",
    "Unlike reflection, a ray is diffracted into a continuum of rays that form a cone-like structure around the edge.\n",
    "\n",
    ":::{important}\n",
    "This tutorial is still TODO, but you can find premise of it below.\n",
    ":::"
   ]
  },
  {
   "cell_type": "code",
   "execution_count": null,
   "id": "2",
   "metadata": {},
   "outputs": [],
   "source": [
    "import jax.numpy as jnp\n",
    "\n",
    "from differt.geometry import TriangleMesh, assemble_paths\n",
    "from differt.plotting import draw_paths, set_defaults\n",
    "from differt.rt import fermat_path_on_linear_objects\n",
    "from differt.scene import TriangleScene"
   ]
  },
  {
   "cell_type": "code",
   "execution_count": null,
   "id": "3",
   "metadata": {},
   "outputs": [],
   "source": [
    "set_defaults(\"plotly\")\n",
    "\n",
    "corner = TriangleMesh.box()[0:4]\n",
    "\n",
    "h = jnp.linspace(-0.5, 0.5, 5)\n",
    "edge_origins = jnp.array([[-0.5, 0.5, -0.5]])\n",
    "edge_vectors = jnp.array([[[0.0, 0.0, 1.0]]])\n",
    "receivers = jnp.stack((jnp.zeros_like(h), jnp.ones_like(h), h), axis=-1)\n",
    "scene = TriangleScene(\n",
    "    transmitters=jnp.array([-1.0, -0.5, 0.0]), receivers=receivers, mesh=corner\n",
    ")\n",
    "fig = scene.plot(\n",
    "    tx_kwargs={\"labels\": \"BS\", \"name\": \"BS\"},\n",
    "    rx_kwargs={\n",
    "        \"labels\": \"UE\",\n",
    "        \"marker_size\": 5,\n",
    "        \"name\": \"UEs\",\n",
    "        \"textfont_size\": 10,\n",
    "    },\n",
    ")\n",
    "fig"
   ]
  },
  {
   "cell_type": "code",
   "execution_count": null,
   "id": "4",
   "metadata": {},
   "outputs": [],
   "source": [
    "paths = fermat_path_on_linear_objects(\n",
    "    scene.transmitters, scene.receivers, edge_origins, edge_vectors\n",
    ")\n",
    "\n",
    "paths = assemble_paths(\n",
    "    scene.transmitters.reshape(1, 1, 3),\n",
    "    paths,\n",
    "    scene.receivers.reshape(-1, 1, 3),\n",
    ")\n",
    "\n",
    "draw_paths(paths, figure=fig, name=\"Diffraction paths\")"
   ]
  }
 ],
 "metadata": {
  "kernelspec": {
   "display_name": "Python 3 (ipykernel)",
   "language": "python",
   "name": "python3"
  },
  "language_info": {
   "codemirror_mode": {
    "name": "ipython",
    "version": 3
   },
   "file_extension": ".py",
   "mimetype": "text/x-python",
   "name": "python",
   "nbconvert_exporter": "python",
   "pygments_lexer": "ipython3",
   "version": "3.11.10"
  }
 },
 "nbformat": 4,
 "nbformat_minor": 5
}
