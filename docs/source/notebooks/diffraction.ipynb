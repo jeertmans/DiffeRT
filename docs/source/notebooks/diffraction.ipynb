{
 "cells": [
  {
   "cell_type": "markdown",
   "id": "dd7d10a7-b006-4112-bf51-16e519ffd0c1",
   "metadata": {},
   "source": [
    "# Handling Diffraction\n",
    "\n",
    "Like reflection, diffraction changes the direction of rays that interact with the edges of an object. \n",
    "An edge can be a line segment or any *rough* transition between two adjacent surfaces.\n",
    "The angle of deflection depends on the angle between the incoming ray and the local\n",
    "direction of the edge at the point of incidence.\n",
    "\n",
    "<TODO: add diffraction on straight edge image from MPT>\n",
    "\n",
    "Unlike reflection, a ray is diffracted into a continuum of rays that form a cone-like structure around the edge."
   ]
  },
  {
   "cell_type": "code",
   "execution_count": null,
   "id": "7f48a5a2-5531-4c42-a2e3-9106589a5347",
   "metadata": {},
   "outputs": [],
   "source": [
    "# This tutorial is TODO"
   ]
  }
 ],
 "metadata": {
  "kernelspec": {
   "display_name": "Python 3 (ipykernel)",
   "language": "python",
   "name": "python3"
  },
  "language_info": {
   "codemirror_mode": {
    "name": "ipython",
    "version": 3
   },
   "file_extension": ".py",
   "mimetype": "text/x-python",
   "name": "python",
   "nbconvert_exporter": "python",
   "pygments_lexer": "ipython3",
   "version": "3.10.12"
  }
 },
 "nbformat": 4,
 "nbformat_minor": 5
}
