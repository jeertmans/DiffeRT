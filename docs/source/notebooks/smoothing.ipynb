{
 "cells": [
  {
   "cell_type": "code",
   "execution_count": null,
   "id": "0",
   "metadata": {
    "tags": [
     "differt-install-preamble",
     "remove-cell",
     "skip-execution"
    ]
   },
   "outputs": [],
   "source": [
    "# Run this cell to install DiffeRT and its dependencies, e.g., on Google Colab\n",
    "\n",
    "try:\n",
    "    import differt  # noqa: F401\n",
    "except ImportError:\n",
    "    import sys  # noqa: F401\n",
    "\n",
    "    !{sys.executable} -m pip install differt[all]"
   ]
  },
  {
   "cell_type": "markdown",
   "id": "1",
   "metadata": {},
   "source": [
    "(smoothing)=\n",
    "# Smoothing Discontinuities for Fully Differentiable Ray Tracing\n",
    "\n",
    "In a previous work {cite}`fully-eucap2024`, we introduce a smoothing technique that aims\n",
    "at smoothing the discontinuities caused by Ray Tracing in the hope to make optimization\n",
    "through gradient descent easier. This technique was originally implemented in {cite}`differt2d`,\n",
    "and we now aim to reproduce a similar implementation inside DiffeRT, but with less flexibility to\n",
    "reduce code complexity.\n",
    "\n",
    "We will not go into details of how the method actually work, nor the actual implementation details,\n",
    "but you can always read the source code or the original paper {cite}`fully-eucap2024` for more information.\n",
    "\n",
    "## Smoothing Function\n",
    "\n",
    "The smoothing function can be any smooth function {math}`s: (x;\\alpha) \\in \\mathbb{R} \\times \\mathbb{R}^+ \\mapsto s(x;\\alpha) \\in [0;1]`, with {math}`s \\in C^1`, with the following properties on the smoothing factor {math}`\\alpha`:\n",
    "\n",
    ":::{math}\n",
    "    \\lim_{\\alpha\\rightarrow\\infty} s(x;\\alpha) = \\theta(x),\n",
    ":::\n",
    "\n",
    "where\n",
    "\n",
    ":::{math}\n",
    "\\theta(x) = \\begin{cases} 1, &\\text{if }x>0,\\\\ 0, &\\text{otherwise.}\\end{cases}\n",
    ":::\n",
    "\n",
    "In practice, additional constraints are imposed to {math}`s`, but they are not detailed here.\n",
    "Evaluating {math}`s(0;\\alpha)` is considered to be *undefined behavior*, even if it returns actual values (e.g., {math}`\\frac{1}{2}`), as it might change in the future.\n",
    "\n",
    "## Upstream functions using smoothing\n",
    "\n",
    "Currently, only a limited set of functions allow returning a *smoothed-out* value\n",
    "instead of a hard boolean decision. The most important function is\n",
    "{meth}`TriangleScene.compute_paths<differt.scene.TriangleScene.compute_paths>`. The rest\n",
    "are downstream functions used by the latter, and can be identified with their optional\n",
    "`smoothing_factor` argument.\n",
    "\n",
    "## Boolean equivalents\n",
    "\n",
    "The following boolean comparisons are evaluated with the following equivalent real-value functions:\n",
    "\n",
    ":::{table} Real-valued equivalents to common boolean operators\n",
    ":widths: auto\n",
    ":align: center\n",
    "\n",
    "| boolean | real-valued |\n",
    "| --- | --- |\n",
    "| `x \\| y` | {func}`jnp.minimum(x, y)<jax.numpy.minimum>` |\n",
    "| `x & y` | {func}`jnp.maximum(x, y)<jax.numpy.maximum>` |\n",
    "| `x > y` | {func}`s(x - y)<differt.utils.smoothing_function>` |\n",
    "| `x < y` | {func}`s(y - x)<differt.utils.smoothing_function>` |\n",
    "| `x >= y` | {func}`s(x - y)<differt.utils.smoothing_function>` |\n",
    "| `x <= y` | {func}`s(y - x)<differt.utils.smoothing_function>` |\n",
    ":::\n",
    "\n",
    "Note the lack of stick equality operator, as it is (currently) not required by upstream functions.\n"
   ]
  },
  {
   "cell_type": "markdown",
   "id": "2",
   "metadata": {},
   "source": [
    "## Examples\n",
    "\n",
    "In this section, we show usage examples of the smoothing techniques.\n",
    "\n",
    "### Coverage Map\n",
    "\n",
    "TODO\n",
    "\n",
    "### Optimizing TX Position\n",
    "\n",
    "TODO"
   ]
  }
 ],
 "metadata": {
  "kernelspec": {
   "display_name": "Python 3 (ipykernel)",
   "language": "python",
   "name": "python3"
  },
  "language_info": {
   "codemirror_mode": {
    "name": "ipython",
    "version": 3
   },
   "file_extension": ".py",
   "mimetype": "text/x-python",
   "name": "python",
   "nbconvert_exporter": "python",
   "pygments_lexer": "ipython3",
   "version": "3.11.8"
  },
  "mystnb": {
   "execution_mode": "off"
  }
 },
 "nbformat": 4,
 "nbformat_minor": 5
}
