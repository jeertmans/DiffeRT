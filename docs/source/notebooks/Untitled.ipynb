{
 "cells": [
  {
   "cell_type": "code",
   "execution_count": 3,
   "id": "89b3fe20-6380-45a6-816c-4fe4b235022d",
   "metadata": {
    "tags": []
   },
   "outputs": [
    {
     "data": {
      "application/vnd.jupyter.widget-view+json": {
       "model_id": "c6e52eb6f4304b13adfe7415d381be52",
       "version_major": 2,
       "version_minor": 0
      },
      "text/plain": [
       "RFBOutputContext()"
      ]
     },
     "metadata": {},
     "output_type": "display_data"
    },
    {
     "data": {
      "application/vnd.jupyter.widget-view+json": {
       "model_id": "aedcc32d6b2b49dbb3eb0d40d03f9395",
       "version_major": 2,
       "version_minor": 0
      },
      "text/html": [
       "<div class='snapshot-aedcc32d6b2b49dbb3eb0d40d03f9395' style='position:relative;'><img src='data:image/png;base64,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' style='width:500.0px;height:400.0px;' /><div style='position: absolute; top:0; left:0; padding:1px 3px; background: #777; color:#fff; font-size: 90%; font-family:sans-serif; '>snapshot</div></div>"
      ],
      "text/plain": [
       "CanvasBackend(css_height='400px')"
      ]
     },
     "execution_count": 3,
     "metadata": {},
     "output_type": "execute_result"
    }
   ],
   "source": [
    "from IPython.display import display\n",
    "from vispy import scene\n",
    "from vispy.visuals.transforms import STTransform\n",
    "\n",
    "canvas = scene.SceneCanvas(keys='interactive', bgcolor='white',\n",
    "                           size=(500, 400), show=True, resizable=True)\n",
    "\n",
    "view = canvas.central_widget.add_view()\n",
    "view.camera = 'arcball'\n",
    "\n",
    "sphere1 = scene.visuals.Sphere(radius=1, method='latitude', parent=view.scene,\n",
    "                               edge_color='black')\n",
    "\n",
    "sphere2 = scene.visuals.Sphere(radius=1, method='ico', parent=view.scene,\n",
    "                               edge_color='black')\n",
    "\n",
    "sphere3 = scene.visuals.Sphere(radius=1, rows=10, cols=10, depth=10,\n",
    "                               method='cube', parent=view.scene,\n",
    "                               edge_color='black')\n",
    "\n",
    "sphere1.transform = STTransform(translate=[-2.5, 0, 0])\n",
    "sphere3.transform = STTransform(translate=[2.5, 0, 0])\n",
    "\n",
    "view.camera.set_range(x=[-3, 3])\n",
    "canvas"
   ]
  },
  {
   "cell_type": "code",
   "execution_count": null,
   "id": "4cfeb234-5da6-47d5-942f-e13200819e10",
   "metadata": {},
   "outputs": [],
   "source": []
  }
 ],
 "metadata": {
  "kernelspec": {
   "display_name": "DiffeRT",
   "language": "python",
   "name": "differt"
  },
  "language_info": {
   "codemirror_mode": {
    "name": "ipython",
    "version": 3
   },
   "file_extension": ".py",
   "mimetype": "text/x-python",
   "name": "python",
   "nbconvert_exporter": "python",
   "pygments_lexer": "ipython3",
   "version": "3.10.12"
  }
 },
 "nbformat": 4,
 "nbformat_minor": 5
}
