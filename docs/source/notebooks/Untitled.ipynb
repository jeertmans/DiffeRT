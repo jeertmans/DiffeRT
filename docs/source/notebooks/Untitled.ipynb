{
 "cells": [
  {
   "cell_type": "markdown",
   "id": "0cbdcc9c-27f3-442a-aa37-552a4a49f428",
   "metadata": {},
   "source": [
    "# Received Power Optimization"
   ]
  },
  {
   "cell_type": "code",
   "execution_count": 2,
   "id": "3f6c2883-c707-429e-b5ea-5536755438d5",
   "metadata": {},
   "outputs": [],
   "source": [
    "import jax.numpy as jnp\n",
    "import numpy as np\n",
    "from tqdm.notebook import tqdm, trange\n",
    "from vispy.scene.visuals import Image\n",
    "from vispy.visuals.transforms import STTransform\n",
    "\n",
    "import differt.plotting as dplt\n",
    "from differt.geometry import TriangleMesh\n",
    "from differt.geometry.triangle_mesh import (\n",
    "    triangles_contain_vertices_assuming_inside_same_plane,\n",
    ")\n",
    "from differt.rt.image_method import (\n",
    "    consecutive_vertices_are_on_same_side_of_mirrors,\n",
    "    image_method,\n",
    ")\n",
    "from differt.rt.utils import (\n",
    "    generate_all_path_candidates_chunks_iter,\n",
    "    rays_intersect_any_triangle,\n",
    "    rays_intersect_triangles,\n",
    ")"
   ]
  },
  {
   "cell_type": "code",
   "execution_count": 10,
   "id": "42b3feb9-3e1f-4537-9268-cbe8578ec2a2",
   "metadata": {},
   "outputs": [
    {
     "data": {
      "application/vnd.jupyter.widget-view+json": {
       "model_id": "3491f231c9ce487b90466ff9223e3063",
       "version_major": 2,
       "version_minor": 0
      },
      "text/plain": [
       "RFBOutputContext()"
      ]
     },
     "metadata": {},
     "output_type": "display_data"
    },
    {
     "data": {
      "application/vnd.jupyter.widget-view+json": {
       "model_id": "",
       "version_major": 2,
       "version_minor": 0
      },
      "text/plain": [
       "  0%|          | 0/3 [00:00<?, ?it/s]"
      ]
     },
     "metadata": {},
     "output_type": "display_data"
    },
    {
     "data": {
      "application/vnd.jupyter.widget-view+json": {
       "model_id": "",
       "version_major": 2,
       "version_minor": 0
      },
      "text/plain": [
       "  0%|          | 0/1 [00:00<?, ?it/s]"
      ]
     },
     "metadata": {},
     "output_type": "display_data"
    },
    {
     "data": {
      "application/vnd.jupyter.widget-view+json": {
       "model_id": "",
       "version_major": 2,
       "version_minor": 0
      },
      "text/plain": [
       "  0%|          | 0/1 [00:00<?, ?it/s]"
      ]
     },
     "metadata": {},
     "output_type": "display_data"
    },
    {
     "data": {
      "application/vnd.jupyter.widget-view+json": {
       "model_id": "",
       "version_major": 2,
       "version_minor": 0
      },
      "text/plain": [
       "  0%|          | 0/7 [00:00<?, ?it/s]"
      ]
     },
     "metadata": {},
     "output_type": "display_data"
    },
    {
     "data": {
      "application/vnd.jupyter.widget-view+json": {
       "model_id": "6f90248be6bd4f9db9e55ca2388693c3",
       "version_major": 2,
       "version_minor": 0
      },
      "text/html": [
       "<div class='snapshot-6f90248be6bd4f9db9e55ca2388693c3' style='position:relative;'><img src='data:image/png;base64,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' style='width:800.0px;height:600.0px;' /><div style='position: absolute; top:0; left:0; padding:1px 3px; background: #777; color:#fff; font-size: 90%; font-family:sans-serif; '>snapshot</div></div>"
      ],
      "text/plain": [
       "CanvasBackend(css_height='600px', css_width='800px')"
      ]
     },
     "execution_count": 10,
     "metadata": {},
     "output_type": "execute_result"
    }
   ],
   "source": [
    "mesh_file = \"two_buildings_with_ground.obj\"  # Very simple scene with two buildings and one ground plane\n",
    "mesh = TriangleMesh.load_obj(mesh_file)\n",
    "\n",
    "canvas = mesh.plot()\n",
    "tx = jnp.array([0.0, 4.9352, 22.0])\n",
    "rx = jnp.array([0.0, 10.034, 1.50])\n",
    "\n",
    "dplt.draw_markers(np.array([tx, rx]), [\"tx\", \"rx\"], canvas=canvas)\n",
    "\n",
    "all_triangle_vertices = jnp.take(mesh.vertices, mesh.triangles, axis=0)\n",
    "\n",
    "x_tri = all_triangle_vertices[..., 0]\n",
    "y_tri = all_triangle_vertices[..., 1]\n",
    "\n",
    "N = 50\n",
    "\n",
    "x = jnp.linspace(x_tri.min(), x_tri.max(), N)\n",
    "y = jnp.linspace(y_tri.min(), y_tri.max(), N)\n",
    "X, Y = jnp.meshgrid(x, y)\n",
    "Z = 1.5 * jnp.ones_like(X)\n",
    "RX = jnp.stack((X, Y, Z), axis=-1)\n",
    "\n",
    "power = jnp.zeros_like(X)\n",
    "\n",
    "num_triangles = mesh.triangles.shape[0]\n",
    "\n",
    "for order in trange(\n",
    "    0, 3, leave=False\n",
    "):  # You probably don't want to try order > 1 (too slow if testing all paths)\n",
    "    # Prepare input arrays\n",
    "    for path_candidates in tqdm(\n",
    "        generate_all_path_candidates_chunks_iter(num_triangles, order, chunk_size=100),\n",
    "        leave=False,\n",
    "    ):\n",
    "        num_path_candidates = path_candidates.shape[0]\n",
    "        from_vertices = jnp.tile(tx, (N, N, num_path_candidates, 1))\n",
    "        to_vertices = jnp.tile(\n",
    "            jnp.expand_dims(RX, axis=-2), (1, 1, num_path_candidates, 1)\n",
    "        )\n",
    "        path_candidates = jnp.tile(path_candidates, (N, N, 1, 1))\n",
    "        triangles = jnp.take(mesh.triangles, path_candidates, axis=0)\n",
    "        triangle_vertices = jnp.take(mesh.vertices, triangles, axis=0)\n",
    "        mirror_vertices = triangle_vertices[..., 0, :]\n",
    "        mirror_normals = jnp.take(mesh.normals, path_candidates, axis=0)\n",
    "        paths = image_method(\n",
    "            from_vertices, to_vertices, mirror_vertices, mirror_normals\n",
    "        )\n",
    "        mask = triangles_contain_vertices_assuming_inside_same_plane(\n",
    "            triangle_vertices,\n",
    "            paths,\n",
    "        )\n",
    "        mask_1 = jnp.all(mask, axis=-1)\n",
    "        full_paths = jnp.concatenate(\n",
    "            (\n",
    "                jnp.expand_dims(from_vertices, axis=-2),\n",
    "                paths,\n",
    "                jnp.expand_dims(to_vertices, axis=-2),\n",
    "            ),\n",
    "            axis=-2,\n",
    "        )\n",
    "        mask_2 = consecutive_vertices_are_on_same_side_of_mirrors(\n",
    "            full_paths, mirror_vertices, mirror_normals\n",
    "        )\n",
    "        mask_2 = jnp.all(mask_2, axis=-1)\n",
    "        ray_origins = full_paths[..., :-1, :]\n",
    "        ray_directions = jnp.diff(full_paths, axis=-2)\n",
    "        ray_origins = jnp.repeat(\n",
    "            jnp.expand_dims(ray_origins, axis=-2), num_triangles, axis=-2\n",
    "        )\n",
    "        ray_directions = jnp.repeat(\n",
    "            jnp.expand_dims(ray_directions, axis=-2), num_triangles, axis=-2\n",
    "        )\n",
    "        t, hit = rays_intersect_triangles(\n",
    "            ray_origins,\n",
    "            ray_directions,\n",
    "            jnp.broadcast_to(all_triangle_vertices, (*ray_origins.shape, 3)),\n",
    "        )\n",
    "        intersect = (t < 0.999) & hit\n",
    "        intersect = jnp.any(intersect, axis=(-1, -2))\n",
    "        mask_2 = mask_2 & ~intersect\n",
    "        mask = mask_1 & mask_2\n",
    "\n",
    "        lengths = jnp.linalg.norm(full_paths, axis=-1).sum(axis=-1)\n",
    "        power_per_path = 1.0 / (lengths * lengths)\n",
    "        power_per_path *= mask.astype(power_per_path.dtype)\n",
    "\n",
    "        # print(f\"{power_per_path.shape = }\")\n",
    "        # print(f\"{mask_1.shape = }\")\n",
    "        # print(f\"{mask_2.shape = }\")\n",
    "\n",
    "        # print(lengths.shape)\n",
    "\n",
    "        power += power_per_path.sum(axis=-1)\n",
    "\n",
    "\n",
    "image = Image(power, interpolation=\"nearest\", method=\"subdivide\", cmap=\"jet\")\n",
    "image.transform = STTransform(\n",
    "    scale=(abs(np.max(x) - np.min(x)) / N, abs(np.max(y) - np.min(y)) / N),\n",
    "    translate=(np.min(x), np.min(y), 1.5),\n",
    ")\n",
    "\n",
    "view = dplt.view_from_canvas(canvas)\n",
    "view.add(image)\n",
    "\n",
    "canvas"
   ]
  },
  {
   "cell_type": "code",
   "execution_count": 11,
   "id": "ea5e931f-6145-4738-96e0-41419b30cd02",
   "metadata": {},
   "outputs": [],
   "source": [
    "from differt.plotting import process_matplotlib_kwargs"
   ]
  },
  {
   "cell_type": "code",
   "execution_count": 18,
   "id": "b485560a-9360-4457-a818-4f23fb652644",
   "metadata": {},
   "outputs": [
    {
     "data": {
      "text/plain": [
       "<matplotlib.collections.QuadMesh at 0x7f8002393940>"
      ]
     },
     "execution_count": 18,
     "metadata": {},
     "output_type": "execute_result"
    },
    {
     "name": "stdout",
     "output_type": "stream",
     "text": [
      "Error in callback <function _draw_all_if_interactive at 0x7f8002451360> (for post_execute), with arguments args (),kwargs {}:\n"
     ]
    },
    {
     "ename": "AttributeError",
     "evalue": "'QuadMesh' object has no attribute 'do_3d_projection'",
     "output_type": "error",
     "traceback": [
      "\u001b[0;31m---------------------------------------------------------------------------\u001b[0m",
      "\u001b[0;31mAttributeError\u001b[0m                            Traceback (most recent call last)",
      "File \u001b[0;32m~/repositories/DiffeRT/DiffeRT/.venv/lib/python3.10/site-packages/matplotlib/pyplot.py:197\u001b[0m, in \u001b[0;36m_draw_all_if_interactive\u001b[0;34m()\u001b[0m\n\u001b[1;32m    195\u001b[0m \u001b[38;5;28;01mdef\u001b[39;00m \u001b[38;5;21m_draw_all_if_interactive\u001b[39m() \u001b[38;5;241m-\u001b[39m\u001b[38;5;241m>\u001b[39m \u001b[38;5;28;01mNone\u001b[39;00m:\n\u001b[1;32m    196\u001b[0m     \u001b[38;5;28;01mif\u001b[39;00m matplotlib\u001b[38;5;241m.\u001b[39mis_interactive():\n\u001b[0;32m--> 197\u001b[0m         \u001b[43mdraw_all\u001b[49m\u001b[43m(\u001b[49m\u001b[43m)\u001b[49m\n",
      "File \u001b[0;32m~/repositories/DiffeRT/DiffeRT/.venv/lib/python3.10/site-packages/matplotlib/_pylab_helpers.py:132\u001b[0m, in \u001b[0;36mGcf.draw_all\u001b[0;34m(cls, force)\u001b[0m\n\u001b[1;32m    130\u001b[0m \u001b[38;5;28;01mfor\u001b[39;00m manager \u001b[38;5;129;01min\u001b[39;00m \u001b[38;5;28mcls\u001b[39m\u001b[38;5;241m.\u001b[39mget_all_fig_managers():\n\u001b[1;32m    131\u001b[0m     \u001b[38;5;28;01mif\u001b[39;00m force \u001b[38;5;129;01mor\u001b[39;00m manager\u001b[38;5;241m.\u001b[39mcanvas\u001b[38;5;241m.\u001b[39mfigure\u001b[38;5;241m.\u001b[39mstale:\n\u001b[0;32m--> 132\u001b[0m         \u001b[43mmanager\u001b[49m\u001b[38;5;241;43m.\u001b[39;49m\u001b[43mcanvas\u001b[49m\u001b[38;5;241;43m.\u001b[39;49m\u001b[43mdraw_idle\u001b[49m\u001b[43m(\u001b[49m\u001b[43m)\u001b[49m\n",
      "File \u001b[0;32m~/repositories/DiffeRT/DiffeRT/.venv/lib/python3.10/site-packages/matplotlib/backend_bases.py:1893\u001b[0m, in \u001b[0;36mFigureCanvasBase.draw_idle\u001b[0;34m(self, *args, **kwargs)\u001b[0m\n\u001b[1;32m   1891\u001b[0m \u001b[38;5;28;01mif\u001b[39;00m \u001b[38;5;129;01mnot\u001b[39;00m \u001b[38;5;28mself\u001b[39m\u001b[38;5;241m.\u001b[39m_is_idle_drawing:\n\u001b[1;32m   1892\u001b[0m     \u001b[38;5;28;01mwith\u001b[39;00m \u001b[38;5;28mself\u001b[39m\u001b[38;5;241m.\u001b[39m_idle_draw_cntx():\n\u001b[0;32m-> 1893\u001b[0m         \u001b[38;5;28;43mself\u001b[39;49m\u001b[38;5;241;43m.\u001b[39;49m\u001b[43mdraw\u001b[49m\u001b[43m(\u001b[49m\u001b[38;5;241;43m*\u001b[39;49m\u001b[43margs\u001b[49m\u001b[43m,\u001b[49m\u001b[43m \u001b[49m\u001b[38;5;241;43m*\u001b[39;49m\u001b[38;5;241;43m*\u001b[39;49m\u001b[43mkwargs\u001b[49m\u001b[43m)\u001b[49m\n",
      "File \u001b[0;32m~/repositories/DiffeRT/DiffeRT/.venv/lib/python3.10/site-packages/matplotlib/backends/backend_agg.py:388\u001b[0m, in \u001b[0;36mFigureCanvasAgg.draw\u001b[0;34m(self)\u001b[0m\n\u001b[1;32m    385\u001b[0m \u001b[38;5;66;03m# Acquire a lock on the shared font cache.\u001b[39;00m\n\u001b[1;32m    386\u001b[0m \u001b[38;5;28;01mwith\u001b[39;00m (\u001b[38;5;28mself\u001b[39m\u001b[38;5;241m.\u001b[39mtoolbar\u001b[38;5;241m.\u001b[39m_wait_cursor_for_draw_cm() \u001b[38;5;28;01mif\u001b[39;00m \u001b[38;5;28mself\u001b[39m\u001b[38;5;241m.\u001b[39mtoolbar\n\u001b[1;32m    387\u001b[0m       \u001b[38;5;28;01melse\u001b[39;00m nullcontext()):\n\u001b[0;32m--> 388\u001b[0m     \u001b[38;5;28;43mself\u001b[39;49m\u001b[38;5;241;43m.\u001b[39;49m\u001b[43mfigure\u001b[49m\u001b[38;5;241;43m.\u001b[39;49m\u001b[43mdraw\u001b[49m\u001b[43m(\u001b[49m\u001b[38;5;28;43mself\u001b[39;49m\u001b[38;5;241;43m.\u001b[39;49m\u001b[43mrenderer\u001b[49m\u001b[43m)\u001b[49m\n\u001b[1;32m    389\u001b[0m     \u001b[38;5;66;03m# A GUI class may be need to update a window using this draw, so\u001b[39;00m\n\u001b[1;32m    390\u001b[0m     \u001b[38;5;66;03m# don't forget to call the superclass.\u001b[39;00m\n\u001b[1;32m    391\u001b[0m     \u001b[38;5;28msuper\u001b[39m()\u001b[38;5;241m.\u001b[39mdraw()\n",
      "File \u001b[0;32m~/repositories/DiffeRT/DiffeRT/.venv/lib/python3.10/site-packages/matplotlib/artist.py:95\u001b[0m, in \u001b[0;36m_finalize_rasterization.<locals>.draw_wrapper\u001b[0;34m(artist, renderer, *args, **kwargs)\u001b[0m\n\u001b[1;32m     93\u001b[0m \u001b[38;5;129m@wraps\u001b[39m(draw)\n\u001b[1;32m     94\u001b[0m \u001b[38;5;28;01mdef\u001b[39;00m \u001b[38;5;21mdraw_wrapper\u001b[39m(artist, renderer, \u001b[38;5;241m*\u001b[39margs, \u001b[38;5;241m*\u001b[39m\u001b[38;5;241m*\u001b[39mkwargs):\n\u001b[0;32m---> 95\u001b[0m     result \u001b[38;5;241m=\u001b[39m \u001b[43mdraw\u001b[49m\u001b[43m(\u001b[49m\u001b[43martist\u001b[49m\u001b[43m,\u001b[49m\u001b[43m \u001b[49m\u001b[43mrenderer\u001b[49m\u001b[43m,\u001b[49m\u001b[43m \u001b[49m\u001b[38;5;241;43m*\u001b[39;49m\u001b[43margs\u001b[49m\u001b[43m,\u001b[49m\u001b[43m \u001b[49m\u001b[38;5;241;43m*\u001b[39;49m\u001b[38;5;241;43m*\u001b[39;49m\u001b[43mkwargs\u001b[49m\u001b[43m)\u001b[49m\n\u001b[1;32m     96\u001b[0m     \u001b[38;5;28;01mif\u001b[39;00m renderer\u001b[38;5;241m.\u001b[39m_rasterizing:\n\u001b[1;32m     97\u001b[0m         renderer\u001b[38;5;241m.\u001b[39mstop_rasterizing()\n",
      "File \u001b[0;32m~/repositories/DiffeRT/DiffeRT/.venv/lib/python3.10/site-packages/matplotlib/artist.py:72\u001b[0m, in \u001b[0;36mallow_rasterization.<locals>.draw_wrapper\u001b[0;34m(artist, renderer)\u001b[0m\n\u001b[1;32m     69\u001b[0m     \u001b[38;5;28;01mif\u001b[39;00m artist\u001b[38;5;241m.\u001b[39mget_agg_filter() \u001b[38;5;129;01mis\u001b[39;00m \u001b[38;5;129;01mnot\u001b[39;00m \u001b[38;5;28;01mNone\u001b[39;00m:\n\u001b[1;32m     70\u001b[0m         renderer\u001b[38;5;241m.\u001b[39mstart_filter()\n\u001b[0;32m---> 72\u001b[0m     \u001b[38;5;28;01mreturn\u001b[39;00m \u001b[43mdraw\u001b[49m\u001b[43m(\u001b[49m\u001b[43martist\u001b[49m\u001b[43m,\u001b[49m\u001b[43m \u001b[49m\u001b[43mrenderer\u001b[49m\u001b[43m)\u001b[49m\n\u001b[1;32m     73\u001b[0m \u001b[38;5;28;01mfinally\u001b[39;00m:\n\u001b[1;32m     74\u001b[0m     \u001b[38;5;28;01mif\u001b[39;00m artist\u001b[38;5;241m.\u001b[39mget_agg_filter() \u001b[38;5;129;01mis\u001b[39;00m \u001b[38;5;129;01mnot\u001b[39;00m \u001b[38;5;28;01mNone\u001b[39;00m:\n",
      "File \u001b[0;32m~/repositories/DiffeRT/DiffeRT/.venv/lib/python3.10/site-packages/matplotlib/figure.py:3154\u001b[0m, in \u001b[0;36mFigure.draw\u001b[0;34m(self, renderer)\u001b[0m\n\u001b[1;32m   3151\u001b[0m         \u001b[38;5;66;03m# ValueError can occur when resizing a window.\u001b[39;00m\n\u001b[1;32m   3153\u001b[0m \u001b[38;5;28mself\u001b[39m\u001b[38;5;241m.\u001b[39mpatch\u001b[38;5;241m.\u001b[39mdraw(renderer)\n\u001b[0;32m-> 3154\u001b[0m \u001b[43mmimage\u001b[49m\u001b[38;5;241;43m.\u001b[39;49m\u001b[43m_draw_list_compositing_images\u001b[49m\u001b[43m(\u001b[49m\n\u001b[1;32m   3155\u001b[0m \u001b[43m    \u001b[49m\u001b[43mrenderer\u001b[49m\u001b[43m,\u001b[49m\u001b[43m \u001b[49m\u001b[38;5;28;43mself\u001b[39;49m\u001b[43m,\u001b[49m\u001b[43m \u001b[49m\u001b[43martists\u001b[49m\u001b[43m,\u001b[49m\u001b[43m \u001b[49m\u001b[38;5;28;43mself\u001b[39;49m\u001b[38;5;241;43m.\u001b[39;49m\u001b[43msuppressComposite\u001b[49m\u001b[43m)\u001b[49m\n\u001b[1;32m   3157\u001b[0m \u001b[38;5;28;01mfor\u001b[39;00m sfig \u001b[38;5;129;01min\u001b[39;00m \u001b[38;5;28mself\u001b[39m\u001b[38;5;241m.\u001b[39msubfigs:\n\u001b[1;32m   3158\u001b[0m     sfig\u001b[38;5;241m.\u001b[39mdraw(renderer)\n",
      "File \u001b[0;32m~/repositories/DiffeRT/DiffeRT/.venv/lib/python3.10/site-packages/matplotlib/image.py:132\u001b[0m, in \u001b[0;36m_draw_list_compositing_images\u001b[0;34m(renderer, parent, artists, suppress_composite)\u001b[0m\n\u001b[1;32m    130\u001b[0m \u001b[38;5;28;01mif\u001b[39;00m not_composite \u001b[38;5;129;01mor\u001b[39;00m \u001b[38;5;129;01mnot\u001b[39;00m has_images:\n\u001b[1;32m    131\u001b[0m     \u001b[38;5;28;01mfor\u001b[39;00m a \u001b[38;5;129;01min\u001b[39;00m artists:\n\u001b[0;32m--> 132\u001b[0m         \u001b[43ma\u001b[49m\u001b[38;5;241;43m.\u001b[39;49m\u001b[43mdraw\u001b[49m\u001b[43m(\u001b[49m\u001b[43mrenderer\u001b[49m\u001b[43m)\u001b[49m\n\u001b[1;32m    133\u001b[0m \u001b[38;5;28;01melse\u001b[39;00m:\n\u001b[1;32m    134\u001b[0m     \u001b[38;5;66;03m# Composite any adjacent images together\u001b[39;00m\n\u001b[1;32m    135\u001b[0m     image_group \u001b[38;5;241m=\u001b[39m []\n",
      "File \u001b[0;32m~/repositories/DiffeRT/DiffeRT/.venv/lib/python3.10/site-packages/matplotlib/artist.py:72\u001b[0m, in \u001b[0;36mallow_rasterization.<locals>.draw_wrapper\u001b[0;34m(artist, renderer)\u001b[0m\n\u001b[1;32m     69\u001b[0m     \u001b[38;5;28;01mif\u001b[39;00m artist\u001b[38;5;241m.\u001b[39mget_agg_filter() \u001b[38;5;129;01mis\u001b[39;00m \u001b[38;5;129;01mnot\u001b[39;00m \u001b[38;5;28;01mNone\u001b[39;00m:\n\u001b[1;32m     70\u001b[0m         renderer\u001b[38;5;241m.\u001b[39mstart_filter()\n\u001b[0;32m---> 72\u001b[0m     \u001b[38;5;28;01mreturn\u001b[39;00m \u001b[43mdraw\u001b[49m\u001b[43m(\u001b[49m\u001b[43martist\u001b[49m\u001b[43m,\u001b[49m\u001b[43m \u001b[49m\u001b[43mrenderer\u001b[49m\u001b[43m)\u001b[49m\n\u001b[1;32m     73\u001b[0m \u001b[38;5;28;01mfinally\u001b[39;00m:\n\u001b[1;32m     74\u001b[0m     \u001b[38;5;28;01mif\u001b[39;00m artist\u001b[38;5;241m.\u001b[39mget_agg_filter() \u001b[38;5;129;01mis\u001b[39;00m \u001b[38;5;129;01mnot\u001b[39;00m \u001b[38;5;28;01mNone\u001b[39;00m:\n",
      "File \u001b[0;32m~/repositories/DiffeRT/DiffeRT/.venv/lib/python3.10/site-packages/mpl_toolkits/mplot3d/axes3d.py:472\u001b[0m, in \u001b[0;36mAxes3D.draw\u001b[0;34m(self, renderer)\u001b[0m\n\u001b[1;32m    468\u001b[0m zorder_offset \u001b[38;5;241m=\u001b[39m \u001b[38;5;28mmax\u001b[39m(axis\u001b[38;5;241m.\u001b[39mget_zorder()\n\u001b[1;32m    469\u001b[0m                     \u001b[38;5;28;01mfor\u001b[39;00m axis \u001b[38;5;129;01min\u001b[39;00m \u001b[38;5;28mself\u001b[39m\u001b[38;5;241m.\u001b[39m_axis_map\u001b[38;5;241m.\u001b[39mvalues()) \u001b[38;5;241m+\u001b[39m \u001b[38;5;241m1\u001b[39m\n\u001b[1;32m    470\u001b[0m collection_zorder \u001b[38;5;241m=\u001b[39m patch_zorder \u001b[38;5;241m=\u001b[39m zorder_offset\n\u001b[0;32m--> 472\u001b[0m \u001b[38;5;28;01mfor\u001b[39;00m artist \u001b[38;5;129;01min\u001b[39;00m \u001b[38;5;28;43msorted\u001b[39;49m\u001b[43m(\u001b[49m\u001b[43mcollections_and_patches\u001b[49m\u001b[43m,\u001b[49m\n\u001b[1;32m    473\u001b[0m \u001b[43m                     \u001b[49m\u001b[43mkey\u001b[49m\u001b[38;5;241;43m=\u001b[39;49m\u001b[38;5;28;43;01mlambda\u001b[39;49;00m\u001b[43m \u001b[49m\u001b[43martist\u001b[49m\u001b[43m:\u001b[49m\u001b[43m \u001b[49m\u001b[43martist\u001b[49m\u001b[38;5;241;43m.\u001b[39;49m\u001b[43mdo_3d_projection\u001b[49m\u001b[43m(\u001b[49m\u001b[43m)\u001b[49m\u001b[43m,\u001b[49m\n\u001b[1;32m    474\u001b[0m \u001b[43m                     \u001b[49m\u001b[43mreverse\u001b[49m\u001b[38;5;241;43m=\u001b[39;49m\u001b[38;5;28;43;01mTrue\u001b[39;49;00m\u001b[43m)\u001b[49m:\n\u001b[1;32m    475\u001b[0m     \u001b[38;5;28;01mif\u001b[39;00m \u001b[38;5;28misinstance\u001b[39m(artist, mcoll\u001b[38;5;241m.\u001b[39mCollection):\n\u001b[1;32m    476\u001b[0m         artist\u001b[38;5;241m.\u001b[39mzorder \u001b[38;5;241m=\u001b[39m collection_zorder\n",
      "File \u001b[0;32m~/repositories/DiffeRT/DiffeRT/.venv/lib/python3.10/site-packages/mpl_toolkits/mplot3d/axes3d.py:473\u001b[0m, in \u001b[0;36mAxes3D.draw.<locals>.<lambda>\u001b[0;34m(artist)\u001b[0m\n\u001b[1;32m    468\u001b[0m zorder_offset \u001b[38;5;241m=\u001b[39m \u001b[38;5;28mmax\u001b[39m(axis\u001b[38;5;241m.\u001b[39mget_zorder()\n\u001b[1;32m    469\u001b[0m                     \u001b[38;5;28;01mfor\u001b[39;00m axis \u001b[38;5;129;01min\u001b[39;00m \u001b[38;5;28mself\u001b[39m\u001b[38;5;241m.\u001b[39m_axis_map\u001b[38;5;241m.\u001b[39mvalues()) \u001b[38;5;241m+\u001b[39m \u001b[38;5;241m1\u001b[39m\n\u001b[1;32m    470\u001b[0m collection_zorder \u001b[38;5;241m=\u001b[39m patch_zorder \u001b[38;5;241m=\u001b[39m zorder_offset\n\u001b[1;32m    472\u001b[0m \u001b[38;5;28;01mfor\u001b[39;00m artist \u001b[38;5;129;01min\u001b[39;00m \u001b[38;5;28msorted\u001b[39m(collections_and_patches,\n\u001b[0;32m--> 473\u001b[0m                      key\u001b[38;5;241m=\u001b[39m\u001b[38;5;28;01mlambda\u001b[39;00m artist: \u001b[43martist\u001b[49m\u001b[38;5;241;43m.\u001b[39;49m\u001b[43mdo_3d_projection\u001b[49m(),\n\u001b[1;32m    474\u001b[0m                      reverse\u001b[38;5;241m=\u001b[39m\u001b[38;5;28;01mTrue\u001b[39;00m):\n\u001b[1;32m    475\u001b[0m     \u001b[38;5;28;01mif\u001b[39;00m \u001b[38;5;28misinstance\u001b[39m(artist, mcoll\u001b[38;5;241m.\u001b[39mCollection):\n\u001b[1;32m    476\u001b[0m         artist\u001b[38;5;241m.\u001b[39mzorder \u001b[38;5;241m=\u001b[39m collection_zorder\n",
      "\u001b[0;31mAttributeError\u001b[0m: 'QuadMesh' object has no attribute 'do_3d_projection'"
     ]
    },
    {
     "ename": "AttributeError",
     "evalue": "'QuadMesh' object has no attribute 'do_3d_projection'",
     "output_type": "error",
     "traceback": [
      "\u001b[0;31m---------------------------------------------------------------------------\u001b[0m",
      "\u001b[0;31mAttributeError\u001b[0m                            Traceback (most recent call last)",
      "File \u001b[0;32m~/repositories/DiffeRT/DiffeRT/.venv/lib/python3.10/site-packages/IPython/core/formatters.py:340\u001b[0m, in \u001b[0;36mBaseFormatter.__call__\u001b[0;34m(self, obj)\u001b[0m\n\u001b[1;32m    338\u001b[0m     \u001b[38;5;28;01mpass\u001b[39;00m\n\u001b[1;32m    339\u001b[0m \u001b[38;5;28;01melse\u001b[39;00m:\n\u001b[0;32m--> 340\u001b[0m     \u001b[38;5;28;01mreturn\u001b[39;00m \u001b[43mprinter\u001b[49m\u001b[43m(\u001b[49m\u001b[43mobj\u001b[49m\u001b[43m)\u001b[49m\n\u001b[1;32m    341\u001b[0m \u001b[38;5;66;03m# Finally look for special method names\u001b[39;00m\n\u001b[1;32m    342\u001b[0m method \u001b[38;5;241m=\u001b[39m get_real_method(obj, \u001b[38;5;28mself\u001b[39m\u001b[38;5;241m.\u001b[39mprint_method)\n",
      "File \u001b[0;32m~/repositories/DiffeRT/DiffeRT/.venv/lib/python3.10/site-packages/IPython/core/pylabtools.py:152\u001b[0m, in \u001b[0;36mprint_figure\u001b[0;34m(fig, fmt, bbox_inches, base64, **kwargs)\u001b[0m\n\u001b[1;32m    149\u001b[0m     \u001b[38;5;28;01mfrom\u001b[39;00m \u001b[38;5;21;01mmatplotlib\u001b[39;00m\u001b[38;5;21;01m.\u001b[39;00m\u001b[38;5;21;01mbackend_bases\u001b[39;00m \u001b[38;5;28;01mimport\u001b[39;00m FigureCanvasBase\n\u001b[1;32m    150\u001b[0m     FigureCanvasBase(fig)\n\u001b[0;32m--> 152\u001b[0m \u001b[43mfig\u001b[49m\u001b[38;5;241;43m.\u001b[39;49m\u001b[43mcanvas\u001b[49m\u001b[38;5;241;43m.\u001b[39;49m\u001b[43mprint_figure\u001b[49m\u001b[43m(\u001b[49m\u001b[43mbytes_io\u001b[49m\u001b[43m,\u001b[49m\u001b[43m \u001b[49m\u001b[38;5;241;43m*\u001b[39;49m\u001b[38;5;241;43m*\u001b[39;49m\u001b[43mkw\u001b[49m\u001b[43m)\u001b[49m\n\u001b[1;32m    153\u001b[0m data \u001b[38;5;241m=\u001b[39m bytes_io\u001b[38;5;241m.\u001b[39mgetvalue()\n\u001b[1;32m    154\u001b[0m \u001b[38;5;28;01mif\u001b[39;00m fmt \u001b[38;5;241m==\u001b[39m \u001b[38;5;124m'\u001b[39m\u001b[38;5;124msvg\u001b[39m\u001b[38;5;124m'\u001b[39m:\n",
      "File \u001b[0;32m~/repositories/DiffeRT/DiffeRT/.venv/lib/python3.10/site-packages/matplotlib/backend_bases.py:2164\u001b[0m, in \u001b[0;36mFigureCanvasBase.print_figure\u001b[0;34m(self, filename, dpi, facecolor, edgecolor, orientation, format, bbox_inches, pad_inches, bbox_extra_artists, backend, **kwargs)\u001b[0m\n\u001b[1;32m   2161\u001b[0m     \u001b[38;5;66;03m# we do this instead of `self.figure.draw_without_rendering`\u001b[39;00m\n\u001b[1;32m   2162\u001b[0m     \u001b[38;5;66;03m# so that we can inject the orientation\u001b[39;00m\n\u001b[1;32m   2163\u001b[0m     \u001b[38;5;28;01mwith\u001b[39;00m \u001b[38;5;28mgetattr\u001b[39m(renderer, \u001b[38;5;124m\"\u001b[39m\u001b[38;5;124m_draw_disabled\u001b[39m\u001b[38;5;124m\"\u001b[39m, nullcontext)():\n\u001b[0;32m-> 2164\u001b[0m         \u001b[38;5;28;43mself\u001b[39;49m\u001b[38;5;241;43m.\u001b[39;49m\u001b[43mfigure\u001b[49m\u001b[38;5;241;43m.\u001b[39;49m\u001b[43mdraw\u001b[49m\u001b[43m(\u001b[49m\u001b[43mrenderer\u001b[49m\u001b[43m)\u001b[49m\n\u001b[1;32m   2165\u001b[0m \u001b[38;5;28;01mif\u001b[39;00m bbox_inches:\n\u001b[1;32m   2166\u001b[0m     \u001b[38;5;28;01mif\u001b[39;00m bbox_inches \u001b[38;5;241m==\u001b[39m \u001b[38;5;124m\"\u001b[39m\u001b[38;5;124mtight\u001b[39m\u001b[38;5;124m\"\u001b[39m:\n",
      "File \u001b[0;32m~/repositories/DiffeRT/DiffeRT/.venv/lib/python3.10/site-packages/matplotlib/artist.py:95\u001b[0m, in \u001b[0;36m_finalize_rasterization.<locals>.draw_wrapper\u001b[0;34m(artist, renderer, *args, **kwargs)\u001b[0m\n\u001b[1;32m     93\u001b[0m \u001b[38;5;129m@wraps\u001b[39m(draw)\n\u001b[1;32m     94\u001b[0m \u001b[38;5;28;01mdef\u001b[39;00m \u001b[38;5;21mdraw_wrapper\u001b[39m(artist, renderer, \u001b[38;5;241m*\u001b[39margs, \u001b[38;5;241m*\u001b[39m\u001b[38;5;241m*\u001b[39mkwargs):\n\u001b[0;32m---> 95\u001b[0m     result \u001b[38;5;241m=\u001b[39m \u001b[43mdraw\u001b[49m\u001b[43m(\u001b[49m\u001b[43martist\u001b[49m\u001b[43m,\u001b[49m\u001b[43m \u001b[49m\u001b[43mrenderer\u001b[49m\u001b[43m,\u001b[49m\u001b[43m \u001b[49m\u001b[38;5;241;43m*\u001b[39;49m\u001b[43margs\u001b[49m\u001b[43m,\u001b[49m\u001b[43m \u001b[49m\u001b[38;5;241;43m*\u001b[39;49m\u001b[38;5;241;43m*\u001b[39;49m\u001b[43mkwargs\u001b[49m\u001b[43m)\u001b[49m\n\u001b[1;32m     96\u001b[0m     \u001b[38;5;28;01mif\u001b[39;00m renderer\u001b[38;5;241m.\u001b[39m_rasterizing:\n\u001b[1;32m     97\u001b[0m         renderer\u001b[38;5;241m.\u001b[39mstop_rasterizing()\n",
      "File \u001b[0;32m~/repositories/DiffeRT/DiffeRT/.venv/lib/python3.10/site-packages/matplotlib/artist.py:72\u001b[0m, in \u001b[0;36mallow_rasterization.<locals>.draw_wrapper\u001b[0;34m(artist, renderer)\u001b[0m\n\u001b[1;32m     69\u001b[0m     \u001b[38;5;28;01mif\u001b[39;00m artist\u001b[38;5;241m.\u001b[39mget_agg_filter() \u001b[38;5;129;01mis\u001b[39;00m \u001b[38;5;129;01mnot\u001b[39;00m \u001b[38;5;28;01mNone\u001b[39;00m:\n\u001b[1;32m     70\u001b[0m         renderer\u001b[38;5;241m.\u001b[39mstart_filter()\n\u001b[0;32m---> 72\u001b[0m     \u001b[38;5;28;01mreturn\u001b[39;00m \u001b[43mdraw\u001b[49m\u001b[43m(\u001b[49m\u001b[43martist\u001b[49m\u001b[43m,\u001b[49m\u001b[43m \u001b[49m\u001b[43mrenderer\u001b[49m\u001b[43m)\u001b[49m\n\u001b[1;32m     73\u001b[0m \u001b[38;5;28;01mfinally\u001b[39;00m:\n\u001b[1;32m     74\u001b[0m     \u001b[38;5;28;01mif\u001b[39;00m artist\u001b[38;5;241m.\u001b[39mget_agg_filter() \u001b[38;5;129;01mis\u001b[39;00m \u001b[38;5;129;01mnot\u001b[39;00m \u001b[38;5;28;01mNone\u001b[39;00m:\n",
      "File \u001b[0;32m~/repositories/DiffeRT/DiffeRT/.venv/lib/python3.10/site-packages/matplotlib/figure.py:3154\u001b[0m, in \u001b[0;36mFigure.draw\u001b[0;34m(self, renderer)\u001b[0m\n\u001b[1;32m   3151\u001b[0m         \u001b[38;5;66;03m# ValueError can occur when resizing a window.\u001b[39;00m\n\u001b[1;32m   3153\u001b[0m \u001b[38;5;28mself\u001b[39m\u001b[38;5;241m.\u001b[39mpatch\u001b[38;5;241m.\u001b[39mdraw(renderer)\n\u001b[0;32m-> 3154\u001b[0m \u001b[43mmimage\u001b[49m\u001b[38;5;241;43m.\u001b[39;49m\u001b[43m_draw_list_compositing_images\u001b[49m\u001b[43m(\u001b[49m\n\u001b[1;32m   3155\u001b[0m \u001b[43m    \u001b[49m\u001b[43mrenderer\u001b[49m\u001b[43m,\u001b[49m\u001b[43m \u001b[49m\u001b[38;5;28;43mself\u001b[39;49m\u001b[43m,\u001b[49m\u001b[43m \u001b[49m\u001b[43martists\u001b[49m\u001b[43m,\u001b[49m\u001b[43m \u001b[49m\u001b[38;5;28;43mself\u001b[39;49m\u001b[38;5;241;43m.\u001b[39;49m\u001b[43msuppressComposite\u001b[49m\u001b[43m)\u001b[49m\n\u001b[1;32m   3157\u001b[0m \u001b[38;5;28;01mfor\u001b[39;00m sfig \u001b[38;5;129;01min\u001b[39;00m \u001b[38;5;28mself\u001b[39m\u001b[38;5;241m.\u001b[39msubfigs:\n\u001b[1;32m   3158\u001b[0m     sfig\u001b[38;5;241m.\u001b[39mdraw(renderer)\n",
      "File \u001b[0;32m~/repositories/DiffeRT/DiffeRT/.venv/lib/python3.10/site-packages/matplotlib/image.py:132\u001b[0m, in \u001b[0;36m_draw_list_compositing_images\u001b[0;34m(renderer, parent, artists, suppress_composite)\u001b[0m\n\u001b[1;32m    130\u001b[0m \u001b[38;5;28;01mif\u001b[39;00m not_composite \u001b[38;5;129;01mor\u001b[39;00m \u001b[38;5;129;01mnot\u001b[39;00m has_images:\n\u001b[1;32m    131\u001b[0m     \u001b[38;5;28;01mfor\u001b[39;00m a \u001b[38;5;129;01min\u001b[39;00m artists:\n\u001b[0;32m--> 132\u001b[0m         \u001b[43ma\u001b[49m\u001b[38;5;241;43m.\u001b[39;49m\u001b[43mdraw\u001b[49m\u001b[43m(\u001b[49m\u001b[43mrenderer\u001b[49m\u001b[43m)\u001b[49m\n\u001b[1;32m    133\u001b[0m \u001b[38;5;28;01melse\u001b[39;00m:\n\u001b[1;32m    134\u001b[0m     \u001b[38;5;66;03m# Composite any adjacent images together\u001b[39;00m\n\u001b[1;32m    135\u001b[0m     image_group \u001b[38;5;241m=\u001b[39m []\n",
      "File \u001b[0;32m~/repositories/DiffeRT/DiffeRT/.venv/lib/python3.10/site-packages/matplotlib/artist.py:72\u001b[0m, in \u001b[0;36mallow_rasterization.<locals>.draw_wrapper\u001b[0;34m(artist, renderer)\u001b[0m\n\u001b[1;32m     69\u001b[0m     \u001b[38;5;28;01mif\u001b[39;00m artist\u001b[38;5;241m.\u001b[39mget_agg_filter() \u001b[38;5;129;01mis\u001b[39;00m \u001b[38;5;129;01mnot\u001b[39;00m \u001b[38;5;28;01mNone\u001b[39;00m:\n\u001b[1;32m     70\u001b[0m         renderer\u001b[38;5;241m.\u001b[39mstart_filter()\n\u001b[0;32m---> 72\u001b[0m     \u001b[38;5;28;01mreturn\u001b[39;00m \u001b[43mdraw\u001b[49m\u001b[43m(\u001b[49m\u001b[43martist\u001b[49m\u001b[43m,\u001b[49m\u001b[43m \u001b[49m\u001b[43mrenderer\u001b[49m\u001b[43m)\u001b[49m\n\u001b[1;32m     73\u001b[0m \u001b[38;5;28;01mfinally\u001b[39;00m:\n\u001b[1;32m     74\u001b[0m     \u001b[38;5;28;01mif\u001b[39;00m artist\u001b[38;5;241m.\u001b[39mget_agg_filter() \u001b[38;5;129;01mis\u001b[39;00m \u001b[38;5;129;01mnot\u001b[39;00m \u001b[38;5;28;01mNone\u001b[39;00m:\n",
      "File \u001b[0;32m~/repositories/DiffeRT/DiffeRT/.venv/lib/python3.10/site-packages/mpl_toolkits/mplot3d/axes3d.py:472\u001b[0m, in \u001b[0;36mAxes3D.draw\u001b[0;34m(self, renderer)\u001b[0m\n\u001b[1;32m    468\u001b[0m zorder_offset \u001b[38;5;241m=\u001b[39m \u001b[38;5;28mmax\u001b[39m(axis\u001b[38;5;241m.\u001b[39mget_zorder()\n\u001b[1;32m    469\u001b[0m                     \u001b[38;5;28;01mfor\u001b[39;00m axis \u001b[38;5;129;01min\u001b[39;00m \u001b[38;5;28mself\u001b[39m\u001b[38;5;241m.\u001b[39m_axis_map\u001b[38;5;241m.\u001b[39mvalues()) \u001b[38;5;241m+\u001b[39m \u001b[38;5;241m1\u001b[39m\n\u001b[1;32m    470\u001b[0m collection_zorder \u001b[38;5;241m=\u001b[39m patch_zorder \u001b[38;5;241m=\u001b[39m zorder_offset\n\u001b[0;32m--> 472\u001b[0m \u001b[38;5;28;01mfor\u001b[39;00m artist \u001b[38;5;129;01min\u001b[39;00m \u001b[38;5;28;43msorted\u001b[39;49m\u001b[43m(\u001b[49m\u001b[43mcollections_and_patches\u001b[49m\u001b[43m,\u001b[49m\n\u001b[1;32m    473\u001b[0m \u001b[43m                     \u001b[49m\u001b[43mkey\u001b[49m\u001b[38;5;241;43m=\u001b[39;49m\u001b[38;5;28;43;01mlambda\u001b[39;49;00m\u001b[43m \u001b[49m\u001b[43martist\u001b[49m\u001b[43m:\u001b[49m\u001b[43m \u001b[49m\u001b[43martist\u001b[49m\u001b[38;5;241;43m.\u001b[39;49m\u001b[43mdo_3d_projection\u001b[49m\u001b[43m(\u001b[49m\u001b[43m)\u001b[49m\u001b[43m,\u001b[49m\n\u001b[1;32m    474\u001b[0m \u001b[43m                     \u001b[49m\u001b[43mreverse\u001b[49m\u001b[38;5;241;43m=\u001b[39;49m\u001b[38;5;28;43;01mTrue\u001b[39;49;00m\u001b[43m)\u001b[49m:\n\u001b[1;32m    475\u001b[0m     \u001b[38;5;28;01mif\u001b[39;00m \u001b[38;5;28misinstance\u001b[39m(artist, mcoll\u001b[38;5;241m.\u001b[39mCollection):\n\u001b[1;32m    476\u001b[0m         artist\u001b[38;5;241m.\u001b[39mzorder \u001b[38;5;241m=\u001b[39m collection_zorder\n",
      "File \u001b[0;32m~/repositories/DiffeRT/DiffeRT/.venv/lib/python3.10/site-packages/mpl_toolkits/mplot3d/axes3d.py:473\u001b[0m, in \u001b[0;36mAxes3D.draw.<locals>.<lambda>\u001b[0;34m(artist)\u001b[0m\n\u001b[1;32m    468\u001b[0m zorder_offset \u001b[38;5;241m=\u001b[39m \u001b[38;5;28mmax\u001b[39m(axis\u001b[38;5;241m.\u001b[39mget_zorder()\n\u001b[1;32m    469\u001b[0m                     \u001b[38;5;28;01mfor\u001b[39;00m axis \u001b[38;5;129;01min\u001b[39;00m \u001b[38;5;28mself\u001b[39m\u001b[38;5;241m.\u001b[39m_axis_map\u001b[38;5;241m.\u001b[39mvalues()) \u001b[38;5;241m+\u001b[39m \u001b[38;5;241m1\u001b[39m\n\u001b[1;32m    470\u001b[0m collection_zorder \u001b[38;5;241m=\u001b[39m patch_zorder \u001b[38;5;241m=\u001b[39m zorder_offset\n\u001b[1;32m    472\u001b[0m \u001b[38;5;28;01mfor\u001b[39;00m artist \u001b[38;5;129;01min\u001b[39;00m \u001b[38;5;28msorted\u001b[39m(collections_and_patches,\n\u001b[0;32m--> 473\u001b[0m                      key\u001b[38;5;241m=\u001b[39m\u001b[38;5;28;01mlambda\u001b[39;00m artist: \u001b[43martist\u001b[49m\u001b[38;5;241;43m.\u001b[39;49m\u001b[43mdo_3d_projection\u001b[49m(),\n\u001b[1;32m    474\u001b[0m                      reverse\u001b[38;5;241m=\u001b[39m\u001b[38;5;28;01mTrue\u001b[39;00m):\n\u001b[1;32m    475\u001b[0m     \u001b[38;5;28;01mif\u001b[39;00m \u001b[38;5;28misinstance\u001b[39m(artist, mcoll\u001b[38;5;241m.\u001b[39mCollection):\n\u001b[1;32m    476\u001b[0m         artist\u001b[38;5;241m.\u001b[39mzorder \u001b[38;5;241m=\u001b[39m collection_zorder\n",
      "\u001b[0;31mAttributeError\u001b[0m: 'QuadMesh' object has no attribute 'do_3d_projection'"
     ]
    },
    {
     "data": {
      "text/plain": [
       "<Figure size 640x480 with 1 Axes>"
      ]
     },
     "metadata": {},
     "output_type": "display_data"
    }
   ],
   "source": [
    "fig, ax = process_matplotlib_kwargs({})\n",
    "x = np.linspace(0, 10)\n",
    "y = np.linspace(0, 5.)\n",
    "X, Y = np.meshgrid(x, y)\n",
    "C = X ** 2 + Y ** 2\n",
    "ax.pcolormesh(X, Y, C)"
   ]
  },
  {
   "cell_type": "code",
   "execution_count": null,
   "id": "e17a1907-cd35-4d7e-95de-7eb4f9feab5f",
   "metadata": {},
   "outputs": [],
   "source": []
  }
 ],
 "metadata": {
  "kernelspec": {
   "display_name": "Python 3 (ipykernel)",
   "language": "python",
   "name": "python3"
  },
  "language_info": {
   "codemirror_mode": {
    "name": "ipython",
    "version": 3
   },
   "file_extension": ".py",
   "mimetype": "text/x-python",
   "name": "python",
   "nbconvert_exporter": "python",
   "pygments_lexer": "ipython3",
   "version": "3.10.12"
  }
 },
 "nbformat": 4,
 "nbformat_minor": 5
}
