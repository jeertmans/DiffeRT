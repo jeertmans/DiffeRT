{
 "cells": [
  {
   "cell_type": "code",
   "execution_count": null,
   "id": "0",
   "metadata": {
    "tags": [
     "differt-install-preamble",
     "remove-cell",
     "skip-execution"
    ]
   },
   "outputs": [],
   "source": [
    "# Run this cell to install DiffeRT and its dependencies, e.g., on Google Colab\n",
    "\n",
    "try:\n",
    "    import differt  # noqa: F401\n",
    "except ImportError:\n",
    "    import sys  # noqa: F401\n",
    "\n",
    "    !{sys.executable} -m pip install differt[all]"
   ]
  },
  {
   "cell_type": "markdown",
   "id": "1",
   "metadata": {},
   "source": [
    "(advanced_path_tracing)=\n",
    "# Advanced Path Tracing\n",
    "\n",
    "Differt provides both high-level and low-level interface to Path Tracing.\n",
    "\n",
    "This tutorial provides a quick tour of what you can do with the **lower-level** API,\n",
    "and the logic used to perform Ray Tracing (RT)."
   ]
  },
  {
   "cell_type": "markdown",
   "id": "2",
   "metadata": {},
   "source": [
    "## Example on a simple scene\n",
    "\n",
    "Before diving into a complex scene, this is worth using a very simple scene first.\n",
    "\n",
    ":::{note}\n",
    "All the logic presented in this section is contained in the\n",
    "{meth}`TriangleScene.compute_paths<differt.scene.TriangleScene.compute_paths>` method.\n",
    "\n",
    "It also contains more post-processing steps to avoid degenerate solutions,\n",
    "and optimized routines,\n",
    "but we omitted them here.\n",
    ":::\n",
    "\n",
    "### Necessary imports\n",
    "\n",
    "Because we are going for the lower-level way, we will need quite a few imports."
   ]
  },
  {
   "cell_type": "code",
   "execution_count": null,
   "id": "3",
   "metadata": {},
   "outputs": [],
   "source": [
    "import jax\n",
    "import jax.numpy as jnp\n",
    "import numpy as np\n",
    "from jaxtyping import Array, Bool, Float\n",
    "\n",
    "import differt.plotting as dplt\n",
    "from differt.geometry import (\n",
    "    TriangleMesh,\n",
    "    assemble_paths,\n",
    "    fibonacci_lattice,\n",
    "    triangles_contain_vertices_assuming_inside_same_plane,\n",
    "    viewing_frustum,\n",
    ")\n",
    "from differt.rt import (\n",
    "    consecutive_vertices_are_on_same_side_of_mirrors,\n",
    "    first_triangles_hit_by_rays,\n",
    "    generate_all_path_candidates,\n",
    "    image_method,\n",
    "    image_of_vertices_with_respect_to_mirrors,\n",
    "    rays_intersect_triangles,\n",
    ")"
   ]
  },
  {
   "cell_type": "markdown",
   "id": "4",
   "metadata": {},
   "source": [
    "### Loading a mesh\n",
    "\n",
    "For each type of supported meshes, we provide some utilities\n",
    "to load a mesh from a file."
   ]
  },
  {
   "cell_type": "code",
   "execution_count": null,
   "id": "5",
   "metadata": {},
   "outputs": [],
   "source": [
    "mesh_file = \"two_buildings.obj\"  # Very simple scene with two buildings\n",
    "mesh = TriangleMesh.load_obj(mesh_file)"
   ]
  },
  {
   "cell_type": "markdown",
   "id": "6",
   "metadata": {
    "tags": []
   },
   "source": [
    "### Plotting your setup\n",
    "\n",
    "Here, we will use Plotly as the plotting backend, because it renders very nicely, especially on the web.\n",
    "On larger scenes, you will likely need something more performant, like Vispy, see [Choosing your plotting backend](plotting_backend.ipynb#choosing-your-plotting-backend)."
   ]
  },
  {
   "cell_type": "code",
   "execution_count": null,
   "id": "7",
   "metadata": {},
   "outputs": [],
   "source": [
    "dplt.set_defaults(\"plotly\")  # Let's use the Plotly backend\n",
    "\n",
    "fig = mesh.plot(opacity=0.5)\n",
    "fig"
   ]
  },
  {
   "cell_type": "markdown",
   "id": "8",
   "metadata": {},
   "source": [
    "Ray Tracing without start and end points is not very interesting.\n",
    "Let's add one transmitter (TX) and one receiver (RX) in the scene, represented by their 3D coordinates."
   ]
  },
  {
   "cell_type": "code",
   "execution_count": null,
   "id": "9",
   "metadata": {},
   "outputs": [],
   "source": [
    "tx = jnp.array([0.0, 4.9352, 22.0])\n",
    "rx = jnp.array([0.0, 10.034, 1.50])\n",
    "\n",
    "dplt.draw_markers(\n",
    "    np.array([tx, rx]), labels=[\"tx\", \"rx\"], figure=fig, name=\"nodes\"\n",
    ")"
   ]
  },
  {
   "cell_type": "markdown",
   "id": "10",
   "metadata": {},
   "source": [
    "### How we trace rays\n",
    "\n",
    "Ray Tracing can be implemented in many ways, depending on the desired performances, the level of accuracy needed,\n",
    "or the representation of the geometry.\n",
    "\n",
    "Here, we will implement exhaustive (also referred to as *deterministic* or *exact*) RT. That is, we want to generate all possible paths from TX to RX, that undergo up to a maximum number of interactions with the environment. Interactions can be reflections, diffractions, etc.\n",
    "\n",
    "One way to generate all possible paths is to represent the problem as a graph. Then, the goal is to find all the paths from the node corresponding to TX, to the node corresponding to RX, while possibly visiting intermediate nodes in the graph, where each corresponds to a specific primitive—or object—in the scene (here, a triangle).\n",
    "\n",
    "A graph algorithm will therefore generate a list of *path candidates*. We use the word *candidate* to emphasize that this is not a real path (i.e., not 3D coordinates), but only an ordered list of nodes to visit, for a given path.\n",
    "\n",
    "Then, this is the role of the **path tracing** method (e.g., {func}`image_method<differt.rt.image_method>` or {func}`fermat_path_on_planar_mirrors<differt.rt.fermat_path_on_planar_mirrors>`) to determine the exact coordinates of that path.\n",
    "\n",
    "Let's select a subset of our primitives to understand what we have just talked about."
   ]
  },
  {
   "cell_type": "code",
   "execution_count": null,
   "id": "11",
   "metadata": {},
   "outputs": [],
   "source": [
    "select = [\n",
    "    8,  # Red\n",
    "    9,  # Red\n",
    "    22,  # Green\n",
    "    23,  # Green\n",
    "]  # In practice, you will never hard-code the primitive indices yourself\n",
    "\n",
    "vertices = mesh.vertices\n",
    "triangles = mesh.triangles[select, :]\n",
    "\n",
    "dplt.draw_mesh(vertices, triangles[:2, :], figure=fig, color=\"red\")\n",
    "dplt.draw_mesh(vertices, triangles[2:, :], figure=fig, color=\"green\")"
   ]
  },
  {
   "cell_type": "markdown",
   "id": "12",
   "metadata": {},
   "source": [
    "Looking at the above, we can clearly see that a line-of-sight (LOS) path between TX and RX exists.\n",
    "\n",
    "With a bit of thinking, we could also imagine that a path with one or more reflections might join TX and RX.\n",
    "\n",
    "For example, <kbd>TX -> Red surface -> RX</kbd> might probably produce a valid path.\n",
    "The same logic can be applied to <kbd>TX -> Red surface -> Green surface -> RX</kbd>."
   ]
  },
  {
   "cell_type": "code",
   "execution_count": null,
   "id": "13",
   "metadata": {},
   "outputs": [],
   "source": [
    "# A list of color to easily differentiate paths\n",
    "color = [\"black\", \"green\", \"orange\", \"yellow\", \"blue\"]\n",
    "\n",
    "select = jnp.array(\n",
    "    select[::2],\n",
    "    dtype=int,\n",
    ")  # We actually only need one triangle per plane, so [8, 22]\n",
    "\n",
    "# Iterate through path candidates\n",
    "#\n",
    "#                         ┌> order 0\n",
    "#                         |           ┌> order 1\n",
    "#                         |           |           ┌> order 2\n",
    "for path_candidate in [select[:0], select[:1], select[:2]]:\n",
    "    # 1 - Prepare input arrays\n",
    "    mirror_vertices = mesh.vertices[mesh.triangles[path_candidate, 0], :]\n",
    "    mirror_normals = mesh.normals[path_candidate, :]\n",
    "\n",
    "    # 2 - Trace paths\n",
    "\n",
    "    path = image_method(\n",
    "        tx, rx, mirror_vertices, mirror_normals\n",
    "    )\n",
    "\n",
    "    # 3 - ??\n",
    "\n",
    "    # 4 - Obtain final valid paths and plot\n",
    "\n",
    "    # The full path is [tx, paths, rx]\n",
    "    full_path = jnp.concatenate(\n",
    "        (\n",
    "            tx[None, :],\n",
    "            path,\n",
    "            rx[None, :],\n",
    "        ),\n",
    "    )\n",
    "\n",
    "    # The we plot it\n",
    "    dplt.draw_paths(\n",
    "        full_path,\n",
    "        figure=fig,\n",
    "        marker={\n",
    "            \"size\": 0,\n",
    "            \"color\": \"black\",\n",
    "        },\n",
    "        line={\"color\": color[len(path_candidate)], \"width\": 3},\n",
    "        name=f\"Order {len(path_candidate)}\",\n",
    "    )\n",
    "\n",
    "fig"
   ]
  },
  {
   "cell_type": "markdown",
   "id": "14",
   "metadata": {},
   "source": [
    "Nice! Thanks to the {func}`image_method<differt.rt.image_method>`, we successfully generated the paths we just mentioned.\n",
    "\n",
    "### Scaling on more paths and more surfaces\n",
    "\n",
    "Manually identifying the surfaces of interest and generating all possible path candidates can rapidly become tedious as the number of surfaces or the path order increase.\n",
    "\n",
    "For this purpose, we created the {func}`generate_all_path_candidates<differt.rt.generate_all_path_candidates>` function. Written in Rust for performance purposes, this function can generate millions of path candidates per second!\n",
    "\n",
    "This is all nice, but there is one important side-effect of this: if you generate all possible path candidates, how to remove invalid paths that may, e.g., cross a building?\n",
    "\n",
    "This is where our third step comes into play: we need to validate our path against a series of checks. We can usually identify three types of checks:\n",
    "\n",
    "\n",
    "1. **Are path coordinates within the boundary of their respective objects?** Manytimes, the objects are assumed to be infinitely long. Then, a check is performed to verify if the solution was found within the object's boundaries;\n",
    "2. **Are all interactions valid?** E.g., do all reflections occur with an angle of reflection equal to the ange of incidence? Most path tracing methods have some faillible cases where it can return degenerate solutions;\n",
    "3. **Does any object in the scene obstruct the path?** Usually, the path is first computed without taking the surrounding objects into account, which produce paths that buildings.\n",
    "\n",
    "A possible implementation of the above rules, applied to the {func}`image_method<differt.rt.image_method>`, is provided below. A lot of the code is just broadcasting arrays into the right shapes, to benefit from the vectorized computations on arrays, i.e., instead of using *slow* Python for-loops."
   ]
  },
  {
   "cell_type": "code",
   "execution_count": null,
   "id": "15",
   "metadata": {},
   "outputs": [],
   "source": [
    "fig.data = fig.data[:2]  # Keep only first 2 traces: geometry and TX/RX\n",
    "\n",
    "# [num_triangles 3 3]\n",
    "all_triangle_vertices = mesh.triangle_vertices\n",
    "\n",
    "num_triangles = mesh.num_triangles\n",
    "\n",
    "for order in range(5):\n",
    "    # 1 - Prepare input arrays\n",
    "\n",
    "    # [num_path_candidates order]\n",
    "    path_candidates = generate_all_path_candidates(num_triangles, order)\n",
    "    num_path_candidates = path_candidates.shape[0]\n",
    "\n",
    "    # [num_path_candidates order 3]\n",
    "    triangles = jnp.take(mesh.triangles, path_candidates, axis=0)\n",
    "\n",
    "    # [num_path_candidates order 3 3]\n",
    "    triangle_vertices = jnp.take(mesh.vertices, triangles, axis=0)\n",
    "\n",
    "    # [num_path_candidates order 3]\n",
    "    mirror_vertices = triangle_vertices[\n",
    "        ...,\n",
    "        0,\n",
    "        :,\n",
    "    ]  # Only one vertex per triangle is needed\n",
    "    # [num_path_candidates order 3]\n",
    "    mirror_normals = jnp.take(mesh.normals, path_candidates, axis=0)\n",
    "\n",
    "    # 2 - Trace paths\n",
    "\n",
    "    # [num_path_candidates order 3]\n",
    "    paths = image_method(\n",
    "        tx, rx, mirror_vertices, mirror_normals\n",
    "    )\n",
    "\n",
    "    # 3 - Remove invalid paths\n",
    "\n",
    "    # 3.1 - Remove paths with vertices outside triangles\n",
    "    # [num_path_candidates order]\n",
    "    mask = triangles_contain_vertices_assuming_inside_same_plane(\n",
    "        triangle_vertices,\n",
    "        paths,\n",
    "    )\n",
    "    # [num_path_candidates]\n",
    "    mask = jnp.all(mask, axis=-1)\n",
    "\n",
    "    # [num_paths_inter order+2 3]\n",
    "    full_paths = assemble_paths(\n",
    "        tx[None, None, :],\n",
    "        paths[mask, ...],\n",
    "        rx[None, None, :],\n",
    "    )\n",
    "    # 3.2 - Remove paths with vertices not on the same side of mirrors\n",
    "    # [num_paths_inter order]\n",
    "    mask = consecutive_vertices_are_on_same_side_of_mirrors(\n",
    "        full_paths,\n",
    "        mirror_vertices[mask, ...],\n",
    "        mirror_normals[mask, ...],\n",
    "    )\n",
    "\n",
    "    # [num_paths_inter]\n",
    "    mask = jnp.all(mask, axis=-1)  # We will actually remove them later\n",
    "\n",
    "    # 3.3 - Remove paths that are obstructed by other objects\n",
    "    # [num_paths_inter order+1 3]\n",
    "    ray_origins = full_paths[..., :-1, :]\n",
    "    # [num_paths_inter order+1 3]\n",
    "    ray_directions = jnp.diff(full_paths, axis=-2)\n",
    "\n",
    "    # [num_paths_inter order+1 num_triangles], [num_paths_inter order+1 num_triangles]\n",
    "    t, hit = rays_intersect_triangles(\n",
    "        ray_origins[..., None, :],\n",
    "        ray_directions[..., None, :],\n",
    "        all_triangle_vertices[None, None, ...],\n",
    "    )\n",
    "    # In theory, we could do t < 1.0 (because t == 1.0 means we are perfectly on a surface,\n",
    "    # which is probably desirable, e.g., from a reflection) but in practice numerical\n",
    "    # errors accumulate and will make this check impossible.\n",
    "    # [num_paths_inter order+1 num_triangles]\n",
    "    intersect = (t < 0.999) & hit\n",
    "    #  [num_paths_inter]\n",
    "    intersect = jnp.any(intersect, axis=(-1, -2))\n",
    "    #  [num_paths_inter]\n",
    "    mask = mask & ~intersect\n",
    "\n",
    "    # 4 - Obtain final valid paths and plot\n",
    "\n",
    "    #  [num_paths_final]\n",
    "    full_paths = full_paths[mask, ...]\n",
    "\n",
    "    dplt.draw_paths(\n",
    "        full_paths,\n",
    "        figure=fig,\n",
    "        marker={\n",
    "            \"size\": 0,\n",
    "            \"color\": \"black\",\n",
    "        },\n",
    "        line={\"color\": color[order], \"width\": 3},\n",
    "        name=f\"Order {order}\",\n",
    "    )\n",
    "\n",
    "fig"
   ]
  },
  {
   "cell_type": "markdown",
   "id": "16",
   "metadata": {},
   "source": [
    "Another path tracing method that is fully compatible with the above cell is {func}`fermat_path_on_planar_mirrors<differt.rt.fermat_path_on_planar_mirrors>`. You can safely use the latter instead of the former, and that should produce the same result. Note that the Fermat path tracing is much slower than the Image method, but can be applied to other types of interactions than just pure specular reflection. This is left as an exercise to the reader."
   ]
  },
  {
   "cell_type": "markdown",
   "id": "17",
   "metadata": {},
   "source": [
    "## Example on more complex scenes\n",
    "\n",
    "Most of the code we presented so far scales pretty well on larger scenes. However, there are is notable\n",
    "exception: {func}`generate_all_path_candidates<differt.rt.generate_all_path_candidates>`.\n",
    "\n",
    "With a bit of maths[^1], we can determine that a call to `generate_all_path_candidates(num_triangles, order)` generates an array of size $\\texttt{num_triangles}(\\texttt{num_triangles}-1)^{\\texttt{order}-1} \\times \\texttt{order}$.\n",
    "\n",
    "On scenes with many triangles, this rapidly becomes too big to fit in any computer memory. To circumvent this issue, we also provide an iterator variant, {func}`generate_all_path_candidates_chunks_iter<differt.rt.generate_all_path_candidates_chunks_iter>`, that produces arrays of a smaller size, defined by the `chunk_size` argument.\n",
    "\n",
    "While this offers a solution to the memory allocation issue, this does not reduce the number of path candidates. To reduce this number, you somehow need to prune a subset of the path candidates before you actually generate them.\n",
    "\n",
    "Recalling the graph analogy we mentioned above, we can implement this behavior by disconnecting some primitives (i.e., triangles) in the graph.\n",
    "There is no unique solution to this challenge, but we provide a small utility to estimate the visibility matrix between objects in a given scene: {func}`triangles_visible_from_vertices<differt.rt.triangles_visible_from_vertices>`.\n",
    "\n",
    "Then, from this visibility matrix, which is actually just an adjacency matrix of the nodes in the graph,\n",
    "we can instantiate a {class}`DiGraph<differt_core.rt.DiGraph>` from the {mod}`differt_core.rt` module.\n",
    "\n",
    "[^1]: The first node to be visited can be any of the `num_triangles` nodes. For the next nodes, we will have to choose between `num_triangles - 1` nodes, because we do not allow for loops (i.e., cycles of unit length) in our graph.\n",
    "\n",
    "### Numbers getting crazy\n",
    "\n",
    "To illustrate what we said above, we will load a much larger scene that contains quite a few objects, i.e., triangles.\n",
    "\n",
    "A transmitter and a receiver are placed in the scene as example positions."
   ]
  },
  {
   "cell_type": "code",
   "execution_count": null,
   "id": "18",
   "metadata": {},
   "outputs": [],
   "source": [
    "from differt.scene import TriangleScene\n",
    "\n",
    "mesh_file = \"bruxelles.obj\"\n",
    "mesh = TriangleMesh.load_obj(mesh_file)\n",
    "\n",
    "tx = jnp.array([-40.0, 75, 30.0])\n",
    "rx = jnp.array([+20.0, 108.034, 1.50])\n",
    "\n",
    "scene = TriangleScene(transmitters=tx, receivers=rx, mesh=mesh)\n",
    "scene.plot(backend=\"vispy\")"
   ]
  },
  {
   "cell_type": "code",
   "execution_count": null,
   "id": "19",
   "metadata": {},
   "outputs": [],
   "source": [
    "mesh.num_objects  # This is the number of triangles"
   ]
  },
  {
   "cell_type": "markdown",
   "id": "20",
   "metadata": {},
   "source": [
    "This number isn't actually that big, and can easily reach above a million on large cities.\n",
    "However, it is large enough to present serious challenges when it comes to performing exhaustive RT.\n",
    "\n",
    "Using the core library, we can compute the exact number of path candidates one would have to try for a given\n",
    "number of interactions."
   ]
  },
  {
   "cell_type": "code",
   "execution_count": null,
   "id": "21",
   "metadata": {},
   "outputs": [],
   "source": [
    "from differt_core.rt import CompleteGraph\n",
    "\n",
    "graph = CompleteGraph(mesh.num_objects)\n",
    "\n",
    "from_ = graph.num_nodes  # Index of TX in the graph\n",
    "to = from_ + 1  # Index of RX in the graph\n",
    "order = 2  # Number of interactions\n",
    "depth = order + 2  # + 2 because we add TX and RX notes\n",
    "\n",
    "f\"{len(graph.all_paths(from_, to, depth)):.3e}\""
   ]
  },
  {
   "cell_type": "markdown",
   "id": "22",
   "metadata": {},
   "source": [
    "That means that there are over 200 million second order reflection paths to test... We need to reduce that number!"
   ]
  },
  {
   "cell_type": "markdown",
   "id": "23",
   "metadata": {},
   "source": [
    "### Assuming quadrilaterals\n",
    "\n",
    "In many cases, a scene is simply a collection of quadrilaterals, that are each split into\n",
    "two triangles. This is not alwarys true, and probably not the case for our scene, but we\n",
    "will assume it is.\n",
    "\n",
    "Using {func}`set_assume_quads<differt.geometry.TriangleMesh.set_assume_quads>`, the\n",
    "mesh will now tell all other function that it should use, when available, optimized routines for\n",
    "quadrilateral facets."
   ]
  },
  {
   "cell_type": "code",
   "execution_count": null,
   "id": "24",
   "metadata": {},
   "outputs": [],
   "source": [
    "mesh = mesh.set_assume_quads(True)\n",
    "mesh.num_objects  # This is now the number of quadrilaterals, exactly half the number of triangles"
   ]
  },
  {
   "cell_type": "markdown",
   "id": "25",
   "metadata": {},
   "source": [
    "Again, we can compute the number of path candidates, and see that it is reduced almost by a factor 4.\n",
    "\n",
    "In general, the reduction factor is nearly $2^\\texttt{order}$."
   ]
  },
  {
   "cell_type": "code",
   "execution_count": null,
   "id": "26",
   "metadata": {},
   "outputs": [],
   "source": [
    "graph = CompleteGraph(mesh.num_objects)\n",
    "\n",
    "from_ = graph.num_nodes\n",
    "to = from_ + 1\n",
    "order = 2\n",
    "\n",
    "f\"{len(graph.all_paths(from_, to, depth)):.3e}\"  # Roughly a quarter of the preview length"
   ]
  },
  {
   "cell_type": "markdown",
   "id": "27",
   "metadata": {},
   "source": [
    "### Determining TX's visibility\n",
    "\n",
    "Another way to reduce the number of path candidates is to indicate to the graph\n",
    "that TX cannot reach all objects in the scene, but only a subset of the objects.\n",
    "\n",
    "Such information can be obtained by estimating the visibility vector of some TX,\n",
    "and use it when creating the path candidates iterator.\n",
    "\n",
    "If one knows the location of the receiving antenna, a similar logic can be used\n",
    "to compute the ``to_adjacency`` vector, which is also a visibility vector, but from RX.\n",
    "\n",
    "On the other hand, if the mesh is fixed but the TX / RX are not, it is also possible to compute\n",
    "the visibility vector of each triangle in the scene, thereby constructing the visibility\n",
    "matrix of the scene, and use it to construct the graph with\n",
    "{meth}`DiGraph.from_adjacency_matrix<differt_core.rt.DiGraph.from_adjacency_matrix>`.\n",
    "As computing such matrix can be extremily expensive, it is recommended to perform that\n",
    "as a pre-precessing step and save the resulting matrix in a file.\n",
    "\n",
    "The code below shows how to estimate[^2] the objects (i.e., triangles) seen by TX.\n",
    "For this example, visible triangles are colored in red, and hidden ones in black.\n",
    "\n",
    "[^2]: It is an estimate because a fixed number of rays (see {func}`triangles_visible_from_vertices<differt.rt.triangles_visible_from_vertices>`) is launched from TX, and increasing (resp. decreasing) this number will increase (resp. decrease) the accuracy of the method."
   ]
  },
  {
   "cell_type": "code",
   "execution_count": null,
   "id": "28",
   "metadata": {},
   "outputs": [],
   "source": [
    "from differt.rt import triangles_visible_from_vertices\n",
    "\n",
    "tx = jnp.array([-40.0, 75, 30.0])\n",
    "\n",
    "default_color = jnp.array([[0.2, 0.2, 0.2]])  # Hidden, black\n",
    "visible_color = jnp.array([[1.0, 0.2, 0.2]])  # Visible, red\n",
    "visible_triangles = triangles_visible_from_vertices(\n",
    "    tx,\n",
    "    mesh.triangle_vertices,\n",
    ")\n",
    "\n",
    "mesh = mesh.set_face_colors(default_color)\n",
    "mesh = mesh.set_face_colors(\n",
    "    mesh.face_colors.at[visible_triangles].set(visible_color)\n",
    ")\n",
    "\n",
    "with dplt.reuse(\"vispy\") as canvas:\n",
    "    dplt.draw_markers(\n",
    "        np.array([tx]), [\"tx\"], size=7, text_kwargs={\"font_size\": 2000}\n",
    "    )\n",
    "    mesh.plot()\n",
    "\n",
    "canvas"
   ]
  },
  {
   "cell_type": "markdown",
   "id": "29",
   "metadata": {},
   "source": [
    "A visibility vector is simply an array of boolean, each entry indicating if a corresponding\n",
    "object (here, a triangle) can be seen from TX.\n",
    "\n",
    "The number of visible triangles is then the sum of all true entries in the array."
   ]
  },
  {
   "cell_type": "code",
   "execution_count": null,
   "id": "30",
   "metadata": {},
   "outputs": [],
   "source": [
    "visible_triangles.sum() / mesh.num_triangles  # ~ 33% of triangles are seen from TX"
   ]
  },
  {
   "cell_type": "markdown",
   "id": "31",
   "metadata": {},
   "source": [
    "It is also possible to get the number of visible quadrilaterals by\n",
    "counting visible triangles by pairs. If any of the two triangles\n",
    "forming a quadrilateral is visible, then this quadrilateral **is considered visible**."
   ]
  },
  {
   "cell_type": "code",
   "execution_count": null,
   "id": "32",
   "metadata": {},
   "outputs": [],
   "source": [
    "visible_quads = visible_triangles.reshape(mesh.num_quads, 2).any(axis=-1)\n",
    "visible_quads.sum() / mesh.num_quads  # ~ 43% of quadrilaterals are seen from TX"
   ]
  },
  {
   "cell_type": "markdown",
   "id": "33",
   "metadata": {},
   "source": [
    "We can then use this result to inform the graph about the limited number of faces\n",
    "visible from TX.\n",
    "\n",
    "As expected, the number of path candidates get reduced to about 43% of the previous value.\n",
    "\n",
    "However, 43% visibility is probably too high to switch from a\n",
    "{class}`CompleteGraph<differt_core.rt.CompleteGraph>`\n",
    "to a {class}`DiGraph<differt_core.rt.DiGraph>`,\n",
    "as iterating through the latter is quite slower (because the former is optimized for complete graphs)."
   ]
  },
  {
   "cell_type": "code",
   "execution_count": null,
   "id": "34",
   "metadata": {},
   "outputs": [],
   "source": [
    "from differt_core.rt import CompleteGraph, DiGraph\n",
    "\n",
    "graph = DiGraph.from_complete_graph(CompleteGraph(mesh.num_quads))\n",
    "from_, to = graph.insert_from_and_to_nodes(\n",
    "    from_adjacency=np.asarray(visible_quads)\n",
    ")\n",
    "\n",
    "f\"{graph.all_paths(from_, to, order + 2).count():.3e}\"  # ~ 43% of the previous length"
   ]
  },
  {
   "cell_type": "markdown",
   "id": "35",
   "metadata": {},
   "source": [
    "### What about Ray Launching\n",
    "\n",
    "Eventually, all the above solutions reach a glass ceiling at one point or another,\n",
    "where the number of path candidates takes over any possible optimization.\n",
    "\n",
    "In those cases, Ray Launching (RL) can be used as an alternative to exhaustive RT,\n",
    "as the number of path candidates is usually fixed, a bit like when estimating the\n",
    "visibility from TX.\n",
    "This is fact what tools like Sionna use for coverage map.\n",
    "\n",
    "Currently, DiffeRT does not provide any convenient RL routine, but it is on the roadmap,\n",
    "so stay tuned!\n",
    "\n",
    "If you want to contribute to extending DiffeRT, please feel free to reach out on GitHub!"
   ]
  },
  {
   "cell_type": "code",
   "execution_count": null,
   "id": "36",
   "metadata": {},
   "outputs": [],
   "source": [
    "mesh = TriangleMesh.load_obj(mesh_file)  # Reload mesh to reset colors\n",
    "\n",
    "# [num_triangles 3 3]\n",
    "triangle_vertices = mesh.triangle_vertices\n",
    "\n",
    "num_triangles = mesh.num_triangles\n",
    "\n",
    "jax.config.update(\"jax_disable_jit\", False)\n",
    "\n",
    "with dplt.reuse(\"vispy\") as canvas:\n",
    "    dplt.draw_markers(\n",
    "        np.array([tx, rx]), [\"tx\", \"rx\"], size=7, text_kwargs={\"font_size\": 2000}\n",
    "    )\n",
    "    mesh.plot()\n",
    "\n",
    "    num_rays = int(1e4)\n",
    "    max_dist = 0.1 ** 2  # squared distance (to avoid sqrt)\n",
    "    max_order = 1\n",
    "\n",
    "    # [num_path_candidates order 3]\n",
    "    frustum = viewing_frustum(\n",
    "        tx, triangle_vertices.reshape(-1, 3)\n",
    "    )  # This avoids launching rays where there are no object\n",
    "\n",
    "    # [num_rays 3]\n",
    "    ray_origins = jnp.broadcast_to(tx, (num_rays, 3))\n",
    "    ray_directions = fibonacci_lattice(num_rays, frustum=frustum)\n",
    "\n",
    "    ScanC = tuple[\n",
    "        Float[Array, f\"{num_rays} 3\"],  # Ray origins\n",
    "        Float[Array, f\"{num_rays} 3\"],  # Ray directions\n",
    "    ]\n",
    "    ScanR = tuple[\n",
    "        Float[Array, f\"{num_rays} 3\"],  # Path vertices\n",
    "        Bool[\n",
    "            Array, f\"{num_rays} 3\"\n",
    "        ],  # Whether paths pass close (i.e., < max_dist) to RX\n",
    "    ]\n",
    "    \n",
    "    def scan_fun(\n",
    "        ray_origins_and_directions: ScanC, _: None\n",
    "    ) -> tuple[ScanC, ScanR]:\n",
    "        ray_origins, ray_directions = ray_origins_and_directions\n",
    "\n",
    "        # 1 - Compute next intersection with triangles\n",
    "\n",
    "        # [num_rays]\n",
    "        triangles, t_hit = first_triangles_hit_by_rays(\n",
    "            ray_origins,\n",
    "            ray_directions,\n",
    "            triangle_vertices,\n",
    "        )  # This may generate jnp.inf values, so we will need to be careful with those\n",
    "\n",
    "        # 2 - Check if the rays pass near RX\n",
    "\n",
    "        # [num_rays 3]\n",
    "        ray_origins_to_rx = (\n",
    "            rx - ray_origins\n",
    "        )\n",
    "\n",
    "        # [num_rays]\n",
    "        ray_distances_to_rx = jax.lax.integer_pow(\n",
    "            jnp.cross(ray_directions, ray_origins_to_rx), 2\n",
    "        ).sum(axis=-1) / jax.lax.integer_pow(ray_origins_to_rx, 2).sum(\n",
    "            axis=-1\n",
    "        )  # Squared distance from rays to RXs\n",
    "        t_rx = (\n",
    "            jnp.sum(ray_directions * ray_origins_to_rx, axis=-1)\n",
    "            / jax.lax.integer_pow(ray_directions, 2).sum(axis=-1)\n",
    "        )  # Distance (scaled by ray directions) from RX projected onto rays to ray origins\n",
    "        masks = jnp.where(\n",
    "            (t_rx < t_hit) & jnp.isfinite(t_hit), # Check if RX is before first triangle hit\n",
    "            ray_distances_to_rx < max_dist,  # Check if RX is close enough\n",
    "            False,  # noqa: FBT003\n",
    "        )  # Whether rays pass near RX\n",
    "\n",
    "        # 3 - Update rays\n",
    "\n",
    "        # [num_rays 3]\n",
    "        mirror_normals = jnp.take(mesh.normals, triangles, axis=0)\n",
    "\n",
    "        ray_origins += t_hit[..., None] * ray_directions\n",
    "        ray_directions = ray_directions - 2 * jnp.sum(ray_directions * mirror_normals, axis=-1, keepdims=True) * mirror_normals\n",
    "\n",
    "        return (ray_origins, ray_directions), (\n",
    "            ray_origins,\n",
    "            masks,\n",
    "        )\n",
    "\n",
    "    # [max_order+1 num_rays 3], [max_order+1 num_rays]\n",
    "    _, (paths, masks) = jax.lax.scan(\n",
    "        scan_fun, (ray_origins, ray_directions), length=max_order + 1\n",
    "    )\n",
    "\n",
    "    paths = jnp.moveaxis(paths, 0, 1)\n",
    "    masks = jnp.moveaxis(masks, 0, 1)\n",
    "\n",
    "    #masks = jax.random.uniform(jax.random.key(1234), masks.shape) < 0.01\n",
    "\n",
    "    for order in range(0, max_order + 1):\n",
    "        full_paths = assemble_paths(\n",
    "            tx[None, None, :],\n",
    "            # [num_valid_rays order 3]\n",
    "            paths[masks[..., order], :order + 1, :],\n",
    "            #rx[None, None, :],\n",
    "        )\n",
    "\n",
    "        dplt.draw_paths(\n",
    "            full_paths,\n",
    "        )\n",
    "\n",
    "canvas"
   ]
  },
  {
   "cell_type": "code",
   "execution_count": null,
   "id": "7f33a225-b521-424c-a7c2-3663c6c22364",
   "metadata": {},
   "outputs": [],
   "source": [
    "paths"
   ]
  },
  {
   "cell_type": "code",
   "execution_count": null,
   "id": "f6150a74-e656-4061-aac2-b208db9d5edd",
   "metadata": {},
   "outputs": [],
   "source": [
    "full_paths"
   ]
  },
  {
   "cell_type": "code",
   "execution_count": null,
   "id": "522db257-bc82-4358-be5d-483347277c6a",
   "metadata": {},
   "outputs": [],
   "source": [
    "masks[..., 1].any()"
   ]
  },
  {
   "cell_type": "code",
   "execution_count": null,
   "id": "65e93820-a1eb-4dbb-9b7d-c2ae08b004b3",
   "metadata": {},
   "outputs": [],
   "source": [
    "masks.shape"
   ]
  },
  {
   "cell_type": "code",
   "execution_count": null,
   "id": "c5b1551a-85ad-473b-8a25-122e2491f417",
   "metadata": {},
   "outputs": [],
   "source": [
    "masks[..., 1].any()"
   ]
  },
  {
   "cell_type": "code",
   "execution_count": null,
   "id": "1264e482-52fc-4f5d-b05f-ec2ce0db5ff9",
   "metadata": {},
   "outputs": [],
   "source": [
    "triangles, t_hit = first_triangles_hit_by_rays(\n",
    "            ray_origins,\n",
    "            ray_directions,\n",
    "            triangle_vertices,\n",
    "        )"
   ]
  },
  {
   "cell_type": "code",
   "execution_count": null,
   "id": "d9fcf16f-b861-4625-8ffc-83e73debb368",
   "metadata": {},
   "outputs": [],
   "source": [
    "triangles"
   ]
  },
  {
   "cell_type": "code",
   "execution_count": null,
   "id": "a21def61-7a8b-42fa-b337-028c2e032d4f",
   "metadata": {},
   "outputs": [],
   "source": [
    "t_hit"
   ]
  },
  {
   "cell_type": "code",
   "execution_count": null,
   "id": "d217b29d-f340-42c5-a01d-81437eb46774",
   "metadata": {},
   "outputs": [],
   "source": [
    "(~jnp.isinf(t_hit)).sum()"
   ]
  },
  {
   "cell_type": "code",
   "execution_count": null,
   "id": "5d116976-7b88-4009-befc-b9ffa4f8cc48",
   "metadata": {},
   "outputs": [],
   "source": [
    "(triangles == -1).sum()"
   ]
  }
 ],
 "metadata": {
  "celltoolbar": "Edit Metadata",
  "kernelspec": {
   "display_name": "Python 3 (ipykernel)",
   "language": "python",
   "name": "python3"
  },
  "language_info": {
   "codemirror_mode": {
    "name": "ipython",
    "version": 3
   },
   "file_extension": ".py",
   "mimetype": "text/x-python",
   "name": "python",
   "nbconvert_exporter": "python",
   "pygments_lexer": "ipython3",
   "version": "3.11.8"
  }
 },
 "nbformat": 4,
 "nbformat_minor": 5
}
