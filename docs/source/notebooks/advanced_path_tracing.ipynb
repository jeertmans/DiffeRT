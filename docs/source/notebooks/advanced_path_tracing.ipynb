{
 "cells": [
  {
   "cell_type": "code",
   "execution_count": null,
   "id": "e90f3c19",
   "metadata": {
    "tags": [
     "differt-install-preamble",
     "remove-cell",
     "skip-execution"
    ]
   },
   "outputs": [],
   "source": [
    "# Run this cell to install DiffeRT and its dependencies, e.g., on Google Colab\n",
    "\n",
    "try:\n",
    "    import differt  # noqa: F401\n",
    "except ImportError:\n",
    "    import sys  # noqa: F401\n",
    "\n",
    "    !{sys.executable} -m pip install differt[all]"
   ]
  },
  {
   "cell_type": "markdown",
   "id": "311d7587",
   "metadata": {},
   "source": [
    "# Advanced Path Tracing\n",
    "\n",
    "Differt provides both high-level and low-level interface to Path Tracing.\n",
    "\n",
    "This tutorial provides a quick tour of what you can do with the **lower-level** API,\n",
    "and the logic used to perform Ray Tracing."
   ]
  },
  {
   "cell_type": "markdown",
   "id": "bdac281d-e122-494b-8f83-1dbcbcfaea39",
   "metadata": {},
   "source": [
    "## Example on a simple scene\n",
    "\n",
    "Before diving into a complex scene, this is worth using a very simple scene first.\n",
    "\n",
    "### Necessary imports\n",
    "\n",
    "Because we are going for the lower-level way, we will need quite a few imports."
   ]
  },
  {
   "cell_type": "code",
   "execution_count": null,
   "id": "0c260649-d4de-452d-a578-7647c0e57993",
   "metadata": {},
   "outputs": [],
   "source": [
    "import jax.numpy as jnp\n",
    "import numpy as np\n",
    "\n",
    "import differt.plotting as dplt\n",
    "from differt.geometry import TriangleMesh\n",
    "from differt.geometry.triangle_mesh import (\n",
    "    triangles_contain_vertices_assuming_inside_same_plane,\n",
    ")\n",
    "from differt.rt.image_method import (\n",
    "    consecutive_vertices_are_on_same_side_of_mirrors,\n",
    "    image_method,\n",
    ")\n",
    "from differt.rt.utils import generate_all_path_candidates, rays_intersect_triangles"
   ]
  },
  {
   "cell_type": "markdown",
   "id": "76b12dd2-a6e0-4f50-bc17-3da15d359af0",
   "metadata": {},
   "source": [
    "### Loading a mesh\n",
    "\n",
    "For each type of supported meshes, we provide some utilities\n",
    "to load a mesh from a file."
   ]
  },
  {
   "cell_type": "code",
   "execution_count": null,
   "id": "a4ff244d",
   "metadata": {},
   "outputs": [],
   "source": [
    "mesh_file = \"two_buildings.obj\"  # Very simple scene with two buildings\n",
    "mesh = TriangleMesh.load_obj(mesh_file)"
   ]
  },
  {
   "cell_type": "markdown",
   "id": "d3a43cc4-f3b5-4aef-a25e-7c5aed739e9f",
   "metadata": {
    "tags": []
   },
   "source": [
    "### Plotting your setup\n",
    "\n",
    "Here, we will use Plotly as the plotting backend, because it renders very nicely, especially on the web.\n",
    "On larger scenes, you will likely need something more performant, like Vispy, see [Choosing your plotting backend](plotting_backend.ipynb#choosing-your-plotting-backend)."
   ]
  },
  {
   "cell_type": "code",
   "execution_count": null,
   "id": "2be70ad7-6dae-478f-83bd-b08e516d114d",
   "metadata": {},
   "outputs": [],
   "source": [
    "dplt.set_defaults(\"plotly\")  # Let's use the Plotly backend\n",
    "\n",
    "fig = mesh.plot(opacity=0.5)\n",
    "fig"
   ]
  },
  {
   "cell_type": "markdown",
   "id": "a65b5875-630c-4454-99c0-09e549488ef9",
   "metadata": {},
   "source": [
    "Ray Tracing without start and end points is not very interesting.\n",
    "Let's add one transmitter and one receiver in the scene, represented by their 3D coordinates."
   ]
  },
  {
   "cell_type": "code",
   "execution_count": null,
   "id": "1b575f59-b2ae-4425-aac2-5286f240e4dc",
   "metadata": {},
   "outputs": [],
   "source": [
    "tx = jnp.array([0.0, 4.9352, 22.0])\n",
    "rx = jnp.array([0.0, 10.034, 1.50])\n",
    "\n",
    "dplt.draw_markers(np.array([tx, rx]), labels=[\"tx\", \"rx\"], figure=fig, name=\"nodes\")"
   ]
  },
  {
   "cell_type": "markdown",
   "id": "db3d3187-c330-4367-b51c-b027dcdf05ed",
   "metadata": {},
   "source": [
    "### How we trace rays\n",
    "\n",
    "Ray Tracing can be implemented in many ways, depending on the desired performances, the level of accuracy needed,\n",
    "or the representation of the geometry.\n",
    "\n",
    "Here, we will implement deterministic (or exact) Ray Tracing. That is, we want to generate all possible paths from TX to RX, that undergo up to a maximum number of interactions with the environment. Interactions can be reflections, diffractions, etc.\n",
    "\n",
    "One way to generate all possible paths is to represent the problem as a graph. Then, the goal is to find all the paths from the node corresponding to TX, to the node corresponding to RX, while possibly visiting intermediate nodes in the graph, where each corresponds to a specific primitive in the scene (here, a triangle).\n",
    "\n",
    "A graph algorithm will therefore generate a list of *path candidates*. We use the word *candidate* to emphasize that this is not a real path (i.e., not 3D coordinates), but only an ordered list of nodes to visit, for a given path.\n",
    "\n",
    "Then, this is the role of the **path finding** method (e.g., {func}`image_method<differt.rt.image_method.image_method>` or {func}`fermat_path_on_planar_mirrors<differt.rt.fermat.fermat_path_on_planar_mirrors>`) to find the exact coordinates of that path.\n",
    "\n",
    "Let's select a subset of our primitives to understand what we have just talked about."
   ]
  },
  {
   "cell_type": "code",
   "execution_count": null,
   "id": "471c5059-cc86-4ca6-ad9e-efc8d7cc2f91",
   "metadata": {},
   "outputs": [],
   "source": [
    "select = [\n",
    "    8,  # Red\n",
    "    9,  # Red\n",
    "    22,  # Green\n",
    "    23,  # Green\n",
    "]  # Ideally, you will never hard-code the primitive indices yourself\n",
    "\n",
    "# differt.plotting (dplt) works with NumPy arrays, not JAX arrays\n",
    "vertices = np.asarray(mesh.vertices)\n",
    "triangles = np.asarray(mesh.triangles[select, :])\n",
    "\n",
    "dplt.draw_mesh(vertices, triangles[:2, :], figure=fig, color=\"red\")\n",
    "dplt.draw_mesh(vertices, triangles[2:, :], figure=fig, color=\"green\")"
   ]
  },
  {
   "cell_type": "markdown",
   "id": "7d1fb247-2aba-4064-aba9-f34bfea0d3c5",
   "metadata": {},
   "source": [
    "Looking at the above, we can clearly see that a line-of-sight (LOS) path between TX and RX exists.\n",
    "\n",
    "With a bit of thinking, we could also imagine that a path with one or more reflections might join TX and RX.\n",
    "\n",
    "For example, <kbd>TX -> Red surface -> RX</kbd> might probably produce a valid path.\n",
    "The same logic can be applied to <kbd>TX -> Red surface -> Green surface -> RX</kbd>."
   ]
  },
  {
   "cell_type": "code",
   "execution_count": null,
   "id": "30689d03-ac54-419f-ada3-c14a1a570d65",
   "metadata": {},
   "outputs": [],
   "source": [
    "# A list of color to easily differentiate paths\n",
    "color = [\"black\", \"green\", \"orange\", \"yellow\", \"blue\"]\n",
    "\n",
    "select = jnp.array(\n",
    "    select[::2], dtype=int\n",
    ")  # We actually only need one triangle per plane, so [8, 22]\n",
    "\n",
    "# Iterate through path candidates\n",
    "#\n",
    "#                         ┌> order 0\n",
    "#                         |           ┌> order 1\n",
    "#                         |           |           ┌> order 2\n",
    "for path_candidate in [select[:0], select[:1], select[:2]]:\n",
    "    # 1 - Prepare input arrays\n",
    "    from_vertices = tx\n",
    "    to_vertices = rx\n",
    "    mirror_vertices = mesh.vertices[mesh.triangles[path_candidate, 0], :]\n",
    "    mirror_normals = mesh.normals[path_candidate, :]\n",
    "\n",
    "    # 2 - Trace paths\n",
    "\n",
    "    path = image_method(from_vertices, to_vertices, mirror_vertices, mirror_normals)\n",
    "\n",
    "    # 3 - ??\n",
    "\n",
    "    # 4 - Obtain final valid paths and plot\n",
    "\n",
    "    # The full path is [tx, paths, rx]\n",
    "    full_path = jnp.concatenate(\n",
    "        (\n",
    "            from_vertices[None, :],\n",
    "            path,\n",
    "            to_vertices[None, :],\n",
    "        )\n",
    "    )\n",
    "\n",
    "    # The we plot it\n",
    "    dplt.draw_paths(\n",
    "        full_path,\n",
    "        figure=fig,\n",
    "        marker=dict(\n",
    "            size=0,\n",
    "            color=\"black\",\n",
    "        ),\n",
    "        line=dict(color=color[len(path_candidate)], width=3),\n",
    "        name=f\"Order {len(path_candidate)}\",\n",
    "    )\n",
    "\n",
    "fig"
   ]
  },
  {
   "cell_type": "markdown",
   "id": "739cb7d5-a067-4bf3-9641-673ea76ff11c",
   "metadata": {},
   "source": [
    "Nice! Thanks to the {func}`image_method<differt.rt.image_method.image_method>`, we successfully generated the paths we just mentioned.\n",
    "\n",
    "### Scaling on more paths and more surfaces\n",
    "\n",
    "Manually identifying the surfaces of interest and generating all possible path candidates can rapidly become tedious as the number of surfaces or the path order increase.\n",
    "\n",
    "For this purpose, we created the {func}`generate_all_path_candidates<differt.rt.utils.generate_all_path_candidates>` function. Written in Rust for performance purposes, this function can generate millions of path candidates per second!\n",
    "\n",
    "This is all nice, but there is one important side-effect of this: if you generate all possible path candidates, how to remove invalid paths that may, e.g., cross a building?\n",
    "\n",
    "This is where our third step comes into play: we need to validate our path against a series of checks. We can usually identify three types of checks:\n",
    "\n",
    "\n",
    "1. **Are path coordinates within the boundary of their respective objects?** Manytimes, the objects are assumed to be infinitely long. Then, a check is performed to verify if the solution was found within the object's boundaries;\n",
    "2. **Are all interactions valid?** E.g., do all reflections occur with an angle of reflection equal to the ange of incidence? Most path tracing methods have some faillible cases where it can return degenerate solutions;\n",
    "3. **Does any object in the scene obstruct the path?** Usually, the path is first computed without taking the surrounding objects into account, which produce paths that buildings.\n",
    "\n",
    "A possible implementation of the above rules, applied to the {func}`image_method<differt.rt.image_method.image_method>`, is provided below. A lot of the code is just broadcasting arrays into the right shapes, to benefit from the vectorized computations on arrays, i.e., instead of using *slow* Python for-loops."
   ]
  },
  {
   "cell_type": "code",
   "execution_count": null,
   "id": "32f1468a-bf02-4c33-8a1d-0dca89d09c20",
   "metadata": {},
   "outputs": [],
   "source": [
    "fig.data = fig.data[:2]  # Keep only first 2 traces: geometry and TX/RX\n",
    "\n",
    "all_triangle_vertices = jnp.take(mesh.vertices, mesh.triangles, axis=0)\n",
    "\n",
    "num_triangles = mesh.triangles.shape[0]\n",
    "\n",
    "for order in range(0, 5):\n",
    "    # 1 - Prepare input arrays\n",
    "\n",
    "    # [num_path_candidates order]\n",
    "    path_candidates = generate_all_path_candidates(num_triangles, order)\n",
    "    num_path_candidates = path_candidates.shape[0]\n",
    "\n",
    "    # [num_path_candidates 3]\n",
    "    from_vertices = jnp.tile(tx, (num_path_candidates, 1))\n",
    "    to_vertices = jnp.tile(rx, (num_path_candidates, 1))\n",
    "\n",
    "    # [num_path_candidates order 3]\n",
    "    triangles = jnp.take(mesh.triangles, path_candidates, axis=0)\n",
    "\n",
    "    # [num_path_candidates order 3 3]\n",
    "    triangle_vertices = jnp.take(mesh.vertices, triangles, axis=0)\n",
    "\n",
    "    # [num_path_candidates order 3]\n",
    "    mirror_vertices = triangle_vertices[\n",
    "        ..., 0, :\n",
    "    ]  # Only one vertex per triangle is needed\n",
    "    # [num_path_candidates order 3]\n",
    "    mirror_normals = jnp.take(mesh.normals, path_candidates, axis=0)\n",
    "\n",
    "    # 2 - Trace paths\n",
    "\n",
    "    # [num_path_candidates order 3]\n",
    "    paths = image_method(from_vertices, to_vertices, mirror_vertices, mirror_normals)\n",
    "\n",
    "    # 3 - Remove invalid paths\n",
    "\n",
    "    # 3.1 - Remove paths with vertices outside triangles\n",
    "    # [num_path_candidates order]\n",
    "    mask = triangles_contain_vertices_assuming_inside_same_plane(\n",
    "        triangle_vertices,\n",
    "        paths,\n",
    "    )\n",
    "    # [num_path_candidates]\n",
    "    mask = jnp.all(mask, axis=-1)\n",
    "\n",
    "    # [num_paths_inter order+2 3]\n",
    "    full_paths = jnp.concatenate(\n",
    "        (\n",
    "            jnp.expand_dims(from_vertices[mask, ...], axis=-2),\n",
    "            paths[mask, ...],\n",
    "            jnp.expand_dims(to_vertices[mask, ...], axis=-2),\n",
    "        ),\n",
    "        axis=-2,\n",
    "    )\n",
    "\n",
    "    # 3.2 - Remove paths with vertices not on the same side of mirrors\n",
    "    # [num_paths_inter order]\n",
    "    mask = consecutive_vertices_are_on_same_side_of_mirrors(\n",
    "        full_paths, mirror_vertices[mask, ...], mirror_normals[mask, ...]\n",
    "    )\n",
    "\n",
    "    # [num_paths_inter]\n",
    "    mask = jnp.all(mask, axis=-1)  # We will actually remove them later\n",
    "\n",
    "    # 3.3 - Remove paths that are obstructed by other objects\n",
    "    # [num_paths_inter order+1 3]\n",
    "    ray_origins = full_paths[..., :-1, :]\n",
    "    # [num_paths_inter order+1 3]\n",
    "    ray_directions = jnp.diff(full_paths, axis=-2)\n",
    "\n",
    "    # [num_paths_inter order+1 num_triangles 3]\n",
    "    ray_origins = jnp.repeat(\n",
    "        jnp.expand_dims(ray_origins, axis=-2), num_triangles, axis=-2\n",
    "    )\n",
    "    # [num_paths_inter order+1 num_triangles 3]\n",
    "    ray_directions = jnp.repeat(\n",
    "        jnp.expand_dims(ray_directions, axis=-2), num_triangles, axis=-2\n",
    "    )\n",
    "\n",
    "    # [num_paths_inter order+1 num_triangles], [num_paths_inter order+1 num_triangles]\n",
    "    t, hit = rays_intersect_triangles(\n",
    "        ray_origins,\n",
    "        ray_directions,\n",
    "        jnp.broadcast_to(all_triangle_vertices, (*ray_origins.shape, 3)),\n",
    "    )\n",
    "    # In theory, we could do t < 1.0 (because t == 1.0 means we are perfectly on a surface,\n",
    "    # which is probably desirable, e.g., from a reflection) but in practice numerical\n",
    "    # errors accumulate and will make this check impossible.\n",
    "    # [num_paths_inter order+1 num_triangles]\n",
    "    intersect = (t < 0.999) & hit\n",
    "    #  [num_paths_inter]\n",
    "    intersect = jnp.any(intersect, axis=(-1, -2))\n",
    "    #  [num_paths_inter]\n",
    "    mask = mask & ~intersect\n",
    "\n",
    "    # 4 - Obtain final valid paths and plot\n",
    "\n",
    "    #  [num_paths_final]\n",
    "    full_paths = full_paths[mask, ...]\n",
    "\n",
    "    dplt.draw_paths(\n",
    "        full_paths,\n",
    "        figure=fig,\n",
    "        marker=dict(\n",
    "            size=0,\n",
    "            color=\"black\",\n",
    "        ),\n",
    "        line=dict(color=color[order], width=3),\n",
    "        name=f\"Order {order}\",\n",
    "    )\n",
    "\n",
    "fig"
   ]
  },
  {
   "cell_type": "markdown",
   "id": "1512b1e9-44ed-4cba-bee4-abf067bf954a",
   "metadata": {},
   "source": [
    "Another path tracing method that is fully compatible with the above cell is {func}`fermat_path_on_planar_mirrors<differt.rt.fermat.fermat_path_on_planar_mirrors>`. You can safely use the latter instead of the former, and that should produce the same result. Note that the Fermat path tracing is much slower than the Image method, but can be applied to other types of interactions than just pure specular reflection."
   ]
  },
  {
   "cell_type": "markdown",
   "id": "4c44db87-6b36-4000-919d-69b469a744d8",
   "metadata": {},
   "source": [
    "## Example on more complex scene\n",
    "\n",
    "Most of the code we presented so far scales pretty well on larger scenes. However, there are is notable\n",
    "exception: {func}`generate_all_path_candidates<differt.rt.utils.generate_all_path_candidates>`.\n",
    "\n",
    "With a bit of maths[^1], we can determine that a call to `generate_all_path_candidates(num_triangles, order)` generates an array of size $\\texttt{num_triangles}(\\texttt{num_triangles}-1)^{\\texttt{order}-1} \\times \\texttt{order}$.\n",
    "\n",
    "On larger scenes, this rapidly becomes too big to fit in memory. To circumvent this issue, we also provide an iterator variant, {func}`generate_all_path_candidates_chunks_iter<differt.rt.utils.generate_all_path_candidates_chunks_iter>`, that produces arrays of a smaller size, defined by the `chunk_size` argument.\n",
    "\n",
    "While this offers a solution to the memory allocation issue, this does not reduce the number of path candidates. To reduce this number, you somehow need to prune a subset of the path candidates before you actually generate them.\n",
    "\n",
    "Recalling the graph analogy we mentioned above, we can implement this behavior by disconnecting some primitives (i.e., triangles) in the graph.\n",
    "There is no unique solution to this challenge, but we still provide a small utility to estimate the visibility matrix of a given scene: <TODO>.\n",
    "\n",
    "Then, from this visibility matrix, which is actually just an adjacency matrix, we can instantiate a {class}`DiGraph<differt.rt.graph.DiGraph>` from the {mod}`differt.rt.graph` module.\n",
    "\n",
    "[^1]: The first node to best visited can be any of the `num_triangles` nodes. For the next nodes, we will have to choose between `num_triangles - 1` nodes, because we do not allow for loops (i.e., cycles) in our graph."
   ]
  },
  {
   "cell_type": "code",
   "execution_count": null,
   "id": "435cf5c1-c0dd-47a1-9c1f-49c2d1d89b3d",
   "metadata": {},
   "outputs": [],
   "source": [
    "# TODO - load larger scene\n",
    "# TODO - show example with multiple receivers\n",
    "# TODO - show how to generate visibility matrix and actually use it."
   ]
  }
 ],
 "metadata": {
  "celltoolbar": "Edit Metadata",
  "kernelspec": {
   "display_name": "Python 3 (ipykernel)",
   "language": "python",
   "name": "python3"
  },
  "language_info": {
   "codemirror_mode": {
    "name": "ipython",
    "version": 3
   },
   "file_extension": ".py",
   "mimetype": "text/x-python",
   "name": "python",
   "nbconvert_exporter": "python",
   "pygments_lexer": "ipython3",
   "version": "3.10.12"
  }
 },
 "nbformat": 4,
 "nbformat_minor": 5
}
