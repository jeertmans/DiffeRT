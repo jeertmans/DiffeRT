{
 "cells": [
  {
   "cell_type": "code",
   "execution_count": null,
   "id": "e90f3c19",
   "metadata": {
    "tags": [
     "differt-install-preamble",
     "remove-cell",
     "skip-execution"
    ]
   },
   "outputs": [],
   "source": [
    "# Run this cell to install DiffeRT and its dependencies, e.g., on Google Colab\n",
    "\n",
    "try:\n",
    "    import differt  # noqa: F401\n",
    "except ImportError:\n",
    "    import sys  # noqa: F401\n",
    "\n",
    "    !{sys.executable} -m pip install differt[all]"
   ]
  },
  {
   "cell_type": "markdown",
   "id": "311d7587",
   "metadata": {},
   "source": [
    "# Advanced Path Tracing\n",
    "\n",
    "Differt provides both high-level and low-level interface to Path Tracing.\n",
    "\n",
    "This tutorial provides a quick tour of what you can do with the **lower-level** API,\n",
    "and the logic used to perform Ray Tracing."
   ]
  },
  {
   "cell_type": "markdown",
   "id": "bdac281d-e122-494b-8f83-1dbcbcfaea39",
   "metadata": {},
   "source": [
    "## Example on a simple scene\n",
    "\n",
    "Before diving into a complex scene, this is worth using a very simple scene first.\n",
    "\n",
    "### Necessary imports\n",
    "\n",
    "Because we are going for the lower-level way, we will need quite a few imports."
   ]
  },
  {
   "cell_type": "code",
   "execution_count": 2,
   "id": "0c260649-d4de-452d-a578-7647c0e57993",
   "metadata": {},
   "outputs": [],
   "source": [
    "import jax.numpy as jnp\n",
    "import numpy as np\n",
    "\n",
    "import differt.plotting as dplt\n",
    "from differt.geometry import TriangleMesh\n",
    "from differt.geometry.triangle_mesh import (\n",
    "    triangles_contain_vertices_assuming_inside_same_plane,\n",
    ")\n",
    "from differt.geometry.utils import assemble_paths\n",
    "from differt.rt.image_method import (\n",
    "    consecutive_vertices_are_on_same_side_of_mirrors,\n",
    "    image_method,\n",
    ")\n",
    "from differt.rt.utils import (\n",
    "    generate_all_path_candidates,\n",
    "    rays_intersect_triangles,\n",
    ")"
   ]
  },
  {
   "cell_type": "markdown",
   "id": "76b12dd2-a6e0-4f50-bc17-3da15d359af0",
   "metadata": {},
   "source": [
    "### Loading a mesh\n",
    "\n",
    "For each type of supported meshes, we provide some utilities\n",
    "to load a mesh from a file."
   ]
  },
  {
   "cell_type": "code",
   "execution_count": 3,
   "id": "a4ff244d",
   "metadata": {},
   "outputs": [],
   "source": [
    "mesh_file = \"two_buildings.obj\"  # Very simple scene with two buildings\n",
    "mesh = TriangleMesh.load_obj(mesh_file)"
   ]
  },
  {
   "cell_type": "markdown",
   "id": "d3a43cc4-f3b5-4aef-a25e-7c5aed739e9f",
   "metadata": {
    "tags": []
   },
   "source": [
    "### Plotting your setup\n",
    "\n",
    "Here, we will use Plotly as the plotting backend, because it renders very nicely, especially on the web.\n",
    "On larger scenes, you will likely need something more performant, like Vispy, see [Choosing your plotting backend](plotting_backend.ipynb#choosing-your-plotting-backend)."
   ]
  },
  {
   "cell_type": "code",
   "execution_count": 4,
   "id": "2be70ad7-6dae-478f-83bd-b08e516d114d",
   "metadata": {},
   "outputs": [
    {
     "data": {
      "application/vnd.plotly.v1+json": {
       "config": {
        "plotlyServerURL": "https://plot.ly"
       },
       "data": [
        {
         "i": [
          8,
          9,
          12,
          13,
          16,
          17,
          20,
          21,
          24,
          25,
          28,
          29,
          32,
          33,
          36,
          37,
          40,
          41,
          44,
          45,
          48,
          49,
          52,
          53
         ],
         "j": [
          9,
          8,
          13,
          12,
          17,
          16,
          21,
          20,
          25,
          24,
          29,
          28,
          33,
          32,
          37,
          36,
          41,
          40,
          45,
          44,
          49,
          48,
          53,
          52
         ],
         "k": [
          10,
          11,
          14,
          15,
          18,
          19,
          22,
          23,
          26,
          27,
          30,
          31,
          34,
          35,
          38,
          39,
          42,
          43,
          46,
          47,
          50,
          51,
          54,
          55
         ],
         "opacity": 0.5,
         "type": "mesh3d",
         "x": [
          1,
          1,
          -1,
          -1,
          1,
          1,
          -1,
          -1,
          5,
          -5,
          -5,
          5,
          -4.999998092651367,
          5.000000953674316,
          -5.106064796447754,
          5.000001907348633,
          5.000000953674316,
          -4.999998092651367,
          -5.106064796447754,
          5.000001907348633,
          5.000001907348633,
          5.000000953674316,
          5.000000953674316,
          5.000001907348633,
          5.000000953674316,
          -5.106064796447754,
          5.000000953674316,
          -5.106064796447754,
          -4.999998092651367,
          -5.106064796447754,
          -5.106064796447754,
          -4.999998092651367,
          -4.999998092651367,
          5.000001907348633,
          -4.999998092651367,
          5.000001907348633,
          5,
          -5,
          -5,
          5,
          5,
          5,
          5,
          5,
          5,
          -5,
          5,
          -5,
          -5,
          -5,
          -5,
          -5,
          -5,
          5,
          -5,
          5
         ],
         "y": [
          -1,
          -1,
          -1,
          -1,
          1,
          1,
          1,
          1,
          5,
          -5,
          5,
          -5,
          25,
          15,
          14.89393424987793,
          25,
          15,
          25,
          14.89393424987793,
          25,
          25,
          15,
          15,
          25,
          15,
          14.89393424987793,
          15,
          14.89393424987793,
          25,
          14.89393424987793,
          14.89393424987793,
          25,
          25,
          25,
          25,
          25,
          -5,
          5,
          -5,
          5,
          5,
          -5,
          -5,
          5,
          -5,
          -5,
          -5,
          -5,
          5,
          -5,
          -5,
          5,
          5,
          5,
          5,
          5
         ],
         "z": [
          1,
          -1,
          1,
          -1,
          1,
          -1,
          1,
          -1,
          0,
          0,
          0,
          0,
          0,
          0,
          0,
          0,
          20,
          20,
          20,
          20,
          0,
          20,
          0,
          20,
          20,
          0,
          0,
          20,
          20,
          0,
          20,
          0,
          20,
          0,
          0,
          20,
          20,
          20,
          20,
          20,
          0,
          20,
          0,
          20,
          20,
          0,
          0,
          20,
          20,
          0,
          20,
          0,
          20,
          0,
          0,
          20
         ]
        }
       ],
       "layout": {
        "template": {
         "data": {
          "bar": [
           {
            "error_x": {
             "color": "#2a3f5f"
            },
            "error_y": {
             "color": "#2a3f5f"
            },
            "marker": {
             "line": {
              "color": "#E5ECF6",
              "width": 0.5
             },
             "pattern": {
              "fillmode": "overlay",
              "size": 10,
              "solidity": 0.2
             }
            },
            "type": "bar"
           }
          ],
          "barpolar": [
           {
            "marker": {
             "line": {
              "color": "#E5ECF6",
              "width": 0.5
             },
             "pattern": {
              "fillmode": "overlay",
              "size": 10,
              "solidity": 0.2
             }
            },
            "type": "barpolar"
           }
          ],
          "carpet": [
           {
            "aaxis": {
             "endlinecolor": "#2a3f5f",
             "gridcolor": "white",
             "linecolor": "white",
             "minorgridcolor": "white",
             "startlinecolor": "#2a3f5f"
            },
            "baxis": {
             "endlinecolor": "#2a3f5f",
             "gridcolor": "white",
             "linecolor": "white",
             "minorgridcolor": "white",
             "startlinecolor": "#2a3f5f"
            },
            "type": "carpet"
           }
          ],
          "choropleth": [
           {
            "colorbar": {
             "outlinewidth": 0,
             "ticks": ""
            },
            "type": "choropleth"
           }
          ],
          "contour": [
           {
            "colorbar": {
             "outlinewidth": 0,
             "ticks": ""
            },
            "colorscale": [
             [
              0,
              "#0d0887"
             ],
             [
              0.1111111111111111,
              "#46039f"
             ],
             [
              0.2222222222222222,
              "#7201a8"
             ],
             [
              0.3333333333333333,
              "#9c179e"
             ],
             [
              0.4444444444444444,
              "#bd3786"
             ],
             [
              0.5555555555555556,
              "#d8576b"
             ],
             [
              0.6666666666666666,
              "#ed7953"
             ],
             [
              0.7777777777777778,
              "#fb9f3a"
             ],
             [
              0.8888888888888888,
              "#fdca26"
             ],
             [
              1,
              "#f0f921"
             ]
            ],
            "type": "contour"
           }
          ],
          "contourcarpet": [
           {
            "colorbar": {
             "outlinewidth": 0,
             "ticks": ""
            },
            "type": "contourcarpet"
           }
          ],
          "heatmap": [
           {
            "colorbar": {
             "outlinewidth": 0,
             "ticks": ""
            },
            "colorscale": [
             [
              0,
              "#0d0887"
             ],
             [
              0.1111111111111111,
              "#46039f"
             ],
             [
              0.2222222222222222,
              "#7201a8"
             ],
             [
              0.3333333333333333,
              "#9c179e"
             ],
             [
              0.4444444444444444,
              "#bd3786"
             ],
             [
              0.5555555555555556,
              "#d8576b"
             ],
             [
              0.6666666666666666,
              "#ed7953"
             ],
             [
              0.7777777777777778,
              "#fb9f3a"
             ],
             [
              0.8888888888888888,
              "#fdca26"
             ],
             [
              1,
              "#f0f921"
             ]
            ],
            "type": "heatmap"
           }
          ],
          "heatmapgl": [
           {
            "colorbar": {
             "outlinewidth": 0,
             "ticks": ""
            },
            "colorscale": [
             [
              0,
              "#0d0887"
             ],
             [
              0.1111111111111111,
              "#46039f"
             ],
             [
              0.2222222222222222,
              "#7201a8"
             ],
             [
              0.3333333333333333,
              "#9c179e"
             ],
             [
              0.4444444444444444,
              "#bd3786"
             ],
             [
              0.5555555555555556,
              "#d8576b"
             ],
             [
              0.6666666666666666,
              "#ed7953"
             ],
             [
              0.7777777777777778,
              "#fb9f3a"
             ],
             [
              0.8888888888888888,
              "#fdca26"
             ],
             [
              1,
              "#f0f921"
             ]
            ],
            "type": "heatmapgl"
           }
          ],
          "histogram": [
           {
            "marker": {
             "pattern": {
              "fillmode": "overlay",
              "size": 10,
              "solidity": 0.2
             }
            },
            "type": "histogram"
           }
          ],
          "histogram2d": [
           {
            "colorbar": {
             "outlinewidth": 0,
             "ticks": ""
            },
            "colorscale": [
             [
              0,
              "#0d0887"
             ],
             [
              0.1111111111111111,
              "#46039f"
             ],
             [
              0.2222222222222222,
              "#7201a8"
             ],
             [
              0.3333333333333333,
              "#9c179e"
             ],
             [
              0.4444444444444444,
              "#bd3786"
             ],
             [
              0.5555555555555556,
              "#d8576b"
             ],
             [
              0.6666666666666666,
              "#ed7953"
             ],
             [
              0.7777777777777778,
              "#fb9f3a"
             ],
             [
              0.8888888888888888,
              "#fdca26"
             ],
             [
              1,
              "#f0f921"
             ]
            ],
            "type": "histogram2d"
           }
          ],
          "histogram2dcontour": [
           {
            "colorbar": {
             "outlinewidth": 0,
             "ticks": ""
            },
            "colorscale": [
             [
              0,
              "#0d0887"
             ],
             [
              0.1111111111111111,
              "#46039f"
             ],
             [
              0.2222222222222222,
              "#7201a8"
             ],
             [
              0.3333333333333333,
              "#9c179e"
             ],
             [
              0.4444444444444444,
              "#bd3786"
             ],
             [
              0.5555555555555556,
              "#d8576b"
             ],
             [
              0.6666666666666666,
              "#ed7953"
             ],
             [
              0.7777777777777778,
              "#fb9f3a"
             ],
             [
              0.8888888888888888,
              "#fdca26"
             ],
             [
              1,
              "#f0f921"
             ]
            ],
            "type": "histogram2dcontour"
           }
          ],
          "mesh3d": [
           {
            "colorbar": {
             "outlinewidth": 0,
             "ticks": ""
            },
            "type": "mesh3d"
           }
          ],
          "parcoords": [
           {
            "line": {
             "colorbar": {
              "outlinewidth": 0,
              "ticks": ""
             }
            },
            "type": "parcoords"
           }
          ],
          "pie": [
           {
            "automargin": true,
            "type": "pie"
           }
          ],
          "scatter": [
           {
            "fillpattern": {
             "fillmode": "overlay",
             "size": 10,
             "solidity": 0.2
            },
            "type": "scatter"
           }
          ],
          "scatter3d": [
           {
            "line": {
             "colorbar": {
              "outlinewidth": 0,
              "ticks": ""
             }
            },
            "marker": {
             "colorbar": {
              "outlinewidth": 0,
              "ticks": ""
             }
            },
            "type": "scatter3d"
           }
          ],
          "scattercarpet": [
           {
            "marker": {
             "colorbar": {
              "outlinewidth": 0,
              "ticks": ""
             }
            },
            "type": "scattercarpet"
           }
          ],
          "scattergeo": [
           {
            "marker": {
             "colorbar": {
              "outlinewidth": 0,
              "ticks": ""
             }
            },
            "type": "scattergeo"
           }
          ],
          "scattergl": [
           {
            "marker": {
             "colorbar": {
              "outlinewidth": 0,
              "ticks": ""
             }
            },
            "type": "scattergl"
           }
          ],
          "scattermapbox": [
           {
            "marker": {
             "colorbar": {
              "outlinewidth": 0,
              "ticks": ""
             }
            },
            "type": "scattermapbox"
           }
          ],
          "scatterpolar": [
           {
            "marker": {
             "colorbar": {
              "outlinewidth": 0,
              "ticks": ""
             }
            },
            "type": "scatterpolar"
           }
          ],
          "scatterpolargl": [
           {
            "marker": {
             "colorbar": {
              "outlinewidth": 0,
              "ticks": ""
             }
            },
            "type": "scatterpolargl"
           }
          ],
          "scatterternary": [
           {
            "marker": {
             "colorbar": {
              "outlinewidth": 0,
              "ticks": ""
             }
            },
            "type": "scatterternary"
           }
          ],
          "surface": [
           {
            "colorbar": {
             "outlinewidth": 0,
             "ticks": ""
            },
            "colorscale": [
             [
              0,
              "#0d0887"
             ],
             [
              0.1111111111111111,
              "#46039f"
             ],
             [
              0.2222222222222222,
              "#7201a8"
             ],
             [
              0.3333333333333333,
              "#9c179e"
             ],
             [
              0.4444444444444444,
              "#bd3786"
             ],
             [
              0.5555555555555556,
              "#d8576b"
             ],
             [
              0.6666666666666666,
              "#ed7953"
             ],
             [
              0.7777777777777778,
              "#fb9f3a"
             ],
             [
              0.8888888888888888,
              "#fdca26"
             ],
             [
              1,
              "#f0f921"
             ]
            ],
            "type": "surface"
           }
          ],
          "table": [
           {
            "cells": {
             "fill": {
              "color": "#EBF0F8"
             },
             "line": {
              "color": "white"
             }
            },
            "header": {
             "fill": {
              "color": "#C8D4E3"
             },
             "line": {
              "color": "white"
             }
            },
            "type": "table"
           }
          ]
         },
         "layout": {
          "annotationdefaults": {
           "arrowcolor": "#2a3f5f",
           "arrowhead": 0,
           "arrowwidth": 1
          },
          "autotypenumbers": "strict",
          "coloraxis": {
           "colorbar": {
            "outlinewidth": 0,
            "ticks": ""
           }
          },
          "colorscale": {
           "diverging": [
            [
             0,
             "#8e0152"
            ],
            [
             0.1,
             "#c51b7d"
            ],
            [
             0.2,
             "#de77ae"
            ],
            [
             0.3,
             "#f1b6da"
            ],
            [
             0.4,
             "#fde0ef"
            ],
            [
             0.5,
             "#f7f7f7"
            ],
            [
             0.6,
             "#e6f5d0"
            ],
            [
             0.7,
             "#b8e186"
            ],
            [
             0.8,
             "#7fbc41"
            ],
            [
             0.9,
             "#4d9221"
            ],
            [
             1,
             "#276419"
            ]
           ],
           "sequential": [
            [
             0,
             "#0d0887"
            ],
            [
             0.1111111111111111,
             "#46039f"
            ],
            [
             0.2222222222222222,
             "#7201a8"
            ],
            [
             0.3333333333333333,
             "#9c179e"
            ],
            [
             0.4444444444444444,
             "#bd3786"
            ],
            [
             0.5555555555555556,
             "#d8576b"
            ],
            [
             0.6666666666666666,
             "#ed7953"
            ],
            [
             0.7777777777777778,
             "#fb9f3a"
            ],
            [
             0.8888888888888888,
             "#fdca26"
            ],
            [
             1,
             "#f0f921"
            ]
           ],
           "sequentialminus": [
            [
             0,
             "#0d0887"
            ],
            [
             0.1111111111111111,
             "#46039f"
            ],
            [
             0.2222222222222222,
             "#7201a8"
            ],
            [
             0.3333333333333333,
             "#9c179e"
            ],
            [
             0.4444444444444444,
             "#bd3786"
            ],
            [
             0.5555555555555556,
             "#d8576b"
            ],
            [
             0.6666666666666666,
             "#ed7953"
            ],
            [
             0.7777777777777778,
             "#fb9f3a"
            ],
            [
             0.8888888888888888,
             "#fdca26"
            ],
            [
             1,
             "#f0f921"
            ]
           ]
          },
          "colorway": [
           "#636efa",
           "#EF553B",
           "#00cc96",
           "#ab63fa",
           "#FFA15A",
           "#19d3f3",
           "#FF6692",
           "#B6E880",
           "#FF97FF",
           "#FECB52"
          ],
          "font": {
           "color": "#2a3f5f"
          },
          "geo": {
           "bgcolor": "white",
           "lakecolor": "white",
           "landcolor": "#E5ECF6",
           "showlakes": true,
           "showland": true,
           "subunitcolor": "white"
          },
          "hoverlabel": {
           "align": "left"
          },
          "hovermode": "closest",
          "mapbox": {
           "style": "light"
          },
          "paper_bgcolor": "white",
          "plot_bgcolor": "#E5ECF6",
          "polar": {
           "angularaxis": {
            "gridcolor": "white",
            "linecolor": "white",
            "ticks": ""
           },
           "bgcolor": "#E5ECF6",
           "radialaxis": {
            "gridcolor": "white",
            "linecolor": "white",
            "ticks": ""
           }
          },
          "scene": {
           "xaxis": {
            "backgroundcolor": "#E5ECF6",
            "gridcolor": "white",
            "gridwidth": 2,
            "linecolor": "white",
            "showbackground": true,
            "ticks": "",
            "zerolinecolor": "white"
           },
           "yaxis": {
            "backgroundcolor": "#E5ECF6",
            "gridcolor": "white",
            "gridwidth": 2,
            "linecolor": "white",
            "showbackground": true,
            "ticks": "",
            "zerolinecolor": "white"
           },
           "zaxis": {
            "backgroundcolor": "#E5ECF6",
            "gridcolor": "white",
            "gridwidth": 2,
            "linecolor": "white",
            "showbackground": true,
            "ticks": "",
            "zerolinecolor": "white"
           }
          },
          "shapedefaults": {
           "line": {
            "color": "#2a3f5f"
           }
          },
          "ternary": {
           "aaxis": {
            "gridcolor": "white",
            "linecolor": "white",
            "ticks": ""
           },
           "baxis": {
            "gridcolor": "white",
            "linecolor": "white",
            "ticks": ""
           },
           "bgcolor": "#E5ECF6",
           "caxis": {
            "gridcolor": "white",
            "linecolor": "white",
            "ticks": ""
           }
          },
          "title": {
           "x": 0.05
          },
          "xaxis": {
           "automargin": true,
           "gridcolor": "white",
           "linecolor": "white",
           "ticks": "",
           "title": {
            "standoff": 15
           },
           "zerolinecolor": "white",
           "zerolinewidth": 2
          },
          "yaxis": {
           "automargin": true,
           "gridcolor": "white",
           "linecolor": "white",
           "ticks": "",
           "title": {
            "standoff": 15
           },
           "zerolinecolor": "white",
           "zerolinewidth": 2
          }
         }
        }
       }
      }
     },
     "metadata": {},
     "output_type": "display_data"
    }
   ],
   "source": [
    "dplt.set_defaults(\"plotly\")  # Let's use the Plotly backend\n",
    "\n",
    "fig = mesh.plot(opacity=0.5)\n",
    "fig"
   ]
  },
  {
   "cell_type": "markdown",
   "id": "a65b5875-630c-4454-99c0-09e549488ef9",
   "metadata": {},
   "source": [
    "Ray Tracing without start and end points is not very interesting.\n",
    "Let's add one transmitter and one receiver in the scene, represented by their 3D coordinates."
   ]
  },
  {
   "cell_type": "code",
   "execution_count": 5,
   "id": "1b575f59-b2ae-4425-aac2-5286f240e4dc",
   "metadata": {},
   "outputs": [
    {
     "data": {
      "application/vnd.plotly.v1+json": {
       "config": {
        "plotlyServerURL": "https://plot.ly"
       },
       "data": [
        {
         "i": [
          8,
          9,
          12,
          13,
          16,
          17,
          20,
          21,
          24,
          25,
          28,
          29,
          32,
          33,
          36,
          37,
          40,
          41,
          44,
          45,
          48,
          49,
          52,
          53
         ],
         "j": [
          9,
          8,
          13,
          12,
          17,
          16,
          21,
          20,
          25,
          24,
          29,
          28,
          33,
          32,
          37,
          36,
          41,
          40,
          45,
          44,
          49,
          48,
          53,
          52
         ],
         "k": [
          10,
          11,
          14,
          15,
          18,
          19,
          22,
          23,
          26,
          27,
          30,
          31,
          34,
          35,
          38,
          39,
          42,
          43,
          46,
          47,
          50,
          51,
          54,
          55
         ],
         "opacity": 0.5,
         "type": "mesh3d",
         "x": [
          1,
          1,
          -1,
          -1,
          1,
          1,
          -1,
          -1,
          5,
          -5,
          -5,
          5,
          -4.999998092651367,
          5.000000953674316,
          -5.106064796447754,
          5.000001907348633,
          5.000000953674316,
          -4.999998092651367,
          -5.106064796447754,
          5.000001907348633,
          5.000001907348633,
          5.000000953674316,
          5.000000953674316,
          5.000001907348633,
          5.000000953674316,
          -5.106064796447754,
          5.000000953674316,
          -5.106064796447754,
          -4.999998092651367,
          -5.106064796447754,
          -5.106064796447754,
          -4.999998092651367,
          -4.999998092651367,
          5.000001907348633,
          -4.999998092651367,
          5.000001907348633,
          5,
          -5,
          -5,
          5,
          5,
          5,
          5,
          5,
          5,
          -5,
          5,
          -5,
          -5,
          -5,
          -5,
          -5,
          -5,
          5,
          -5,
          5
         ],
         "y": [
          -1,
          -1,
          -1,
          -1,
          1,
          1,
          1,
          1,
          5,
          -5,
          5,
          -5,
          25,
          15,
          14.89393424987793,
          25,
          15,
          25,
          14.89393424987793,
          25,
          25,
          15,
          15,
          25,
          15,
          14.89393424987793,
          15,
          14.89393424987793,
          25,
          14.89393424987793,
          14.89393424987793,
          25,
          25,
          25,
          25,
          25,
          -5,
          5,
          -5,
          5,
          5,
          -5,
          -5,
          5,
          -5,
          -5,
          -5,
          -5,
          5,
          -5,
          -5,
          5,
          5,
          5,
          5,
          5
         ],
         "z": [
          1,
          -1,
          1,
          -1,
          1,
          -1,
          1,
          -1,
          0,
          0,
          0,
          0,
          0,
          0,
          0,
          0,
          20,
          20,
          20,
          20,
          0,
          20,
          0,
          20,
          20,
          0,
          0,
          20,
          20,
          0,
          20,
          0,
          20,
          0,
          0,
          20,
          20,
          20,
          20,
          20,
          0,
          20,
          0,
          20,
          20,
          0,
          0,
          20,
          20,
          0,
          20,
          0,
          20,
          0,
          0,
          20
         ]
        },
        {
         "mode": "markers+text",
         "name": "nodes",
         "text": [
          "tx",
          "rx"
         ],
         "type": "scatter3d",
         "x": [
          0,
          0
         ],
         "y": [
          4.935200214385986,
          10.034000396728516
         ],
         "z": [
          22,
          1.5
         ]
        }
       ],
       "layout": {
        "template": {
         "data": {
          "bar": [
           {
            "error_x": {
             "color": "#2a3f5f"
            },
            "error_y": {
             "color": "#2a3f5f"
            },
            "marker": {
             "line": {
              "color": "#E5ECF6",
              "width": 0.5
             },
             "pattern": {
              "fillmode": "overlay",
              "size": 10,
              "solidity": 0.2
             }
            },
            "type": "bar"
           }
          ],
          "barpolar": [
           {
            "marker": {
             "line": {
              "color": "#E5ECF6",
              "width": 0.5
             },
             "pattern": {
              "fillmode": "overlay",
              "size": 10,
              "solidity": 0.2
             }
            },
            "type": "barpolar"
           }
          ],
          "carpet": [
           {
            "aaxis": {
             "endlinecolor": "#2a3f5f",
             "gridcolor": "white",
             "linecolor": "white",
             "minorgridcolor": "white",
             "startlinecolor": "#2a3f5f"
            },
            "baxis": {
             "endlinecolor": "#2a3f5f",
             "gridcolor": "white",
             "linecolor": "white",
             "minorgridcolor": "white",
             "startlinecolor": "#2a3f5f"
            },
            "type": "carpet"
           }
          ],
          "choropleth": [
           {
            "colorbar": {
             "outlinewidth": 0,
             "ticks": ""
            },
            "type": "choropleth"
           }
          ],
          "contour": [
           {
            "colorbar": {
             "outlinewidth": 0,
             "ticks": ""
            },
            "colorscale": [
             [
              0,
              "#0d0887"
             ],
             [
              0.1111111111111111,
              "#46039f"
             ],
             [
              0.2222222222222222,
              "#7201a8"
             ],
             [
              0.3333333333333333,
              "#9c179e"
             ],
             [
              0.4444444444444444,
              "#bd3786"
             ],
             [
              0.5555555555555556,
              "#d8576b"
             ],
             [
              0.6666666666666666,
              "#ed7953"
             ],
             [
              0.7777777777777778,
              "#fb9f3a"
             ],
             [
              0.8888888888888888,
              "#fdca26"
             ],
             [
              1,
              "#f0f921"
             ]
            ],
            "type": "contour"
           }
          ],
          "contourcarpet": [
           {
            "colorbar": {
             "outlinewidth": 0,
             "ticks": ""
            },
            "type": "contourcarpet"
           }
          ],
          "heatmap": [
           {
            "colorbar": {
             "outlinewidth": 0,
             "ticks": ""
            },
            "colorscale": [
             [
              0,
              "#0d0887"
             ],
             [
              0.1111111111111111,
              "#46039f"
             ],
             [
              0.2222222222222222,
              "#7201a8"
             ],
             [
              0.3333333333333333,
              "#9c179e"
             ],
             [
              0.4444444444444444,
              "#bd3786"
             ],
             [
              0.5555555555555556,
              "#d8576b"
             ],
             [
              0.6666666666666666,
              "#ed7953"
             ],
             [
              0.7777777777777778,
              "#fb9f3a"
             ],
             [
              0.8888888888888888,
              "#fdca26"
             ],
             [
              1,
              "#f0f921"
             ]
            ],
            "type": "heatmap"
           }
          ],
          "heatmapgl": [
           {
            "colorbar": {
             "outlinewidth": 0,
             "ticks": ""
            },
            "colorscale": [
             [
              0,
              "#0d0887"
             ],
             [
              0.1111111111111111,
              "#46039f"
             ],
             [
              0.2222222222222222,
              "#7201a8"
             ],
             [
              0.3333333333333333,
              "#9c179e"
             ],
             [
              0.4444444444444444,
              "#bd3786"
             ],
             [
              0.5555555555555556,
              "#d8576b"
             ],
             [
              0.6666666666666666,
              "#ed7953"
             ],
             [
              0.7777777777777778,
              "#fb9f3a"
             ],
             [
              0.8888888888888888,
              "#fdca26"
             ],
             [
              1,
              "#f0f921"
             ]
            ],
            "type": "heatmapgl"
           }
          ],
          "histogram": [
           {
            "marker": {
             "pattern": {
              "fillmode": "overlay",
              "size": 10,
              "solidity": 0.2
             }
            },
            "type": "histogram"
           }
          ],
          "histogram2d": [
           {
            "colorbar": {
             "outlinewidth": 0,
             "ticks": ""
            },
            "colorscale": [
             [
              0,
              "#0d0887"
             ],
             [
              0.1111111111111111,
              "#46039f"
             ],
             [
              0.2222222222222222,
              "#7201a8"
             ],
             [
              0.3333333333333333,
              "#9c179e"
             ],
             [
              0.4444444444444444,
              "#bd3786"
             ],
             [
              0.5555555555555556,
              "#d8576b"
             ],
             [
              0.6666666666666666,
              "#ed7953"
             ],
             [
              0.7777777777777778,
              "#fb9f3a"
             ],
             [
              0.8888888888888888,
              "#fdca26"
             ],
             [
              1,
              "#f0f921"
             ]
            ],
            "type": "histogram2d"
           }
          ],
          "histogram2dcontour": [
           {
            "colorbar": {
             "outlinewidth": 0,
             "ticks": ""
            },
            "colorscale": [
             [
              0,
              "#0d0887"
             ],
             [
              0.1111111111111111,
              "#46039f"
             ],
             [
              0.2222222222222222,
              "#7201a8"
             ],
             [
              0.3333333333333333,
              "#9c179e"
             ],
             [
              0.4444444444444444,
              "#bd3786"
             ],
             [
              0.5555555555555556,
              "#d8576b"
             ],
             [
              0.6666666666666666,
              "#ed7953"
             ],
             [
              0.7777777777777778,
              "#fb9f3a"
             ],
             [
              0.8888888888888888,
              "#fdca26"
             ],
             [
              1,
              "#f0f921"
             ]
            ],
            "type": "histogram2dcontour"
           }
          ],
          "mesh3d": [
           {
            "colorbar": {
             "outlinewidth": 0,
             "ticks": ""
            },
            "type": "mesh3d"
           }
          ],
          "parcoords": [
           {
            "line": {
             "colorbar": {
              "outlinewidth": 0,
              "ticks": ""
             }
            },
            "type": "parcoords"
           }
          ],
          "pie": [
           {
            "automargin": true,
            "type": "pie"
           }
          ],
          "scatter": [
           {
            "fillpattern": {
             "fillmode": "overlay",
             "size": 10,
             "solidity": 0.2
            },
            "type": "scatter"
           }
          ],
          "scatter3d": [
           {
            "line": {
             "colorbar": {
              "outlinewidth": 0,
              "ticks": ""
             }
            },
            "marker": {
             "colorbar": {
              "outlinewidth": 0,
              "ticks": ""
             }
            },
            "type": "scatter3d"
           }
          ],
          "scattercarpet": [
           {
            "marker": {
             "colorbar": {
              "outlinewidth": 0,
              "ticks": ""
             }
            },
            "type": "scattercarpet"
           }
          ],
          "scattergeo": [
           {
            "marker": {
             "colorbar": {
              "outlinewidth": 0,
              "ticks": ""
             }
            },
            "type": "scattergeo"
           }
          ],
          "scattergl": [
           {
            "marker": {
             "colorbar": {
              "outlinewidth": 0,
              "ticks": ""
             }
            },
            "type": "scattergl"
           }
          ],
          "scattermapbox": [
           {
            "marker": {
             "colorbar": {
              "outlinewidth": 0,
              "ticks": ""
             }
            },
            "type": "scattermapbox"
           }
          ],
          "scatterpolar": [
           {
            "marker": {
             "colorbar": {
              "outlinewidth": 0,
              "ticks": ""
             }
            },
            "type": "scatterpolar"
           }
          ],
          "scatterpolargl": [
           {
            "marker": {
             "colorbar": {
              "outlinewidth": 0,
              "ticks": ""
             }
            },
            "type": "scatterpolargl"
           }
          ],
          "scatterternary": [
           {
            "marker": {
             "colorbar": {
              "outlinewidth": 0,
              "ticks": ""
             }
            },
            "type": "scatterternary"
           }
          ],
          "surface": [
           {
            "colorbar": {
             "outlinewidth": 0,
             "ticks": ""
            },
            "colorscale": [
             [
              0,
              "#0d0887"
             ],
             [
              0.1111111111111111,
              "#46039f"
             ],
             [
              0.2222222222222222,
              "#7201a8"
             ],
             [
              0.3333333333333333,
              "#9c179e"
             ],
             [
              0.4444444444444444,
              "#bd3786"
             ],
             [
              0.5555555555555556,
              "#d8576b"
             ],
             [
              0.6666666666666666,
              "#ed7953"
             ],
             [
              0.7777777777777778,
              "#fb9f3a"
             ],
             [
              0.8888888888888888,
              "#fdca26"
             ],
             [
              1,
              "#f0f921"
             ]
            ],
            "type": "surface"
           }
          ],
          "table": [
           {
            "cells": {
             "fill": {
              "color": "#EBF0F8"
             },
             "line": {
              "color": "white"
             }
            },
            "header": {
             "fill": {
              "color": "#C8D4E3"
             },
             "line": {
              "color": "white"
             }
            },
            "type": "table"
           }
          ]
         },
         "layout": {
          "annotationdefaults": {
           "arrowcolor": "#2a3f5f",
           "arrowhead": 0,
           "arrowwidth": 1
          },
          "autotypenumbers": "strict",
          "coloraxis": {
           "colorbar": {
            "outlinewidth": 0,
            "ticks": ""
           }
          },
          "colorscale": {
           "diverging": [
            [
             0,
             "#8e0152"
            ],
            [
             0.1,
             "#c51b7d"
            ],
            [
             0.2,
             "#de77ae"
            ],
            [
             0.3,
             "#f1b6da"
            ],
            [
             0.4,
             "#fde0ef"
            ],
            [
             0.5,
             "#f7f7f7"
            ],
            [
             0.6,
             "#e6f5d0"
            ],
            [
             0.7,
             "#b8e186"
            ],
            [
             0.8,
             "#7fbc41"
            ],
            [
             0.9,
             "#4d9221"
            ],
            [
             1,
             "#276419"
            ]
           ],
           "sequential": [
            [
             0,
             "#0d0887"
            ],
            [
             0.1111111111111111,
             "#46039f"
            ],
            [
             0.2222222222222222,
             "#7201a8"
            ],
            [
             0.3333333333333333,
             "#9c179e"
            ],
            [
             0.4444444444444444,
             "#bd3786"
            ],
            [
             0.5555555555555556,
             "#d8576b"
            ],
            [
             0.6666666666666666,
             "#ed7953"
            ],
            [
             0.7777777777777778,
             "#fb9f3a"
            ],
            [
             0.8888888888888888,
             "#fdca26"
            ],
            [
             1,
             "#f0f921"
            ]
           ],
           "sequentialminus": [
            [
             0,
             "#0d0887"
            ],
            [
             0.1111111111111111,
             "#46039f"
            ],
            [
             0.2222222222222222,
             "#7201a8"
            ],
            [
             0.3333333333333333,
             "#9c179e"
            ],
            [
             0.4444444444444444,
             "#bd3786"
            ],
            [
             0.5555555555555556,
             "#d8576b"
            ],
            [
             0.6666666666666666,
             "#ed7953"
            ],
            [
             0.7777777777777778,
             "#fb9f3a"
            ],
            [
             0.8888888888888888,
             "#fdca26"
            ],
            [
             1,
             "#f0f921"
            ]
           ]
          },
          "colorway": [
           "#636efa",
           "#EF553B",
           "#00cc96",
           "#ab63fa",
           "#FFA15A",
           "#19d3f3",
           "#FF6692",
           "#B6E880",
           "#FF97FF",
           "#FECB52"
          ],
          "font": {
           "color": "#2a3f5f"
          },
          "geo": {
           "bgcolor": "white",
           "lakecolor": "white",
           "landcolor": "#E5ECF6",
           "showlakes": true,
           "showland": true,
           "subunitcolor": "white"
          },
          "hoverlabel": {
           "align": "left"
          },
          "hovermode": "closest",
          "mapbox": {
           "style": "light"
          },
          "paper_bgcolor": "white",
          "plot_bgcolor": "#E5ECF6",
          "polar": {
           "angularaxis": {
            "gridcolor": "white",
            "linecolor": "white",
            "ticks": ""
           },
           "bgcolor": "#E5ECF6",
           "radialaxis": {
            "gridcolor": "white",
            "linecolor": "white",
            "ticks": ""
           }
          },
          "scene": {
           "xaxis": {
            "backgroundcolor": "#E5ECF6",
            "gridcolor": "white",
            "gridwidth": 2,
            "linecolor": "white",
            "showbackground": true,
            "ticks": "",
            "zerolinecolor": "white"
           },
           "yaxis": {
            "backgroundcolor": "#E5ECF6",
            "gridcolor": "white",
            "gridwidth": 2,
            "linecolor": "white",
            "showbackground": true,
            "ticks": "",
            "zerolinecolor": "white"
           },
           "zaxis": {
            "backgroundcolor": "#E5ECF6",
            "gridcolor": "white",
            "gridwidth": 2,
            "linecolor": "white",
            "showbackground": true,
            "ticks": "",
            "zerolinecolor": "white"
           }
          },
          "shapedefaults": {
           "line": {
            "color": "#2a3f5f"
           }
          },
          "ternary": {
           "aaxis": {
            "gridcolor": "white",
            "linecolor": "white",
            "ticks": ""
           },
           "baxis": {
            "gridcolor": "white",
            "linecolor": "white",
            "ticks": ""
           },
           "bgcolor": "#E5ECF6",
           "caxis": {
            "gridcolor": "white",
            "linecolor": "white",
            "ticks": ""
           }
          },
          "title": {
           "x": 0.05
          },
          "xaxis": {
           "automargin": true,
           "gridcolor": "white",
           "linecolor": "white",
           "ticks": "",
           "title": {
            "standoff": 15
           },
           "zerolinecolor": "white",
           "zerolinewidth": 2
          },
          "yaxis": {
           "automargin": true,
           "gridcolor": "white",
           "linecolor": "white",
           "ticks": "",
           "title": {
            "standoff": 15
           },
           "zerolinecolor": "white",
           "zerolinewidth": 2
          }
         }
        }
       }
      }
     },
     "metadata": {},
     "output_type": "display_data"
    }
   ],
   "source": [
    "tx = jnp.array([0.0, 4.9352, 22.0])\n",
    "rx = jnp.array([0.0, 10.034, 1.50])\n",
    "\n",
    "dplt.draw_markers(\n",
    "    np.array([tx, rx]), labels=[\"tx\", \"rx\"], figure=fig, name=\"nodes\"\n",
    ")"
   ]
  },
  {
   "cell_type": "markdown",
   "id": "db3d3187-c330-4367-b51c-b027dcdf05ed",
   "metadata": {},
   "source": [
    "### How we trace rays\n",
    "\n",
    "Ray Tracing can be implemented in many ways, depending on the desired performances, the level of accuracy needed,\n",
    "or the representation of the geometry.\n",
    "\n",
    "Here, we will implement deterministic (or exact) Ray Tracing. That is, we want to generate all possible paths from TX to RX, that undergo up to a maximum number of interactions with the environment. Interactions can be reflections, diffractions, etc.\n",
    "\n",
    "One way to generate all possible paths is to represent the problem as a graph. Then, the goal is to find all the paths from the node corresponding to TX, to the node corresponding to RX, while possibly visiting intermediate nodes in the graph, where each corresponds to a specific primitive in the scene (here, a triangle).\n",
    "\n",
    "A graph algorithm will therefore generate a list of *path candidates*. We use the word *candidate* to emphasize that this is not a real path (i.e., not 3D coordinates), but only an ordered list of nodes to visit, for a given path.\n",
    "\n",
    "Then, this is the role of the **path finding** method (e.g., {func}`image_method<differt.rt.image_method.image_method>` or {func}`fermat_path_on_planar_mirrors<differt.rt.fermat.fermat_path_on_planar_mirrors>`) to find the exact coordinates of that path.\n",
    "\n",
    "Let's select a subset of our primitives to understand what we have just talked about."
   ]
  },
  {
   "cell_type": "code",
   "execution_count": 6,
   "id": "471c5059-cc86-4ca6-ad9e-efc8d7cc2f91",
   "metadata": {},
   "outputs": [
    {
     "data": {
      "application/vnd.plotly.v1+json": {
       "config": {
        "plotlyServerURL": "https://plot.ly"
       },
       "data": [
        {
         "i": [
          8,
          9,
          12,
          13,
          16,
          17,
          20,
          21,
          24,
          25,
          28,
          29,
          32,
          33,
          36,
          37,
          40,
          41,
          44,
          45,
          48,
          49,
          52,
          53
         ],
         "j": [
          9,
          8,
          13,
          12,
          17,
          16,
          21,
          20,
          25,
          24,
          29,
          28,
          33,
          32,
          37,
          36,
          41,
          40,
          45,
          44,
          49,
          48,
          53,
          52
         ],
         "k": [
          10,
          11,
          14,
          15,
          18,
          19,
          22,
          23,
          26,
          27,
          30,
          31,
          34,
          35,
          38,
          39,
          42,
          43,
          46,
          47,
          50,
          51,
          54,
          55
         ],
         "opacity": 0.5,
         "type": "mesh3d",
         "x": [
          1,
          1,
          -1,
          -1,
          1,
          1,
          -1,
          -1,
          5,
          -5,
          -5,
          5,
          -4.999998092651367,
          5.000000953674316,
          -5.106064796447754,
          5.000001907348633,
          5.000000953674316,
          -4.999998092651367,
          -5.106064796447754,
          5.000001907348633,
          5.000001907348633,
          5.000000953674316,
          5.000000953674316,
          5.000001907348633,
          5.000000953674316,
          -5.106064796447754,
          5.000000953674316,
          -5.106064796447754,
          -4.999998092651367,
          -5.106064796447754,
          -5.106064796447754,
          -4.999998092651367,
          -4.999998092651367,
          5.000001907348633,
          -4.999998092651367,
          5.000001907348633,
          5,
          -5,
          -5,
          5,
          5,
          5,
          5,
          5,
          5,
          -5,
          5,
          -5,
          -5,
          -5,
          -5,
          -5,
          -5,
          5,
          -5,
          5
         ],
         "y": [
          -1,
          -1,
          -1,
          -1,
          1,
          1,
          1,
          1,
          5,
          -5,
          5,
          -5,
          25,
          15,
          14.89393424987793,
          25,
          15,
          25,
          14.89393424987793,
          25,
          25,
          15,
          15,
          25,
          15,
          14.89393424987793,
          15,
          14.89393424987793,
          25,
          14.89393424987793,
          14.89393424987793,
          25,
          25,
          25,
          25,
          25,
          -5,
          5,
          -5,
          5,
          5,
          -5,
          -5,
          5,
          -5,
          -5,
          -5,
          -5,
          5,
          -5,
          -5,
          5,
          5,
          5,
          5,
          5
         ],
         "z": [
          1,
          -1,
          1,
          -1,
          1,
          -1,
          1,
          -1,
          0,
          0,
          0,
          0,
          0,
          0,
          0,
          0,
          20,
          20,
          20,
          20,
          0,
          20,
          0,
          20,
          20,
          0,
          0,
          20,
          20,
          0,
          20,
          0,
          20,
          0,
          0,
          20,
          20,
          20,
          20,
          20,
          0,
          20,
          0,
          20,
          20,
          0,
          0,
          20,
          20,
          0,
          20,
          0,
          20,
          0,
          0,
          20
         ]
        },
        {
         "mode": "markers+text",
         "name": "nodes",
         "text": [
          "tx",
          "rx"
         ],
         "type": "scatter3d",
         "x": [
          0,
          0
         ],
         "y": [
          4.935200214385986,
          10.034000396728516
         ],
         "z": [
          22,
          1.5
         ]
        },
        {
         "color": "red",
         "i": [
          24,
          25
         ],
         "j": [
          25,
          24
         ],
         "k": [
          26,
          27
         ],
         "type": "mesh3d",
         "x": [
          1,
          1,
          -1,
          -1,
          1,
          1,
          -1,
          -1,
          5,
          -5,
          -5,
          5,
          -4.999998092651367,
          5.000000953674316,
          -5.106064796447754,
          5.000001907348633,
          5.000000953674316,
          -4.999998092651367,
          -5.106064796447754,
          5.000001907348633,
          5.000001907348633,
          5.000000953674316,
          5.000000953674316,
          5.000001907348633,
          5.000000953674316,
          -5.106064796447754,
          5.000000953674316,
          -5.106064796447754,
          -4.999998092651367,
          -5.106064796447754,
          -5.106064796447754,
          -4.999998092651367,
          -4.999998092651367,
          5.000001907348633,
          -4.999998092651367,
          5.000001907348633,
          5,
          -5,
          -5,
          5,
          5,
          5,
          5,
          5,
          5,
          -5,
          5,
          -5,
          -5,
          -5,
          -5,
          -5,
          -5,
          5,
          -5,
          5
         ],
         "y": [
          -1,
          -1,
          -1,
          -1,
          1,
          1,
          1,
          1,
          5,
          -5,
          5,
          -5,
          25,
          15,
          14.89393424987793,
          25,
          15,
          25,
          14.89393424987793,
          25,
          25,
          15,
          15,
          25,
          15,
          14.89393424987793,
          15,
          14.89393424987793,
          25,
          14.89393424987793,
          14.89393424987793,
          25,
          25,
          25,
          25,
          25,
          -5,
          5,
          -5,
          5,
          5,
          -5,
          -5,
          5,
          -5,
          -5,
          -5,
          -5,
          5,
          -5,
          -5,
          5,
          5,
          5,
          5,
          5
         ],
         "z": [
          1,
          -1,
          1,
          -1,
          1,
          -1,
          1,
          -1,
          0,
          0,
          0,
          0,
          0,
          0,
          0,
          0,
          20,
          20,
          20,
          20,
          0,
          20,
          0,
          20,
          20,
          0,
          0,
          20,
          20,
          0,
          20,
          0,
          20,
          0,
          0,
          20,
          20,
          20,
          20,
          20,
          0,
          20,
          0,
          20,
          20,
          0,
          0,
          20,
          20,
          0,
          20,
          0,
          20,
          0,
          0,
          20
         ]
        },
        {
         "color": "green",
         "i": [
          52,
          53
         ],
         "j": [
          53,
          52
         ],
         "k": [
          54,
          55
         ],
         "type": "mesh3d",
         "x": [
          1,
          1,
          -1,
          -1,
          1,
          1,
          -1,
          -1,
          5,
          -5,
          -5,
          5,
          -4.999998092651367,
          5.000000953674316,
          -5.106064796447754,
          5.000001907348633,
          5.000000953674316,
          -4.999998092651367,
          -5.106064796447754,
          5.000001907348633,
          5.000001907348633,
          5.000000953674316,
          5.000000953674316,
          5.000001907348633,
          5.000000953674316,
          -5.106064796447754,
          5.000000953674316,
          -5.106064796447754,
          -4.999998092651367,
          -5.106064796447754,
          -5.106064796447754,
          -4.999998092651367,
          -4.999998092651367,
          5.000001907348633,
          -4.999998092651367,
          5.000001907348633,
          5,
          -5,
          -5,
          5,
          5,
          5,
          5,
          5,
          5,
          -5,
          5,
          -5,
          -5,
          -5,
          -5,
          -5,
          -5,
          5,
          -5,
          5
         ],
         "y": [
          -1,
          -1,
          -1,
          -1,
          1,
          1,
          1,
          1,
          5,
          -5,
          5,
          -5,
          25,
          15,
          14.89393424987793,
          25,
          15,
          25,
          14.89393424987793,
          25,
          25,
          15,
          15,
          25,
          15,
          14.89393424987793,
          15,
          14.89393424987793,
          25,
          14.89393424987793,
          14.89393424987793,
          25,
          25,
          25,
          25,
          25,
          -5,
          5,
          -5,
          5,
          5,
          -5,
          -5,
          5,
          -5,
          -5,
          -5,
          -5,
          5,
          -5,
          -5,
          5,
          5,
          5,
          5,
          5
         ],
         "z": [
          1,
          -1,
          1,
          -1,
          1,
          -1,
          1,
          -1,
          0,
          0,
          0,
          0,
          0,
          0,
          0,
          0,
          20,
          20,
          20,
          20,
          0,
          20,
          0,
          20,
          20,
          0,
          0,
          20,
          20,
          0,
          20,
          0,
          20,
          0,
          0,
          20,
          20,
          20,
          20,
          20,
          0,
          20,
          0,
          20,
          20,
          0,
          0,
          20,
          20,
          0,
          20,
          0,
          20,
          0,
          0,
          20
         ]
        }
       ],
       "layout": {
        "template": {
         "data": {
          "bar": [
           {
            "error_x": {
             "color": "#2a3f5f"
            },
            "error_y": {
             "color": "#2a3f5f"
            },
            "marker": {
             "line": {
              "color": "#E5ECF6",
              "width": 0.5
             },
             "pattern": {
              "fillmode": "overlay",
              "size": 10,
              "solidity": 0.2
             }
            },
            "type": "bar"
           }
          ],
          "barpolar": [
           {
            "marker": {
             "line": {
              "color": "#E5ECF6",
              "width": 0.5
             },
             "pattern": {
              "fillmode": "overlay",
              "size": 10,
              "solidity": 0.2
             }
            },
            "type": "barpolar"
           }
          ],
          "carpet": [
           {
            "aaxis": {
             "endlinecolor": "#2a3f5f",
             "gridcolor": "white",
             "linecolor": "white",
             "minorgridcolor": "white",
             "startlinecolor": "#2a3f5f"
            },
            "baxis": {
             "endlinecolor": "#2a3f5f",
             "gridcolor": "white",
             "linecolor": "white",
             "minorgridcolor": "white",
             "startlinecolor": "#2a3f5f"
            },
            "type": "carpet"
           }
          ],
          "choropleth": [
           {
            "colorbar": {
             "outlinewidth": 0,
             "ticks": ""
            },
            "type": "choropleth"
           }
          ],
          "contour": [
           {
            "colorbar": {
             "outlinewidth": 0,
             "ticks": ""
            },
            "colorscale": [
             [
              0,
              "#0d0887"
             ],
             [
              0.1111111111111111,
              "#46039f"
             ],
             [
              0.2222222222222222,
              "#7201a8"
             ],
             [
              0.3333333333333333,
              "#9c179e"
             ],
             [
              0.4444444444444444,
              "#bd3786"
             ],
             [
              0.5555555555555556,
              "#d8576b"
             ],
             [
              0.6666666666666666,
              "#ed7953"
             ],
             [
              0.7777777777777778,
              "#fb9f3a"
             ],
             [
              0.8888888888888888,
              "#fdca26"
             ],
             [
              1,
              "#f0f921"
             ]
            ],
            "type": "contour"
           }
          ],
          "contourcarpet": [
           {
            "colorbar": {
             "outlinewidth": 0,
             "ticks": ""
            },
            "type": "contourcarpet"
           }
          ],
          "heatmap": [
           {
            "colorbar": {
             "outlinewidth": 0,
             "ticks": ""
            },
            "colorscale": [
             [
              0,
              "#0d0887"
             ],
             [
              0.1111111111111111,
              "#46039f"
             ],
             [
              0.2222222222222222,
              "#7201a8"
             ],
             [
              0.3333333333333333,
              "#9c179e"
             ],
             [
              0.4444444444444444,
              "#bd3786"
             ],
             [
              0.5555555555555556,
              "#d8576b"
             ],
             [
              0.6666666666666666,
              "#ed7953"
             ],
             [
              0.7777777777777778,
              "#fb9f3a"
             ],
             [
              0.8888888888888888,
              "#fdca26"
             ],
             [
              1,
              "#f0f921"
             ]
            ],
            "type": "heatmap"
           }
          ],
          "heatmapgl": [
           {
            "colorbar": {
             "outlinewidth": 0,
             "ticks": ""
            },
            "colorscale": [
             [
              0,
              "#0d0887"
             ],
             [
              0.1111111111111111,
              "#46039f"
             ],
             [
              0.2222222222222222,
              "#7201a8"
             ],
             [
              0.3333333333333333,
              "#9c179e"
             ],
             [
              0.4444444444444444,
              "#bd3786"
             ],
             [
              0.5555555555555556,
              "#d8576b"
             ],
             [
              0.6666666666666666,
              "#ed7953"
             ],
             [
              0.7777777777777778,
              "#fb9f3a"
             ],
             [
              0.8888888888888888,
              "#fdca26"
             ],
             [
              1,
              "#f0f921"
             ]
            ],
            "type": "heatmapgl"
           }
          ],
          "histogram": [
           {
            "marker": {
             "pattern": {
              "fillmode": "overlay",
              "size": 10,
              "solidity": 0.2
             }
            },
            "type": "histogram"
           }
          ],
          "histogram2d": [
           {
            "colorbar": {
             "outlinewidth": 0,
             "ticks": ""
            },
            "colorscale": [
             [
              0,
              "#0d0887"
             ],
             [
              0.1111111111111111,
              "#46039f"
             ],
             [
              0.2222222222222222,
              "#7201a8"
             ],
             [
              0.3333333333333333,
              "#9c179e"
             ],
             [
              0.4444444444444444,
              "#bd3786"
             ],
             [
              0.5555555555555556,
              "#d8576b"
             ],
             [
              0.6666666666666666,
              "#ed7953"
             ],
             [
              0.7777777777777778,
              "#fb9f3a"
             ],
             [
              0.8888888888888888,
              "#fdca26"
             ],
             [
              1,
              "#f0f921"
             ]
            ],
            "type": "histogram2d"
           }
          ],
          "histogram2dcontour": [
           {
            "colorbar": {
             "outlinewidth": 0,
             "ticks": ""
            },
            "colorscale": [
             [
              0,
              "#0d0887"
             ],
             [
              0.1111111111111111,
              "#46039f"
             ],
             [
              0.2222222222222222,
              "#7201a8"
             ],
             [
              0.3333333333333333,
              "#9c179e"
             ],
             [
              0.4444444444444444,
              "#bd3786"
             ],
             [
              0.5555555555555556,
              "#d8576b"
             ],
             [
              0.6666666666666666,
              "#ed7953"
             ],
             [
              0.7777777777777778,
              "#fb9f3a"
             ],
             [
              0.8888888888888888,
              "#fdca26"
             ],
             [
              1,
              "#f0f921"
             ]
            ],
            "type": "histogram2dcontour"
           }
          ],
          "mesh3d": [
           {
            "colorbar": {
             "outlinewidth": 0,
             "ticks": ""
            },
            "type": "mesh3d"
           }
          ],
          "parcoords": [
           {
            "line": {
             "colorbar": {
              "outlinewidth": 0,
              "ticks": ""
             }
            },
            "type": "parcoords"
           }
          ],
          "pie": [
           {
            "automargin": true,
            "type": "pie"
           }
          ],
          "scatter": [
           {
            "fillpattern": {
             "fillmode": "overlay",
             "size": 10,
             "solidity": 0.2
            },
            "type": "scatter"
           }
          ],
          "scatter3d": [
           {
            "line": {
             "colorbar": {
              "outlinewidth": 0,
              "ticks": ""
             }
            },
            "marker": {
             "colorbar": {
              "outlinewidth": 0,
              "ticks": ""
             }
            },
            "type": "scatter3d"
           }
          ],
          "scattercarpet": [
           {
            "marker": {
             "colorbar": {
              "outlinewidth": 0,
              "ticks": ""
             }
            },
            "type": "scattercarpet"
           }
          ],
          "scattergeo": [
           {
            "marker": {
             "colorbar": {
              "outlinewidth": 0,
              "ticks": ""
             }
            },
            "type": "scattergeo"
           }
          ],
          "scattergl": [
           {
            "marker": {
             "colorbar": {
              "outlinewidth": 0,
              "ticks": ""
             }
            },
            "type": "scattergl"
           }
          ],
          "scattermapbox": [
           {
            "marker": {
             "colorbar": {
              "outlinewidth": 0,
              "ticks": ""
             }
            },
            "type": "scattermapbox"
           }
          ],
          "scatterpolar": [
           {
            "marker": {
             "colorbar": {
              "outlinewidth": 0,
              "ticks": ""
             }
            },
            "type": "scatterpolar"
           }
          ],
          "scatterpolargl": [
           {
            "marker": {
             "colorbar": {
              "outlinewidth": 0,
              "ticks": ""
             }
            },
            "type": "scatterpolargl"
           }
          ],
          "scatterternary": [
           {
            "marker": {
             "colorbar": {
              "outlinewidth": 0,
              "ticks": ""
             }
            },
            "type": "scatterternary"
           }
          ],
          "surface": [
           {
            "colorbar": {
             "outlinewidth": 0,
             "ticks": ""
            },
            "colorscale": [
             [
              0,
              "#0d0887"
             ],
             [
              0.1111111111111111,
              "#46039f"
             ],
             [
              0.2222222222222222,
              "#7201a8"
             ],
             [
              0.3333333333333333,
              "#9c179e"
             ],
             [
              0.4444444444444444,
              "#bd3786"
             ],
             [
              0.5555555555555556,
              "#d8576b"
             ],
             [
              0.6666666666666666,
              "#ed7953"
             ],
             [
              0.7777777777777778,
              "#fb9f3a"
             ],
             [
              0.8888888888888888,
              "#fdca26"
             ],
             [
              1,
              "#f0f921"
             ]
            ],
            "type": "surface"
           }
          ],
          "table": [
           {
            "cells": {
             "fill": {
              "color": "#EBF0F8"
             },
             "line": {
              "color": "white"
             }
            },
            "header": {
             "fill": {
              "color": "#C8D4E3"
             },
             "line": {
              "color": "white"
             }
            },
            "type": "table"
           }
          ]
         },
         "layout": {
          "annotationdefaults": {
           "arrowcolor": "#2a3f5f",
           "arrowhead": 0,
           "arrowwidth": 1
          },
          "autotypenumbers": "strict",
          "coloraxis": {
           "colorbar": {
            "outlinewidth": 0,
            "ticks": ""
           }
          },
          "colorscale": {
           "diverging": [
            [
             0,
             "#8e0152"
            ],
            [
             0.1,
             "#c51b7d"
            ],
            [
             0.2,
             "#de77ae"
            ],
            [
             0.3,
             "#f1b6da"
            ],
            [
             0.4,
             "#fde0ef"
            ],
            [
             0.5,
             "#f7f7f7"
            ],
            [
             0.6,
             "#e6f5d0"
            ],
            [
             0.7,
             "#b8e186"
            ],
            [
             0.8,
             "#7fbc41"
            ],
            [
             0.9,
             "#4d9221"
            ],
            [
             1,
             "#276419"
            ]
           ],
           "sequential": [
            [
             0,
             "#0d0887"
            ],
            [
             0.1111111111111111,
             "#46039f"
            ],
            [
             0.2222222222222222,
             "#7201a8"
            ],
            [
             0.3333333333333333,
             "#9c179e"
            ],
            [
             0.4444444444444444,
             "#bd3786"
            ],
            [
             0.5555555555555556,
             "#d8576b"
            ],
            [
             0.6666666666666666,
             "#ed7953"
            ],
            [
             0.7777777777777778,
             "#fb9f3a"
            ],
            [
             0.8888888888888888,
             "#fdca26"
            ],
            [
             1,
             "#f0f921"
            ]
           ],
           "sequentialminus": [
            [
             0,
             "#0d0887"
            ],
            [
             0.1111111111111111,
             "#46039f"
            ],
            [
             0.2222222222222222,
             "#7201a8"
            ],
            [
             0.3333333333333333,
             "#9c179e"
            ],
            [
             0.4444444444444444,
             "#bd3786"
            ],
            [
             0.5555555555555556,
             "#d8576b"
            ],
            [
             0.6666666666666666,
             "#ed7953"
            ],
            [
             0.7777777777777778,
             "#fb9f3a"
            ],
            [
             0.8888888888888888,
             "#fdca26"
            ],
            [
             1,
             "#f0f921"
            ]
           ]
          },
          "colorway": [
           "#636efa",
           "#EF553B",
           "#00cc96",
           "#ab63fa",
           "#FFA15A",
           "#19d3f3",
           "#FF6692",
           "#B6E880",
           "#FF97FF",
           "#FECB52"
          ],
          "font": {
           "color": "#2a3f5f"
          },
          "geo": {
           "bgcolor": "white",
           "lakecolor": "white",
           "landcolor": "#E5ECF6",
           "showlakes": true,
           "showland": true,
           "subunitcolor": "white"
          },
          "hoverlabel": {
           "align": "left"
          },
          "hovermode": "closest",
          "mapbox": {
           "style": "light"
          },
          "paper_bgcolor": "white",
          "plot_bgcolor": "#E5ECF6",
          "polar": {
           "angularaxis": {
            "gridcolor": "white",
            "linecolor": "white",
            "ticks": ""
           },
           "bgcolor": "#E5ECF6",
           "radialaxis": {
            "gridcolor": "white",
            "linecolor": "white",
            "ticks": ""
           }
          },
          "scene": {
           "xaxis": {
            "backgroundcolor": "#E5ECF6",
            "gridcolor": "white",
            "gridwidth": 2,
            "linecolor": "white",
            "showbackground": true,
            "ticks": "",
            "zerolinecolor": "white"
           },
           "yaxis": {
            "backgroundcolor": "#E5ECF6",
            "gridcolor": "white",
            "gridwidth": 2,
            "linecolor": "white",
            "showbackground": true,
            "ticks": "",
            "zerolinecolor": "white"
           },
           "zaxis": {
            "backgroundcolor": "#E5ECF6",
            "gridcolor": "white",
            "gridwidth": 2,
            "linecolor": "white",
            "showbackground": true,
            "ticks": "",
            "zerolinecolor": "white"
           }
          },
          "shapedefaults": {
           "line": {
            "color": "#2a3f5f"
           }
          },
          "ternary": {
           "aaxis": {
            "gridcolor": "white",
            "linecolor": "white",
            "ticks": ""
           },
           "baxis": {
            "gridcolor": "white",
            "linecolor": "white",
            "ticks": ""
           },
           "bgcolor": "#E5ECF6",
           "caxis": {
            "gridcolor": "white",
            "linecolor": "white",
            "ticks": ""
           }
          },
          "title": {
           "x": 0.05
          },
          "xaxis": {
           "automargin": true,
           "gridcolor": "white",
           "linecolor": "white",
           "ticks": "",
           "title": {
            "standoff": 15
           },
           "zerolinecolor": "white",
           "zerolinewidth": 2
          },
          "yaxis": {
           "automargin": true,
           "gridcolor": "white",
           "linecolor": "white",
           "ticks": "",
           "title": {
            "standoff": 15
           },
           "zerolinecolor": "white",
           "zerolinewidth": 2
          }
         }
        }
       }
      }
     },
     "metadata": {},
     "output_type": "display_data"
    }
   ],
   "source": [
    "select = [\n",
    "    8,  # Red\n",
    "    9,  # Red\n",
    "    22,  # Green\n",
    "    23,  # Green\n",
    "]  # Ideally, you will never hard-code the primitive indices yourself\n",
    "\n",
    "vertices = mesh.vertices\n",
    "triangles = mesh.triangles[select, :]\n",
    "\n",
    "dplt.draw_mesh(vertices, triangles[:2, :], figure=fig, color=\"red\")\n",
    "dplt.draw_mesh(vertices, triangles[2:, :], figure=fig, color=\"green\")"
   ]
  },
  {
   "cell_type": "markdown",
   "id": "7d1fb247-2aba-4064-aba9-f34bfea0d3c5",
   "metadata": {},
   "source": [
    "Looking at the above, we can clearly see that a line-of-sight (LOS) path between TX and RX exists.\n",
    "\n",
    "With a bit of thinking, we could also imagine that a path with one or more reflections might join TX and RX.\n",
    "\n",
    "For example, <kbd>TX -> Red surface -> RX</kbd> might probably produce a valid path.\n",
    "The same logic can be applied to <kbd>TX -> Red surface -> Green surface -> RX</kbd>."
   ]
  },
  {
   "cell_type": "code",
   "execution_count": 7,
   "id": "30689d03-ac54-419f-ada3-c14a1a570d65",
   "metadata": {},
   "outputs": [
    {
     "data": {
      "application/vnd.plotly.v1+json": {
       "config": {
        "plotlyServerURL": "https://plot.ly"
       },
       "data": [
        {
         "i": [
          8,
          9,
          12,
          13,
          16,
          17,
          20,
          21,
          24,
          25,
          28,
          29,
          32,
          33,
          36,
          37,
          40,
          41,
          44,
          45,
          48,
          49,
          52,
          53
         ],
         "j": [
          9,
          8,
          13,
          12,
          17,
          16,
          21,
          20,
          25,
          24,
          29,
          28,
          33,
          32,
          37,
          36,
          41,
          40,
          45,
          44,
          49,
          48,
          53,
          52
         ],
         "k": [
          10,
          11,
          14,
          15,
          18,
          19,
          22,
          23,
          26,
          27,
          30,
          31,
          34,
          35,
          38,
          39,
          42,
          43,
          46,
          47,
          50,
          51,
          54,
          55
         ],
         "opacity": 0.5,
         "type": "mesh3d",
         "x": [
          1,
          1,
          -1,
          -1,
          1,
          1,
          -1,
          -1,
          5,
          -5,
          -5,
          5,
          -4.999998092651367,
          5.000000953674316,
          -5.106064796447754,
          5.000001907348633,
          5.000000953674316,
          -4.999998092651367,
          -5.106064796447754,
          5.000001907348633,
          5.000001907348633,
          5.000000953674316,
          5.000000953674316,
          5.000001907348633,
          5.000000953674316,
          -5.106064796447754,
          5.000000953674316,
          -5.106064796447754,
          -4.999998092651367,
          -5.106064796447754,
          -5.106064796447754,
          -4.999998092651367,
          -4.999998092651367,
          5.000001907348633,
          -4.999998092651367,
          5.000001907348633,
          5,
          -5,
          -5,
          5,
          5,
          5,
          5,
          5,
          5,
          -5,
          5,
          -5,
          -5,
          -5,
          -5,
          -5,
          -5,
          5,
          -5,
          5
         ],
         "y": [
          -1,
          -1,
          -1,
          -1,
          1,
          1,
          1,
          1,
          5,
          -5,
          5,
          -5,
          25,
          15,
          14.89393424987793,
          25,
          15,
          25,
          14.89393424987793,
          25,
          25,
          15,
          15,
          25,
          15,
          14.89393424987793,
          15,
          14.89393424987793,
          25,
          14.89393424987793,
          14.89393424987793,
          25,
          25,
          25,
          25,
          25,
          -5,
          5,
          -5,
          5,
          5,
          -5,
          -5,
          5,
          -5,
          -5,
          -5,
          -5,
          5,
          -5,
          -5,
          5,
          5,
          5,
          5,
          5
         ],
         "z": [
          1,
          -1,
          1,
          -1,
          1,
          -1,
          1,
          -1,
          0,
          0,
          0,
          0,
          0,
          0,
          0,
          0,
          20,
          20,
          20,
          20,
          0,
          20,
          0,
          20,
          20,
          0,
          0,
          20,
          20,
          0,
          20,
          0,
          20,
          0,
          0,
          20,
          20,
          20,
          20,
          20,
          0,
          20,
          0,
          20,
          20,
          0,
          0,
          20,
          20,
          0,
          20,
          0,
          20,
          0,
          0,
          20
         ]
        },
        {
         "mode": "markers+text",
         "name": "nodes",
         "text": [
          "tx",
          "rx"
         ],
         "type": "scatter3d",
         "x": [
          0,
          0
         ],
         "y": [
          4.935200214385986,
          10.034000396728516
         ],
         "z": [
          22,
          1.5
         ]
        },
        {
         "color": "red",
         "i": [
          24,
          25
         ],
         "j": [
          25,
          24
         ],
         "k": [
          26,
          27
         ],
         "type": "mesh3d",
         "x": [
          1,
          1,
          -1,
          -1,
          1,
          1,
          -1,
          -1,
          5,
          -5,
          -5,
          5,
          -4.999998092651367,
          5.000000953674316,
          -5.106064796447754,
          5.000001907348633,
          5.000000953674316,
          -4.999998092651367,
          -5.106064796447754,
          5.000001907348633,
          5.000001907348633,
          5.000000953674316,
          5.000000953674316,
          5.000001907348633,
          5.000000953674316,
          -5.106064796447754,
          5.000000953674316,
          -5.106064796447754,
          -4.999998092651367,
          -5.106064796447754,
          -5.106064796447754,
          -4.999998092651367,
          -4.999998092651367,
          5.000001907348633,
          -4.999998092651367,
          5.000001907348633,
          5,
          -5,
          -5,
          5,
          5,
          5,
          5,
          5,
          5,
          -5,
          5,
          -5,
          -5,
          -5,
          -5,
          -5,
          -5,
          5,
          -5,
          5
         ],
         "y": [
          -1,
          -1,
          -1,
          -1,
          1,
          1,
          1,
          1,
          5,
          -5,
          5,
          -5,
          25,
          15,
          14.89393424987793,
          25,
          15,
          25,
          14.89393424987793,
          25,
          25,
          15,
          15,
          25,
          15,
          14.89393424987793,
          15,
          14.89393424987793,
          25,
          14.89393424987793,
          14.89393424987793,
          25,
          25,
          25,
          25,
          25,
          -5,
          5,
          -5,
          5,
          5,
          -5,
          -5,
          5,
          -5,
          -5,
          -5,
          -5,
          5,
          -5,
          -5,
          5,
          5,
          5,
          5,
          5
         ],
         "z": [
          1,
          -1,
          1,
          -1,
          1,
          -1,
          1,
          -1,
          0,
          0,
          0,
          0,
          0,
          0,
          0,
          0,
          20,
          20,
          20,
          20,
          0,
          20,
          0,
          20,
          20,
          0,
          0,
          20,
          20,
          0,
          20,
          0,
          20,
          0,
          0,
          20,
          20,
          20,
          20,
          20,
          0,
          20,
          0,
          20,
          20,
          0,
          0,
          20,
          20,
          0,
          20,
          0,
          20,
          0,
          0,
          20
         ]
        },
        {
         "color": "green",
         "i": [
          52,
          53
         ],
         "j": [
          53,
          52
         ],
         "k": [
          54,
          55
         ],
         "type": "mesh3d",
         "x": [
          1,
          1,
          -1,
          -1,
          1,
          1,
          -1,
          -1,
          5,
          -5,
          -5,
          5,
          -4.999998092651367,
          5.000000953674316,
          -5.106064796447754,
          5.000001907348633,
          5.000000953674316,
          -4.999998092651367,
          -5.106064796447754,
          5.000001907348633,
          5.000001907348633,
          5.000000953674316,
          5.000000953674316,
          5.000001907348633,
          5.000000953674316,
          -5.106064796447754,
          5.000000953674316,
          -5.106064796447754,
          -4.999998092651367,
          -5.106064796447754,
          -5.106064796447754,
          -4.999998092651367,
          -4.999998092651367,
          5.000001907348633,
          -4.999998092651367,
          5.000001907348633,
          5,
          -5,
          -5,
          5,
          5,
          5,
          5,
          5,
          5,
          -5,
          5,
          -5,
          -5,
          -5,
          -5,
          -5,
          -5,
          5,
          -5,
          5
         ],
         "y": [
          -1,
          -1,
          -1,
          -1,
          1,
          1,
          1,
          1,
          5,
          -5,
          5,
          -5,
          25,
          15,
          14.89393424987793,
          25,
          15,
          25,
          14.89393424987793,
          25,
          25,
          15,
          15,
          25,
          15,
          14.89393424987793,
          15,
          14.89393424987793,
          25,
          14.89393424987793,
          14.89393424987793,
          25,
          25,
          25,
          25,
          25,
          -5,
          5,
          -5,
          5,
          5,
          -5,
          -5,
          5,
          -5,
          -5,
          -5,
          -5,
          5,
          -5,
          -5,
          5,
          5,
          5,
          5,
          5
         ],
         "z": [
          1,
          -1,
          1,
          -1,
          1,
          -1,
          1,
          -1,
          0,
          0,
          0,
          0,
          0,
          0,
          0,
          0,
          20,
          20,
          20,
          20,
          0,
          20,
          0,
          20,
          20,
          0,
          0,
          20,
          20,
          0,
          20,
          0,
          20,
          0,
          0,
          20,
          20,
          20,
          20,
          20,
          0,
          20,
          0,
          20,
          20,
          0,
          0,
          20,
          20,
          0,
          20,
          0,
          20,
          0,
          0,
          20
         ]
        },
        {
         "line": {
          "color": "black",
          "width": 3
         },
         "marker": {
          "color": "black",
          "size": 0
         },
         "name": "Order 0",
         "type": "scatter3d",
         "x": [
          0,
          0
         ],
         "y": [
          4.935200214385986,
          10.034000396728516
         ],
         "z": [
          22,
          1.5
         ]
        },
        {
         "line": {
          "color": "green",
          "width": 3
         },
         "marker": {
          "color": "black",
          "size": 0
         },
         "name": "Order 1",
         "type": "scatter3d",
         "x": [
          0,
          -0.06917739659547806,
          0
         ],
         "y": [
          4.935200214385986,
          14.94679832458496,
          10.034000396728516
         ],
         "z": [
          22,
          8.24851131439209,
          1.5
         ]
        },
        {
         "line": {
          "color": "orange",
          "width": 3
         },
         "marker": {
          "color": "black",
          "size": 0
         },
         "name": "Order 2",
         "type": "scatter3d",
         "x": [
          0,
          -0.125960111618042,
          -0.04232808202505112,
          0
         ],
         "y": [
          4.935200214385986,
          14.946202278137209,
          5,
          10.034000396728516
         ],
         "z": [
          22,
          13.787875175476074,
          5.629261016845703,
          1.5
         ]
        }
       ],
       "layout": {
        "template": {
         "data": {
          "bar": [
           {
            "error_x": {
             "color": "#2a3f5f"
            },
            "error_y": {
             "color": "#2a3f5f"
            },
            "marker": {
             "line": {
              "color": "#E5ECF6",
              "width": 0.5
             },
             "pattern": {
              "fillmode": "overlay",
              "size": 10,
              "solidity": 0.2
             }
            },
            "type": "bar"
           }
          ],
          "barpolar": [
           {
            "marker": {
             "line": {
              "color": "#E5ECF6",
              "width": 0.5
             },
             "pattern": {
              "fillmode": "overlay",
              "size": 10,
              "solidity": 0.2
             }
            },
            "type": "barpolar"
           }
          ],
          "carpet": [
           {
            "aaxis": {
             "endlinecolor": "#2a3f5f",
             "gridcolor": "white",
             "linecolor": "white",
             "minorgridcolor": "white",
             "startlinecolor": "#2a3f5f"
            },
            "baxis": {
             "endlinecolor": "#2a3f5f",
             "gridcolor": "white",
             "linecolor": "white",
             "minorgridcolor": "white",
             "startlinecolor": "#2a3f5f"
            },
            "type": "carpet"
           }
          ],
          "choropleth": [
           {
            "colorbar": {
             "outlinewidth": 0,
             "ticks": ""
            },
            "type": "choropleth"
           }
          ],
          "contour": [
           {
            "colorbar": {
             "outlinewidth": 0,
             "ticks": ""
            },
            "colorscale": [
             [
              0,
              "#0d0887"
             ],
             [
              0.1111111111111111,
              "#46039f"
             ],
             [
              0.2222222222222222,
              "#7201a8"
             ],
             [
              0.3333333333333333,
              "#9c179e"
             ],
             [
              0.4444444444444444,
              "#bd3786"
             ],
             [
              0.5555555555555556,
              "#d8576b"
             ],
             [
              0.6666666666666666,
              "#ed7953"
             ],
             [
              0.7777777777777778,
              "#fb9f3a"
             ],
             [
              0.8888888888888888,
              "#fdca26"
             ],
             [
              1,
              "#f0f921"
             ]
            ],
            "type": "contour"
           }
          ],
          "contourcarpet": [
           {
            "colorbar": {
             "outlinewidth": 0,
             "ticks": ""
            },
            "type": "contourcarpet"
           }
          ],
          "heatmap": [
           {
            "colorbar": {
             "outlinewidth": 0,
             "ticks": ""
            },
            "colorscale": [
             [
              0,
              "#0d0887"
             ],
             [
              0.1111111111111111,
              "#46039f"
             ],
             [
              0.2222222222222222,
              "#7201a8"
             ],
             [
              0.3333333333333333,
              "#9c179e"
             ],
             [
              0.4444444444444444,
              "#bd3786"
             ],
             [
              0.5555555555555556,
              "#d8576b"
             ],
             [
              0.6666666666666666,
              "#ed7953"
             ],
             [
              0.7777777777777778,
              "#fb9f3a"
             ],
             [
              0.8888888888888888,
              "#fdca26"
             ],
             [
              1,
              "#f0f921"
             ]
            ],
            "type": "heatmap"
           }
          ],
          "heatmapgl": [
           {
            "colorbar": {
             "outlinewidth": 0,
             "ticks": ""
            },
            "colorscale": [
             [
              0,
              "#0d0887"
             ],
             [
              0.1111111111111111,
              "#46039f"
             ],
             [
              0.2222222222222222,
              "#7201a8"
             ],
             [
              0.3333333333333333,
              "#9c179e"
             ],
             [
              0.4444444444444444,
              "#bd3786"
             ],
             [
              0.5555555555555556,
              "#d8576b"
             ],
             [
              0.6666666666666666,
              "#ed7953"
             ],
             [
              0.7777777777777778,
              "#fb9f3a"
             ],
             [
              0.8888888888888888,
              "#fdca26"
             ],
             [
              1,
              "#f0f921"
             ]
            ],
            "type": "heatmapgl"
           }
          ],
          "histogram": [
           {
            "marker": {
             "pattern": {
              "fillmode": "overlay",
              "size": 10,
              "solidity": 0.2
             }
            },
            "type": "histogram"
           }
          ],
          "histogram2d": [
           {
            "colorbar": {
             "outlinewidth": 0,
             "ticks": ""
            },
            "colorscale": [
             [
              0,
              "#0d0887"
             ],
             [
              0.1111111111111111,
              "#46039f"
             ],
             [
              0.2222222222222222,
              "#7201a8"
             ],
             [
              0.3333333333333333,
              "#9c179e"
             ],
             [
              0.4444444444444444,
              "#bd3786"
             ],
             [
              0.5555555555555556,
              "#d8576b"
             ],
             [
              0.6666666666666666,
              "#ed7953"
             ],
             [
              0.7777777777777778,
              "#fb9f3a"
             ],
             [
              0.8888888888888888,
              "#fdca26"
             ],
             [
              1,
              "#f0f921"
             ]
            ],
            "type": "histogram2d"
           }
          ],
          "histogram2dcontour": [
           {
            "colorbar": {
             "outlinewidth": 0,
             "ticks": ""
            },
            "colorscale": [
             [
              0,
              "#0d0887"
             ],
             [
              0.1111111111111111,
              "#46039f"
             ],
             [
              0.2222222222222222,
              "#7201a8"
             ],
             [
              0.3333333333333333,
              "#9c179e"
             ],
             [
              0.4444444444444444,
              "#bd3786"
             ],
             [
              0.5555555555555556,
              "#d8576b"
             ],
             [
              0.6666666666666666,
              "#ed7953"
             ],
             [
              0.7777777777777778,
              "#fb9f3a"
             ],
             [
              0.8888888888888888,
              "#fdca26"
             ],
             [
              1,
              "#f0f921"
             ]
            ],
            "type": "histogram2dcontour"
           }
          ],
          "mesh3d": [
           {
            "colorbar": {
             "outlinewidth": 0,
             "ticks": ""
            },
            "type": "mesh3d"
           }
          ],
          "parcoords": [
           {
            "line": {
             "colorbar": {
              "outlinewidth": 0,
              "ticks": ""
             }
            },
            "type": "parcoords"
           }
          ],
          "pie": [
           {
            "automargin": true,
            "type": "pie"
           }
          ],
          "scatter": [
           {
            "fillpattern": {
             "fillmode": "overlay",
             "size": 10,
             "solidity": 0.2
            },
            "type": "scatter"
           }
          ],
          "scatter3d": [
           {
            "line": {
             "colorbar": {
              "outlinewidth": 0,
              "ticks": ""
             }
            },
            "marker": {
             "colorbar": {
              "outlinewidth": 0,
              "ticks": ""
             }
            },
            "type": "scatter3d"
           }
          ],
          "scattercarpet": [
           {
            "marker": {
             "colorbar": {
              "outlinewidth": 0,
              "ticks": ""
             }
            },
            "type": "scattercarpet"
           }
          ],
          "scattergeo": [
           {
            "marker": {
             "colorbar": {
              "outlinewidth": 0,
              "ticks": ""
             }
            },
            "type": "scattergeo"
           }
          ],
          "scattergl": [
           {
            "marker": {
             "colorbar": {
              "outlinewidth": 0,
              "ticks": ""
             }
            },
            "type": "scattergl"
           }
          ],
          "scattermapbox": [
           {
            "marker": {
             "colorbar": {
              "outlinewidth": 0,
              "ticks": ""
             }
            },
            "type": "scattermapbox"
           }
          ],
          "scatterpolar": [
           {
            "marker": {
             "colorbar": {
              "outlinewidth": 0,
              "ticks": ""
             }
            },
            "type": "scatterpolar"
           }
          ],
          "scatterpolargl": [
           {
            "marker": {
             "colorbar": {
              "outlinewidth": 0,
              "ticks": ""
             }
            },
            "type": "scatterpolargl"
           }
          ],
          "scatterternary": [
           {
            "marker": {
             "colorbar": {
              "outlinewidth": 0,
              "ticks": ""
             }
            },
            "type": "scatterternary"
           }
          ],
          "surface": [
           {
            "colorbar": {
             "outlinewidth": 0,
             "ticks": ""
            },
            "colorscale": [
             [
              0,
              "#0d0887"
             ],
             [
              0.1111111111111111,
              "#46039f"
             ],
             [
              0.2222222222222222,
              "#7201a8"
             ],
             [
              0.3333333333333333,
              "#9c179e"
             ],
             [
              0.4444444444444444,
              "#bd3786"
             ],
             [
              0.5555555555555556,
              "#d8576b"
             ],
             [
              0.6666666666666666,
              "#ed7953"
             ],
             [
              0.7777777777777778,
              "#fb9f3a"
             ],
             [
              0.8888888888888888,
              "#fdca26"
             ],
             [
              1,
              "#f0f921"
             ]
            ],
            "type": "surface"
           }
          ],
          "table": [
           {
            "cells": {
             "fill": {
              "color": "#EBF0F8"
             },
             "line": {
              "color": "white"
             }
            },
            "header": {
             "fill": {
              "color": "#C8D4E3"
             },
             "line": {
              "color": "white"
             }
            },
            "type": "table"
           }
          ]
         },
         "layout": {
          "annotationdefaults": {
           "arrowcolor": "#2a3f5f",
           "arrowhead": 0,
           "arrowwidth": 1
          },
          "autotypenumbers": "strict",
          "coloraxis": {
           "colorbar": {
            "outlinewidth": 0,
            "ticks": ""
           }
          },
          "colorscale": {
           "diverging": [
            [
             0,
             "#8e0152"
            ],
            [
             0.1,
             "#c51b7d"
            ],
            [
             0.2,
             "#de77ae"
            ],
            [
             0.3,
             "#f1b6da"
            ],
            [
             0.4,
             "#fde0ef"
            ],
            [
             0.5,
             "#f7f7f7"
            ],
            [
             0.6,
             "#e6f5d0"
            ],
            [
             0.7,
             "#b8e186"
            ],
            [
             0.8,
             "#7fbc41"
            ],
            [
             0.9,
             "#4d9221"
            ],
            [
             1,
             "#276419"
            ]
           ],
           "sequential": [
            [
             0,
             "#0d0887"
            ],
            [
             0.1111111111111111,
             "#46039f"
            ],
            [
             0.2222222222222222,
             "#7201a8"
            ],
            [
             0.3333333333333333,
             "#9c179e"
            ],
            [
             0.4444444444444444,
             "#bd3786"
            ],
            [
             0.5555555555555556,
             "#d8576b"
            ],
            [
             0.6666666666666666,
             "#ed7953"
            ],
            [
             0.7777777777777778,
             "#fb9f3a"
            ],
            [
             0.8888888888888888,
             "#fdca26"
            ],
            [
             1,
             "#f0f921"
            ]
           ],
           "sequentialminus": [
            [
             0,
             "#0d0887"
            ],
            [
             0.1111111111111111,
             "#46039f"
            ],
            [
             0.2222222222222222,
             "#7201a8"
            ],
            [
             0.3333333333333333,
             "#9c179e"
            ],
            [
             0.4444444444444444,
             "#bd3786"
            ],
            [
             0.5555555555555556,
             "#d8576b"
            ],
            [
             0.6666666666666666,
             "#ed7953"
            ],
            [
             0.7777777777777778,
             "#fb9f3a"
            ],
            [
             0.8888888888888888,
             "#fdca26"
            ],
            [
             1,
             "#f0f921"
            ]
           ]
          },
          "colorway": [
           "#636efa",
           "#EF553B",
           "#00cc96",
           "#ab63fa",
           "#FFA15A",
           "#19d3f3",
           "#FF6692",
           "#B6E880",
           "#FF97FF",
           "#FECB52"
          ],
          "font": {
           "color": "#2a3f5f"
          },
          "geo": {
           "bgcolor": "white",
           "lakecolor": "white",
           "landcolor": "#E5ECF6",
           "showlakes": true,
           "showland": true,
           "subunitcolor": "white"
          },
          "hoverlabel": {
           "align": "left"
          },
          "hovermode": "closest",
          "mapbox": {
           "style": "light"
          },
          "paper_bgcolor": "white",
          "plot_bgcolor": "#E5ECF6",
          "polar": {
           "angularaxis": {
            "gridcolor": "white",
            "linecolor": "white",
            "ticks": ""
           },
           "bgcolor": "#E5ECF6",
           "radialaxis": {
            "gridcolor": "white",
            "linecolor": "white",
            "ticks": ""
           }
          },
          "scene": {
           "xaxis": {
            "backgroundcolor": "#E5ECF6",
            "gridcolor": "white",
            "gridwidth": 2,
            "linecolor": "white",
            "showbackground": true,
            "ticks": "",
            "zerolinecolor": "white"
           },
           "yaxis": {
            "backgroundcolor": "#E5ECF6",
            "gridcolor": "white",
            "gridwidth": 2,
            "linecolor": "white",
            "showbackground": true,
            "ticks": "",
            "zerolinecolor": "white"
           },
           "zaxis": {
            "backgroundcolor": "#E5ECF6",
            "gridcolor": "white",
            "gridwidth": 2,
            "linecolor": "white",
            "showbackground": true,
            "ticks": "",
            "zerolinecolor": "white"
           }
          },
          "shapedefaults": {
           "line": {
            "color": "#2a3f5f"
           }
          },
          "ternary": {
           "aaxis": {
            "gridcolor": "white",
            "linecolor": "white",
            "ticks": ""
           },
           "baxis": {
            "gridcolor": "white",
            "linecolor": "white",
            "ticks": ""
           },
           "bgcolor": "#E5ECF6",
           "caxis": {
            "gridcolor": "white",
            "linecolor": "white",
            "ticks": ""
           }
          },
          "title": {
           "x": 0.05
          },
          "xaxis": {
           "automargin": true,
           "gridcolor": "white",
           "linecolor": "white",
           "ticks": "",
           "title": {
            "standoff": 15
           },
           "zerolinecolor": "white",
           "zerolinewidth": 2
          },
          "yaxis": {
           "automargin": true,
           "gridcolor": "white",
           "linecolor": "white",
           "ticks": "",
           "title": {
            "standoff": 15
           },
           "zerolinecolor": "white",
           "zerolinewidth": 2
          }
         }
        }
       }
      }
     },
     "metadata": {},
     "output_type": "display_data"
    }
   ],
   "source": [
    "# A list of color to easily differentiate paths\n",
    "color = [\"black\", \"green\", \"orange\", \"yellow\", \"blue\"]\n",
    "\n",
    "select = jnp.array(\n",
    "    select[::2],\n",
    "    dtype=int,\n",
    ")  # We actually only need one triangle per plane, so [8, 22]\n",
    "\n",
    "# Iterate through path candidates\n",
    "#\n",
    "#                         ┌> order 0\n",
    "#                         |           ┌> order 1\n",
    "#                         |           |           ┌> order 2\n",
    "for path_candidate in [select[:0], select[:1], select[:2]]:\n",
    "    # 1 - Prepare input arrays\n",
    "    from_vertices = tx\n",
    "    to_vertices = rx\n",
    "    mirror_vertices = mesh.vertices[mesh.triangles[path_candidate, 0], :]\n",
    "    mirror_normals = mesh.normals[path_candidate, :]\n",
    "\n",
    "    # 2 - Trace paths\n",
    "\n",
    "    path = image_method(\n",
    "        from_vertices, to_vertices, mirror_vertices, mirror_normals\n",
    "    )\n",
    "\n",
    "    # 3 - ??\n",
    "\n",
    "    # 4 - Obtain final valid paths and plot\n",
    "\n",
    "    # The full path is [tx, paths, rx]\n",
    "    full_path = jnp.concatenate(\n",
    "        (\n",
    "            from_vertices[None, :],\n",
    "            path,\n",
    "            to_vertices[None, :],\n",
    "        ),\n",
    "    )\n",
    "\n",
    "    # The we plot it\n",
    "    dplt.draw_paths(\n",
    "        full_path,\n",
    "        figure=fig,\n",
    "        marker={\n",
    "            \"size\": 0,\n",
    "            \"color\": \"black\",\n",
    "        },\n",
    "        line={\"color\": color[len(path_candidate)], \"width\": 3},\n",
    "        name=f\"Order {len(path_candidate)}\",\n",
    "    )\n",
    "\n",
    "fig"
   ]
  },
  {
   "cell_type": "markdown",
   "id": "739cb7d5-a067-4bf3-9641-673ea76ff11c",
   "metadata": {},
   "source": [
    "Nice! Thanks to the {func}`image_method<differt.rt.image_method.image_method>`, we successfully generated the paths we just mentioned.\n",
    "\n",
    "### Scaling on more paths and more surfaces\n",
    "\n",
    "Manually identifying the surfaces of interest and generating all possible path candidates can rapidly become tedious as the number of surfaces or the path order increase.\n",
    "\n",
    "For this purpose, we created the {func}`generate_all_path_candidates<differt.rt.utils.generate_all_path_candidates>` function. Written in Rust for performance purposes, this function can generate millions of path candidates per second!\n",
    "\n",
    "This is all nice, but there is one important side-effect of this: if you generate all possible path candidates, how to remove invalid paths that may, e.g., cross a building?\n",
    "\n",
    "This is where our third step comes into play: we need to validate our path against a series of checks. We can usually identify three types of checks:\n",
    "\n",
    "\n",
    "1. **Are path coordinates within the boundary of their respective objects?** Manytimes, the objects are assumed to be infinitely long. Then, a check is performed to verify if the solution was found within the object's boundaries;\n",
    "2. **Are all interactions valid?** E.g., do all reflections occur with an angle of reflection equal to the ange of incidence? Most path tracing methods have some faillible cases where it can return degenerate solutions;\n",
    "3. **Does any object in the scene obstruct the path?** Usually, the path is first computed without taking the surrounding objects into account, which produce paths that buildings.\n",
    "\n",
    "A possible implementation of the above rules, applied to the {func}`image_method<differt.rt.image_method.image_method>`, is provided below. A lot of the code is just broadcasting arrays into the right shapes, to benefit from the vectorized computations on arrays, i.e., instead of using *slow* Python for-loops."
   ]
  },
  {
   "cell_type": "code",
   "execution_count": 8,
   "id": "32f1468a-bf02-4c33-8a1d-0dca89d09c20",
   "metadata": {},
   "outputs": [
    {
     "data": {
      "application/vnd.plotly.v1+json": {
       "config": {
        "plotlyServerURL": "https://plot.ly"
       },
       "data": [
        {
         "i": [
          8,
          9,
          12,
          13,
          16,
          17,
          20,
          21,
          24,
          25,
          28,
          29,
          32,
          33,
          36,
          37,
          40,
          41,
          44,
          45,
          48,
          49,
          52,
          53
         ],
         "j": [
          9,
          8,
          13,
          12,
          17,
          16,
          21,
          20,
          25,
          24,
          29,
          28,
          33,
          32,
          37,
          36,
          41,
          40,
          45,
          44,
          49,
          48,
          53,
          52
         ],
         "k": [
          10,
          11,
          14,
          15,
          18,
          19,
          22,
          23,
          26,
          27,
          30,
          31,
          34,
          35,
          38,
          39,
          42,
          43,
          46,
          47,
          50,
          51,
          54,
          55
         ],
         "opacity": 0.5,
         "type": "mesh3d",
         "x": [
          1,
          1,
          -1,
          -1,
          1,
          1,
          -1,
          -1,
          5,
          -5,
          -5,
          5,
          -4.999998092651367,
          5.000000953674316,
          -5.106064796447754,
          5.000001907348633,
          5.000000953674316,
          -4.999998092651367,
          -5.106064796447754,
          5.000001907348633,
          5.000001907348633,
          5.000000953674316,
          5.000000953674316,
          5.000001907348633,
          5.000000953674316,
          -5.106064796447754,
          5.000000953674316,
          -5.106064796447754,
          -4.999998092651367,
          -5.106064796447754,
          -5.106064796447754,
          -4.999998092651367,
          -4.999998092651367,
          5.000001907348633,
          -4.999998092651367,
          5.000001907348633,
          5,
          -5,
          -5,
          5,
          5,
          5,
          5,
          5,
          5,
          -5,
          5,
          -5,
          -5,
          -5,
          -5,
          -5,
          -5,
          5,
          -5,
          5
         ],
         "y": [
          -1,
          -1,
          -1,
          -1,
          1,
          1,
          1,
          1,
          5,
          -5,
          5,
          -5,
          25,
          15,
          14.89393424987793,
          25,
          15,
          25,
          14.89393424987793,
          25,
          25,
          15,
          15,
          25,
          15,
          14.89393424987793,
          15,
          14.89393424987793,
          25,
          14.89393424987793,
          14.89393424987793,
          25,
          25,
          25,
          25,
          25,
          -5,
          5,
          -5,
          5,
          5,
          -5,
          -5,
          5,
          -5,
          -5,
          -5,
          -5,
          5,
          -5,
          -5,
          5,
          5,
          5,
          5,
          5
         ],
         "z": [
          1,
          -1,
          1,
          -1,
          1,
          -1,
          1,
          -1,
          0,
          0,
          0,
          0,
          0,
          0,
          0,
          0,
          20,
          20,
          20,
          20,
          0,
          20,
          0,
          20,
          20,
          0,
          0,
          20,
          20,
          0,
          20,
          0,
          20,
          0,
          0,
          20,
          20,
          20,
          20,
          20,
          0,
          20,
          0,
          20,
          20,
          0,
          0,
          20,
          20,
          0,
          20,
          0,
          20,
          0,
          0,
          20
         ]
        },
        {
         "mode": "markers+text",
         "name": "nodes",
         "text": [
          "tx",
          "rx"
         ],
         "type": "scatter3d",
         "x": [
          0,
          0
         ],
         "y": [
          4.935200214385986,
          10.034000396728516
         ],
         "z": [
          22,
          1.5
         ]
        },
        {
         "line": {
          "color": "black",
          "width": 3
         },
         "marker": {
          "color": "black",
          "size": 0
         },
         "name": "Order 0",
         "type": "scatter3d",
         "x": [
          0,
          0
         ],
         "y": [
          4.935200214385986,
          10.034000396728516
         ],
         "z": [
          22,
          1.5
         ]
        },
        {
         "line": {
          "color": "green",
          "width": 3
         },
         "marker": {
          "color": "black",
          "size": 0
         },
         "name": "Order 1",
         "type": "scatter3d",
         "x": [
          0,
          -0.06917739659547806,
          0
         ],
         "y": [
          4.935200214385986,
          14.94679832458496,
          10.034000396728516
         ],
         "z": [
          22,
          8.24851131439209,
          1.5
         ]
        },
        {
         "line": {
          "color": "orange",
          "width": 3
         },
         "marker": {
          "color": "black",
          "size": 0
         },
         "name": "Order 2",
         "type": "scatter3d",
         "x": [
          0,
          -0.125960111618042,
          -0.04232808202505112,
          0
         ],
         "y": [
          4.935200214385986,
          14.946202278137209,
          5,
          10.034000396728516
         ],
         "z": [
          22,
          13.787875175476074,
          5.629261016845703,
          1.5
         ]
        },
        {
         "line": {
          "color": "yellow",
          "width": 3
         },
         "marker": {
          "color": "black",
          "size": 0
         },
         "name": "Order 3",
         "type": "scatter3d",
         "x": [
          0,
          -0.17936798930168152,
          -0.14879928529262543,
          -0.11822860687971117,
          0
         ],
         "y": [
          4.935200214385986,
          14.945640563964844,
          5,
          14.946282386779783,
          10.034000396728516
         ],
         "z": [
          22,
          16.10511016845703,
          10.24928855895996,
          4.393090724945068,
          1.5
         ]
        },
        {
         "line": {
          "color": "blue",
          "width": 3
         },
         "marker": {
          "color": "black",
          "size": 0
         },
         "name": "Order 4",
         "type": "scatter3d",
         "x": [
          0,
          -0.233406662940979,
          -0.25651583075523376,
          -0.2796238660812378,
          -0.09397591650485992,
          0
         ],
         "y": [
          4.935200214385986,
          14.945074081420898,
          5,
          14.944588661193848,
          5,
          10.034000396728516
         ],
         "z": [
          22,
          17.426870346069336,
          12.884565353393556,
          8.342482566833496,
          3.799619674682617,
          1.5
         ]
        }
       ],
       "layout": {
        "template": {
         "data": {
          "bar": [
           {
            "error_x": {
             "color": "#2a3f5f"
            },
            "error_y": {
             "color": "#2a3f5f"
            },
            "marker": {
             "line": {
              "color": "#E5ECF6",
              "width": 0.5
             },
             "pattern": {
              "fillmode": "overlay",
              "size": 10,
              "solidity": 0.2
             }
            },
            "type": "bar"
           }
          ],
          "barpolar": [
           {
            "marker": {
             "line": {
              "color": "#E5ECF6",
              "width": 0.5
             },
             "pattern": {
              "fillmode": "overlay",
              "size": 10,
              "solidity": 0.2
             }
            },
            "type": "barpolar"
           }
          ],
          "carpet": [
           {
            "aaxis": {
             "endlinecolor": "#2a3f5f",
             "gridcolor": "white",
             "linecolor": "white",
             "minorgridcolor": "white",
             "startlinecolor": "#2a3f5f"
            },
            "baxis": {
             "endlinecolor": "#2a3f5f",
             "gridcolor": "white",
             "linecolor": "white",
             "minorgridcolor": "white",
             "startlinecolor": "#2a3f5f"
            },
            "type": "carpet"
           }
          ],
          "choropleth": [
           {
            "colorbar": {
             "outlinewidth": 0,
             "ticks": ""
            },
            "type": "choropleth"
           }
          ],
          "contour": [
           {
            "colorbar": {
             "outlinewidth": 0,
             "ticks": ""
            },
            "colorscale": [
             [
              0,
              "#0d0887"
             ],
             [
              0.1111111111111111,
              "#46039f"
             ],
             [
              0.2222222222222222,
              "#7201a8"
             ],
             [
              0.3333333333333333,
              "#9c179e"
             ],
             [
              0.4444444444444444,
              "#bd3786"
             ],
             [
              0.5555555555555556,
              "#d8576b"
             ],
             [
              0.6666666666666666,
              "#ed7953"
             ],
             [
              0.7777777777777778,
              "#fb9f3a"
             ],
             [
              0.8888888888888888,
              "#fdca26"
             ],
             [
              1,
              "#f0f921"
             ]
            ],
            "type": "contour"
           }
          ],
          "contourcarpet": [
           {
            "colorbar": {
             "outlinewidth": 0,
             "ticks": ""
            },
            "type": "contourcarpet"
           }
          ],
          "heatmap": [
           {
            "colorbar": {
             "outlinewidth": 0,
             "ticks": ""
            },
            "colorscale": [
             [
              0,
              "#0d0887"
             ],
             [
              0.1111111111111111,
              "#46039f"
             ],
             [
              0.2222222222222222,
              "#7201a8"
             ],
             [
              0.3333333333333333,
              "#9c179e"
             ],
             [
              0.4444444444444444,
              "#bd3786"
             ],
             [
              0.5555555555555556,
              "#d8576b"
             ],
             [
              0.6666666666666666,
              "#ed7953"
             ],
             [
              0.7777777777777778,
              "#fb9f3a"
             ],
             [
              0.8888888888888888,
              "#fdca26"
             ],
             [
              1,
              "#f0f921"
             ]
            ],
            "type": "heatmap"
           }
          ],
          "heatmapgl": [
           {
            "colorbar": {
             "outlinewidth": 0,
             "ticks": ""
            },
            "colorscale": [
             [
              0,
              "#0d0887"
             ],
             [
              0.1111111111111111,
              "#46039f"
             ],
             [
              0.2222222222222222,
              "#7201a8"
             ],
             [
              0.3333333333333333,
              "#9c179e"
             ],
             [
              0.4444444444444444,
              "#bd3786"
             ],
             [
              0.5555555555555556,
              "#d8576b"
             ],
             [
              0.6666666666666666,
              "#ed7953"
             ],
             [
              0.7777777777777778,
              "#fb9f3a"
             ],
             [
              0.8888888888888888,
              "#fdca26"
             ],
             [
              1,
              "#f0f921"
             ]
            ],
            "type": "heatmapgl"
           }
          ],
          "histogram": [
           {
            "marker": {
             "pattern": {
              "fillmode": "overlay",
              "size": 10,
              "solidity": 0.2
             }
            },
            "type": "histogram"
           }
          ],
          "histogram2d": [
           {
            "colorbar": {
             "outlinewidth": 0,
             "ticks": ""
            },
            "colorscale": [
             [
              0,
              "#0d0887"
             ],
             [
              0.1111111111111111,
              "#46039f"
             ],
             [
              0.2222222222222222,
              "#7201a8"
             ],
             [
              0.3333333333333333,
              "#9c179e"
             ],
             [
              0.4444444444444444,
              "#bd3786"
             ],
             [
              0.5555555555555556,
              "#d8576b"
             ],
             [
              0.6666666666666666,
              "#ed7953"
             ],
             [
              0.7777777777777778,
              "#fb9f3a"
             ],
             [
              0.8888888888888888,
              "#fdca26"
             ],
             [
              1,
              "#f0f921"
             ]
            ],
            "type": "histogram2d"
           }
          ],
          "histogram2dcontour": [
           {
            "colorbar": {
             "outlinewidth": 0,
             "ticks": ""
            },
            "colorscale": [
             [
              0,
              "#0d0887"
             ],
             [
              0.1111111111111111,
              "#46039f"
             ],
             [
              0.2222222222222222,
              "#7201a8"
             ],
             [
              0.3333333333333333,
              "#9c179e"
             ],
             [
              0.4444444444444444,
              "#bd3786"
             ],
             [
              0.5555555555555556,
              "#d8576b"
             ],
             [
              0.6666666666666666,
              "#ed7953"
             ],
             [
              0.7777777777777778,
              "#fb9f3a"
             ],
             [
              0.8888888888888888,
              "#fdca26"
             ],
             [
              1,
              "#f0f921"
             ]
            ],
            "type": "histogram2dcontour"
           }
          ],
          "mesh3d": [
           {
            "colorbar": {
             "outlinewidth": 0,
             "ticks": ""
            },
            "type": "mesh3d"
           }
          ],
          "parcoords": [
           {
            "line": {
             "colorbar": {
              "outlinewidth": 0,
              "ticks": ""
             }
            },
            "type": "parcoords"
           }
          ],
          "pie": [
           {
            "automargin": true,
            "type": "pie"
           }
          ],
          "scatter": [
           {
            "fillpattern": {
             "fillmode": "overlay",
             "size": 10,
             "solidity": 0.2
            },
            "type": "scatter"
           }
          ],
          "scatter3d": [
           {
            "line": {
             "colorbar": {
              "outlinewidth": 0,
              "ticks": ""
             }
            },
            "marker": {
             "colorbar": {
              "outlinewidth": 0,
              "ticks": ""
             }
            },
            "type": "scatter3d"
           }
          ],
          "scattercarpet": [
           {
            "marker": {
             "colorbar": {
              "outlinewidth": 0,
              "ticks": ""
             }
            },
            "type": "scattercarpet"
           }
          ],
          "scattergeo": [
           {
            "marker": {
             "colorbar": {
              "outlinewidth": 0,
              "ticks": ""
             }
            },
            "type": "scattergeo"
           }
          ],
          "scattergl": [
           {
            "marker": {
             "colorbar": {
              "outlinewidth": 0,
              "ticks": ""
             }
            },
            "type": "scattergl"
           }
          ],
          "scattermapbox": [
           {
            "marker": {
             "colorbar": {
              "outlinewidth": 0,
              "ticks": ""
             }
            },
            "type": "scattermapbox"
           }
          ],
          "scatterpolar": [
           {
            "marker": {
             "colorbar": {
              "outlinewidth": 0,
              "ticks": ""
             }
            },
            "type": "scatterpolar"
           }
          ],
          "scatterpolargl": [
           {
            "marker": {
             "colorbar": {
              "outlinewidth": 0,
              "ticks": ""
             }
            },
            "type": "scatterpolargl"
           }
          ],
          "scatterternary": [
           {
            "marker": {
             "colorbar": {
              "outlinewidth": 0,
              "ticks": ""
             }
            },
            "type": "scatterternary"
           }
          ],
          "surface": [
           {
            "colorbar": {
             "outlinewidth": 0,
             "ticks": ""
            },
            "colorscale": [
             [
              0,
              "#0d0887"
             ],
             [
              0.1111111111111111,
              "#46039f"
             ],
             [
              0.2222222222222222,
              "#7201a8"
             ],
             [
              0.3333333333333333,
              "#9c179e"
             ],
             [
              0.4444444444444444,
              "#bd3786"
             ],
             [
              0.5555555555555556,
              "#d8576b"
             ],
             [
              0.6666666666666666,
              "#ed7953"
             ],
             [
              0.7777777777777778,
              "#fb9f3a"
             ],
             [
              0.8888888888888888,
              "#fdca26"
             ],
             [
              1,
              "#f0f921"
             ]
            ],
            "type": "surface"
           }
          ],
          "table": [
           {
            "cells": {
             "fill": {
              "color": "#EBF0F8"
             },
             "line": {
              "color": "white"
             }
            },
            "header": {
             "fill": {
              "color": "#C8D4E3"
             },
             "line": {
              "color": "white"
             }
            },
            "type": "table"
           }
          ]
         },
         "layout": {
          "annotationdefaults": {
           "arrowcolor": "#2a3f5f",
           "arrowhead": 0,
           "arrowwidth": 1
          },
          "autotypenumbers": "strict",
          "coloraxis": {
           "colorbar": {
            "outlinewidth": 0,
            "ticks": ""
           }
          },
          "colorscale": {
           "diverging": [
            [
             0,
             "#8e0152"
            ],
            [
             0.1,
             "#c51b7d"
            ],
            [
             0.2,
             "#de77ae"
            ],
            [
             0.3,
             "#f1b6da"
            ],
            [
             0.4,
             "#fde0ef"
            ],
            [
             0.5,
             "#f7f7f7"
            ],
            [
             0.6,
             "#e6f5d0"
            ],
            [
             0.7,
             "#b8e186"
            ],
            [
             0.8,
             "#7fbc41"
            ],
            [
             0.9,
             "#4d9221"
            ],
            [
             1,
             "#276419"
            ]
           ],
           "sequential": [
            [
             0,
             "#0d0887"
            ],
            [
             0.1111111111111111,
             "#46039f"
            ],
            [
             0.2222222222222222,
             "#7201a8"
            ],
            [
             0.3333333333333333,
             "#9c179e"
            ],
            [
             0.4444444444444444,
             "#bd3786"
            ],
            [
             0.5555555555555556,
             "#d8576b"
            ],
            [
             0.6666666666666666,
             "#ed7953"
            ],
            [
             0.7777777777777778,
             "#fb9f3a"
            ],
            [
             0.8888888888888888,
             "#fdca26"
            ],
            [
             1,
             "#f0f921"
            ]
           ],
           "sequentialminus": [
            [
             0,
             "#0d0887"
            ],
            [
             0.1111111111111111,
             "#46039f"
            ],
            [
             0.2222222222222222,
             "#7201a8"
            ],
            [
             0.3333333333333333,
             "#9c179e"
            ],
            [
             0.4444444444444444,
             "#bd3786"
            ],
            [
             0.5555555555555556,
             "#d8576b"
            ],
            [
             0.6666666666666666,
             "#ed7953"
            ],
            [
             0.7777777777777778,
             "#fb9f3a"
            ],
            [
             0.8888888888888888,
             "#fdca26"
            ],
            [
             1,
             "#f0f921"
            ]
           ]
          },
          "colorway": [
           "#636efa",
           "#EF553B",
           "#00cc96",
           "#ab63fa",
           "#FFA15A",
           "#19d3f3",
           "#FF6692",
           "#B6E880",
           "#FF97FF",
           "#FECB52"
          ],
          "font": {
           "color": "#2a3f5f"
          },
          "geo": {
           "bgcolor": "white",
           "lakecolor": "white",
           "landcolor": "#E5ECF6",
           "showlakes": true,
           "showland": true,
           "subunitcolor": "white"
          },
          "hoverlabel": {
           "align": "left"
          },
          "hovermode": "closest",
          "mapbox": {
           "style": "light"
          },
          "paper_bgcolor": "white",
          "plot_bgcolor": "#E5ECF6",
          "polar": {
           "angularaxis": {
            "gridcolor": "white",
            "linecolor": "white",
            "ticks": ""
           },
           "bgcolor": "#E5ECF6",
           "radialaxis": {
            "gridcolor": "white",
            "linecolor": "white",
            "ticks": ""
           }
          },
          "scene": {
           "xaxis": {
            "backgroundcolor": "#E5ECF6",
            "gridcolor": "white",
            "gridwidth": 2,
            "linecolor": "white",
            "showbackground": true,
            "ticks": "",
            "zerolinecolor": "white"
           },
           "yaxis": {
            "backgroundcolor": "#E5ECF6",
            "gridcolor": "white",
            "gridwidth": 2,
            "linecolor": "white",
            "showbackground": true,
            "ticks": "",
            "zerolinecolor": "white"
           },
           "zaxis": {
            "backgroundcolor": "#E5ECF6",
            "gridcolor": "white",
            "gridwidth": 2,
            "linecolor": "white",
            "showbackground": true,
            "ticks": "",
            "zerolinecolor": "white"
           }
          },
          "shapedefaults": {
           "line": {
            "color": "#2a3f5f"
           }
          },
          "ternary": {
           "aaxis": {
            "gridcolor": "white",
            "linecolor": "white",
            "ticks": ""
           },
           "baxis": {
            "gridcolor": "white",
            "linecolor": "white",
            "ticks": ""
           },
           "bgcolor": "#E5ECF6",
           "caxis": {
            "gridcolor": "white",
            "linecolor": "white",
            "ticks": ""
           }
          },
          "title": {
           "x": 0.05
          },
          "xaxis": {
           "automargin": true,
           "gridcolor": "white",
           "linecolor": "white",
           "ticks": "",
           "title": {
            "standoff": 15
           },
           "zerolinecolor": "white",
           "zerolinewidth": 2
          },
          "yaxis": {
           "automargin": true,
           "gridcolor": "white",
           "linecolor": "white",
           "ticks": "",
           "title": {
            "standoff": 15
           },
           "zerolinecolor": "white",
           "zerolinewidth": 2
          }
         }
        }
       }
      }
     },
     "metadata": {},
     "output_type": "display_data"
    }
   ],
   "source": [
    "fig.data = fig.data[:2]  # Keep only first 2 traces: geometry and TX/RX\n",
    "\n",
    "# [num_triangles 3 3]\n",
    "all_triangle_vertices = jnp.take(mesh.vertices, mesh.triangles, axis=0)\n",
    "\n",
    "num_triangles = mesh.triangles.shape[0]\n",
    "\n",
    "for order in range(5):\n",
    "    # 1 - Prepare input arrays\n",
    "\n",
    "    # [num_path_candidates order]\n",
    "    path_candidates = generate_all_path_candidates(num_triangles, order)\n",
    "    num_path_candidates = path_candidates.shape[0]\n",
    "\n",
    "    # [3]\n",
    "    from_vertices = tx\n",
    "    to_vertices = rx\n",
    "\n",
    "    # [num_path_candidates order 3]\n",
    "    triangles = jnp.take(mesh.triangles, path_candidates, axis=0)\n",
    "\n",
    "    # [num_path_candidates order 3 3]\n",
    "    triangle_vertices = jnp.take(mesh.vertices, triangles, axis=0)\n",
    "\n",
    "    # [num_path_candidates order 3]\n",
    "    mirror_vertices = triangle_vertices[\n",
    "        ...,\n",
    "        0,\n",
    "        :,\n",
    "    ]  # Only one vertex per triangle is needed\n",
    "    # [num_path_candidates order 3]\n",
    "    mirror_normals = jnp.take(mesh.normals, path_candidates, axis=0)\n",
    "\n",
    "    # 2 - Trace paths\n",
    "\n",
    "    # [num_path_candidates order 3]\n",
    "    paths = image_method(\n",
    "        from_vertices, to_vertices, mirror_vertices, mirror_normals\n",
    "    )\n",
    "\n",
    "    # 3 - Remove invalid paths\n",
    "\n",
    "    # 3.1 - Remove paths with vertices outside triangles\n",
    "    # [num_path_candidates order]\n",
    "    mask = triangles_contain_vertices_assuming_inside_same_plane(\n",
    "        triangle_vertices,\n",
    "        paths,\n",
    "    )\n",
    "    # [num_path_candidates]\n",
    "    mask = jnp.all(mask, axis=-1)\n",
    "\n",
    "    # [num_paths_inter order+2 3]\n",
    "    full_paths = assemble_paths(\n",
    "        from_vertices[None, None, :],\n",
    "        paths[mask, ...],\n",
    "        to_vertices[None, None, :],\n",
    "    )\n",
    "    # 3.2 - Remove paths with vertices not on the same side of mirrors\n",
    "    # [num_paths_inter order]\n",
    "    mask = consecutive_vertices_are_on_same_side_of_mirrors(\n",
    "        full_paths,\n",
    "        mirror_vertices[mask, ...],\n",
    "        mirror_normals[mask, ...],\n",
    "    )\n",
    "\n",
    "    # [num_paths_inter]\n",
    "    mask = jnp.all(mask, axis=-1)  # We will actually remove them later\n",
    "\n",
    "    # 3.3 - Remove paths that are obstructed by other objects\n",
    "    # [num_paths_inter order+1 3]\n",
    "    ray_origins = full_paths[..., :-1, :]\n",
    "    # [num_paths_inter order+1 3]\n",
    "    ray_directions = jnp.diff(full_paths, axis=-2)\n",
    "\n",
    "    # [num_paths_inter order+1 num_triangles], [num_paths_inter order+1 num_triangles]\n",
    "    t, hit = rays_intersect_triangles(\n",
    "        ray_origins[..., None, :],\n",
    "        ray_directions[..., None, :],\n",
    "        all_triangle_vertices[None, None, ...],\n",
    "    )\n",
    "    # In theory, we could do t < 1.0 (because t == 1.0 means we are perfectly on a surface,\n",
    "    # which is probably desirable, e.g., from a reflection) but in practice numerical\n",
    "    # errors accumulate and will make this check impossible.\n",
    "    # [num_paths_inter order+1 num_triangles]\n",
    "    intersect = (t < 0.999) & hit\n",
    "    #  [num_paths_inter]\n",
    "    intersect = jnp.any(intersect, axis=(-1, -2))\n",
    "    #  [num_paths_inter]\n",
    "    mask = mask & ~intersect\n",
    "\n",
    "    # 4 - Obtain final valid paths and plot\n",
    "\n",
    "    #  [num_paths_final]\n",
    "    full_paths = full_paths[mask, ...]\n",
    "\n",
    "    dplt.draw_paths(\n",
    "        full_paths,\n",
    "        figure=fig,\n",
    "        marker={\n",
    "            \"size\": 0,\n",
    "            \"color\": \"black\",\n",
    "        },\n",
    "        line={\"color\": color[order], \"width\": 3},\n",
    "        name=f\"Order {order}\",\n",
    "    )\n",
    "\n",
    "fig"
   ]
  },
  {
   "cell_type": "markdown",
   "id": "1512b1e9-44ed-4cba-bee4-abf067bf954a",
   "metadata": {},
   "source": [
    "Another path tracing method that is fully compatible with the above cell is {func}`fermat_path_on_planar_mirrors<differt.rt.fermat.fermat_path_on_planar_mirrors>`. You can safely use the latter instead of the former, and that should produce the same result. Note that the Fermat path tracing is much slower than the Image method, but can be applied to other types of interactions than just pure specular reflection."
   ]
  },
  {
   "cell_type": "markdown",
   "id": "4c44db87-6b36-4000-919d-69b469a744d8",
   "metadata": {},
   "source": [
    "## Example on more complex scenes\n",
    "\n",
    "Most of the code we presented so far scales pretty well on larger scenes. However, there are is notable\n",
    "exception: {func}`generate_all_path_candidates<differt.rt.utils.generate_all_path_candidates>`.\n",
    "\n",
    "With a bit of maths[^1], we can determine that a call to `generate_all_path_candidates(num_triangles, order)` generates an array of size $\\texttt{num_triangles}(\\texttt{num_triangles}-1)^{\\texttt{order}-1} \\times \\texttt{order}$.\n",
    "\n",
    "On scenes with many triangles, this rapidly becomes too big to fit in memory. To circumvent this issue, we also provide an iterator variant, {func}`generate_all_path_candidates_chunks_iter<differt.rt.utils.generate_all_path_candidates_chunks_iter>`, that produces arrays of a smaller size, defined by the `chunk_size` argument.\n",
    "\n",
    "While this offers a solution to the memory allocation issue, this does not reduce the number of path candidates. To reduce this number, you somehow need to prune a subset of the path candidates before you actually generate them.\n",
    "\n",
    "Recalling the graph analogy we mentioned above, we can implement this behavior by disconnecting some primitives (i.e., triangles) in the graph.\n",
    "There is no unique solution to this challenge, but we still provide a small utility to estimate the visibility matrix of a given scene: <TODO>.\n",
    "\n",
    "Then, from this visibility matrix, which is actually just an adjacency matrix, we can instantiate a {class}`DiGraph<differt_core.rt.graph.DiGraph>` from the {mod}`differt_core.rt.graph` module.\n",
    "\n",
    "[^1]: The first node to be visited can be any of the `num_triangles` nodes. For the next nodes, we will have to choose between `num_triangles - 1` nodes, because we do not allow for loops (i.e., cycles) in our graph."
   ]
  },
  {
   "cell_type": "code",
   "execution_count": 9,
   "id": "435cf5c1-c0dd-47a1-9c1f-49c2d1d89b3d",
   "metadata": {},
   "outputs": [
    {
     "data": {
      "application/vnd.jupyter.widget-view+json": {
       "model_id": "f5f5f9a26e40490c8c9a5ebad182be84",
       "version_major": 2,
       "version_minor": 0
      },
      "text/plain": [
       "RFBOutputContext()"
      ]
     },
     "metadata": {},
     "output_type": "display_data"
    },
    {
     "data": {
      "application/vnd.jupyter.widget-view+json": {
       "model_id": "0ffe5915909346309804bb7ab47add18",
       "version_major": 2,
       "version_minor": 0
      },
      "text/html": [
       "<div class='snapshot-0ffe5915909346309804bb7ab47add18' style='position:relative;'><img src='data:image/png;base64,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' style='width:800.0px;height:600.0px;' /><div style='position: absolute; top:0; left:0; padding:1px 3px; background: #777; color:#fff; font-size: 90%; font-family:sans-serif; '>snapshot</div></div>"
      ],
      "text/plain": [
       "CanvasBackend(css_height='600px', css_width='800px')"
      ]
     },
     "execution_count": 9,
     "metadata": {},
     "output_type": "execute_result"
    }
   ],
   "source": [
    "# TODO: load larger scene\n",
    "# TODO: show example with multiple receivers\n",
    "# TODO: show how to generate visibility matrix and actually use it.\n",
    "# TODO: add utilities to insert to and from nodes, but with an optional \"connectivity\" argument?\n",
    "# TODO: create an \"AlmostCompleteGraph\" that specializes to the exception of \"from\" and \"to\" not being connected?\n",
    "\n",
    "from differt.rt.utils import triangles_visible_from_vertices\n",
    "\n",
    "mesh_file = \"bruxelles.obj\"\n",
    "mesh = TriangleMesh.load_obj(mesh_file)\n",
    "\n",
    "tx = jnp.array([-40.0, 75, 30.0])\n",
    "rx = jnp.array([+20.0, 108.034, 1.50])\n",
    "\n",
    "mesh.plot(backend=\"vispy\")"
   ]
  },
  {
   "cell_type": "code",
   "execution_count": 10,
   "id": "6ef52f5e-5620-4e6d-a731-8c7bad893641",
   "metadata": {},
   "outputs": [
    {
     "data": {
      "text/plain": [
       "14206"
      ]
     },
     "execution_count": 10,
     "metadata": {},
     "output_type": "execute_result"
    }
   ],
   "source": [
    "mesh.num_objects  # This is the number of triangles"
   ]
  },
  {
   "cell_type": "code",
   "execution_count": 11,
   "id": "fea3cba1-938f-49b2-ab21-ae88396e5b55",
   "metadata": {},
   "outputs": [
    {
     "data": {
      "text/plain": [
       "'2.018e+08'"
      ]
     },
     "execution_count": 11,
     "metadata": {},
     "output_type": "execute_result"
    }
   ],
   "source": [
    "from differt_core.rt.graph import CompleteGraph\n",
    "\n",
    "graph = CompleteGraph(mesh.num_objects)\n",
    "\n",
    "from_ = graph.num_nodes  # Index of TX in the graph\n",
    "to = from_ + 1  # Index of RX in the graph\n",
    "order = 2  # Number of interactions\n",
    "depth = order + 2  # + 2 because we add TX and RX notes\n",
    "\n",
    "f\"{len(graph.all_paths(from_, to, depth)):.3e}\""
   ]
  },
  {
   "cell_type": "code",
   "execution_count": 12,
   "id": "0b3456fe",
   "metadata": {},
   "outputs": [
    {
     "data": {
      "text/plain": [
       "7103"
      ]
     },
     "execution_count": 12,
     "metadata": {},
     "output_type": "execute_result"
    }
   ],
   "source": [
    "mesh = mesh.set_assume_quads(True)\n",
    "mesh.num_objects  # This is now the number of quadrilaterals, exactly half the number of triangles"
   ]
  },
  {
   "cell_type": "code",
   "execution_count": 13,
   "id": "8080e60c",
   "metadata": {},
   "outputs": [
    {
     "data": {
      "text/plain": [
       "'5.045e+07'"
      ]
     },
     "execution_count": 13,
     "metadata": {},
     "output_type": "execute_result"
    }
   ],
   "source": [
    "graph = CompleteGraph(mesh.num_objects)\n",
    "\n",
    "from_ = graph.num_nodes\n",
    "to = from_ + 1\n",
    "order = 2\n",
    "\n",
    "f\"{len(graph.all_paths(from_, to, depth)):.3e}\"  # Rougly a quarter of the preview length"
   ]
  },
  {
   "cell_type": "code",
   "execution_count": 14,
   "id": "08ab9f72-5d52-488c-bc09-7a635b7ab7a8",
   "metadata": {},
   "outputs": [
    {
     "data": {
      "application/vnd.jupyter.widget-view+json": {
       "model_id": "ade58006967e49e6bdf19ee1433bba09",
       "version_major": 2,
       "version_minor": 0
      },
      "text/plain": [
       "RFBOutputContext()"
      ]
     },
     "metadata": {},
     "output_type": "display_data"
    },
    {
     "data": {
      "application/vnd.jupyter.widget-view+json": {
       "model_id": "46144ede403047188c7c714d98141e69",
       "version_major": 2,
       "version_minor": 0
      },
      "text/html": [
       "<div class='snapshot-46144ede403047188c7c714d98141e69' style='position:relative;'><img src='data:image/png;base64,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' style='width:800.0px;height:600.0px;' /><div style='position: absolute; top:0; left:0; padding:1px 3px; background: #777; color:#fff; font-size: 90%; font-family:sans-serif; '>snapshot</div></div>"
      ],
      "text/plain": [
       "CanvasBackend(css_height='600px', css_width='800px')"
      ]
     },
     "execution_count": 14,
     "metadata": {},
     "output_type": "execute_result"
    }
   ],
   "source": [
    "default_color = jnp.array([[0.2, 0.2, 0.2]])\n",
    "visible_color = jnp.array([[1.0, 0.2, 0.2]])\n",
    "visible_triangles = triangles_visible_from_vertices(\n",
    "    tx,\n",
    "    mesh.triangle_vertices,\n",
    ")\n",
    "\n",
    "mesh = mesh.set_face_colors(default_color)\n",
    "mesh = mesh.set_face_colors(\n",
    "    mesh.face_colors.at[visible_triangles].set(visible_color)\n",
    ")\n",
    "\n",
    "with dplt.reuse(\"vispy\") as canvas:\n",
    "    dplt.draw_markers(\n",
    "        np.array([tx]), [\"tx\"], size=7, text_kwargs={\"font_size\": 2000}\n",
    "    )\n",
    "    mesh.plot()\n",
    "\n",
    "canvas"
   ]
  },
  {
   "cell_type": "code",
   "execution_count": 15,
   "id": "4bd97917-c5d3-4b7e-b29a-c071b7a579cc",
   "metadata": {},
   "outputs": [
    {
     "data": {
      "text/plain": [
       "Array(0.33851892, dtype=float32)"
      ]
     },
     "execution_count": 15,
     "metadata": {},
     "output_type": "execute_result"
    }
   ],
   "source": [
    "visible_triangles.sum() / mesh.num_triangles"
   ]
  },
  {
   "cell_type": "code",
   "execution_count": 16,
   "id": "bf54e4da",
   "metadata": {},
   "outputs": [
    {
     "data": {
      "text/plain": [
       "Array(0.4400957, dtype=float32)"
      ]
     },
     "execution_count": 16,
     "metadata": {},
     "output_type": "execute_result"
    }
   ],
   "source": [
    "visible_quads = visible_triangles.reshape(mesh.num_quads, 2).any(axis=-1)\n",
    "visible_quads.sum() / mesh.num_quads  # ~ 44% of quadrilaterals are seen from TX"
   ]
  },
  {
   "cell_type": "code",
   "execution_count": 17,
   "id": "ca360b86",
   "metadata": {},
   "outputs": [
    {
     "data": {
      "text/plain": [
       "'2.220e+07'"
      ]
     },
     "execution_count": 17,
     "metadata": {},
     "output_type": "execute_result"
    }
   ],
   "source": [
    "from differt_core.rt.graph import CompleteGraph, DiGraph\n",
    "\n",
    "graph = DiGraph.from_complete_graph(CompleteGraph(mesh.num_quads))\n",
    "from_, to = graph.insert_from_and_to_nodes(\n",
    "    from_adjacency=np.asarray(visible_quads)\n",
    ")\n",
    "\n",
    "f\"{graph.all_paths(from_, to, order + 2).count():.3e}\"  # ~ 44% of the previous length"
   ]
  }
 ],
 "metadata": {
  "celltoolbar": "Edit Metadata",
  "kernelspec": {
   "display_name": ".venv",
   "language": "python",
   "name": "python3"
  },
  "language_info": {
   "codemirror_mode": {
    "name": "ipython",
    "version": 3
   },
   "file_extension": ".py",
   "mimetype": "text/x-python",
   "name": "python",
   "nbconvert_exporter": "python",
   "pygments_lexer": "ipython3",
   "version": "3.11.8"
  }
 },
 "nbformat": 4,
 "nbformat_minor": 5
}
