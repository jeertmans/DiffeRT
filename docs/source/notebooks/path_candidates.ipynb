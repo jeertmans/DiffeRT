{
 "cells": [
  {
   "cell_type": "markdown",
   "id": "ce377447-7214-4981-b828-15d66d123c98",
   "metadata": {},
   "source": [
    "# Generating path candidates\n",
    "\n",
    "When performing deterministic, or exact, Ray Tracing, we aim at exactly finding all possibles paths\n",
    "between two nodes (e.g., BS and UE) that undergo up to a fixed number of interactions.\n",
    "\n",
    "To this end, a possible approach, as described in {cite}`mpt-eucap2023`, is to first\n",
    "generate a set of path candidates. Each path candidate represent an ordered list of interactions\n",
    "with the environment. Then, a coordinates path will be computed for every path candidate using,\n",
    "e.g., the {func}`image_method<differt.rt.image_method.image_method>`,\n",
    "see [Advanced Path Tracing](advanced_path_tracing.ipynb).\n",
    "\n",
    "Listing those path candidates is equivalent to finding all the paths from BS to UE in a graph that\n",
    "connects nodes and objects together.\n",
    "\n",
    "## Scene with known visibility matrix\n",
    "\n",
    "Let's take the 2D example from {cite}`mpt-eucap2023{fig. 3}`:\n",
    "\n",
    "```{figure} ../_static/2d-scenario.svg\n",
    ":align: center\n",
    ":width: 70%\n",
    ":alt: 2d-scenario\n",
    "\n",
    "2-D scenario with triangular-shaped objects on which reflection or\n",
    "diffraction can occur. Surfaces are colored in **red** and **edges** in black.\n",
    "```\n",
    "\n",
    "Depending on the visibility between the various objects in the scene, we can construct\n",
    "an adjancency graph, also referred to as visibility matrix {cite}`mpt-eucap2023{fig. 4}`:\n",
    "\n",
    "```{figure} ../_static/2d-scenario-visibility.svg\n",
    ":align: center\n",
    ":width: 100%\n",
    ":alt: 2d-scenario visibility matrix\n",
    "\n",
    "Each row of this 14 × 14 matrix refers to the visible objects as seen from\n",
    "the corresponding object. For readability purposes, zeros are discarded.\n",
    "The black coefficients describe reflection, while the red ones are\n",
    "describing diffraction.\n",
    "```\n",
    "\n",
    "In the above matrix, the ones are indicating a *visibility* between pairs of nodes (i.e., objects)\n",
    "in the graph. That means that there exists a line segment that connects the two corresponding objects\n",
    "**without intersecting any other object in the scene**. If we omit the start and end nodes,\n",
    "usually denoting transmitters and receivers, respectively, the matrix should be symmetric.\n",
    "\n",
    "We can construct a directed graph {cite}`directed-graph` ({class}`DiGraph<differt.rt.graph.DiGraph>`) from this matrix\n",
    "and iterate through all possible paths between BS and UE."
   ]
  },
  {
   "cell_type": "code",
   "execution_count": null,
   "id": "e2a9463f-0956-4424-8c64-5939a8c59f10",
   "metadata": {},
   "outputs": [],
   "source": [
    "import numpy as np\n",
    "\n",
    "from differt.rt.graph import DiGraph"
   ]
  },
  {
   "cell_type": "code",
   "execution_count": null,
   "id": "7964d4a8-39b4-4a23-8bc2-374e1771acf4",
   "metadata": {},
   "outputs": [],
   "source": [
    "adjacency_matrix = np.array(\n",
    "    [\n",
    "        [0, 1, 0, 0, 0, 0, 1, 1, 1, 0, 1, 0, 1, 1],\n",
    "        [0, 0, 0, 0, 0, 0, 1, 0, 0, 0, 1, 0, 0, 0],\n",
    "        [0, 0, 0, 0, 0, 0, 1, 0, 0, 0, 1, 0, 1, 1],\n",
    "        [0, 0, 0, 0, 0, 0, 0, 0, 0, 0, 0, 0, 0, 0],\n",
    "        [0, 0, 0, 0, 0, 0, 0, 0, 0, 0, 0, 0, 0, 0],\n",
    "        [0, 0, 0, 0, 0, 0, 0, 0, 0, 0, 0, 0, 0, 0],\n",
    "        [0, 1, 1, 0, 0, 0, 0, 1, 1, 1, 0, 0, 0, 1],\n",
    "        [0, 0, 0, 0, 0, 0, 1, 0, 0, 0, 1, 0, 0, 0],\n",
    "        [0, 0, 0, 0, 0, 0, 1, 0, 0, 0, 1, 0, 1, 1],\n",
    "        [0, 0, 0, 0, 0, 0, 1, 0, 0, 0, 1, 0, 1, 1],\n",
    "        [0, 1, 1, 0, 0, 0, 0, 1, 1, 1, 0, 0, 0, 1],\n",
    "        [0, 0, 0, 0, 0, 0, 0, 0, 0, 0, 0, 0, 0, 0],\n",
    "        [0, 0, 1, 0, 0, 0, 0, 0, 1, 1, 0, 0, 0, 1],\n",
    "        [0, 0, 0, 0, 0, 0, 0, 0, 0, 0, 0, 0, 0, 0],\n",
    "    ]\n",
    ").astype(bool)"
   ]
  },
  {
   "cell_type": "markdown",
   "id": "2ecd2a40-256d-480f-bf0f-9e1fe1a998ec",
   "metadata": {},
   "source": [
    "We can test that our adjancency matrix, without BS and UE, is indeed symmetric."
   ]
  },
  {
   "cell_type": "code",
   "execution_count": null,
   "id": "c490b068-e6dd-4777-a4d4-8cdbf1cb384d",
   "metadata": {},
   "outputs": [],
   "source": [
    "sub_adjacency_matrix = adjacency_matrix[1:-1, 1:-1]\n",
    "\n",
    "assert np.all(sub_adjacency_matrix == sub_adjacency_matrix.T)"
   ]
  },
  {
   "cell_type": "code",
   "execution_count": null,
   "id": "5248917e-b3a1-4803-ba1d-afd4a4e7fed3",
   "metadata": {},
   "outputs": [],
   "source": [
    "di_graph = DiGraph.from_adjacency_matrix(adjacency_matrix)\n",
    "\n",
    "from_ = 0  # BS\n",
    "to = 13  # UE\n",
    "\n",
    "for i, path in enumerate(di_graph.all_paths(from_, to, depth=4)):\n",
    "    print(f\"#{i + 1:03d}: {path}\")  # noqa: T201"
   ]
  },
  {
   "cell_type": "markdown",
   "id": "64d4cf55-e729-43a6-9e35-37a65a8821d5",
   "metadata": {},
   "source": [
    "## Scene with unknown visibility matrix\n",
    "\n",
    "In practice, computing the visibility for a 2D scene is quite complex, and almost impossible for 3D scene[^1].\n",
    "As a result, this is sometimes interesting to just assume that every object can *potentially connect* to\n",
    "every other object in the scene.\n",
    "In graph theory, such a configuration is called a complete graph {cite}`complete-graph`.\n",
    "\n",
    "Even though such a graph could be represented using {class}`DiGraph<differt.rt.graph.DiGraph>`,\n",
    "we provide the {class}`CompleteGraph<differt.rt.graph.CompleteGraph>` class that generates\n",
    "paths **an order of magnitude faster** than with an equivalent directed graph.\n",
    "\n",
    "However, we usually don't want to have BS and UE nodes to be appear multiple\n",
    "times in a path: we want BS to be connected to every other nodes, but no\n",
    "node should be connected to BS. Every node should be connected to UE,\n",
    "but UE should not be connected to any node.\n",
    "\n",
    "To allow this with {class}`CompleteGraph<differt.rt.graph.CompleteGraph>`, you must:\n",
    "1. create a complete graph **without** BS and UE;\n",
    "2. and then generate `all_paths*` with `from_` and `to` are that not part of the graph.\n",
    "\n",
    "Because the implementation is for complete paths, it will assume that `from_` to connected\n",
    "to all the nodes in the graph. Then, I will also assume that any node can connect to node `to`.\n",
    "\n",
    "See the example below for the same scene as above, but where we don't know much about its visibility matrix.\n",
    "\n",
    "[^1]: The problem becomes NP-complex, and we often rely on heuristics to estimate the visibility matrix."
   ]
  },
  {
   "cell_type": "code",
   "execution_count": null,
   "id": "74130507-1a00-4168-8467-d3c90ffb0939",
   "metadata": {},
   "outputs": [],
   "source": [
    "from differt.rt.graph import CompleteGraph\n",
    "\n",
    "complete_graph = CompleteGraph(12)  # 12 objects\n",
    "\n",
    "from_ = 12  # Can be anything >= 12\n",
    "to = 13  # Can be anything >= 12 and != from_\n",
    "\n",
    "for i, path in enumerate(complete_graph.all_paths(from_, to, depth=4)):\n",
    "    print(f\"#{i + 1:03d}: {path}\")  # noqa: T201"
   ]
  },
  {
   "cell_type": "markdown",
   "id": "2914c9de-6639-4947-b9e0-1d45463fdde3",
   "metadata": {},
   "source": [
    "## Beware of the number of path candidates\n",
    "\n",
    "In first approximation, the number of path candidates grows exponentially\n",
    "with the path depth. Also, the more a graph is close to a complete graph,\n",
    "the more paths you will generate.\n",
    "\n",
    "The {class}`CompleteGraph<differt.rt.graph.CompleteGraph>` class returns\n",
    "{class}`Sized<collections.abc.Sized` iterators, where the length is roughly\n",
    "equal to $\\texttt{num_nodes}(\\texttt{num_nodes}-1)^{\\texttt{depth}-3}$.\n",
    "\n",
    "As a result, it may sometimes be smarter to estimate a visbility matrix, even\n",
    "if it is not perfect, or iterate over of chunks of paths\n",
    "(see `*chunks_iter` methods in {mod}`differt.rt.graph`)\n",
    "when not possible.\n",
    "\n",
    "### Comparing DiGraph and CompleteGraph\n",
    "\n",
    "Let's see how many paths we generate\n",
    "with the directed graph and with the complete graph."
   ]
  },
  {
   "cell_type": "code",
   "execution_count": null,
   "id": "95a30077-9a34-449f-83e2-c060ca2d5c85",
   "metadata": {},
   "outputs": [],
   "source": [
    "for depth in [2, 3, 4, 5, 6, 7]:\n",
    "    num_paths_di_graph = sum(1 for _ in di_graph.all_paths(0, 13, depth=depth))\n",
    "    num_paths_complete_graph = len(complete_graph.all_paths(12, 13, depth=depth))\n",
    "\n",
    "    print(  # noqa: T201\n",
    "        f\"{depth = }: {num_paths_di_graph:6d} (DiGraph) \"\n",
    "        \"vs {num_paths_complete_graph:6d} (CompleteGraph)\"\n",
    "    )"
   ]
  }
 ],
 "metadata": {
  "kernelspec": {
   "display_name": "Python 3 (ipykernel)",
   "language": "python",
   "name": "python3"
  },
  "language_info": {
   "codemirror_mode": {
    "name": "ipython",
    "version": 3
   },
   "file_extension": ".py",
   "mimetype": "text/x-python",
   "name": "python",
   "nbconvert_exporter": "python",
   "pygments_lexer": "ipython3",
   "version": "3.10.12"
  }
 },
 "nbformat": 4,
 "nbformat_minor": 5
}
